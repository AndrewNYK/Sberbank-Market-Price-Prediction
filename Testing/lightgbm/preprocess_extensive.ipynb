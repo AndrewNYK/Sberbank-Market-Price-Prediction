{
 "cells": [
  {
   "cell_type": "code",
   "execution_count": 1,
   "id": "b96186c1",
   "metadata": {},
   "outputs": [],
   "source": [
    "import pandas as pd\n",
    "import numpy as np\n",
    "import matplotlib.pyplot as plt\n",
    "\n",
    "from sklearn.model_selection import train_test_split\n",
    "from sklearn.metrics import mean_squared_log_error, r2_score, mean_squared_error\n",
    "\n",
    "import lightgbm as lgb\n",
    "\n",
    "import sys\n",
    "sys.path.append('../lightgbm')"
   ]
  },
  {
   "cell_type": "code",
   "execution_count": 2,
   "id": "c941823b",
   "metadata": {},
   "outputs": [],
   "source": [
    "from sklearn.metrics import mean_squared_error\n",
    "import optuna\n",
    "\n",
    "def preprocess(data):\n",
    "    #add relative floor\n",
    "    data['rel_floor'] = data['floor']/data['max_floor']\n",
    "    #add relative kitch_sq\n",
    "    data['relative_kitch_sq'] = data['kitch_sq']/data['full_sq']\n",
    "    #add room size\n",
    "    data['room_size'] = data['life_sq']/data['num_room']\n",
    "    # add month and day of week\n",
    "    data['month'] = data.timestamp.dt.month.astype(int)\n",
    "    data['day_of_week'] = data.timestamp.dt.dayofweek.astype(int)\n",
    "    \n",
    "    data['bought_minus_built'] = data.timestamp.dt.year.astype(int) - data['build_year']\n",
    "    \n",
    "    data.loc[data['full_sq']==data['life_sq'],'life_sq'] = np.nan\n",
    "\n",
    "    return data\n",
    "def fact_binary(data):\n",
    "    data = data.applymap(lambda x: x if x!='yes' else 1)\n",
    "    data = data.applymap(lambda x: x if x!='no' else 0)\n",
    "    data = data.applymap(lambda x: x if x!='OwnerOccupier' else 0)\n",
    "    data = data.applymap(lambda x: x if x!='Investment' else 1)\n",
    "    return data\n",
    "\n",
    "class sep_estimator:\n",
    "    def __init__(self,owner_params,investment_params):\n",
    "        self.est1 = lgb.LGBMRegressor(**owner_params)\n",
    "        self.est2 = lgb.LGBMRegressor(**investment_params)\n",
    "        \n",
    "    def preprocess_owner(self,data,mode):\n",
    "        assert (data['product_type'].values==0).all()\n",
    "        if mode=='predict':\n",
    "            data.loc[data['full_sq'].isnull(),'full_sq'] = 50\n",
    "        data = data.drop('timestamp',axis=1)\n",
    "        return data\n",
    "    \n",
    "    def preprocess_investment(self,data,mode):\n",
    "        if mode=='predict':\n",
    "            assert (data['product_type'].values==1).all()\n",
    "            data.loc[data['full_sq'].isnull(),'full_sq'] = 50\n",
    "        data = data.drop('timestamp',axis=1)\n",
    "        return data\n",
    "    \n",
    "    def tuneHyperParams(self,X,y,size):\n",
    "        def objective(trial):\n",
    "            if (size == 'small'):\n",
    "                params = {\n",
    "                    \"objective\": \"regression\",\n",
    "                    \"metric\": \"rmse\",\n",
    "                    \"verbosity\": -1,\n",
    "                    \"n_estimators\": trial.suggest_int(\"n_estimators\", 100, 500),\n",
    "    #                 \"boosting\": trial.suggest_categorical(\"boosting\", [\"gbdt\", \"rf\", \"dart\"]),\n",
    "                    \"lambda_l2\": trial.suggest_float(\"lambda_l2\", 0, 10),\n",
    "                    \"bagging_fraction\": trial.suggest_float(\"bagging_fraction\", 0.5, 1),\n",
    "                    \"bagging_freq\": 1,\n",
    "                    \"num_leaves\": trial.suggest_int(\"num_leaves\", 2, 2**8),\n",
    "                    \"feature_fraction\": trial.suggest_float(\"feature_fraction\", 0.5, 1),\n",
    "                    \"max_depth\": trial.suggest_int(\"max_depth\", 5, 10),\n",
    "                    \"learning_rate\": trial.suggest_float(\"learning_rate\", 1e-3, 0.1, log=True),\n",
    "                    \"subsample\": trial.suggest_float(\"subsample\", 0.01, 1.0),\n",
    "                    \"colsample_bytree\": trial.suggest_float(\"colsample_bytree\", 0.01, 1.0),\n",
    "                    \"min_data_in_leaf\": trial.suggest_int(\"min_data_in_leaf\", 10, 50),\n",
    "                    \"max_bin\": trial.suggest_int(\"max_bin\", 128, 512),\n",
    "                }\n",
    "            else:\n",
    "                params = {\n",
    "                    \"objective\": \"regression\",\n",
    "                    \"metric\": \"rmse\",\n",
    "                    \"verbosity\": -1,\n",
    "                    \"n_estimators\": trial.suggest_int(\"n_estimators\", 600, 1000),\n",
    "    #                 \"boosting\": trial.suggest_categorical(\"boosting\", [\"gbdt\", \"rf\", \"dart\"]),\n",
    "                    \"lambda_l2\": trial.suggest_float(\"lambda_l2\", 0, 10),\n",
    "                    \"bagging_fraction\": trial.suggest_float(\"bagging_fraction\", 0.5, 1),\n",
    "                    \"bagging_freq\": 1,\n",
    "                    \"num_leaves\": trial.suggest_int(\"num_leaves\", 2, 2**10),\n",
    "                    \"feature_fraction\": trial.suggest_float(\"feature_fraction\", 0.5, 1),\n",
    "                    \"max_depth\": trial.suggest_int(\"max_depth\", 5, 15),\n",
    "                    \"learning_rate\": trial.suggest_float(\"learning_rate\", 1e-3, 0.1, log=True),\n",
    "                    \"subsample\": trial.suggest_float(\"subsample\", 0.01, 1.0),\n",
    "                    \"colsample_bytree\": trial.suggest_float(\"colsample_bytree\", 0.01, 1.0),\n",
    "                    \"min_data_in_leaf\": trial.suggest_int(\"min_data_in_leaf\", 10, 100),\n",
    "                    \"max_bin\": trial.suggest_int(\"max_bin\", 128, 512),\n",
    "                }\n",
    "\n",
    "            model = lgb.LGBMRegressor(**params)\n",
    "            model.fit(X_train, y_train, verbose=False)\n",
    "            predictions = model.predict(X_val)\n",
    "            rmse = mean_squared_error(y_val, predictions, squared=False)\n",
    "            return rmse\n",
    "        \n",
    "        X_train, X_val, y_train, y_val = train_test_split(X, y, test_size=0.2, random_state=42)\n",
    "        \n",
    "        study = optuna.create_study(direction='minimize')\n",
    "        study.optimize(objective, n_trials=50)\n",
    "        \n",
    "        print('Best hyperparameters:', study.best_params)\n",
    "        print('Best RMSE:', study.best_value)\n",
    "        return study.best_params\n",
    "    \n",
    "    def fit(self,X,y):\n",
    "        X1 = X[X['product_type']==0]\n",
    "        X2 = X\n",
    "        X1 = self.preprocess_owner(X1,'train')\n",
    "        y1 = y.loc[X1.index.values]/X1['full_sq']\n",
    "        \n",
    "        new_owner_params = self.tuneHyperParams(X1,y1, 'small')\n",
    "        self.est1 = lgb.LGBMRegressor(**new_owner_params)\n",
    "        \n",
    "        X2 = self.preprocess_investment(X2,'train')\n",
    "        y2 = y\n",
    "        y2 = y2/X2['full_sq']\n",
    "        \n",
    "        new_investment_params = self.tuneHyperParams(X2,y2, 'large')\n",
    "        self.est2 = lgb.LGBMRegressor(**new_investment_params)\n",
    "        \n",
    "        if len(X1)>0:\n",
    "            self.est1.fit(X1,y1)\n",
    "        if len(X2)>0:\n",
    "            self.est2.fit(X2,y2)\n",
    "    \n",
    "    def predict(self,X):\n",
    "        X1 = X[X['product_type']==0]\n",
    "        X2 = X[X['product_type']==1]\n",
    "        owner_index = X1.index.values\n",
    "        investment_index = X.index.drop(owner_index).values\n",
    "        X1 = self.preprocess_owner(X1,'predict')\n",
    "        X2 = self.preprocess_investment(X2,'predict')\n",
    "        res = pd.DataFrame(index=X.index)\n",
    "        if len(X1)>0:\n",
    "            pred1 = self.est1.predict(X1)\n",
    "            res.loc[owner_index,0] = pred1*X1['full_sq']\n",
    "        if len(X2)>0:\n",
    "            pred2 = self.est2.predict(X2)\n",
    "            res.loc[investment_index,0] = pred2*X2['full_sq']     \n",
    "        return res[0].values.flatten()"
   ]
  },
  {
   "cell_type": "code",
   "execution_count": 3,
   "id": "38bc1a6a",
   "metadata": {},
   "outputs": [
    {
     "name": "stderr",
     "output_type": "stream",
     "text": [
      "C:\\Users\\Andrew\\AppData\\Local\\Temp\\ipykernel_3516\\2463352502.py:21: FutureWarning: DataFrame.applymap has been deprecated. Use DataFrame.map instead.\n",
      "  data = data.applymap(lambda x: x if x!='yes' else 1)\n",
      "C:\\Users\\Andrew\\AppData\\Local\\Temp\\ipykernel_3516\\2463352502.py:22: FutureWarning: DataFrame.applymap has been deprecated. Use DataFrame.map instead.\n",
      "  data = data.applymap(lambda x: x if x!='no' else 0)\n",
      "C:\\Users\\Andrew\\AppData\\Local\\Temp\\ipykernel_3516\\2463352502.py:23: FutureWarning: DataFrame.applymap has been deprecated. Use DataFrame.map instead.\n",
      "  data = data.applymap(lambda x: x if x!='OwnerOccupier' else 0)\n",
      "C:\\Users\\Andrew\\AppData\\Local\\Temp\\ipykernel_3516\\2463352502.py:24: FutureWarning: DataFrame.applymap has been deprecated. Use DataFrame.map instead.\n",
      "  data = data.applymap(lambda x: x if x!='Investment' else 1)\n"
     ]
    }
   ],
   "source": [
    "data = pd.read_csv('./clean data/train_clean.csv',index_col='id',parse_dates=['timestamp'])\n",
    "data = fact_binary(data)\n",
    "data = preprocess(data)\n",
    "data = data.drop(['sub_area','ecology'],axis=1)\n",
    "data = data.loc[~data['full_sq'].isnull(),:]\n",
    "train = data"
   ]
  },
  {
   "cell_type": "code",
   "execution_count": 4,
   "id": "99bf00d4",
   "metadata": {},
   "outputs": [
    {
     "name": "stderr",
     "output_type": "stream",
     "text": [
      "C:\\Users\\Andrew\\AppData\\Local\\Temp\\ipykernel_3516\\1443716078.py:32: FutureWarning: Setting an item of incompatible dtype is deprecated and will raise in a future error of pandas. Value '1.0068465565847766' has dtype incompatible with int64, please explicitly cast to a compatible dtype first.\n",
      "  train.loc[train_2015_q1_index, 'average_q_price'] = rate_2015_q1\n"
     ]
    }
   ],
   "source": [
    "#    https://www.kaggle.com/aharless/exercising-the-exorcism\n",
    "#\n",
    "#\n",
    "\n",
    "rate_2015_q2 = 1\n",
    "rate_2015_q1 = rate_2015_q2 / 0.9932\n",
    "rate_2014_q4 = rate_2015_q1 / 1.0112\n",
    "rate_2014_q3 = rate_2014_q4 / 1.0169\n",
    "rate_2014_q2 = rate_2014_q3 / 1.0086\n",
    "rate_2014_q1 = rate_2014_q2 / 1.0126\n",
    "rate_2013_q4 = rate_2014_q1 / 0.9902\n",
    "rate_2013_q3 = rate_2013_q4 / 1.0041\n",
    "rate_2013_q2 = rate_2013_q3 / 1.0044\n",
    "rate_2013_q1 = rate_2013_q2 / 1.0104  # This is 1.002 (relative to mult), close to 1:\n",
    "rate_2012_q4 = rate_2013_q1 / 0.9832  #     maybe use 2013q1 as a base quarter and get rid of mult?\n",
    "rate_2012_q3 = rate_2012_q4 / 1.0277\n",
    "rate_2012_q2 = rate_2012_q3 / 1.0279\n",
    "rate_2012_q1 = rate_2012_q2 / 1.0279\n",
    "rate_2011_q4 = rate_2012_q1 / 1.076\n",
    "rate_2011_q3 = rate_2011_q4 / 1.0236\n",
    "rate_2011_q2 = rate_2011_q3 / 1\n",
    "rate_2011_q1 = rate_2011_q2 / 1.011\n",
    "\n",
    "\n",
    "# train 2015\n",
    "train['average_q_price'] = 1\n",
    "\n",
    "train_2015_q2_index = train.loc[train['timestamp'].dt.year == 2015].loc[train['timestamp'].dt.month >= 4].loc[train['timestamp'].dt.month < 7].index\n",
    "train.loc[train_2015_q2_index, 'average_q_price'] = rate_2015_q2\n",
    "\n",
    "train_2015_q1_index = train.loc[train['timestamp'].dt.year == 2015].loc[train['timestamp'].dt.month >= 1].loc[train['timestamp'].dt.month < 4].index\n",
    "train.loc[train_2015_q1_index, 'average_q_price'] = rate_2015_q1\n",
    "\n",
    "\n",
    "# train 2014\n",
    "train_2014_q4_index = train.loc[train['timestamp'].dt.year == 2014].loc[train['timestamp'].dt.month >= 10].loc[train['timestamp'].dt.month <= 12].index\n",
    "train.loc[train_2014_q4_index, 'average_q_price'] = rate_2014_q4\n",
    "\n",
    "train_2014_q3_index = train.loc[train['timestamp'].dt.year == 2014].loc[train['timestamp'].dt.month >= 7].loc[train['timestamp'].dt.month < 10].index\n",
    "train.loc[train_2014_q3_index, 'average_q_price'] = rate_2014_q3\n",
    "\n",
    "train_2014_q2_index = train.loc[train['timestamp'].dt.year == 2014].loc[train['timestamp'].dt.month >= 4].loc[train['timestamp'].dt.month < 7].index\n",
    "train.loc[train_2014_q2_index, 'average_q_price'] = rate_2014_q2\n",
    "\n",
    "train_2014_q1_index = train.loc[train['timestamp'].dt.year == 2014].loc[train['timestamp'].dt.month >= 1].loc[train['timestamp'].dt.month < 4].index\n",
    "train.loc[train_2014_q1_index, 'average_q_price'] = rate_2014_q1\n",
    "\n",
    "\n",
    "# train 2013\n",
    "train_2013_q4_index = train.loc[train['timestamp'].dt.year == 2013].loc[train['timestamp'].dt.month >= 10].loc[train['timestamp'].dt.month <= 12].index\n",
    "train.loc[train_2013_q4_index, 'average_q_price'] = rate_2013_q4\n",
    "\n",
    "train_2013_q3_index = train.loc[train['timestamp'].dt.year == 2013].loc[train['timestamp'].dt.month >= 7].loc[train['timestamp'].dt.month < 10].index\n",
    "train.loc[train_2013_q3_index, 'average_q_price'] = rate_2013_q3\n",
    "\n",
    "train_2013_q2_index = train.loc[train['timestamp'].dt.year == 2013].loc[train['timestamp'].dt.month >= 4].loc[train['timestamp'].dt.month < 7].index\n",
    "train.loc[train_2013_q2_index, 'average_q_price'] = rate_2013_q2\n",
    "\n",
    "train_2013_q1_index = train.loc[train['timestamp'].dt.year == 2013].loc[train['timestamp'].dt.month >= 1].loc[train['timestamp'].dt.month < 4].index\n",
    "train.loc[train_2013_q1_index, 'average_q_price'] = rate_2013_q1\n",
    "\n",
    "\n",
    "# train 2012\n",
    "train_2012_q4_index = train.loc[train['timestamp'].dt.year == 2012].loc[train['timestamp'].dt.month >= 10].loc[train['timestamp'].dt.month <= 12].index\n",
    "train.loc[train_2012_q4_index, 'average_q_price'] = rate_2012_q4\n",
    "\n",
    "train_2012_q3_index = train.loc[train['timestamp'].dt.year == 2012].loc[train['timestamp'].dt.month >= 7].loc[train['timestamp'].dt.month < 10].index\n",
    "train.loc[train_2012_q3_index, 'average_q_price'] = rate_2012_q3\n",
    "\n",
    "train_2012_q2_index = train.loc[train['timestamp'].dt.year == 2012].loc[train['timestamp'].dt.month >= 4].loc[train['timestamp'].dt.month < 7].index\n",
    "train.loc[train_2012_q2_index, 'average_q_price'] = rate_2012_q2\n",
    "\n",
    "train_2012_q1_index = train.loc[train['timestamp'].dt.year == 2012].loc[train['timestamp'].dt.month >= 1].loc[train['timestamp'].dt.month < 4].index\n",
    "train.loc[train_2012_q1_index, 'average_q_price'] = rate_2012_q1\n",
    "\n",
    "\n",
    "# train 2011\n",
    "train_2011_q4_index = train.loc[train['timestamp'].dt.year == 2011].loc[train['timestamp'].dt.month >= 10].loc[train['timestamp'].dt.month <= 12].index\n",
    "train.loc[train_2011_q4_index, 'average_q_price'] = rate_2011_q4\n",
    "\n",
    "train_2011_q3_index = train.loc[train['timestamp'].dt.year == 2011].loc[train['timestamp'].dt.month >= 7].loc[train['timestamp'].dt.month < 10].index\n",
    "train.loc[train_2011_q3_index, 'average_q_price'] = rate_2011_q3\n",
    "\n",
    "train_2011_q2_index = train.loc[train['timestamp'].dt.year == 2011].loc[train['timestamp'].dt.month >= 4].loc[train['timestamp'].dt.month < 7].index\n",
    "train.loc[train_2011_q2_index, 'average_q_price'] = rate_2011_q2\n",
    "\n",
    "train_2011_q1_index = train.loc[train['timestamp'].dt.year == 2011].loc[train['timestamp'].dt.month >= 1].loc[train['timestamp'].dt.month < 4].index\n",
    "train.loc[train_2011_q1_index, 'average_q_price'] = rate_2011_q1\n",
    "\n",
    "train['price_doc'] = train['price_doc'] * train['average_q_price']\n",
    "\n",
    "\n",
    "#########################################################################################################\n",
    "\n",
    "\n",
    "X = train.drop([\"price_doc\", \"average_q_price\"],axis=1)\n",
    "y = train['price_doc']"
   ]
  },
  {
   "cell_type": "code",
   "execution_count": 5,
   "id": "ce8c960e",
   "metadata": {},
   "outputs": [
    {
     "name": "stderr",
     "output_type": "stream",
     "text": [
      "C:\\Users\\Andrew\\AppData\\Local\\Temp\\ipykernel_3516\\2463352502.py:21: FutureWarning: DataFrame.applymap has been deprecated. Use DataFrame.map instead.\n",
      "  data = data.applymap(lambda x: x if x!='yes' else 1)\n",
      "C:\\Users\\Andrew\\AppData\\Local\\Temp\\ipykernel_3516\\2463352502.py:22: FutureWarning: DataFrame.applymap has been deprecated. Use DataFrame.map instead.\n",
      "  data = data.applymap(lambda x: x if x!='no' else 0)\n",
      "C:\\Users\\Andrew\\AppData\\Local\\Temp\\ipykernel_3516\\2463352502.py:23: FutureWarning: DataFrame.applymap has been deprecated. Use DataFrame.map instead.\n",
      "  data = data.applymap(lambda x: x if x!='OwnerOccupier' else 0)\n",
      "C:\\Users\\Andrew\\AppData\\Local\\Temp\\ipykernel_3516\\2463352502.py:24: FutureWarning: DataFrame.applymap has been deprecated. Use DataFrame.map instead.\n",
      "  data = data.applymap(lambda x: x if x!='Investment' else 1)\n"
     ]
    }
   ],
   "source": [
    "kaggle_test = pd.read_csv('./clean data/test_clean.csv', parse_dates=['timestamp'],index_col='id')\n",
    "test1 = kaggle_test.copy()\n",
    "test1 = preprocess(test1)\n",
    "test1 = fact_binary(test1)\n",
    "#test1 = test1.merge(macro,on='timestamp')\n",
    "test1 = test1.drop(['ecology','sub_area'],axis=1)\n",
    "test1.loc[test1['full_sq'].isnull(),'full_sq'] = 50\n",
    "test1.loc[test1['product_type'].isnull(),'product_type'] = 1"
   ]
  },
  {
   "cell_type": "code",
   "execution_count": 6,
   "id": "c46b52a2",
   "metadata": {},
   "outputs": [
    {
     "name": "stderr",
     "output_type": "stream",
     "text": [
      "[I 2023-11-14 07:31:11,087] A new study created in memory with name: no-name-9cc4c708-611d-4275-81a5-3f7075677272\n",
      "C:\\Users\\Andrew\\anaconda3\\envs\\ml_env\\lib\\site-packages\\lightgbm\\sklearn.py:736: UserWarning: 'verbose' argument is deprecated and will be removed in a future release of LightGBM. Pass 'log_evaluation()' callback via 'callbacks' argument instead.\n",
      "  _log_warning(\"'verbose' argument is deprecated and will be removed in a future release of LightGBM. \"\n"
     ]
    },
    {
     "name": "stdout",
     "output_type": "stream",
     "text": [
      "[LightGBM] [Warning] feature_fraction is set=0.7671819568910898, colsample_bytree=0.4422032921125471 will be ignored. Current value: feature_fraction=0.7671819568910898\n",
      "[LightGBM] [Warning] min_data_in_leaf is set=27, min_child_samples=20 will be ignored. Current value: min_data_in_leaf=27\n",
      "[LightGBM] [Warning] bagging_fraction is set=0.8983772472892508, subsample=0.7422927956260987 will be ignored. Current value: bagging_fraction=0.8983772472892508\n",
      "[LightGBM] [Warning] lambda_l2 is set=1.5451618013220791, reg_lambda=0.0 will be ignored. Current value: lambda_l2=1.5451618013220791\n",
      "[LightGBM] [Warning] bagging_freq is set=1, subsample_freq=0 will be ignored. Current value: bagging_freq=1\n"
     ]
    },
    {
     "name": "stderr",
     "output_type": "stream",
     "text": [
      "[I 2023-11-14 07:31:12,741] Trial 0 finished with value: 26663.787991699537 and parameters: {'n_estimators': 303, 'lambda_l2': 1.5451618013220791, 'bagging_fraction': 0.8983772472892508, 'num_leaves': 205, 'feature_fraction': 0.7671819568910898, 'max_depth': 7, 'learning_rate': 0.0027599198418127506, 'subsample': 0.7422927956260987, 'colsample_bytree': 0.4422032921125471, 'min_data_in_leaf': 27, 'max_bin': 173}. Best is trial 0 with value: 26663.787991699537.\n",
      "C:\\Users\\Andrew\\anaconda3\\envs\\ml_env\\lib\\site-packages\\lightgbm\\sklearn.py:736: UserWarning: 'verbose' argument is deprecated and will be removed in a future release of LightGBM. Pass 'log_evaluation()' callback via 'callbacks' argument instead.\n",
      "  _log_warning(\"'verbose' argument is deprecated and will be removed in a future release of LightGBM. \"\n"
     ]
    },
    {
     "name": "stdout",
     "output_type": "stream",
     "text": [
      "[LightGBM] [Warning] feature_fraction is set=0.6269384779588572, colsample_bytree=0.515820060771841 will be ignored. Current value: feature_fraction=0.6269384779588572\n",
      "[LightGBM] [Warning] min_data_in_leaf is set=31, min_child_samples=20 will be ignored. Current value: min_data_in_leaf=31\n",
      "[LightGBM] [Warning] bagging_fraction is set=0.6734266637171888, subsample=0.7136527901381782 will be ignored. Current value: bagging_fraction=0.6734266637171888\n",
      "[LightGBM] [Warning] lambda_l2 is set=4.111772170819834, reg_lambda=0.0 will be ignored. Current value: lambda_l2=4.111772170819834\n",
      "[LightGBM] [Warning] bagging_freq is set=1, subsample_freq=0 will be ignored. Current value: bagging_freq=1\n"
     ]
    },
    {
     "name": "stderr",
     "output_type": "stream",
     "text": [
      "[I 2023-11-14 07:31:13,722] Trial 1 finished with value: 21100.629482350112 and parameters: {'n_estimators': 480, 'lambda_l2': 4.111772170819834, 'bagging_fraction': 0.6734266637171888, 'num_leaves': 49, 'feature_fraction': 0.6269384779588572, 'max_depth': 6, 'learning_rate': 0.02267871066816075, 'subsample': 0.7136527901381782, 'colsample_bytree': 0.515820060771841, 'min_data_in_leaf': 31, 'max_bin': 359}. Best is trial 1 with value: 21100.629482350112.\n",
      "C:\\Users\\Andrew\\anaconda3\\envs\\ml_env\\lib\\site-packages\\lightgbm\\sklearn.py:736: UserWarning: 'verbose' argument is deprecated and will be removed in a future release of LightGBM. Pass 'log_evaluation()' callback via 'callbacks' argument instead.\n",
      "  _log_warning(\"'verbose' argument is deprecated and will be removed in a future release of LightGBM. \"\n"
     ]
    },
    {
     "name": "stdout",
     "output_type": "stream",
     "text": [
      "[LightGBM] [Warning] feature_fraction is set=0.9802202908829667, colsample_bytree=0.971889746131273 will be ignored. Current value: feature_fraction=0.9802202908829667\n",
      "[LightGBM] [Warning] min_data_in_leaf is set=14, min_child_samples=20 will be ignored. Current value: min_data_in_leaf=14\n",
      "[LightGBM] [Warning] bagging_fraction is set=0.9096726203978404, subsample=0.7397384052805466 will be ignored. Current value: bagging_fraction=0.9096726203978404\n",
      "[LightGBM] [Warning] lambda_l2 is set=1.41916550747201, reg_lambda=0.0 will be ignored. Current value: lambda_l2=1.41916550747201\n",
      "[LightGBM] [Warning] bagging_freq is set=1, subsample_freq=0 will be ignored. Current value: bagging_freq=1\n"
     ]
    },
    {
     "name": "stderr",
     "output_type": "stream",
     "text": [
      "[I 2023-11-14 07:31:16,538] Trial 2 finished with value: 24596.885676172136 and parameters: {'n_estimators': 397, 'lambda_l2': 1.41916550747201, 'bagging_fraction': 0.9096726203978404, 'num_leaves': 153, 'feature_fraction': 0.9802202908829667, 'max_depth': 7, 'learning_rate': 0.0028175511871413646, 'subsample': 0.7397384052805466, 'colsample_bytree': 0.971889746131273, 'min_data_in_leaf': 14, 'max_bin': 487}. Best is trial 1 with value: 21100.629482350112.\n",
      "C:\\Users\\Andrew\\anaconda3\\envs\\ml_env\\lib\\site-packages\\lightgbm\\sklearn.py:736: UserWarning: 'verbose' argument is deprecated and will be removed in a future release of LightGBM. Pass 'log_evaluation()' callback via 'callbacks' argument instead.\n",
      "  _log_warning(\"'verbose' argument is deprecated and will be removed in a future release of LightGBM. \"\n"
     ]
    },
    {
     "name": "stdout",
     "output_type": "stream",
     "text": [
      "[LightGBM] [Warning] feature_fraction is set=0.6877839898109102, colsample_bytree=0.4622552117017084 will be ignored. Current value: feature_fraction=0.6877839898109102\n",
      "[LightGBM] [Warning] min_data_in_leaf is set=43, min_child_samples=20 will be ignored. Current value: min_data_in_leaf=43\n",
      "[LightGBM] [Warning] bagging_fraction is set=0.8684172040714152, subsample=0.8522907880003978 will be ignored. Current value: bagging_fraction=0.8684172040714152\n",
      "[LightGBM] [Warning] lambda_l2 is set=7.7731494604131814, reg_lambda=0.0 will be ignored. Current value: lambda_l2=7.7731494604131814\n",
      "[LightGBM] [Warning] bagging_freq is set=1, subsample_freq=0 will be ignored. Current value: bagging_freq=1\n"
     ]
    },
    {
     "name": "stderr",
     "output_type": "stream",
     "text": [
      "[I 2023-11-14 07:31:17,249] Trial 3 finished with value: 20952.47254083309 and parameters: {'n_estimators': 252, 'lambda_l2': 7.7731494604131814, 'bagging_fraction': 0.8684172040714152, 'num_leaves': 109, 'feature_fraction': 0.6877839898109102, 'max_depth': 7, 'learning_rate': 0.05598549690332671, 'subsample': 0.8522907880003978, 'colsample_bytree': 0.4622552117017084, 'min_data_in_leaf': 43, 'max_bin': 280}. Best is trial 3 with value: 20952.47254083309.\n",
      "C:\\Users\\Andrew\\anaconda3\\envs\\ml_env\\lib\\site-packages\\lightgbm\\sklearn.py:736: UserWarning: 'verbose' argument is deprecated and will be removed in a future release of LightGBM. Pass 'log_evaluation()' callback via 'callbacks' argument instead.\n",
      "  _log_warning(\"'verbose' argument is deprecated and will be removed in a future release of LightGBM. \"\n"
     ]
    },
    {
     "name": "stdout",
     "output_type": "stream",
     "text": [
      "[LightGBM] [Warning] feature_fraction is set=0.969474121721946, colsample_bytree=0.4094858458898397 will be ignored. Current value: feature_fraction=0.969474121721946\n",
      "[LightGBM] [Warning] min_data_in_leaf is set=49, min_child_samples=20 will be ignored. Current value: min_data_in_leaf=49\n",
      "[LightGBM] [Warning] bagging_fraction is set=0.9551692115057053, subsample=0.08042944091659375 will be ignored. Current value: bagging_fraction=0.9551692115057053\n",
      "[LightGBM] [Warning] lambda_l2 is set=5.393850274016706, reg_lambda=0.0 will be ignored. Current value: lambda_l2=5.393850274016706\n",
      "[LightGBM] [Warning] bagging_freq is set=1, subsample_freq=0 will be ignored. Current value: bagging_freq=1\n"
     ]
    },
    {
     "name": "stderr",
     "output_type": "stream",
     "text": [
      "[I 2023-11-14 07:31:18,672] Trial 4 finished with value: 20914.80543672159 and parameters: {'n_estimators': 457, 'lambda_l2': 5.393850274016706, 'bagging_fraction': 0.9551692115057053, 'num_leaves': 242, 'feature_fraction': 0.969474121721946, 'max_depth': 8, 'learning_rate': 0.04914916917692899, 'subsample': 0.08042944091659375, 'colsample_bytree': 0.4094858458898397, 'min_data_in_leaf': 49, 'max_bin': 446}. Best is trial 4 with value: 20914.80543672159.\n",
      "C:\\Users\\Andrew\\anaconda3\\envs\\ml_env\\lib\\site-packages\\lightgbm\\sklearn.py:736: UserWarning: 'verbose' argument is deprecated and will be removed in a future release of LightGBM. Pass 'log_evaluation()' callback via 'callbacks' argument instead.\n",
      "  _log_warning(\"'verbose' argument is deprecated and will be removed in a future release of LightGBM. \"\n"
     ]
    },
    {
     "name": "stdout",
     "output_type": "stream",
     "text": [
      "[LightGBM] [Warning] feature_fraction is set=0.6098987541695954, colsample_bytree=0.06769165916615896 will be ignored. Current value: feature_fraction=0.6098987541695954\n",
      "[LightGBM] [Warning] min_data_in_leaf is set=42, min_child_samples=20 will be ignored. Current value: min_data_in_leaf=42\n",
      "[LightGBM] [Warning] bagging_fraction is set=0.849958475297611, subsample=0.3034467915794841 will be ignored. Current value: bagging_fraction=0.849958475297611\n",
      "[LightGBM] [Warning] lambda_l2 is set=2.8283325786522164, reg_lambda=0.0 will be ignored. Current value: lambda_l2=2.8283325786522164\n",
      "[LightGBM] [Warning] bagging_freq is set=1, subsample_freq=0 will be ignored. Current value: bagging_freq=1\n"
     ]
    },
    {
     "name": "stderr",
     "output_type": "stream",
     "text": [
      "[I 2023-11-14 07:31:19,071] Trial 5 finished with value: 23226.535735496793 and parameters: {'n_estimators': 159, 'lambda_l2': 2.8283325786522164, 'bagging_fraction': 0.849958475297611, 'num_leaves': 8, 'feature_fraction': 0.6098987541695954, 'max_depth': 10, 'learning_rate': 0.02170604412005459, 'subsample': 0.3034467915794841, 'colsample_bytree': 0.06769165916615896, 'min_data_in_leaf': 42, 'max_bin': 250}. Best is trial 4 with value: 20914.80543672159.\n",
      "C:\\Users\\Andrew\\anaconda3\\envs\\ml_env\\lib\\site-packages\\lightgbm\\sklearn.py:736: UserWarning: 'verbose' argument is deprecated and will be removed in a future release of LightGBM. Pass 'log_evaluation()' callback via 'callbacks' argument instead.\n",
      "  _log_warning(\"'verbose' argument is deprecated and will be removed in a future release of LightGBM. \"\n"
     ]
    },
    {
     "name": "stdout",
     "output_type": "stream",
     "text": [
      "[LightGBM] [Warning] feature_fraction is set=0.8267171845421419, colsample_bytree=0.9467544478762777 will be ignored. Current value: feature_fraction=0.8267171845421419\n",
      "[LightGBM] [Warning] min_data_in_leaf is set=26, min_child_samples=20 will be ignored. Current value: min_data_in_leaf=26\n",
      "[LightGBM] [Warning] bagging_fraction is set=0.7278912787115518, subsample=0.4007675862592253 will be ignored. Current value: bagging_fraction=0.7278912787115518\n",
      "[LightGBM] [Warning] lambda_l2 is set=8.457843655543693, reg_lambda=0.0 will be ignored. Current value: lambda_l2=8.457843655543693\n",
      "[LightGBM] [Warning] bagging_freq is set=1, subsample_freq=0 will be ignored. Current value: bagging_freq=1\n"
     ]
    },
    {
     "name": "stderr",
     "output_type": "stream",
     "text": [
      "[I 2023-11-14 07:31:20,934] Trial 6 finished with value: 22195.044259285532 and parameters: {'n_estimators': 474, 'lambda_l2': 8.457843655543693, 'bagging_fraction': 0.7278912787115518, 'num_leaves': 190, 'feature_fraction': 0.8267171845421419, 'max_depth': 7, 'learning_rate': 0.004557224570015624, 'subsample': 0.4007675862592253, 'colsample_bytree': 0.9467544478762777, 'min_data_in_leaf': 26, 'max_bin': 182}. Best is trial 4 with value: 20914.80543672159.\n",
      "C:\\Users\\Andrew\\anaconda3\\envs\\ml_env\\lib\\site-packages\\lightgbm\\sklearn.py:736: UserWarning: 'verbose' argument is deprecated and will be removed in a future release of LightGBM. Pass 'log_evaluation()' callback via 'callbacks' argument instead.\n",
      "  _log_warning(\"'verbose' argument is deprecated and will be removed in a future release of LightGBM. \"\n"
     ]
    },
    {
     "name": "stdout",
     "output_type": "stream",
     "text": [
      "[LightGBM] [Warning] feature_fraction is set=0.8782109336672677, colsample_bytree=0.22427152044479018 will be ignored. Current value: feature_fraction=0.8782109336672677\n",
      "[LightGBM] [Warning] min_data_in_leaf is set=11, min_child_samples=20 will be ignored. Current value: min_data_in_leaf=11\n",
      "[LightGBM] [Warning] bagging_fraction is set=0.9635907608273047, subsample=0.02623911166095841 will be ignored. Current value: bagging_fraction=0.9635907608273047\n",
      "[LightGBM] [Warning] lambda_l2 is set=7.961564851219222, reg_lambda=0.0 will be ignored. Current value: lambda_l2=7.961564851219222\n",
      "[LightGBM] [Warning] bagging_freq is set=1, subsample_freq=0 will be ignored. Current value: bagging_freq=1\n"
     ]
    },
    {
     "name": "stderr",
     "output_type": "stream",
     "text": [
      "[I 2023-11-14 07:31:23,626] Trial 7 finished with value: 21450.008048422584 and parameters: {'n_estimators': 467, 'lambda_l2': 7.961564851219222, 'bagging_fraction': 0.9635907608273047, 'num_leaves': 232, 'feature_fraction': 0.8782109336672677, 'max_depth': 7, 'learning_rate': 0.0059002612515205955, 'subsample': 0.02623911166095841, 'colsample_bytree': 0.22427152044479018, 'min_data_in_leaf': 11, 'max_bin': 210}. Best is trial 4 with value: 20914.80543672159.\n",
      "C:\\Users\\Andrew\\anaconda3\\envs\\ml_env\\lib\\site-packages\\lightgbm\\sklearn.py:736: UserWarning: 'verbose' argument is deprecated and will be removed in a future release of LightGBM. Pass 'log_evaluation()' callback via 'callbacks' argument instead.\n",
      "  _log_warning(\"'verbose' argument is deprecated and will be removed in a future release of LightGBM. \"\n"
     ]
    },
    {
     "name": "stdout",
     "output_type": "stream",
     "text": [
      "[LightGBM] [Warning] feature_fraction is set=0.797225451144093, colsample_bytree=0.22402751170225746 will be ignored. Current value: feature_fraction=0.797225451144093\n",
      "[LightGBM] [Warning] min_data_in_leaf is set=19, min_child_samples=20 will be ignored. Current value: min_data_in_leaf=19\n",
      "[LightGBM] [Warning] bagging_fraction is set=0.9292611913272842, subsample=0.9241747562158175 will be ignored. Current value: bagging_fraction=0.9292611913272842\n",
      "[LightGBM] [Warning] lambda_l2 is set=2.9799454804711054, reg_lambda=0.0 will be ignored. Current value: lambda_l2=2.9799454804711054\n",
      "[LightGBM] [Warning] bagging_freq is set=1, subsample_freq=0 will be ignored. Current value: bagging_freq=1\n"
     ]
    },
    {
     "name": "stderr",
     "output_type": "stream",
     "text": [
      "[I 2023-11-14 07:31:26,534] Trial 8 finished with value: 20994.966334798857 and parameters: {'n_estimators': 284, 'lambda_l2': 2.9799454804711054, 'bagging_fraction': 0.9292611913272842, 'num_leaves': 224, 'feature_fraction': 0.797225451144093, 'max_depth': 9, 'learning_rate': 0.011881373404845186, 'subsample': 0.9241747562158175, 'colsample_bytree': 0.22402751170225746, 'min_data_in_leaf': 19, 'max_bin': 332}. Best is trial 4 with value: 20914.80543672159.\n",
      "C:\\Users\\Andrew\\anaconda3\\envs\\ml_env\\lib\\site-packages\\lightgbm\\sklearn.py:736: UserWarning: 'verbose' argument is deprecated and will be removed in a future release of LightGBM. Pass 'log_evaluation()' callback via 'callbacks' argument instead.\n",
      "  _log_warning(\"'verbose' argument is deprecated and will be removed in a future release of LightGBM. \"\n"
     ]
    },
    {
     "name": "stdout",
     "output_type": "stream",
     "text": [
      "[LightGBM] [Warning] feature_fraction is set=0.5911366891104554, colsample_bytree=0.40239595149592383 will be ignored. Current value: feature_fraction=0.5911366891104554\n",
      "[LightGBM] [Warning] min_data_in_leaf is set=31, min_child_samples=20 will be ignored. Current value: min_data_in_leaf=31\n",
      "[LightGBM] [Warning] bagging_fraction is set=0.7590431728719297, subsample=0.2291122996851163 will be ignored. Current value: bagging_fraction=0.7590431728719297\n",
      "[LightGBM] [Warning] lambda_l2 is set=8.752393407951585, reg_lambda=0.0 will be ignored. Current value: lambda_l2=8.752393407951585\n",
      "[LightGBM] [Warning] bagging_freq is set=1, subsample_freq=0 will be ignored. Current value: bagging_freq=1\n"
     ]
    },
    {
     "name": "stderr",
     "output_type": "stream",
     "text": [
      "[I 2023-11-14 07:31:28,437] Trial 9 finished with value: 21366.08291739017 and parameters: {'n_estimators': 368, 'lambda_l2': 8.752393407951585, 'bagging_fraction': 0.7590431728719297, 'num_leaves': 87, 'feature_fraction': 0.5911366891104554, 'max_depth': 8, 'learning_rate': 0.010324586028325618, 'subsample': 0.2291122996851163, 'colsample_bytree': 0.40239595149592383, 'min_data_in_leaf': 31, 'max_bin': 366}. Best is trial 4 with value: 20914.80543672159.\n",
      "C:\\Users\\Andrew\\anaconda3\\envs\\ml_env\\lib\\site-packages\\lightgbm\\sklearn.py:736: UserWarning: 'verbose' argument is deprecated and will be removed in a future release of LightGBM. Pass 'log_evaluation()' callback via 'callbacks' argument instead.\n",
      "  _log_warning(\"'verbose' argument is deprecated and will be removed in a future release of LightGBM. \"\n"
     ]
    },
    {
     "name": "stdout",
     "output_type": "stream",
     "text": [
      "[LightGBM] [Warning] feature_fraction is set=0.9970979656297432, colsample_bytree=0.6840326439019395 will be ignored. Current value: feature_fraction=0.9970979656297432\n",
      "[LightGBM] [Warning] min_data_in_leaf is set=48, min_child_samples=20 will be ignored. Current value: min_data_in_leaf=48\n",
      "[LightGBM] [Warning] bagging_fraction is set=0.5892413121828695, subsample=0.02881770749589302 will be ignored. Current value: bagging_fraction=0.5892413121828695\n",
      "[LightGBM] [Warning] lambda_l2 is set=5.897554717142198, reg_lambda=0.0 will be ignored. Current value: lambda_l2=5.897554717142198\n",
      "[LightGBM] [Warning] bagging_freq is set=1, subsample_freq=0 will be ignored. Current value: bagging_freq=1\n"
     ]
    },
    {
     "name": "stderr",
     "output_type": "stream",
     "text": [
      "[I 2023-11-14 07:31:28,960] Trial 10 finished with value: 21558.934701211136 and parameters: {'n_estimators': 103, 'lambda_l2': 5.897554717142198, 'bagging_fraction': 0.5892413121828695, 'num_leaves': 156, 'feature_fraction': 0.9970979656297432, 'max_depth': 5, 'learning_rate': 0.09979979603905127, 'subsample': 0.02881770749589302, 'colsample_bytree': 0.6840326439019395, 'min_data_in_leaf': 48, 'max_bin': 488}. Best is trial 4 with value: 20914.80543672159.\n",
      "C:\\Users\\Andrew\\anaconda3\\envs\\ml_env\\lib\\site-packages\\lightgbm\\sklearn.py:736: UserWarning: 'verbose' argument is deprecated and will be removed in a future release of LightGBM. Pass 'log_evaluation()' callback via 'callbacks' argument instead.\n",
      "  _log_warning(\"'verbose' argument is deprecated and will be removed in a future release of LightGBM. \"\n"
     ]
    },
    {
     "name": "stdout",
     "output_type": "stream",
     "text": [
      "[LightGBM] [Warning] feature_fraction is set=0.7026783248829033, colsample_bytree=0.6195391748153267 will be ignored. Current value: feature_fraction=0.7026783248829033\n",
      "[LightGBM] [Warning] min_data_in_leaf is set=42, min_child_samples=20 will be ignored. Current value: min_data_in_leaf=42\n",
      "[LightGBM] [Warning] bagging_fraction is set=0.9956157122947142, subsample=0.5495740629460044 will be ignored. Current value: bagging_fraction=0.9956157122947142\n",
      "[LightGBM] [Warning] lambda_l2 is set=6.671838775319134, reg_lambda=0.0 will be ignored. Current value: lambda_l2=6.671838775319134\n",
      "[LightGBM] [Warning] bagging_freq is set=1, subsample_freq=0 will be ignored. Current value: bagging_freq=1\n"
     ]
    },
    {
     "name": "stderr",
     "output_type": "stream",
     "text": [
      "[I 2023-11-14 07:31:29,897] Trial 11 finished with value: 20871.43543121492 and parameters: {'n_estimators': 221, 'lambda_l2': 6.671838775319134, 'bagging_fraction': 0.9956157122947142, 'num_leaves': 105, 'feature_fraction': 0.7026783248829033, 'max_depth': 9, 'learning_rate': 0.06457590214419719, 'subsample': 0.5495740629460044, 'colsample_bytree': 0.6195391748153267, 'min_data_in_leaf': 42, 'max_bin': 415}. Best is trial 11 with value: 20871.43543121492.\n",
      "C:\\Users\\Andrew\\anaconda3\\envs\\ml_env\\lib\\site-packages\\lightgbm\\sklearn.py:736: UserWarning: 'verbose' argument is deprecated and will be removed in a future release of LightGBM. Pass 'log_evaluation()' callback via 'callbacks' argument instead.\n",
      "  _log_warning(\"'verbose' argument is deprecated and will be removed in a future release of LightGBM. \"\n"
     ]
    },
    {
     "name": "stdout",
     "output_type": "stream",
     "text": [
      "[LightGBM] [Warning] feature_fraction is set=0.7035273985289132, colsample_bytree=0.6733779873810524 will be ignored. Current value: feature_fraction=0.7035273985289132\n",
      "[LightGBM] [Warning] min_data_in_leaf is set=50, min_child_samples=20 will be ignored. Current value: min_data_in_leaf=50\n",
      "[LightGBM] [Warning] bagging_fraction is set=0.9985692370482243, subsample=0.5434741383486551 will be ignored. Current value: bagging_fraction=0.9985692370482243\n",
      "[LightGBM] [Warning] lambda_l2 is set=6.038761304091276, reg_lambda=0.0 will be ignored. Current value: lambda_l2=6.038761304091276\n",
      "[LightGBM] [Warning] bagging_freq is set=1, subsample_freq=0 will be ignored. Current value: bagging_freq=1\n"
     ]
    },
    {
     "name": "stderr",
     "output_type": "stream",
     "text": [
      "[I 2023-11-14 07:31:30,884] Trial 12 finished with value: 20905.33552040556 and parameters: {'n_estimators': 205, 'lambda_l2': 6.038761304091276, 'bagging_fraction': 0.9985692370482243, 'num_leaves': 128, 'feature_fraction': 0.7035273985289132, 'max_depth': 9, 'learning_rate': 0.05357865304990458, 'subsample': 0.5434741383486551, 'colsample_bytree': 0.6733779873810524, 'min_data_in_leaf': 50, 'max_bin': 418}. Best is trial 11 with value: 20871.43543121492.\n",
      "C:\\Users\\Andrew\\anaconda3\\envs\\ml_env\\lib\\site-packages\\lightgbm\\sklearn.py:736: UserWarning: 'verbose' argument is deprecated and will be removed in a future release of LightGBM. Pass 'log_evaluation()' callback via 'callbacks' argument instead.\n",
      "  _log_warning(\"'verbose' argument is deprecated and will be removed in a future release of LightGBM. \"\n"
     ]
    },
    {
     "name": "stdout",
     "output_type": "stream",
     "text": [
      "[LightGBM] [Warning] feature_fraction is set=0.5105096003208225, colsample_bytree=0.7009284777351048 will be ignored. Current value: feature_fraction=0.5105096003208225\n",
      "[LightGBM] [Warning] min_data_in_leaf is set=38, min_child_samples=20 will be ignored. Current value: min_data_in_leaf=38\n",
      "[LightGBM] [Warning] bagging_fraction is set=0.9846293664575423, subsample=0.5364108147457667 will be ignored. Current value: bagging_fraction=0.9846293664575423\n",
      "[LightGBM] [Warning] lambda_l2 is set=6.300608833287307, reg_lambda=0.0 will be ignored. Current value: lambda_l2=6.300608833287307\n",
      "[LightGBM] [Warning] bagging_freq is set=1, subsample_freq=0 will be ignored. Current value: bagging_freq=1\n"
     ]
    },
    {
     "name": "stderr",
     "output_type": "stream",
     "text": [
      "[I 2023-11-14 07:31:31,889] Trial 13 finished with value: 20932.164475841248 and parameters: {'n_estimators': 206, 'lambda_l2': 6.300608833287307, 'bagging_fraction': 0.9846293664575423, 'num_leaves': 78, 'feature_fraction': 0.5105096003208225, 'max_depth': 10, 'learning_rate': 0.08258080157941146, 'subsample': 0.5364108147457667, 'colsample_bytree': 0.7009284777351048, 'min_data_in_leaf': 38, 'max_bin': 407}. Best is trial 11 with value: 20871.43543121492.\n",
      "C:\\Users\\Andrew\\anaconda3\\envs\\ml_env\\lib\\site-packages\\lightgbm\\sklearn.py:736: UserWarning: 'verbose' argument is deprecated and will be removed in a future release of LightGBM. Pass 'log_evaluation()' callback via 'callbacks' argument instead.\n",
      "  _log_warning(\"'verbose' argument is deprecated and will be removed in a future release of LightGBM. \"\n"
     ]
    },
    {
     "name": "stdout",
     "output_type": "stream",
     "text": [
      "[LightGBM] [Warning] feature_fraction is set=0.70821012580574, colsample_bytree=0.700957900852397 will be ignored. Current value: feature_fraction=0.70821012580574\n",
      "[LightGBM] [Warning] min_data_in_leaf is set=40, min_child_samples=20 will be ignored. Current value: min_data_in_leaf=40\n",
      "[LightGBM] [Warning] bagging_fraction is set=0.9969823269382486, subsample=0.5596759138958434 will be ignored. Current value: bagging_fraction=0.9969823269382486\n",
      "[LightGBM] [Warning] lambda_l2 is set=6.897703817280083, reg_lambda=0.0 will be ignored. Current value: lambda_l2=6.897703817280083\n",
      "[LightGBM] [Warning] bagging_freq is set=1, subsample_freq=0 will be ignored. Current value: bagging_freq=1\n"
     ]
    },
    {
     "name": "stderr",
     "output_type": "stream",
     "text": [
      "[I 2023-11-14 07:31:33,008] Trial 14 finished with value: 21150.233086250708 and parameters: {'n_estimators': 198, 'lambda_l2': 6.897703817280083, 'bagging_fraction': 0.9969823269382486, 'num_leaves': 144, 'feature_fraction': 0.70821012580574, 'max_depth': 9, 'learning_rate': 0.03547466171976314, 'subsample': 0.5596759138958434, 'colsample_bytree': 0.700957900852397, 'min_data_in_leaf': 40, 'max_bin': 419}. Best is trial 11 with value: 20871.43543121492.\n",
      "C:\\Users\\Andrew\\anaconda3\\envs\\ml_env\\lib\\site-packages\\lightgbm\\sklearn.py:736: UserWarning: 'verbose' argument is deprecated and will be removed in a future release of LightGBM. Pass 'log_evaluation()' callback via 'callbacks' argument instead.\n",
      "  _log_warning(\"'verbose' argument is deprecated and will be removed in a future release of LightGBM. \"\n"
     ]
    },
    {
     "name": "stdout",
     "output_type": "stream",
     "text": [
      "[LightGBM] [Warning] feature_fraction is set=0.7057873439400775, colsample_bytree=0.833415208751524 will be ignored. Current value: feature_fraction=0.7057873439400775\n",
      "[LightGBM] [Warning] min_data_in_leaf is set=50, min_child_samples=20 will be ignored. Current value: min_data_in_leaf=50\n",
      "[LightGBM] [Warning] bagging_fraction is set=0.8553148307468639, subsample=0.46793517502448023 will be ignored. Current value: bagging_fraction=0.8553148307468639\n",
      "[LightGBM] [Warning] lambda_l2 is set=9.524915557082823, reg_lambda=0.0 will be ignored. Current value: lambda_l2=9.524915557082823\n",
      "[LightGBM] [Warning] bagging_freq is set=1, subsample_freq=0 will be ignored. Current value: bagging_freq=1\n"
     ]
    },
    {
     "name": "stderr",
     "output_type": "stream",
     "text": [
      "[I 2023-11-14 07:31:33,901] Trial 15 finished with value: 36502.145630827144 and parameters: {'n_estimators': 128, 'lambda_l2': 9.524915557082823, 'bagging_fraction': 0.8553148307468639, 'num_leaves': 114, 'feature_fraction': 0.7057873439400775, 'max_depth': 9, 'learning_rate': 0.0013107207102822712, 'subsample': 0.46793517502448023, 'colsample_bytree': 0.833415208751524, 'min_data_in_leaf': 50, 'max_bin': 396}. Best is trial 11 with value: 20871.43543121492.\n",
      "C:\\Users\\Andrew\\anaconda3\\envs\\ml_env\\lib\\site-packages\\lightgbm\\sklearn.py:736: UserWarning: 'verbose' argument is deprecated and will be removed in a future release of LightGBM. Pass 'log_evaluation()' callback via 'callbacks' argument instead.\n",
      "  _log_warning(\"'verbose' argument is deprecated and will be removed in a future release of LightGBM. \"\n"
     ]
    },
    {
     "name": "stdout",
     "output_type": "stream",
     "text": [
      "[LightGBM] [Warning] feature_fraction is set=0.7477103890322454, colsample_bytree=0.593330386146664 will be ignored. Current value: feature_fraction=0.7477103890322454\n",
      "[LightGBM] [Warning] min_data_in_leaf is set=35, min_child_samples=20 will be ignored. Current value: min_data_in_leaf=35\n",
      "[LightGBM] [Warning] bagging_fraction is set=0.9935848797542215, subsample=0.612138620432479 will be ignored. Current value: bagging_fraction=0.9935848797542215\n",
      "[LightGBM] [Warning] lambda_l2 is set=4.74626894436681, reg_lambda=0.0 will be ignored. Current value: lambda_l2=4.74626894436681\n",
      "[LightGBM] [Warning] bagging_freq is set=1, subsample_freq=0 will be ignored. Current value: bagging_freq=1\n"
     ]
    },
    {
     "name": "stderr",
     "output_type": "stream",
     "text": [
      "[I 2023-11-14 07:31:35,305] Trial 16 finished with value: 21151.9012690977 and parameters: {'n_estimators': 234, 'lambda_l2': 4.74626894436681, 'bagging_fraction': 0.9935848797542215, 'num_leaves': 51, 'feature_fraction': 0.7477103890322454, 'max_depth': 9, 'learning_rate': 0.030947546445702558, 'subsample': 0.612138620432479, 'colsample_bytree': 0.593330386146664, 'min_data_in_leaf': 35, 'max_bin': 456}. Best is trial 11 with value: 20871.43543121492.\n",
      "C:\\Users\\Andrew\\anaconda3\\envs\\ml_env\\lib\\site-packages\\lightgbm\\sklearn.py:736: UserWarning: 'verbose' argument is deprecated and will be removed in a future release of LightGBM. Pass 'log_evaluation()' callback via 'callbacks' argument instead.\n",
      "  _log_warning(\"'verbose' argument is deprecated and will be removed in a future release of LightGBM. \"\n"
     ]
    },
    {
     "name": "stdout",
     "output_type": "stream",
     "text": [
      "[LightGBM] [Warning] feature_fraction is set=0.6742734192354787, colsample_bytree=0.8201508177130479 will be ignored. Current value: feature_fraction=0.6742734192354787\n",
      "[LightGBM] [Warning] min_data_in_leaf is set=45, min_child_samples=20 will be ignored. Current value: min_data_in_leaf=45\n",
      "[LightGBM] [Warning] bagging_fraction is set=0.8210492475857267, subsample=0.3997928704475347 will be ignored. Current value: bagging_fraction=0.8210492475857267\n",
      "[LightGBM] [Warning] lambda_l2 is set=6.971838068907953, reg_lambda=0.0 will be ignored. Current value: lambda_l2=6.971838068907953\n",
      "[LightGBM] [Warning] bagging_freq is set=1, subsample_freq=0 will be ignored. Current value: bagging_freq=1\n"
     ]
    },
    {
     "name": "stderr",
     "output_type": "stream",
     "text": [
      "[I 2023-11-14 07:31:36,246] Trial 17 finished with value: 20950.124125015976 and parameters: {'n_estimators': 168, 'lambda_l2': 6.971838068907953, 'bagging_fraction': 0.8210492475857267, 'num_leaves': 182, 'feature_fraction': 0.6742734192354787, 'max_depth': 10, 'learning_rate': 0.06722901185739458, 'subsample': 0.3997928704475347, 'colsample_bytree': 0.8201508177130479, 'min_data_in_leaf': 45, 'max_bin': 297}. Best is trial 11 with value: 20871.43543121492.\n",
      "C:\\Users\\Andrew\\anaconda3\\envs\\ml_env\\lib\\site-packages\\lightgbm\\sklearn.py:736: UserWarning: 'verbose' argument is deprecated and will be removed in a future release of LightGBM. Pass 'log_evaluation()' callback via 'callbacks' argument instead.\n",
      "  _log_warning(\"'verbose' argument is deprecated and will be removed in a future release of LightGBM. \"\n"
     ]
    },
    {
     "name": "stdout",
     "output_type": "stream",
     "text": [
      "[LightGBM] [Warning] feature_fraction is set=0.7565427920192774, colsample_bytree=0.6406235409200229 will be ignored. Current value: feature_fraction=0.7565427920192774\n",
      "[LightGBM] [Warning] min_data_in_leaf is set=36, min_child_samples=20 will be ignored. Current value: min_data_in_leaf=36\n",
      "[LightGBM] [Warning] bagging_fraction is set=0.9229357066895534, subsample=0.659121776782498 will be ignored. Current value: bagging_fraction=0.9229357066895534\n",
      "[LightGBM] [Warning] lambda_l2 is set=5.011793520469832, reg_lambda=0.0 will be ignored. Current value: lambda_l2=5.011793520469832\n",
      "[LightGBM] [Warning] bagging_freq is set=1, subsample_freq=0 will be ignored. Current value: bagging_freq=1\n"
     ]
    },
    {
     "name": "stderr",
     "output_type": "stream",
     "text": [
      "[I 2023-11-14 07:31:37,576] Trial 18 finished with value: 20722.076843490293 and parameters: {'n_estimators': 323, 'lambda_l2': 5.011793520469832, 'bagging_fraction': 0.9229357066895534, 'num_leaves': 86, 'feature_fraction': 0.7565427920192774, 'max_depth': 8, 'learning_rate': 0.09561731736705152, 'subsample': 0.659121776782498, 'colsample_bytree': 0.6406235409200229, 'min_data_in_leaf': 36, 'max_bin': 512}. Best is trial 18 with value: 20722.076843490293.\n",
      "C:\\Users\\Andrew\\anaconda3\\envs\\ml_env\\lib\\site-packages\\lightgbm\\sklearn.py:736: UserWarning: 'verbose' argument is deprecated and will be removed in a future release of LightGBM. Pass 'log_evaluation()' callback via 'callbacks' argument instead.\n",
      "  _log_warning(\"'verbose' argument is deprecated and will be removed in a future release of LightGBM. \"\n"
     ]
    },
    {
     "name": "stdout",
     "output_type": "stream",
     "text": [
      "[LightGBM] [Warning] feature_fraction is set=0.8477000460308872, colsample_bytree=0.5497647733753102 will be ignored. Current value: feature_fraction=0.8477000460308872\n",
      "[LightGBM] [Warning] min_data_in_leaf is set=35, min_child_samples=20 will be ignored. Current value: min_data_in_leaf=35\n",
      "[LightGBM] [Warning] bagging_fraction is set=0.9268331616432273, subsample=0.6401740553698579 will be ignored. Current value: bagging_fraction=0.9268331616432273\n",
      "[LightGBM] [Warning] lambda_l2 is set=4.7098448944340365, reg_lambda=0.0 will be ignored. Current value: lambda_l2=4.7098448944340365\n",
      "[LightGBM] [Warning] bagging_freq is set=1, subsample_freq=0 will be ignored. Current value: bagging_freq=1\n"
     ]
    },
    {
     "name": "stderr",
     "output_type": "stream",
     "text": [
      "[I 2023-11-14 07:31:38,282] Trial 19 finished with value: 21624.156251051212 and parameters: {'n_estimators': 331, 'lambda_l2': 4.7098448944340365, 'bagging_fraction': 0.9268331616432273, 'num_leaves': 4, 'feature_fraction': 0.8477000460308872, 'max_depth': 8, 'learning_rate': 0.08870360564695826, 'subsample': 0.6401740553698579, 'colsample_bytree': 0.5497647733753102, 'min_data_in_leaf': 35, 'max_bin': 510}. Best is trial 18 with value: 20722.076843490293.\n",
      "C:\\Users\\Andrew\\anaconda3\\envs\\ml_env\\lib\\site-packages\\lightgbm\\sklearn.py:736: UserWarning: 'verbose' argument is deprecated and will be removed in a future release of LightGBM. Pass 'log_evaluation()' callback via 'callbacks' argument instead.\n",
      "  _log_warning(\"'verbose' argument is deprecated and will be removed in a future release of LightGBM. \"\n"
     ]
    },
    {
     "name": "stdout",
     "output_type": "stream",
     "text": [
      "[LightGBM] [Warning] feature_fraction is set=0.758216942819566, colsample_bytree=0.5789661149466135 will be ignored. Current value: feature_fraction=0.758216942819566\n",
      "[LightGBM] [Warning] min_data_in_leaf is set=36, min_child_samples=20 will be ignored. Current value: min_data_in_leaf=36\n",
      "[LightGBM] [Warning] bagging_fraction is set=0.8051506322332975, subsample=0.9895751685075098 will be ignored. Current value: bagging_fraction=0.8051506322332975\n",
      "[LightGBM] [Warning] lambda_l2 is set=3.874517699373239, reg_lambda=0.0 will be ignored. Current value: lambda_l2=3.874517699373239\n",
      "[LightGBM] [Warning] bagging_freq is set=1, subsample_freq=0 will be ignored. Current value: bagging_freq=1\n"
     ]
    },
    {
     "name": "stderr",
     "output_type": "stream",
     "text": [
      "[I 2023-11-14 07:31:39,243] Trial 20 finished with value: 21022.15279119192 and parameters: {'n_estimators': 398, 'lambda_l2': 3.874517699373239, 'bagging_fraction': 0.8051506322332975, 'num_leaves': 52, 'feature_fraction': 0.758216942819566, 'max_depth': 6, 'learning_rate': 0.0401471184213104, 'subsample': 0.9895751685075098, 'colsample_bytree': 0.5789661149466135, 'min_data_in_leaf': 36, 'max_bin': 451}. Best is trial 18 with value: 20722.076843490293.\n",
      "C:\\Users\\Andrew\\anaconda3\\envs\\ml_env\\lib\\site-packages\\lightgbm\\sklearn.py:736: UserWarning: 'verbose' argument is deprecated and will be removed in a future release of LightGBM. Pass 'log_evaluation()' callback via 'callbacks' argument instead.\n",
      "  _log_warning(\"'verbose' argument is deprecated and will be removed in a future release of LightGBM. \"\n"
     ]
    },
    {
     "name": "stdout",
     "output_type": "stream",
     "text": [
      "[LightGBM] [Warning] feature_fraction is set=0.7308691323051063, colsample_bytree=0.6447027402585471 will be ignored. Current value: feature_fraction=0.7308691323051063\n",
      "[LightGBM] [Warning] min_data_in_leaf is set=45, min_child_samples=20 will be ignored. Current value: min_data_in_leaf=45\n",
      "[LightGBM] [Warning] bagging_fraction is set=0.998792804923533, subsample=0.6263682884177106 will be ignored. Current value: bagging_fraction=0.998792804923533\n",
      "[LightGBM] [Warning] lambda_l2 is set=5.874679313008398, reg_lambda=0.0 will be ignored. Current value: lambda_l2=5.874679313008398\n",
      "[LightGBM] [Warning] bagging_freq is set=1, subsample_freq=0 will be ignored. Current value: bagging_freq=1\n"
     ]
    },
    {
     "name": "stderr",
     "output_type": "stream",
     "text": [
      "[I 2023-11-14 07:31:40,250] Trial 21 finished with value: 21004.367756486874 and parameters: {'n_estimators': 270, 'lambda_l2': 5.874679313008398, 'bagging_fraction': 0.998792804923533, 'num_leaves': 91, 'feature_fraction': 0.7308691323051063, 'max_depth': 9, 'learning_rate': 0.05756927827892542, 'subsample': 0.6263682884177106, 'colsample_bytree': 0.6447027402585471, 'min_data_in_leaf': 45, 'max_bin': 373}. Best is trial 18 with value: 20722.076843490293.\n",
      "C:\\Users\\Andrew\\anaconda3\\envs\\ml_env\\lib\\site-packages\\lightgbm\\sklearn.py:736: UserWarning: 'verbose' argument is deprecated and will be removed in a future release of LightGBM. Pass 'log_evaluation()' callback via 'callbacks' argument instead.\n",
      "  _log_warning(\"'verbose' argument is deprecated and will be removed in a future release of LightGBM. \"\n"
     ]
    },
    {
     "name": "stdout",
     "output_type": "stream",
     "text": [
      "[LightGBM] [Warning] feature_fraction is set=0.6770596841594216, colsample_bytree=0.7757397443017251 will be ignored. Current value: feature_fraction=0.6770596841594216\n",
      "[LightGBM] [Warning] min_data_in_leaf is set=45, min_child_samples=20 will be ignored. Current value: min_data_in_leaf=45\n",
      "[LightGBM] [Warning] bagging_fraction is set=0.9424961332130355, subsample=0.46056871829217355 will be ignored. Current value: bagging_fraction=0.9424961332130355\n",
      "[LightGBM] [Warning] lambda_l2 is set=6.760171794712744, reg_lambda=0.0 will be ignored. Current value: lambda_l2=6.760171794712744\n",
      "[LightGBM] [Warning] bagging_freq is set=1, subsample_freq=0 will be ignored. Current value: bagging_freq=1\n"
     ]
    },
    {
     "name": "stderr",
     "output_type": "stream",
     "text": [
      "[I 2023-11-14 07:31:41,320] Trial 22 finished with value: 20801.187811608852 and parameters: {'n_estimators': 333, 'lambda_l2': 6.760171794712744, 'bagging_fraction': 0.9424961332130355, 'num_leaves': 127, 'feature_fraction': 0.6770596841594216, 'max_depth': 8, 'learning_rate': 0.09542680606663868, 'subsample': 0.46056871829217355, 'colsample_bytree': 0.7757397443017251, 'min_data_in_leaf': 45, 'max_bin': 433}. Best is trial 18 with value: 20722.076843490293.\n",
      "C:\\Users\\Andrew\\anaconda3\\envs\\ml_env\\lib\\site-packages\\lightgbm\\sklearn.py:736: UserWarning: 'verbose' argument is deprecated and will be removed in a future release of LightGBM. Pass 'log_evaluation()' callback via 'callbacks' argument instead.\n",
      "  _log_warning(\"'verbose' argument is deprecated and will be removed in a future release of LightGBM. \"\n"
     ]
    },
    {
     "name": "stdout",
     "output_type": "stream",
     "text": [
      "[LightGBM] [Warning] feature_fraction is set=0.6557166896816166, colsample_bytree=0.8002489866973161 will be ignored. Current value: feature_fraction=0.6557166896816166\n",
      "[LightGBM] [Warning] min_data_in_leaf is set=40, min_child_samples=20 will be ignored. Current value: min_data_in_leaf=40\n",
      "[LightGBM] [Warning] bagging_fraction is set=0.9396217641545889, subsample=0.4833763100446039 will be ignored. Current value: bagging_fraction=0.9396217641545889\n",
      "[LightGBM] [Warning] lambda_l2 is set=6.928182522029999, reg_lambda=0.0 will be ignored. Current value: lambda_l2=6.928182522029999\n",
      "[LightGBM] [Warning] bagging_freq is set=1, subsample_freq=0 will be ignored. Current value: bagging_freq=1\n"
     ]
    },
    {
     "name": "stderr",
     "output_type": "stream",
     "text": [
      "[I 2023-11-14 07:31:42,336] Trial 23 finished with value: 20900.70006565716 and parameters: {'n_estimators': 341, 'lambda_l2': 6.928182522029999, 'bagging_fraction': 0.9396217641545889, 'num_leaves': 107, 'feature_fraction': 0.6557166896816166, 'max_depth': 8, 'learning_rate': 0.08549385000041318, 'subsample': 0.4833763100446039, 'colsample_bytree': 0.8002489866973161, 'min_data_in_leaf': 40, 'max_bin': 477}. Best is trial 18 with value: 20722.076843490293.\n",
      "C:\\Users\\Andrew\\anaconda3\\envs\\ml_env\\lib\\site-packages\\lightgbm\\sklearn.py:736: UserWarning: 'verbose' argument is deprecated and will be removed in a future release of LightGBM. Pass 'log_evaluation()' callback via 'callbacks' argument instead.\n",
      "  _log_warning(\"'verbose' argument is deprecated and will be removed in a future release of LightGBM. \"\n"
     ]
    },
    {
     "name": "stdout",
     "output_type": "stream",
     "text": [
      "[LightGBM] [Warning] feature_fraction is set=0.6566189570566301, colsample_bytree=0.7633731474155004 will be ignored. Current value: feature_fraction=0.6566189570566301\n",
      "[LightGBM] [Warning] min_data_in_leaf is set=45, min_child_samples=20 will be ignored. Current value: min_data_in_leaf=45\n",
      "[LightGBM] [Warning] bagging_fraction is set=0.9054066436335155, subsample=0.6808696503811537 will be ignored. Current value: bagging_fraction=0.9054066436335155\n",
      "[LightGBM] [Warning] lambda_l2 is set=5.137856718465101, reg_lambda=0.0 will be ignored. Current value: lambda_l2=5.137856718465101\n",
      "[LightGBM] [Warning] bagging_freq is set=1, subsample_freq=0 will be ignored. Current value: bagging_freq=1\n"
     ]
    },
    {
     "name": "stderr",
     "output_type": "stream",
     "text": [
      "[I 2023-11-14 07:31:43,337] Trial 24 finished with value: 20896.6718486086 and parameters: {'n_estimators': 315, 'lambda_l2': 5.137856718465101, 'bagging_fraction': 0.9054066436335155, 'num_leaves': 75, 'feature_fraction': 0.6566189570566301, 'max_depth': 8, 'learning_rate': 0.09946243598259172, 'subsample': 0.6808696503811537, 'colsample_bytree': 0.7633731474155004, 'min_data_in_leaf': 45, 'max_bin': 502}. Best is trial 18 with value: 20722.076843490293.\n",
      "C:\\Users\\Andrew\\anaconda3\\envs\\ml_env\\lib\\site-packages\\lightgbm\\sklearn.py:736: UserWarning: 'verbose' argument is deprecated and will be removed in a future release of LightGBM. Pass 'log_evaluation()' callback via 'callbacks' argument instead.\n",
      "  _log_warning(\"'verbose' argument is deprecated and will be removed in a future release of LightGBM. \"\n"
     ]
    },
    {
     "name": "stdout",
     "output_type": "stream",
     "text": [
      "[LightGBM] [Warning] feature_fraction is set=0.7843598184855093, colsample_bytree=0.8833479746334376 will be ignored. Current value: feature_fraction=0.7843598184855093\n",
      "[LightGBM] [Warning] min_data_in_leaf is set=33, min_child_samples=20 will be ignored. Current value: min_data_in_leaf=33\n",
      "[LightGBM] [Warning] bagging_fraction is set=0.950775676690197, subsample=0.8018786594110747 will be ignored. Current value: bagging_fraction=0.950775676690197\n",
      "[LightGBM] [Warning] lambda_l2 is set=7.355157381208357, reg_lambda=0.0 will be ignored. Current value: lambda_l2=7.355157381208357\n",
      "[LightGBM] [Warning] bagging_freq is set=1, subsample_freq=0 will be ignored. Current value: bagging_freq=1\n"
     ]
    },
    {
     "name": "stderr",
     "output_type": "stream",
     "text": [
      "[I 2023-11-14 07:31:44,568] Trial 25 finished with value: 20740.190040469242 and parameters: {'n_estimators': 363, 'lambda_l2': 7.355157381208357, 'bagging_fraction': 0.950775676690197, 'num_leaves': 128, 'feature_fraction': 0.7843598184855093, 'max_depth': 8, 'learning_rate': 0.05643668723454852, 'subsample': 0.8018786594110747, 'colsample_bytree': 0.8833479746334376, 'min_data_in_leaf': 33, 'max_bin': 443}. Best is trial 18 with value: 20722.076843490293.\n",
      "C:\\Users\\Andrew\\anaconda3\\envs\\ml_env\\lib\\site-packages\\lightgbm\\sklearn.py:736: UserWarning: 'verbose' argument is deprecated and will be removed in a future release of LightGBM. Pass 'log_evaluation()' callback via 'callbacks' argument instead.\n",
      "  _log_warning(\"'verbose' argument is deprecated and will be removed in a future release of LightGBM. \"\n"
     ]
    },
    {
     "name": "stdout",
     "output_type": "stream",
     "text": [
      "[LightGBM] [Warning] feature_fraction is set=0.7877585355820038, colsample_bytree=0.900175004147864 will be ignored. Current value: feature_fraction=0.7877585355820038\n",
      "[LightGBM] [Warning] min_data_in_leaf is set=23, min_child_samples=20 will be ignored. Current value: min_data_in_leaf=23\n",
      "[LightGBM] [Warning] bagging_fraction is set=0.8776671545751851, subsample=0.7757780177629531 will be ignored. Current value: bagging_fraction=0.8776671545751851\n",
      "[LightGBM] [Warning] lambda_l2 is set=7.256512314042869, reg_lambda=0.0 will be ignored. Current value: lambda_l2=7.256512314042869\n",
      "[LightGBM] [Warning] bagging_freq is set=1, subsample_freq=0 will be ignored. Current value: bagging_freq=1\n"
     ]
    },
    {
     "name": "stderr",
     "output_type": "stream",
     "text": [
      "[I 2023-11-14 07:31:45,686] Trial 26 finished with value: 20752.997813817627 and parameters: {'n_estimators': 404, 'lambda_l2': 7.256512314042869, 'bagging_fraction': 0.8776671545751851, 'num_leaves': 134, 'feature_fraction': 0.7877585355820038, 'max_depth': 6, 'learning_rate': 0.03997149961838273, 'subsample': 0.7757780177629531, 'colsample_bytree': 0.900175004147864, 'min_data_in_leaf': 23, 'max_bin': 448}. Best is trial 18 with value: 20722.076843490293.\n",
      "C:\\Users\\Andrew\\anaconda3\\envs\\ml_env\\lib\\site-packages\\lightgbm\\sklearn.py:736: UserWarning: 'verbose' argument is deprecated and will be removed in a future release of LightGBM. Pass 'log_evaluation()' callback via 'callbacks' argument instead.\n",
      "  _log_warning(\"'verbose' argument is deprecated and will be removed in a future release of LightGBM. \"\n"
     ]
    },
    {
     "name": "stdout",
     "output_type": "stream",
     "text": [
      "[LightGBM] [Warning] feature_fraction is set=0.7922642404181414, colsample_bytree=0.8800769780297455 will be ignored. Current value: feature_fraction=0.7922642404181414\n",
      "[LightGBM] [Warning] min_data_in_leaf is set=21, min_child_samples=20 will be ignored. Current value: min_data_in_leaf=21\n",
      "[LightGBM] [Warning] bagging_fraction is set=0.8911038324503603, subsample=0.8042243690546326 will be ignored. Current value: bagging_fraction=0.8911038324503603\n",
      "[LightGBM] [Warning] lambda_l2 is set=9.200392717568763, reg_lambda=0.0 will be ignored. Current value: lambda_l2=9.200392717568763\n",
      "[LightGBM] [Warning] bagging_freq is set=1, subsample_freq=0 will be ignored. Current value: bagging_freq=1\n"
     ]
    },
    {
     "name": "stderr",
     "output_type": "stream",
     "text": [
      "[I 2023-11-14 07:31:46,947] Trial 27 finished with value: 20924.678703817994 and parameters: {'n_estimators': 427, 'lambda_l2': 9.200392717568763, 'bagging_fraction': 0.8911038324503603, 'num_leaves': 161, 'feature_fraction': 0.7922642404181414, 'max_depth': 6, 'learning_rate': 0.039575862903150426, 'subsample': 0.8042243690546326, 'colsample_bytree': 0.8800769780297455, 'min_data_in_leaf': 21, 'max_bin': 465}. Best is trial 18 with value: 20722.076843490293.\n",
      "C:\\Users\\Andrew\\anaconda3\\envs\\ml_env\\lib\\site-packages\\lightgbm\\sklearn.py:736: UserWarning: 'verbose' argument is deprecated and will be removed in a future release of LightGBM. Pass 'log_evaluation()' callback via 'callbacks' argument instead.\n",
      "  _log_warning(\"'verbose' argument is deprecated and will be removed in a future release of LightGBM. \"\n"
     ]
    },
    {
     "name": "stdout",
     "output_type": "stream",
     "text": [
      "[LightGBM] [Warning] feature_fraction is set=0.8881899444317395, colsample_bytree=0.9069873211722685 will be ignored. Current value: feature_fraction=0.8881899444317395\n",
      "[LightGBM] [Warning] min_data_in_leaf is set=23, min_child_samples=20 will be ignored. Current value: min_data_in_leaf=23\n",
      "[LightGBM] [Warning] bagging_fraction is set=0.8800352040820967, subsample=0.8266143448253574 will be ignored. Current value: bagging_fraction=0.8800352040820967\n",
      "[LightGBM] [Warning] lambda_l2 is set=9.938163023493777, reg_lambda=0.0 will be ignored. Current value: lambda_l2=9.938163023493777\n",
      "[LightGBM] [Warning] bagging_freq is set=1, subsample_freq=0 will be ignored. Current value: bagging_freq=1\n"
     ]
    },
    {
     "name": "stderr",
     "output_type": "stream",
     "text": [
      "[I 2023-11-14 07:31:47,903] Trial 28 finished with value: 21236.36947921729 and parameters: {'n_estimators': 366, 'lambda_l2': 9.938163023493777, 'bagging_fraction': 0.8800352040820967, 'num_leaves': 172, 'feature_fraction': 0.8881899444317395, 'max_depth': 5, 'learning_rate': 0.02721177499411083, 'subsample': 0.8266143448253574, 'colsample_bytree': 0.9069873211722685, 'min_data_in_leaf': 23, 'max_bin': 387}. Best is trial 18 with value: 20722.076843490293.\n",
      "C:\\Users\\Andrew\\anaconda3\\envs\\ml_env\\lib\\site-packages\\lightgbm\\sklearn.py:736: UserWarning: 'verbose' argument is deprecated and will be removed in a future release of LightGBM. Pass 'log_evaluation()' callback via 'callbacks' argument instead.\n",
      "  _log_warning(\"'verbose' argument is deprecated and will be removed in a future release of LightGBM. \"\n"
     ]
    },
    {
     "name": "stdout",
     "output_type": "stream",
     "text": [
      "[LightGBM] [Warning] feature_fraction is set=0.7885987797635813, colsample_bytree=0.967863172250606 will be ignored. Current value: feature_fraction=0.7885987797635813\n",
      "[LightGBM] [Warning] min_data_in_leaf is set=27, min_child_samples=20 will be ignored. Current value: min_data_in_leaf=27\n",
      "[LightGBM] [Warning] bagging_fraction is set=0.8974969861998628, subsample=0.7696314199708657 will be ignored. Current value: bagging_fraction=0.8974969861998628\n",
      "[LightGBM] [Warning] lambda_l2 is set=7.803819039024265, reg_lambda=0.0 will be ignored. Current value: lambda_l2=7.803819039024265\n",
      "[LightGBM] [Warning] bagging_freq is set=1, subsample_freq=0 will be ignored. Current value: bagging_freq=1\n"
     ]
    },
    {
     "name": "stderr",
     "output_type": "stream",
     "text": [
      "[I 2023-11-14 07:31:49,011] Trial 29 finished with value: 21383.931062844327 and parameters: {'n_estimators': 428, 'lambda_l2': 7.803819039024265, 'bagging_fraction': 0.8974969861998628, 'num_leaves': 204, 'feature_fraction': 0.7885987797635813, 'max_depth': 5, 'learning_rate': 0.01862919125723396, 'subsample': 0.7696314199708657, 'colsample_bytree': 0.967863172250606, 'min_data_in_leaf': 27, 'max_bin': 336}. Best is trial 18 with value: 20722.076843490293.\n",
      "C:\\Users\\Andrew\\anaconda3\\envs\\ml_env\\lib\\site-packages\\lightgbm\\sklearn.py:736: UserWarning: 'verbose' argument is deprecated and will be removed in a future release of LightGBM. Pass 'log_evaluation()' callback via 'callbacks' argument instead.\n",
      "  _log_warning(\"'verbose' argument is deprecated and will be removed in a future release of LightGBM. \"\n"
     ]
    },
    {
     "name": "stdout",
     "output_type": "stream",
     "text": [
      "[LightGBM] [Warning] feature_fraction is set=0.7416956216605692, colsample_bytree=0.8823210597910643 will be ignored. Current value: feature_fraction=0.7416956216605692\n",
      "[LightGBM] [Warning] min_data_in_leaf is set=33, min_child_samples=20 will be ignored. Current value: min_data_in_leaf=33\n",
      "[LightGBM] [Warning] bagging_fraction is set=0.8410846154188082, subsample=0.8823733452231173 will be ignored. Current value: bagging_fraction=0.8410846154188082\n",
      "[LightGBM] [Warning] lambda_l2 is set=7.580831171668521, reg_lambda=0.0 will be ignored. Current value: lambda_l2=7.580831171668521\n",
      "[LightGBM] [Warning] bagging_freq is set=1, subsample_freq=0 will be ignored. Current value: bagging_freq=1\n"
     ]
    },
    {
     "name": "stderr",
     "output_type": "stream",
     "text": [
      "[I 2023-11-14 07:31:49,962] Trial 30 finished with value: 21011.570498744262 and parameters: {'n_estimators': 377, 'lambda_l2': 7.580831171668521, 'bagging_fraction': 0.8410846154188082, 'num_leaves': 138, 'feature_fraction': 0.7416956216605692, 'max_depth': 6, 'learning_rate': 0.041541007703935935, 'subsample': 0.8823733452231173, 'colsample_bytree': 0.8823210597910643, 'min_data_in_leaf': 33, 'max_bin': 508}. Best is trial 18 with value: 20722.076843490293.\n",
      "C:\\Users\\Andrew\\anaconda3\\envs\\ml_env\\lib\\site-packages\\lightgbm\\sklearn.py:736: UserWarning: 'verbose' argument is deprecated and will be removed in a future release of LightGBM. Pass 'log_evaluation()' callback via 'callbacks' argument instead.\n",
      "  _log_warning(\"'verbose' argument is deprecated and will be removed in a future release of LightGBM. \"\n"
     ]
    },
    {
     "name": "stdout",
     "output_type": "stream",
     "text": [
      "[LightGBM] [Warning] feature_fraction is set=0.7723118773193522, colsample_bytree=0.7694546374180755 will be ignored. Current value: feature_fraction=0.7723118773193522\n",
      "[LightGBM] [Warning] min_data_in_leaf is set=24, min_child_samples=20 will be ignored. Current value: min_data_in_leaf=24\n",
      "[LightGBM] [Warning] bagging_fraction is set=0.9482242878480441, subsample=0.7355699497777166 will be ignored. Current value: bagging_fraction=0.9482242878480441\n",
      "[LightGBM] [Warning] lambda_l2 is set=7.262062885253217, reg_lambda=0.0 will be ignored. Current value: lambda_l2=7.262062885253217\n",
      "[LightGBM] [Warning] bagging_freq is set=1, subsample_freq=0 will be ignored. Current value: bagging_freq=1\n"
     ]
    },
    {
     "name": "stderr",
     "output_type": "stream",
     "text": [
      "[I 2023-11-14 07:31:51,155] Trial 31 finished with value: 20790.52495197941 and parameters: {'n_estimators': 296, 'lambda_l2': 7.262062885253217, 'bagging_fraction': 0.9482242878480441, 'num_leaves': 126, 'feature_fraction': 0.7723118773193522, 'max_depth': 8, 'learning_rate': 0.06718918734118746, 'subsample': 0.7355699497777166, 'colsample_bytree': 0.7694546374180755, 'min_data_in_leaf': 24, 'max_bin': 441}. Best is trial 18 with value: 20722.076843490293.\n",
      "C:\\Users\\Andrew\\anaconda3\\envs\\ml_env\\lib\\site-packages\\lightgbm\\sklearn.py:736: UserWarning: 'verbose' argument is deprecated and will be removed in a future release of LightGBM. Pass 'log_evaluation()' callback via 'callbacks' argument instead.\n",
      "  _log_warning(\"'verbose' argument is deprecated and will be removed in a future release of LightGBM. \"\n"
     ]
    },
    {
     "name": "stdout",
     "output_type": "stream",
     "text": [
      "[LightGBM] [Warning] feature_fraction is set=0.786290423123992, colsample_bytree=0.7487530049049652 will be ignored. Current value: feature_fraction=0.786290423123992\n",
      "[LightGBM] [Warning] min_data_in_leaf is set=28, min_child_samples=20 will be ignored. Current value: min_data_in_leaf=28\n",
      "[LightGBM] [Warning] bagging_fraction is set=0.94591533187947, subsample=0.7694152645472763 will be ignored. Current value: bagging_fraction=0.94591533187947\n",
      "[LightGBM] [Warning] lambda_l2 is set=8.495445821118608, reg_lambda=0.0 will be ignored. Current value: lambda_l2=8.495445821118608\n",
      "[LightGBM] [Warning] bagging_freq is set=1, subsample_freq=0 will be ignored. Current value: bagging_freq=1\n"
     ]
    },
    {
     "name": "stderr",
     "output_type": "stream",
     "text": [
      "[I 2023-11-14 07:31:52,265] Trial 32 finished with value: 20800.994255674366 and parameters: {'n_estimators': 302, 'lambda_l2': 8.495445821118608, 'bagging_fraction': 0.94591533187947, 'num_leaves': 122, 'feature_fraction': 0.786290423123992, 'max_depth': 8, 'learning_rate': 0.06203356851056371, 'subsample': 0.7694152645472763, 'colsample_bytree': 0.7487530049049652, 'min_data_in_leaf': 28, 'max_bin': 468}. Best is trial 18 with value: 20722.076843490293.\n",
      "C:\\Users\\Andrew\\anaconda3\\envs\\ml_env\\lib\\site-packages\\lightgbm\\sklearn.py:736: UserWarning: 'verbose' argument is deprecated and will be removed in a future release of LightGBM. Pass 'log_evaluation()' callback via 'callbacks' argument instead.\n",
      "  _log_warning(\"'verbose' argument is deprecated and will be removed in a future release of LightGBM. \"\n"
     ]
    },
    {
     "name": "stdout",
     "output_type": "stream",
     "text": [
      "[LightGBM] [Warning] feature_fraction is set=0.7659164929338254, colsample_bytree=0.8879620011757393 will be ignored. Current value: feature_fraction=0.7659164929338254\n",
      "[LightGBM] [Warning] min_data_in_leaf is set=16, min_child_samples=20 will be ignored. Current value: min_data_in_leaf=16\n",
      "[LightGBM] [Warning] bagging_fraction is set=0.9037758934897409, subsample=0.7023410154529746 will be ignored. Current value: bagging_fraction=0.9037758934897409\n",
      "[LightGBM] [Warning] lambda_l2 is set=7.435030830729543, reg_lambda=0.0 will be ignored. Current value: lambda_l2=7.435030830729543\n",
      "[LightGBM] [Warning] bagging_freq is set=1, subsample_freq=0 will be ignored. Current value: bagging_freq=1\n"
     ]
    },
    {
     "name": "stderr",
     "output_type": "stream",
     "text": [
      "[I 2023-11-14 07:31:53,732] Trial 33 finished with value: 20538.4371109275 and parameters: {'n_estimators': 418, 'lambda_l2': 7.435030830729543, 'bagging_fraction': 0.9037758934897409, 'num_leaves': 66, 'feature_fraction': 0.7659164929338254, 'max_depth': 7, 'learning_rate': 0.04576392888467908, 'subsample': 0.7023410154529746, 'colsample_bytree': 0.8879620011757393, 'min_data_in_leaf': 16, 'max_bin': 436}. Best is trial 33 with value: 20538.4371109275.\n",
      "C:\\Users\\Andrew\\anaconda3\\envs\\ml_env\\lib\\site-packages\\lightgbm\\sklearn.py:736: UserWarning: 'verbose' argument is deprecated and will be removed in a future release of LightGBM. Pass 'log_evaluation()' callback via 'callbacks' argument instead.\n",
      "  _log_warning(\"'verbose' argument is deprecated and will be removed in a future release of LightGBM. \"\n"
     ]
    },
    {
     "name": "stdout",
     "output_type": "stream",
     "text": [
      "[LightGBM] [Warning] feature_fraction is set=0.819243765568467, colsample_bytree=0.9182743205074554 will be ignored. Current value: feature_fraction=0.819243765568467\n",
      "[LightGBM] [Warning] min_data_in_leaf is set=17, min_child_samples=20 will be ignored. Current value: min_data_in_leaf=17\n",
      "[LightGBM] [Warning] bagging_fraction is set=0.9113811193647994, subsample=0.6909922862944146 will be ignored. Current value: bagging_fraction=0.9113811193647994\n",
      "[LightGBM] [Warning] lambda_l2 is set=8.030670955337158, reg_lambda=0.0 will be ignored. Current value: lambda_l2=8.030670955337158\n",
      "[LightGBM] [Warning] bagging_freq is set=1, subsample_freq=0 will be ignored. Current value: bagging_freq=1\n"
     ]
    },
    {
     "name": "stderr",
     "output_type": "stream",
     "text": [
      "[I 2023-11-14 07:31:55,510] Trial 34 finished with value: 20738.136376434544 and parameters: {'n_estimators': 497, 'lambda_l2': 8.030670955337158, 'bagging_fraction': 0.9113811193647994, 'num_leaves': 66, 'feature_fraction': 0.819243765568467, 'max_depth': 7, 'learning_rate': 0.030249855313549248, 'subsample': 0.6909922862944146, 'colsample_bytree': 0.9182743205074554, 'min_data_in_leaf': 17, 'max_bin': 483}. Best is trial 33 with value: 20538.4371109275.\n",
      "C:\\Users\\Andrew\\anaconda3\\envs\\ml_env\\lib\\site-packages\\lightgbm\\sklearn.py:736: UserWarning: 'verbose' argument is deprecated and will be removed in a future release of LightGBM. Pass 'log_evaluation()' callback via 'callbacks' argument instead.\n",
      "  _log_warning(\"'verbose' argument is deprecated and will be removed in a future release of LightGBM. \"\n"
     ]
    },
    {
     "name": "stdout",
     "output_type": "stream",
     "text": [
      "[LightGBM] [Warning] feature_fraction is set=0.8271708441150257, colsample_bytree=0.963398940350374 will be ignored. Current value: feature_fraction=0.8271708441150257\n",
      "[LightGBM] [Warning] min_data_in_leaf is set=16, min_child_samples=20 will be ignored. Current value: min_data_in_leaf=16\n",
      "[LightGBM] [Warning] bagging_fraction is set=0.9190067887341327, subsample=0.6894477124650567 will be ignored. Current value: bagging_fraction=0.9190067887341327\n",
      "[LightGBM] [Warning] lambda_l2 is set=8.133955447639527, reg_lambda=0.0 will be ignored. Current value: lambda_l2=8.133955447639527\n",
      "[LightGBM] [Warning] bagging_freq is set=1, subsample_freq=0 will be ignored. Current value: bagging_freq=1\n"
     ]
    },
    {
     "name": "stderr",
     "output_type": "stream",
     "text": [
      "[I 2023-11-14 07:31:57,185] Trial 35 finished with value: 20946.60418138506 and parameters: {'n_estimators': 445, 'lambda_l2': 8.133955447639527, 'bagging_fraction': 0.9190067887341327, 'num_leaves': 30, 'feature_fraction': 0.8271708441150257, 'max_depth': 7, 'learning_rate': 0.023755818200823325, 'subsample': 0.6894477124650567, 'colsample_bytree': 0.963398940350374, 'min_data_in_leaf': 16, 'max_bin': 483}. Best is trial 33 with value: 20538.4371109275.\n",
      "C:\\Users\\Andrew\\anaconda3\\envs\\ml_env\\lib\\site-packages\\lightgbm\\sklearn.py:736: UserWarning: 'verbose' argument is deprecated and will be removed in a future release of LightGBM. Pass 'log_evaluation()' callback via 'callbacks' argument instead.\n",
      "  _log_warning(\"'verbose' argument is deprecated and will be removed in a future release of LightGBM. \"\n"
     ]
    },
    {
     "name": "stdout",
     "output_type": "stream",
     "text": [
      "[LightGBM] [Warning] feature_fraction is set=0.8208352381370674, colsample_bytree=0.9891475516872527 will be ignored. Current value: feature_fraction=0.8208352381370674\n",
      "[LightGBM] [Warning] min_data_in_leaf is set=16, min_child_samples=20 will be ignored. Current value: min_data_in_leaf=16\n",
      "[LightGBM] [Warning] bagging_fraction is set=0.9108190713445593, subsample=0.7251169328279444 will be ignored. Current value: bagging_fraction=0.9108190713445593\n",
      "[LightGBM] [Warning] lambda_l2 is set=0.36978134386024575, reg_lambda=0.0 will be ignored. Current value: lambda_l2=0.36978134386024575\n",
      "[LightGBM] [Warning] bagging_freq is set=1, subsample_freq=0 will be ignored. Current value: bagging_freq=1\n"
     ]
    },
    {
     "name": "stderr",
     "output_type": "stream",
     "text": [
      "[I 2023-11-14 07:31:59,070] Trial 36 finished with value: 20409.385783453577 and parameters: {'n_estimators': 500, 'lambda_l2': 0.36978134386024575, 'bagging_fraction': 0.9108190713445593, 'num_leaves': 63, 'feature_fraction': 0.8208352381370674, 'max_depth': 7, 'learning_rate': 0.04551941496086245, 'subsample': 0.7251169328279444, 'colsample_bytree': 0.9891475516872527, 'min_data_in_leaf': 16, 'max_bin': 487}. Best is trial 36 with value: 20409.385783453577.\n",
      "C:\\Users\\Andrew\\anaconda3\\envs\\ml_env\\lib\\site-packages\\lightgbm\\sklearn.py:736: UserWarning: 'verbose' argument is deprecated and will be removed in a future release of LightGBM. Pass 'log_evaluation()' callback via 'callbacks' argument instead.\n",
      "  _log_warning(\"'verbose' argument is deprecated and will be removed in a future release of LightGBM. \"\n"
     ]
    },
    {
     "name": "stdout",
     "output_type": "stream",
     "text": [
      "[LightGBM] [Warning] feature_fraction is set=0.8154331523275354, colsample_bytree=0.9842023643839034 will be ignored. Current value: feature_fraction=0.8154331523275354\n",
      "[LightGBM] [Warning] min_data_in_leaf is set=10, min_child_samples=20 will be ignored. Current value: min_data_in_leaf=10\n",
      "[LightGBM] [Warning] bagging_fraction is set=0.8947176714417903, subsample=0.7008201474718564 will be ignored. Current value: bagging_fraction=0.8947176714417903\n",
      "[LightGBM] [Warning] lambda_l2 is set=0.5292877689906464, reg_lambda=0.0 will be ignored. Current value: lambda_l2=0.5292877689906464\n",
      "[LightGBM] [Warning] bagging_freq is set=1, subsample_freq=0 will be ignored. Current value: bagging_freq=1\n"
     ]
    },
    {
     "name": "stderr",
     "output_type": "stream",
     "text": [
      "[I 2023-11-14 07:32:01,540] Trial 37 finished with value: 20454.41489195716 and parameters: {'n_estimators': 494, 'lambda_l2': 0.5292877689906464, 'bagging_fraction': 0.8947176714417903, 'num_leaves': 61, 'feature_fraction': 0.8154331523275354, 'max_depth': 7, 'learning_rate': 0.017184767843523477, 'subsample': 0.7008201474718564, 'colsample_bytree': 0.9842023643839034, 'min_data_in_leaf': 10, 'max_bin': 493}. Best is trial 36 with value: 20409.385783453577.\n",
      "C:\\Users\\Andrew\\anaconda3\\envs\\ml_env\\lib\\site-packages\\lightgbm\\sklearn.py:736: UserWarning: 'verbose' argument is deprecated and will be removed in a future release of LightGBM. Pass 'log_evaluation()' callback via 'callbacks' argument instead.\n",
      "  _log_warning(\"'verbose' argument is deprecated and will be removed in a future release of LightGBM. \"\n"
     ]
    },
    {
     "name": "stdout",
     "output_type": "stream",
     "text": [
      "[LightGBM] [Warning] feature_fraction is set=0.8599237288339391, colsample_bytree=0.9803043408795488 will be ignored. Current value: feature_fraction=0.8599237288339391\n",
      "[LightGBM] [Warning] min_data_in_leaf is set=11, min_child_samples=20 will be ignored. Current value: min_data_in_leaf=11\n",
      "[LightGBM] [Warning] bagging_fraction is set=0.8851595090745688, subsample=0.7445590898649979 will be ignored. Current value: bagging_fraction=0.8851595090745688\n",
      "[LightGBM] [Warning] lambda_l2 is set=0.14345401076756137, reg_lambda=0.0 will be ignored. Current value: lambda_l2=0.14345401076756137\n",
      "[LightGBM] [Warning] bagging_freq is set=1, subsample_freq=0 will be ignored. Current value: bagging_freq=1\n"
     ]
    },
    {
     "name": "stderr",
     "output_type": "stream",
     "text": [
      "[I 2023-11-14 07:32:03,606] Trial 38 finished with value: 20862.441021175062 and parameters: {'n_estimators': 488, 'lambda_l2': 0.14345401076756137, 'bagging_fraction': 0.8851595090745688, 'num_leaves': 28, 'feature_fraction': 0.8599237288339391, 'max_depth': 7, 'learning_rate': 0.018142054441520755, 'subsample': 0.7445590898649979, 'colsample_bytree': 0.9803043408795488, 'min_data_in_leaf': 11, 'max_bin': 509}. Best is trial 36 with value: 20409.385783453577.\n",
      "C:\\Users\\Andrew\\anaconda3\\envs\\ml_env\\lib\\site-packages\\lightgbm\\sklearn.py:736: UserWarning: 'verbose' argument is deprecated and will be removed in a future release of LightGBM. Pass 'log_evaluation()' callback via 'callbacks' argument instead.\n",
      "  _log_warning(\"'verbose' argument is deprecated and will be removed in a future release of LightGBM. \"\n"
     ]
    },
    {
     "name": "stdout",
     "output_type": "stream",
     "text": [
      "[LightGBM] [Warning] feature_fraction is set=0.7312135239900456, colsample_bytree=0.994221239197006 will be ignored. Current value: feature_fraction=0.7312135239900456\n",
      "[LightGBM] [Warning] min_data_in_leaf is set=13, min_child_samples=20 will be ignored. Current value: min_data_in_leaf=13\n",
      "[LightGBM] [Warning] bagging_fraction is set=0.8653361963527634, subsample=0.7064798117425111 will be ignored. Current value: bagging_fraction=0.8653361963527634\n",
      "[LightGBM] [Warning] lambda_l2 is set=0.9952722504592546, reg_lambda=0.0 will be ignored. Current value: lambda_l2=0.9952722504592546\n",
      "[LightGBM] [Warning] bagging_freq is set=1, subsample_freq=0 will be ignored. Current value: bagging_freq=1\n"
     ]
    },
    {
     "name": "stderr",
     "output_type": "stream",
     "text": [
      "[I 2023-11-14 07:32:05,309] Trial 39 finished with value: 20871.530427558162 and parameters: {'n_estimators': 451, 'lambda_l2': 0.9952722504592546, 'bagging_fraction': 0.8653361963527634, 'num_leaves': 32, 'feature_fraction': 0.7312135239900456, 'max_depth': 7, 'learning_rate': 0.014616380392246935, 'subsample': 0.7064798117425111, 'colsample_bytree': 0.994221239197006, 'min_data_in_leaf': 13, 'max_bin': 250}. Best is trial 36 with value: 20409.385783453577.\n",
      "C:\\Users\\Andrew\\anaconda3\\envs\\ml_env\\lib\\site-packages\\lightgbm\\sklearn.py:736: UserWarning: 'verbose' argument is deprecated and will be removed in a future release of LightGBM. Pass 'log_evaluation()' callback via 'callbacks' argument instead.\n",
      "  _log_warning(\"'verbose' argument is deprecated and will be removed in a future release of LightGBM. \"\n"
     ]
    },
    {
     "name": "stdout",
     "output_type": "stream",
     "text": [
      "[LightGBM] [Warning] feature_fraction is set=0.9193637091919792, colsample_bytree=0.8428318493705919 will be ignored. Current value: feature_fraction=0.9193637091919792\n",
      "[LightGBM] [Warning] min_data_in_leaf is set=14, min_child_samples=20 will be ignored. Current value: min_data_in_leaf=14\n",
      "[LightGBM] [Warning] bagging_fraction is set=0.8366145858177257, subsample=0.8572490964122409 will be ignored. Current value: bagging_fraction=0.8366145858177257\n",
      "[LightGBM] [Warning] lambda_l2 is set=2.3327270661371347, reg_lambda=0.0 will be ignored. Current value: lambda_l2=2.3327270661371347\n",
      "[LightGBM] [Warning] bagging_freq is set=1, subsample_freq=0 will be ignored. Current value: bagging_freq=1\n"
     ]
    },
    {
     "name": "stderr",
     "output_type": "stream",
     "text": [
      "[I 2023-11-14 07:32:06,870] Trial 40 finished with value: 20660.649194327165 and parameters: {'n_estimators': 423, 'lambda_l2': 2.3327270661371347, 'bagging_fraction': 0.8366145858177257, 'num_leaves': 65, 'feature_fraction': 0.9193637091919792, 'max_depth': 7, 'learning_rate': 0.047094396113835715, 'subsample': 0.8572490964122409, 'colsample_bytree': 0.8428318493705919, 'min_data_in_leaf': 14, 'max_bin': 136}. Best is trial 36 with value: 20409.385783453577.\n",
      "C:\\Users\\Andrew\\anaconda3\\envs\\ml_env\\lib\\site-packages\\lightgbm\\sklearn.py:736: UserWarning: 'verbose' argument is deprecated and will be removed in a future release of LightGBM. Pass 'log_evaluation()' callback via 'callbacks' argument instead.\n",
      "  _log_warning(\"'verbose' argument is deprecated and will be removed in a future release of LightGBM. \"\n"
     ]
    },
    {
     "name": "stdout",
     "output_type": "stream",
     "text": [
      "[LightGBM] [Warning] feature_fraction is set=0.9060079627348612, colsample_bytree=0.8466579502340976 will be ignored. Current value: feature_fraction=0.9060079627348612\n",
      "[LightGBM] [Warning] min_data_in_leaf is set=16, min_child_samples=20 will be ignored. Current value: min_data_in_leaf=16\n",
      "[LightGBM] [Warning] bagging_fraction is set=0.8325677324629843, subsample=0.6505248981335009 will be ignored. Current value: bagging_fraction=0.8325677324629843\n",
      "[LightGBM] [Warning] lambda_l2 is set=1.9475706838854432, reg_lambda=0.0 will be ignored. Current value: lambda_l2=1.9475706838854432\n",
      "[LightGBM] [Warning] bagging_freq is set=1, subsample_freq=0 will be ignored. Current value: bagging_freq=1\n"
     ]
    },
    {
     "name": "stderr",
     "output_type": "stream",
     "text": [
      "[I 2023-11-14 07:32:08,500] Trial 41 finished with value: 20415.514568599086 and parameters: {'n_estimators': 500, 'lambda_l2': 1.9475706838854432, 'bagging_fraction': 0.8325677324629843, 'num_leaves': 62, 'feature_fraction': 0.9060079627348612, 'max_depth': 7, 'learning_rate': 0.04765725094026455, 'subsample': 0.6505248981335009, 'colsample_bytree': 0.8466579502340976, 'min_data_in_leaf': 16, 'max_bin': 227}. Best is trial 36 with value: 20409.385783453577.\n",
      "C:\\Users\\Andrew\\anaconda3\\envs\\ml_env\\lib\\site-packages\\lightgbm\\sklearn.py:736: UserWarning: 'verbose' argument is deprecated and will be removed in a future release of LightGBM. Pass 'log_evaluation()' callback via 'callbacks' argument instead.\n",
      "  _log_warning(\"'verbose' argument is deprecated and will be removed in a future release of LightGBM. \"\n"
     ]
    },
    {
     "name": "stdout",
     "output_type": "stream",
     "text": [
      "[LightGBM] [Warning] feature_fraction is set=0.911219772702199, colsample_bytree=0.9994367970374911 will be ignored. Current value: feature_fraction=0.911219772702199\n",
      "[LightGBM] [Warning] min_data_in_leaf is set=14, min_child_samples=20 will be ignored. Current value: min_data_in_leaf=14\n",
      "[LightGBM] [Warning] bagging_fraction is set=0.8368849770309594, subsample=0.8517000834829983 will be ignored. Current value: bagging_fraction=0.8368849770309594\n",
      "[LightGBM] [Warning] lambda_l2 is set=1.8378914736464813, reg_lambda=0.0 will be ignored. Current value: lambda_l2=1.8378914736464813\n",
      "[LightGBM] [Warning] bagging_freq is set=1, subsample_freq=0 will be ignored. Current value: bagging_freq=1\n"
     ]
    },
    {
     "name": "stderr",
     "output_type": "stream",
     "text": [
      "[I 2023-11-14 07:32:10,126] Trial 42 finished with value: 20684.27468843233 and parameters: {'n_estimators': 475, 'lambda_l2': 1.8378914736464813, 'bagging_fraction': 0.8368849770309594, 'num_leaves': 64, 'feature_fraction': 0.911219772702199, 'max_depth': 7, 'learning_rate': 0.04578803283345987, 'subsample': 0.8517000834829983, 'colsample_bytree': 0.9994367970374911, 'min_data_in_leaf': 14, 'max_bin': 178}. Best is trial 36 with value: 20409.385783453577.\n",
      "C:\\Users\\Andrew\\anaconda3\\envs\\ml_env\\lib\\site-packages\\lightgbm\\sklearn.py:736: UserWarning: 'verbose' argument is deprecated and will be removed in a future release of LightGBM. Pass 'log_evaluation()' callback via 'callbacks' argument instead.\n",
      "  _log_warning(\"'verbose' argument is deprecated and will be removed in a future release of LightGBM. \"\n"
     ]
    },
    {
     "name": "stdout",
     "output_type": "stream",
     "text": [
      "[LightGBM] [Warning] feature_fraction is set=0.9354834709372731, colsample_bytree=0.8587350967748866 will be ignored. Current value: feature_fraction=0.9354834709372731\n",
      "[LightGBM] [Warning] min_data_in_leaf is set=18, min_child_samples=20 will be ignored. Current value: min_data_in_leaf=18\n",
      "[LightGBM] [Warning] bagging_fraction is set=0.8040358081235719, subsample=0.5959614927282758 will be ignored. Current value: bagging_fraction=0.8040358081235719\n",
      "[LightGBM] [Warning] lambda_l2 is set=0.26914659388562445, reg_lambda=0.0 will be ignored. Current value: lambda_l2=0.26914659388562445\n",
      "[LightGBM] [Warning] bagging_freq is set=1, subsample_freq=0 will be ignored. Current value: bagging_freq=1\n"
     ]
    },
    {
     "name": "stderr",
     "output_type": "stream",
     "text": [
      "[I 2023-11-14 07:32:11,438] Trial 43 finished with value: 20780.075336775422 and parameters: {'n_estimators': 428, 'lambda_l2': 0.26914659388562445, 'bagging_fraction': 0.8040358081235719, 'num_leaves': 43, 'feature_fraction': 0.9354834709372731, 'max_depth': 6, 'learning_rate': 0.031068367696907195, 'subsample': 0.5959614927282758, 'colsample_bytree': 0.8587350967748866, 'min_data_in_leaf': 18, 'max_bin': 201}. Best is trial 36 with value: 20409.385783453577.\n",
      "C:\\Users\\Andrew\\anaconda3\\envs\\ml_env\\lib\\site-packages\\lightgbm\\sklearn.py:736: UserWarning: 'verbose' argument is deprecated and will be removed in a future release of LightGBM. Pass 'log_evaluation()' callback via 'callbacks' argument instead.\n",
      "  _log_warning(\"'verbose' argument is deprecated and will be removed in a future release of LightGBM. \"\n"
     ]
    },
    {
     "name": "stdout",
     "output_type": "stream",
     "text": [
      "[LightGBM] [Warning] feature_fraction is set=0.9491212097568339, colsample_bytree=0.9335380309970475 will be ignored. Current value: feature_fraction=0.9491212097568339\n",
      "[LightGBM] [Warning] min_data_in_leaf is set=10, min_child_samples=20 will be ignored. Current value: min_data_in_leaf=10\n",
      "[LightGBM] [Warning] bagging_fraction is set=0.8570411235109867, subsample=0.7249759725640043 will be ignored. Current value: bagging_fraction=0.8570411235109867\n",
      "[LightGBM] [Warning] lambda_l2 is set=1.593201660205402, reg_lambda=0.0 will be ignored. Current value: lambda_l2=1.593201660205402\n",
      "[LightGBM] [Warning] bagging_freq is set=1, subsample_freq=0 will be ignored. Current value: bagging_freq=1\n"
     ]
    },
    {
     "name": "stderr",
     "output_type": "stream",
     "text": [
      "[I 2023-11-14 07:32:12,772] Trial 44 finished with value: 20831.363842406277 and parameters: {'n_estimators': 496, 'lambda_l2': 1.593201660205402, 'bagging_fraction': 0.8570411235109867, 'num_leaves': 17, 'feature_fraction': 0.9491212097568339, 'max_depth': 7, 'learning_rate': 0.046083752218984475, 'subsample': 0.7249759725640043, 'colsample_bytree': 0.9335380309970475, 'min_data_in_leaf': 10, 'max_bin': 151}. Best is trial 36 with value: 20409.385783453577.\n",
      "C:\\Users\\Andrew\\anaconda3\\envs\\ml_env\\lib\\site-packages\\lightgbm\\sklearn.py:736: UserWarning: 'verbose' argument is deprecated and will be removed in a future release of LightGBM. Pass 'log_evaluation()' callback via 'callbacks' argument instead.\n",
      "  _log_warning(\"'verbose' argument is deprecated and will be removed in a future release of LightGBM. \"\n"
     ]
    },
    {
     "name": "stdout",
     "output_type": "stream",
     "text": [
      "[LightGBM] [Warning] feature_fraction is set=0.8905834149620082, colsample_bytree=0.9369197312357939 will be ignored. Current value: feature_fraction=0.8905834149620082\n",
      "[LightGBM] [Warning] min_data_in_leaf is set=14, min_child_samples=20 will be ignored. Current value: min_data_in_leaf=14\n",
      "[LightGBM] [Warning] bagging_fraction is set=0.7692583652750742, subsample=0.8973465943217014 will be ignored. Current value: bagging_fraction=0.7692583652750742\n",
      "[LightGBM] [Warning] lambda_l2 is set=0.9007902057746557, reg_lambda=0.0 will be ignored. Current value: lambda_l2=0.9007902057746557\n",
      "[LightGBM] [Warning] bagging_freq is set=1, subsample_freq=0 will be ignored. Current value: bagging_freq=1\n"
     ]
    },
    {
     "name": "stderr",
     "output_type": "stream",
     "text": [
      "[I 2023-11-14 07:32:14,330] Trial 45 finished with value: 20539.418637382183 and parameters: {'n_estimators': 461, 'lambda_l2': 0.9007902057746557, 'bagging_fraction': 0.7692583652750742, 'num_leaves': 65, 'feature_fraction': 0.8905834149620082, 'max_depth': 7, 'learning_rate': 0.025039212387997476, 'subsample': 0.8973465943217014, 'colsample_bytree': 0.9369197312357939, 'min_data_in_leaf': 14, 'max_bin': 130}. Best is trial 36 with value: 20409.385783453577.\n",
      "C:\\Users\\Andrew\\anaconda3\\envs\\ml_env\\lib\\site-packages\\lightgbm\\sklearn.py:736: UserWarning: 'verbose' argument is deprecated and will be removed in a future release of LightGBM. Pass 'log_evaluation()' callback via 'callbacks' argument instead.\n",
      "  _log_warning(\"'verbose' argument is deprecated and will be removed in a future release of LightGBM. \"\n"
     ]
    },
    {
     "name": "stdout",
     "output_type": "stream",
     "text": [
      "[LightGBM] [Warning] feature_fraction is set=0.8863018428238998, colsample_bytree=0.9173630265859198 will be ignored. Current value: feature_fraction=0.8863018428238998\n",
      "[LightGBM] [Warning] min_data_in_leaf is set=16, min_child_samples=20 will be ignored. Current value: min_data_in_leaf=16\n",
      "[LightGBM] [Warning] bagging_fraction is set=0.7762918359314672, subsample=0.9296673744152355 will be ignored. Current value: bagging_fraction=0.7762918359314672\n",
      "[LightGBM] [Warning] lambda_l2 is set=0.7756011426115237, reg_lambda=0.0 will be ignored. Current value: lambda_l2=0.7756011426115237\n",
      "[LightGBM] [Warning] bagging_freq is set=1, subsample_freq=0 will be ignored. Current value: bagging_freq=1\n"
     ]
    },
    {
     "name": "stderr",
     "output_type": "stream",
     "text": [
      "[I 2023-11-14 07:32:15,750] Trial 46 finished with value: 20777.641329142094 and parameters: {'n_estimators': 465, 'lambda_l2': 0.7756011426115237, 'bagging_fraction': 0.7762918359314672, 'num_leaves': 93, 'feature_fraction': 0.8863018428238998, 'max_depth': 6, 'learning_rate': 0.023828383974080772, 'subsample': 0.9296673744152355, 'colsample_bytree': 0.9173630265859198, 'min_data_in_leaf': 16, 'max_bin': 252}. Best is trial 36 with value: 20409.385783453577.\n",
      "C:\\Users\\Andrew\\anaconda3\\envs\\ml_env\\lib\\site-packages\\lightgbm\\sklearn.py:736: UserWarning: 'verbose' argument is deprecated and will be removed in a future release of LightGBM. Pass 'log_evaluation()' callback via 'callbacks' argument instead.\n",
      "  _log_warning(\"'verbose' argument is deprecated and will be removed in a future release of LightGBM. \"\n"
     ]
    },
    {
     "name": "stdout",
     "output_type": "stream",
     "text": [
      "[LightGBM] [Warning] feature_fraction is set=0.8574665632353723, colsample_bytree=0.9465684319426164 will be ignored. Current value: feature_fraction=0.8574665632353723\n",
      "[LightGBM] [Warning] min_data_in_leaf is set=19, min_child_samples=20 will be ignored. Current value: min_data_in_leaf=19\n",
      "[LightGBM] [Warning] bagging_fraction is set=0.6948980810632628, subsample=0.6428839177535162 will be ignored. Current value: bagging_fraction=0.6948980810632628\n",
      "[LightGBM] [Warning] lambda_l2 is set=1.1818840453986132, reg_lambda=0.0 will be ignored. Current value: lambda_l2=1.1818840453986132\n",
      "[LightGBM] [Warning] bagging_freq is set=1, subsample_freq=0 will be ignored. Current value: bagging_freq=1\n"
     ]
    },
    {
     "name": "stderr",
     "output_type": "stream",
     "text": [
      "[I 2023-11-14 07:32:17,309] Trial 47 finished with value: 20899.70826188716 and parameters: {'n_estimators': 479, 'lambda_l2': 1.1818840453986132, 'bagging_fraction': 0.6948980810632628, 'num_leaves': 40, 'feature_fraction': 0.8574665632353723, 'max_depth': 7, 'learning_rate': 0.020085640591593804, 'subsample': 0.6428839177535162, 'colsample_bytree': 0.9465684319426164, 'min_data_in_leaf': 19, 'max_bin': 225}. Best is trial 36 with value: 20409.385783453577.\n",
      "C:\\Users\\Andrew\\anaconda3\\envs\\ml_env\\lib\\site-packages\\lightgbm\\sklearn.py:736: UserWarning: 'verbose' argument is deprecated and will be removed in a future release of LightGBM. Pass 'log_evaluation()' callback via 'callbacks' argument instead.\n",
      "  _log_warning(\"'verbose' argument is deprecated and will be removed in a future release of LightGBM. \"\n"
     ]
    },
    {
     "name": "stdout",
     "output_type": "stream",
     "text": [
      "[LightGBM] [Warning] feature_fraction is set=0.815879059195689, colsample_bytree=0.8541179432531479 will be ignored. Current value: feature_fraction=0.815879059195689\n",
      "[LightGBM] [Warning] min_data_in_leaf is set=12, min_child_samples=20 will be ignored. Current value: min_data_in_leaf=12\n",
      "[LightGBM] [Warning] bagging_fraction is set=0.9685345912626903, subsample=0.590973207146732 will be ignored. Current value: bagging_fraction=0.9685345912626903\n",
      "[LightGBM] [Warning] lambda_l2 is set=0.5780919465793422, reg_lambda=0.0 will be ignored. Current value: lambda_l2=0.5780919465793422\n",
      "[LightGBM] [Warning] bagging_freq is set=1, subsample_freq=0 will be ignored. Current value: bagging_freq=1\n"
     ]
    },
    {
     "name": "stderr",
     "output_type": "stream",
     "text": [
      "[I 2023-11-14 07:32:19,495] Trial 48 finished with value: 20672.264633401013 and parameters: {'n_estimators': 452, 'lambda_l2': 0.5780919465793422, 'bagging_fraction': 0.9685345912626903, 'num_leaves': 60, 'feature_fraction': 0.815879059195689, 'max_depth': 7, 'learning_rate': 0.01436846567721936, 'subsample': 0.590973207146732, 'colsample_bytree': 0.8541179432531479, 'min_data_in_leaf': 12, 'max_bin': 273}. Best is trial 36 with value: 20409.385783453577.\n",
      "C:\\Users\\Andrew\\anaconda3\\envs\\ml_env\\lib\\site-packages\\lightgbm\\sklearn.py:736: UserWarning: 'verbose' argument is deprecated and will be removed in a future release of LightGBM. Pass 'log_evaluation()' callback via 'callbacks' argument instead.\n",
      "  _log_warning(\"'verbose' argument is deprecated and will be removed in a future release of LightGBM. \"\n"
     ]
    },
    {
     "name": "stdout",
     "output_type": "stream",
     "text": [
      "[LightGBM] [Warning] feature_fraction is set=0.8376462331751612, colsample_bytree=0.9439748348519518 will be ignored. Current value: feature_fraction=0.8376462331751612\n",
      "[LightGBM] [Warning] min_data_in_leaf is set=20, min_child_samples=20 will be ignored. Current value: min_data_in_leaf=20\n",
      "[LightGBM] [Warning] bagging_fraction is set=0.870250751544395, subsample=0.6623963696652249 will be ignored. Current value: bagging_fraction=0.870250751544395\n",
      "[LightGBM] [Warning] lambda_l2 is set=0.5308734422980224, reg_lambda=0.0 will be ignored. Current value: lambda_l2=0.5308734422980224\n",
      "[LightGBM] [Warning] bagging_freq is set=1, subsample_freq=0 will be ignored. Current value: bagging_freq=1\n"
     ]
    },
    {
     "name": "stderr",
     "output_type": "stream",
     "text": [
      "[I 2023-11-14 07:32:20,829] Trial 49 finished with value: 20701.92823486642 and parameters: {'n_estimators': 467, 'lambda_l2': 0.5308734422980224, 'bagging_fraction': 0.870250751544395, 'num_leaves': 74, 'feature_fraction': 0.8376462331751612, 'max_depth': 6, 'learning_rate': 0.03447886074010042, 'subsample': 0.6623963696652249, 'colsample_bytree': 0.9439748348519518, 'min_data_in_leaf': 20, 'max_bin': 154}. Best is trial 36 with value: 20409.385783453577.\n",
      "[I 2023-11-14 07:32:20,941] A new study created in memory with name: no-name-b820eefc-87c5-4f80-9bba-1799f83f9bc8\n",
      "C:\\Users\\Andrew\\anaconda3\\envs\\ml_env\\lib\\site-packages\\lightgbm\\sklearn.py:736: UserWarning: 'verbose' argument is deprecated and will be removed in a future release of LightGBM. Pass 'log_evaluation()' callback via 'callbacks' argument instead.\n",
      "  _log_warning(\"'verbose' argument is deprecated and will be removed in a future release of LightGBM. \"\n"
     ]
    },
    {
     "name": "stdout",
     "output_type": "stream",
     "text": [
      "Best hyperparameters: {'n_estimators': 500, 'lambda_l2': 0.36978134386024575, 'bagging_fraction': 0.9108190713445593, 'num_leaves': 63, 'feature_fraction': 0.8208352381370674, 'max_depth': 7, 'learning_rate': 0.04551941496086245, 'subsample': 0.7251169328279444, 'colsample_bytree': 0.9891475516872527, 'min_data_in_leaf': 16, 'max_bin': 487}\n",
      "Best RMSE: 20409.385783453577\n",
      "[LightGBM] [Warning] feature_fraction is set=0.6623653326002172, colsample_bytree=0.6166817077366326 will be ignored. Current value: feature_fraction=0.6623653326002172\n",
      "[LightGBM] [Warning] min_data_in_leaf is set=81, min_child_samples=20 will be ignored. Current value: min_data_in_leaf=81\n",
      "[LightGBM] [Warning] bagging_fraction is set=0.7155481192717512, subsample=0.5851008642775202 will be ignored. Current value: bagging_fraction=0.7155481192717512\n",
      "[LightGBM] [Warning] lambda_l2 is set=3.668358021164728, reg_lambda=0.0 will be ignored. Current value: lambda_l2=3.668358021164728\n",
      "[LightGBM] [Warning] bagging_freq is set=1, subsample_freq=0 will be ignored. Current value: bagging_freq=1\n"
     ]
    },
    {
     "name": "stderr",
     "output_type": "stream",
     "text": [
      "[I 2023-11-14 07:32:32,457] Trial 0 finished with value: 40959.77325040272 and parameters: {'n_estimators': 997, 'lambda_l2': 3.668358021164728, 'bagging_fraction': 0.7155481192717512, 'num_leaves': 815, 'feature_fraction': 0.6623653326002172, 'max_depth': 14, 'learning_rate': 0.07112300970278869, 'subsample': 0.5851008642775202, 'colsample_bytree': 0.6166817077366326, 'min_data_in_leaf': 81, 'max_bin': 320}. Best is trial 0 with value: 40959.77325040272.\n",
      "C:\\Users\\Andrew\\anaconda3\\envs\\ml_env\\lib\\site-packages\\lightgbm\\sklearn.py:736: UserWarning: 'verbose' argument is deprecated and will be removed in a future release of LightGBM. Pass 'log_evaluation()' callback via 'callbacks' argument instead.\n",
      "  _log_warning(\"'verbose' argument is deprecated and will be removed in a future release of LightGBM. \"\n"
     ]
    },
    {
     "name": "stdout",
     "output_type": "stream",
     "text": [
      "[LightGBM] [Warning] feature_fraction is set=0.5040007123553449, colsample_bytree=0.961538575965723 will be ignored. Current value: feature_fraction=0.5040007123553449\n",
      "[LightGBM] [Warning] min_data_in_leaf is set=72, min_child_samples=20 will be ignored. Current value: min_data_in_leaf=72\n",
      "[LightGBM] [Warning] bagging_fraction is set=0.6022478292257032, subsample=0.8774036281497353 will be ignored. Current value: bagging_fraction=0.6022478292257032\n",
      "[LightGBM] [Warning] lambda_l2 is set=9.263219460354335, reg_lambda=0.0 will be ignored. Current value: lambda_l2=9.263219460354335\n",
      "[LightGBM] [Warning] bagging_freq is set=1, subsample_freq=0 will be ignored. Current value: bagging_freq=1\n"
     ]
    },
    {
     "name": "stderr",
     "output_type": "stream",
     "text": [
      "[I 2023-11-14 07:32:38,244] Trial 1 finished with value: 38470.513486224394 and parameters: {'n_estimators': 947, 'lambda_l2': 9.263219460354335, 'bagging_fraction': 0.6022478292257032, 'num_leaves': 363, 'feature_fraction': 0.5040007123553449, 'max_depth': 8, 'learning_rate': 0.01221409643316109, 'subsample': 0.8774036281497353, 'colsample_bytree': 0.961538575965723, 'min_data_in_leaf': 72, 'max_bin': 321}. Best is trial 1 with value: 38470.513486224394.\n",
      "C:\\Users\\Andrew\\anaconda3\\envs\\ml_env\\lib\\site-packages\\lightgbm\\sklearn.py:736: UserWarning: 'verbose' argument is deprecated and will be removed in a future release of LightGBM. Pass 'log_evaluation()' callback via 'callbacks' argument instead.\n",
      "  _log_warning(\"'verbose' argument is deprecated and will be removed in a future release of LightGBM. \"\n"
     ]
    },
    {
     "name": "stdout",
     "output_type": "stream",
     "text": [
      "[LightGBM] [Warning] feature_fraction is set=0.6874444896960789, colsample_bytree=0.42302668886357736 will be ignored. Current value: feature_fraction=0.6874444896960789\n",
      "[LightGBM] [Warning] min_data_in_leaf is set=74, min_child_samples=20 will be ignored. Current value: min_data_in_leaf=74\n",
      "[LightGBM] [Warning] bagging_fraction is set=0.5320959761210798, subsample=0.44106893684418963 will be ignored. Current value: bagging_fraction=0.5320959761210798\n",
      "[LightGBM] [Warning] lambda_l2 is set=9.510278461655734, reg_lambda=0.0 will be ignored. Current value: lambda_l2=9.510278461655734\n",
      "[LightGBM] [Warning] bagging_freq is set=1, subsample_freq=0 will be ignored. Current value: bagging_freq=1\n"
     ]
    },
    {
     "name": "stderr",
     "output_type": "stream",
     "text": [
      "[I 2023-11-14 07:32:44,613] Trial 2 finished with value: 39463.07426287649 and parameters: {'n_estimators': 711, 'lambda_l2': 9.510278461655734, 'bagging_fraction': 0.5320959761210798, 'num_leaves': 264, 'feature_fraction': 0.6874444896960789, 'max_depth': 9, 'learning_rate': 0.003582364170664674, 'subsample': 0.44106893684418963, 'colsample_bytree': 0.42302668886357736, 'min_data_in_leaf': 74, 'max_bin': 200}. Best is trial 1 with value: 38470.513486224394.\n",
      "C:\\Users\\Andrew\\anaconda3\\envs\\ml_env\\lib\\site-packages\\lightgbm\\sklearn.py:736: UserWarning: 'verbose' argument is deprecated and will be removed in a future release of LightGBM. Pass 'log_evaluation()' callback via 'callbacks' argument instead.\n",
      "  _log_warning(\"'verbose' argument is deprecated and will be removed in a future release of LightGBM. \"\n"
     ]
    },
    {
     "name": "stdout",
     "output_type": "stream",
     "text": [
      "[LightGBM] [Warning] feature_fraction is set=0.9675102822641174, colsample_bytree=0.43341093081626086 will be ignored. Current value: feature_fraction=0.9675102822641174\n",
      "[LightGBM] [Warning] min_data_in_leaf is set=64, min_child_samples=20 will be ignored. Current value: min_data_in_leaf=64\n",
      "[LightGBM] [Warning] bagging_fraction is set=0.8569598993441219, subsample=0.5390676007260381 will be ignored. Current value: bagging_fraction=0.8569598993441219\n",
      "[LightGBM] [Warning] lambda_l2 is set=0.6624843173055073, reg_lambda=0.0 will be ignored. Current value: lambda_l2=0.6624843173055073\n",
      "[LightGBM] [Warning] bagging_freq is set=1, subsample_freq=0 will be ignored. Current value: bagging_freq=1\n"
     ]
    },
    {
     "name": "stderr",
     "output_type": "stream",
     "text": [
      "[I 2023-11-14 07:33:06,382] Trial 3 finished with value: 38469.37739993295 and parameters: {'n_estimators': 810, 'lambda_l2': 0.6624843173055073, 'bagging_fraction': 0.8569598993441219, 'num_leaves': 402, 'feature_fraction': 0.9675102822641174, 'max_depth': 11, 'learning_rate': 0.007297561322484232, 'subsample': 0.5390676007260381, 'colsample_bytree': 0.43341093081626086, 'min_data_in_leaf': 64, 'max_bin': 508}. Best is trial 3 with value: 38469.37739993295.\n",
      "C:\\Users\\Andrew\\anaconda3\\envs\\ml_env\\lib\\site-packages\\lightgbm\\sklearn.py:736: UserWarning: 'verbose' argument is deprecated and will be removed in a future release of LightGBM. Pass 'log_evaluation()' callback via 'callbacks' argument instead.\n",
      "  _log_warning(\"'verbose' argument is deprecated and will be removed in a future release of LightGBM. \"\n"
     ]
    },
    {
     "name": "stdout",
     "output_type": "stream",
     "text": [
      "[LightGBM] [Warning] feature_fraction is set=0.5907548405148519, colsample_bytree=0.10628990930081925 will be ignored. Current value: feature_fraction=0.5907548405148519\n",
      "[LightGBM] [Warning] min_data_in_leaf is set=23, min_child_samples=20 will be ignored. Current value: min_data_in_leaf=23\n",
      "[LightGBM] [Warning] bagging_fraction is set=0.926445008518451, subsample=0.8804753619351628 will be ignored. Current value: bagging_fraction=0.926445008518451\n",
      "[LightGBM] [Warning] lambda_l2 is set=0.4320866346572527, reg_lambda=0.0 will be ignored. Current value: lambda_l2=0.4320866346572527\n",
      "[LightGBM] [Warning] bagging_freq is set=1, subsample_freq=0 will be ignored. Current value: bagging_freq=1\n"
     ]
    },
    {
     "name": "stderr",
     "output_type": "stream",
     "text": [
      "[I 2023-11-14 07:33:10,853] Trial 4 finished with value: 39705.86367919146 and parameters: {'n_estimators': 914, 'lambda_l2': 0.4320866346572527, 'bagging_fraction': 0.926445008518451, 'num_leaves': 890, 'feature_fraction': 0.5907548405148519, 'max_depth': 5, 'learning_rate': 0.003881081415284054, 'subsample': 0.8804753619351628, 'colsample_bytree': 0.10628990930081925, 'min_data_in_leaf': 23, 'max_bin': 130}. Best is trial 3 with value: 38469.37739993295.\n",
      "C:\\Users\\Andrew\\anaconda3\\envs\\ml_env\\lib\\site-packages\\lightgbm\\sklearn.py:736: UserWarning: 'verbose' argument is deprecated and will be removed in a future release of LightGBM. Pass 'log_evaluation()' callback via 'callbacks' argument instead.\n",
      "  _log_warning(\"'verbose' argument is deprecated and will be removed in a future release of LightGBM. \"\n"
     ]
    },
    {
     "name": "stdout",
     "output_type": "stream",
     "text": [
      "[LightGBM] [Warning] feature_fraction is set=0.5927447169717588, colsample_bytree=0.25432970217337514 will be ignored. Current value: feature_fraction=0.5927447169717588\n",
      "[LightGBM] [Warning] min_data_in_leaf is set=26, min_child_samples=20 will be ignored. Current value: min_data_in_leaf=26\n",
      "[LightGBM] [Warning] bagging_fraction is set=0.6678434062127224, subsample=0.7181928627869761 will be ignored. Current value: bagging_fraction=0.6678434062127224\n",
      "[LightGBM] [Warning] lambda_l2 is set=9.524731557395182, reg_lambda=0.0 will be ignored. Current value: lambda_l2=9.524731557395182\n",
      "[LightGBM] [Warning] bagging_freq is set=1, subsample_freq=0 will be ignored. Current value: bagging_freq=1\n"
     ]
    },
    {
     "name": "stderr",
     "output_type": "stream",
     "text": [
      "[I 2023-11-14 07:33:40,920] Trial 5 finished with value: 39464.06892187069 and parameters: {'n_estimators': 975, 'lambda_l2': 9.524731557395182, 'bagging_fraction': 0.6678434062127224, 'num_leaves': 606, 'feature_fraction': 0.5927447169717588, 'max_depth': 14, 'learning_rate': 0.001983392271594825, 'subsample': 0.7181928627869761, 'colsample_bytree': 0.25432970217337514, 'min_data_in_leaf': 26, 'max_bin': 382}. Best is trial 3 with value: 38469.37739993295.\n",
      "C:\\Users\\Andrew\\anaconda3\\envs\\ml_env\\lib\\site-packages\\lightgbm\\sklearn.py:736: UserWarning: 'verbose' argument is deprecated and will be removed in a future release of LightGBM. Pass 'log_evaluation()' callback via 'callbacks' argument instead.\n",
      "  _log_warning(\"'verbose' argument is deprecated and will be removed in a future release of LightGBM. \"\n"
     ]
    },
    {
     "name": "stdout",
     "output_type": "stream",
     "text": [
      "[LightGBM] [Warning] feature_fraction is set=0.5524890186419197, colsample_bytree=0.20679463079932314 will be ignored. Current value: feature_fraction=0.5524890186419197\n",
      "[LightGBM] [Warning] min_data_in_leaf is set=17, min_child_samples=20 will be ignored. Current value: min_data_in_leaf=17\n",
      "[LightGBM] [Warning] bagging_fraction is set=0.9011203408328874, subsample=0.8161021979886469 will be ignored. Current value: bagging_fraction=0.9011203408328874\n",
      "[LightGBM] [Warning] lambda_l2 is set=6.7339718209772705, reg_lambda=0.0 will be ignored. Current value: lambda_l2=6.7339718209772705\n",
      "[LightGBM] [Warning] bagging_freq is set=1, subsample_freq=0 will be ignored. Current value: bagging_freq=1\n"
     ]
    },
    {
     "name": "stderr",
     "output_type": "stream",
     "text": [
      "[I 2023-11-14 07:34:03,661] Trial 6 finished with value: 39975.909728363615 and parameters: {'n_estimators': 874, 'lambda_l2': 6.7339718209772705, 'bagging_fraction': 0.9011203408328874, 'num_leaves': 935, 'feature_fraction': 0.5524890186419197, 'max_depth': 15, 'learning_rate': 0.030115982965969366, 'subsample': 0.8161021979886469, 'colsample_bytree': 0.20679463079932314, 'min_data_in_leaf': 17, 'max_bin': 266}. Best is trial 3 with value: 38469.37739993295.\n",
      "C:\\Users\\Andrew\\anaconda3\\envs\\ml_env\\lib\\site-packages\\lightgbm\\sklearn.py:736: UserWarning: 'verbose' argument is deprecated and will be removed in a future release of LightGBM. Pass 'log_evaluation()' callback via 'callbacks' argument instead.\n",
      "  _log_warning(\"'verbose' argument is deprecated and will be removed in a future release of LightGBM. \"\n"
     ]
    },
    {
     "name": "stdout",
     "output_type": "stream",
     "text": [
      "[LightGBM] [Warning] feature_fraction is set=0.5716548975369572, colsample_bytree=0.8023394129597526 will be ignored. Current value: feature_fraction=0.5716548975369572\n",
      "[LightGBM] [Warning] min_data_in_leaf is set=17, min_child_samples=20 will be ignored. Current value: min_data_in_leaf=17\n",
      "[LightGBM] [Warning] bagging_fraction is set=0.84328055114376, subsample=0.25747221221553246 will be ignored. Current value: bagging_fraction=0.84328055114376\n",
      "[LightGBM] [Warning] lambda_l2 is set=5.233530379706995, reg_lambda=0.0 will be ignored. Current value: lambda_l2=5.233530379706995\n",
      "[LightGBM] [Warning] bagging_freq is set=1, subsample_freq=0 will be ignored. Current value: bagging_freq=1\n"
     ]
    },
    {
     "name": "stderr",
     "output_type": "stream",
     "text": [
      "[I 2023-11-14 07:34:15,860] Trial 7 finished with value: 38672.03600663798 and parameters: {'n_estimators': 913, 'lambda_l2': 5.233530379706995, 'bagging_fraction': 0.84328055114376, 'num_leaves': 449, 'feature_fraction': 0.5716548975369572, 'max_depth': 9, 'learning_rate': 0.0036937826771350608, 'subsample': 0.25747221221553246, 'colsample_bytree': 0.8023394129597526, 'min_data_in_leaf': 17, 'max_bin': 137}. Best is trial 3 with value: 38469.37739993295.\n",
      "C:\\Users\\Andrew\\anaconda3\\envs\\ml_env\\lib\\site-packages\\lightgbm\\sklearn.py:736: UserWarning: 'verbose' argument is deprecated and will be removed in a future release of LightGBM. Pass 'log_evaluation()' callback via 'callbacks' argument instead.\n",
      "  _log_warning(\"'verbose' argument is deprecated and will be removed in a future release of LightGBM. \"\n"
     ]
    },
    {
     "name": "stdout",
     "output_type": "stream",
     "text": [
      "[LightGBM] [Warning] feature_fraction is set=0.5263544627588084, colsample_bytree=0.4010864597378231 will be ignored. Current value: feature_fraction=0.5263544627588084\n",
      "[LightGBM] [Warning] min_data_in_leaf is set=50, min_child_samples=20 will be ignored. Current value: min_data_in_leaf=50\n",
      "[LightGBM] [Warning] bagging_fraction is set=0.6511180150611602, subsample=0.07398129306012521 will be ignored. Current value: bagging_fraction=0.6511180150611602\n",
      "[LightGBM] [Warning] lambda_l2 is set=3.571072974997457, reg_lambda=0.0 will be ignored. Current value: lambda_l2=3.571072974997457\n",
      "[LightGBM] [Warning] bagging_freq is set=1, subsample_freq=0 will be ignored. Current value: bagging_freq=1\n"
     ]
    },
    {
     "name": "stderr",
     "output_type": "stream",
     "text": [
      "[I 2023-11-14 07:34:26,517] Trial 8 finished with value: 41977.641886529134 and parameters: {'n_estimators': 653, 'lambda_l2': 3.571072974997457, 'bagging_fraction': 0.6511180150611602, 'num_leaves': 402, 'feature_fraction': 0.5263544627588084, 'max_depth': 13, 'learning_rate': 0.0015347180138721125, 'subsample': 0.07398129306012521, 'colsample_bytree': 0.4010864597378231, 'min_data_in_leaf': 50, 'max_bin': 151}. Best is trial 3 with value: 38469.37739993295.\n",
      "C:\\Users\\Andrew\\anaconda3\\envs\\ml_env\\lib\\site-packages\\lightgbm\\sklearn.py:736: UserWarning: 'verbose' argument is deprecated and will be removed in a future release of LightGBM. Pass 'log_evaluation()' callback via 'callbacks' argument instead.\n",
      "  _log_warning(\"'verbose' argument is deprecated and will be removed in a future release of LightGBM. \"\n"
     ]
    },
    {
     "name": "stdout",
     "output_type": "stream",
     "text": [
      "[LightGBM] [Warning] feature_fraction is set=0.5554004191627978, colsample_bytree=0.44322296948113654 will be ignored. Current value: feature_fraction=0.5554004191627978\n",
      "[LightGBM] [Warning] min_data_in_leaf is set=56, min_child_samples=20 will be ignored. Current value: min_data_in_leaf=56\n",
      "[LightGBM] [Warning] bagging_fraction is set=0.7957084513496462, subsample=0.14765689265846663 will be ignored. Current value: bagging_fraction=0.7957084513496462\n",
      "[LightGBM] [Warning] lambda_l2 is set=1.9570513802692435, reg_lambda=0.0 will be ignored. Current value: lambda_l2=1.9570513802692435\n",
      "[LightGBM] [Warning] bagging_freq is set=1, subsample_freq=0 will be ignored. Current value: bagging_freq=1\n"
     ]
    },
    {
     "name": "stderr",
     "output_type": "stream",
     "text": [
      "[I 2023-11-14 07:34:42,527] Trial 9 finished with value: 43558.72848355981 and parameters: {'n_estimators': 617, 'lambda_l2': 1.9570513802692435, 'bagging_fraction': 0.7957084513496462, 'num_leaves': 219, 'feature_fraction': 0.5554004191627978, 'max_depth': 14, 'learning_rate': 0.001145046859638242, 'subsample': 0.14765689265846663, 'colsample_bytree': 0.44322296948113654, 'min_data_in_leaf': 56, 'max_bin': 455}. Best is trial 3 with value: 38469.37739993295.\n",
      "C:\\Users\\Andrew\\anaconda3\\envs\\ml_env\\lib\\site-packages\\lightgbm\\sklearn.py:736: UserWarning: 'verbose' argument is deprecated and will be removed in a future release of LightGBM. Pass 'log_evaluation()' callback via 'callbacks' argument instead.\n",
      "  _log_warning(\"'verbose' argument is deprecated and will be removed in a future release of LightGBM. \"\n"
     ]
    },
    {
     "name": "stdout",
     "output_type": "stream",
     "text": [
      "[LightGBM] [Warning] feature_fraction is set=0.9736546353157246, colsample_bytree=0.02719099350439841 will be ignored. Current value: feature_fraction=0.9736546353157246\n",
      "[LightGBM] [Warning] min_data_in_leaf is set=48, min_child_samples=20 will be ignored. Current value: min_data_in_leaf=48\n",
      "[LightGBM] [Warning] bagging_fraction is set=0.9997088989830338, subsample=0.4182375233816867 will be ignored. Current value: bagging_fraction=0.9997088989830338\n",
      "[LightGBM] [Warning] lambda_l2 is set=0.14453971013493305, reg_lambda=0.0 will be ignored. Current value: lambda_l2=0.14453971013493305\n",
      "[LightGBM] [Warning] bagging_freq is set=1, subsample_freq=0 will be ignored. Current value: bagging_freq=1\n"
     ]
    },
    {
     "name": "stderr",
     "output_type": "stream",
     "text": [
      "[I 2023-11-14 07:34:52,389] Trial 10 finished with value: 38541.601974779114 and parameters: {'n_estimators': 790, 'lambda_l2': 0.14453971013493305, 'bagging_fraction': 0.9997088989830338, 'num_leaves': 36, 'feature_fraction': 0.9736546353157246, 'max_depth': 11, 'learning_rate': 0.011645036902801387, 'subsample': 0.4182375233816867, 'colsample_bytree': 0.02719099350439841, 'min_data_in_leaf': 48, 'max_bin': 500}. Best is trial 3 with value: 38469.37739993295.\n",
      "C:\\Users\\Andrew\\anaconda3\\envs\\ml_env\\lib\\site-packages\\lightgbm\\sklearn.py:736: UserWarning: 'verbose' argument is deprecated and will be removed in a future release of LightGBM. Pass 'log_evaluation()' callback via 'callbacks' argument instead.\n",
      "  _log_warning(\"'verbose' argument is deprecated and will be removed in a future release of LightGBM. \"\n"
     ]
    },
    {
     "name": "stdout",
     "output_type": "stream",
     "text": [
      "[LightGBM] [Warning] feature_fraction is set=0.8396241243400918, colsample_bytree=0.9851711704903483 will be ignored. Current value: feature_fraction=0.8396241243400918\n",
      "[LightGBM] [Warning] min_data_in_leaf is set=99, min_child_samples=20 will be ignored. Current value: min_data_in_leaf=99\n",
      "[LightGBM] [Warning] bagging_fraction is set=0.5167855771226317, subsample=0.9965720443398053 will be ignored. Current value: bagging_fraction=0.5167855771226317\n",
      "[LightGBM] [Warning] lambda_l2 is set=6.986026510545555, reg_lambda=0.0 will be ignored. Current value: lambda_l2=6.986026510545555\n",
      "[LightGBM] [Warning] bagging_freq is set=1, subsample_freq=0 will be ignored. Current value: bagging_freq=1\n"
     ]
    },
    {
     "name": "stderr",
     "output_type": "stream",
     "text": [
      "[I 2023-11-14 07:34:57,529] Trial 11 finished with value: 38689.09075702236 and parameters: {'n_estimators': 802, 'lambda_l2': 6.986026510545555, 'bagging_fraction': 0.5167855771226317, 'num_leaves': 667, 'feature_fraction': 0.8396241243400918, 'max_depth': 7, 'learning_rate': 0.0112410045406183, 'subsample': 0.9965720443398053, 'colsample_bytree': 0.9851711704903483, 'min_data_in_leaf': 99, 'max_bin': 365}. Best is trial 3 with value: 38469.37739993295.\n",
      "C:\\Users\\Andrew\\anaconda3\\envs\\ml_env\\lib\\site-packages\\lightgbm\\sklearn.py:736: UserWarning: 'verbose' argument is deprecated and will be removed in a future release of LightGBM. Pass 'log_evaluation()' callback via 'callbacks' argument instead.\n",
      "  _log_warning(\"'verbose' argument is deprecated and will be removed in a future release of LightGBM. \"\n"
     ]
    },
    {
     "name": "stdout",
     "output_type": "stream",
     "text": [
      "[LightGBM] [Warning] feature_fraction is set=0.8006278482937044, colsample_bytree=0.6414773955366726 will be ignored. Current value: feature_fraction=0.8006278482937044\n",
      "[LightGBM] [Warning] min_data_in_leaf is set=71, min_child_samples=20 will be ignored. Current value: min_data_in_leaf=71\n",
      "[LightGBM] [Warning] bagging_fraction is set=0.7684839779825519, subsample=0.6504068632126715 will be ignored. Current value: bagging_fraction=0.7684839779825519\n",
      "[LightGBM] [Warning] lambda_l2 is set=2.082661418268923, reg_lambda=0.0 will be ignored. Current value: lambda_l2=2.082661418268923\n",
      "[LightGBM] [Warning] bagging_freq is set=1, subsample_freq=0 will be ignored. Current value: bagging_freq=1\n"
     ]
    },
    {
     "name": "stderr",
     "output_type": "stream",
     "text": [
      "[I 2023-11-14 07:35:08,336] Trial 12 finished with value: 38616.293176482184 and parameters: {'n_estimators': 808, 'lambda_l2': 2.082661418268923, 'bagging_fraction': 0.7684839779825519, 'num_leaves': 244, 'feature_fraction': 0.8006278482937044, 'max_depth': 11, 'learning_rate': 0.019631742442487884, 'subsample': 0.6504068632126715, 'colsample_bytree': 0.6414773955366726, 'min_data_in_leaf': 71, 'max_bin': 432}. Best is trial 3 with value: 38469.37739993295.\n",
      "C:\\Users\\Andrew\\anaconda3\\envs\\ml_env\\lib\\site-packages\\lightgbm\\sklearn.py:736: UserWarning: 'verbose' argument is deprecated and will be removed in a future release of LightGBM. Pass 'log_evaluation()' callback via 'callbacks' argument instead.\n",
      "  _log_warning(\"'verbose' argument is deprecated and will be removed in a future release of LightGBM. \"\n"
     ]
    },
    {
     "name": "stdout",
     "output_type": "stream",
     "text": [
      "[LightGBM] [Warning] feature_fraction is set=0.9941452023945015, colsample_bytree=0.9822167091563125 will be ignored. Current value: feature_fraction=0.9941452023945015\n",
      "[LightGBM] [Warning] min_data_in_leaf is set=91, min_child_samples=20 will be ignored. Current value: min_data_in_leaf=91\n",
      "[LightGBM] [Warning] bagging_fraction is set=0.6116229609604421, subsample=0.5420637588024974 will be ignored. Current value: bagging_fraction=0.6116229609604421\n",
      "[LightGBM] [Warning] lambda_l2 is set=7.778334939774661, reg_lambda=0.0 will be ignored. Current value: lambda_l2=7.778334939774661\n",
      "[LightGBM] [Warning] bagging_freq is set=1, subsample_freq=0 will be ignored. Current value: bagging_freq=1\n"
     ]
    },
    {
     "name": "stderr",
     "output_type": "stream",
     "text": [
      "[I 2023-11-14 07:35:14,544] Trial 13 finished with value: 38979.533973316655 and parameters: {'n_estimators': 734, 'lambda_l2': 7.778334939774661, 'bagging_fraction': 0.6116229609604421, 'num_leaves': 392, 'feature_fraction': 0.9941452023945015, 'max_depth': 7, 'learning_rate': 0.006304835539162745, 'subsample': 0.5420637588024974, 'colsample_bytree': 0.9822167091563125, 'min_data_in_leaf': 91, 'max_bin': 267}. Best is trial 3 with value: 38469.37739993295.\n",
      "C:\\Users\\Andrew\\anaconda3\\envs\\ml_env\\lib\\site-packages\\lightgbm\\sklearn.py:736: UserWarning: 'verbose' argument is deprecated and will be removed in a future release of LightGBM. Pass 'log_evaluation()' callback via 'callbacks' argument instead.\n",
      "  _log_warning(\"'verbose' argument is deprecated and will be removed in a future release of LightGBM. \"\n"
     ]
    },
    {
     "name": "stdout",
     "output_type": "stream",
     "text": [
      "[LightGBM] [Warning] feature_fraction is set=0.8941658346529477, colsample_bytree=0.7568404173339334 will be ignored. Current value: feature_fraction=0.8941658346529477\n",
      "[LightGBM] [Warning] min_data_in_leaf is set=62, min_child_samples=20 will be ignored. Current value: min_data_in_leaf=62\n",
      "[LightGBM] [Warning] bagging_fraction is set=0.758915444775268, subsample=0.7484554461238431 will be ignored. Current value: bagging_fraction=0.758915444775268\n",
      "[LightGBM] [Warning] lambda_l2 is set=4.868905329147559, reg_lambda=0.0 will be ignored. Current value: lambda_l2=4.868905329147559\n",
      "[LightGBM] [Warning] bagging_freq is set=1, subsample_freq=0 will be ignored. Current value: bagging_freq=1\n"
     ]
    },
    {
     "name": "stderr",
     "output_type": "stream",
     "text": [
      "[I 2023-11-14 07:35:26,803] Trial 14 finished with value: 38522.311034778504 and parameters: {'n_estimators': 877, 'lambda_l2': 4.868905329147559, 'bagging_fraction': 0.758915444775268, 'num_leaves': 51, 'feature_fraction': 0.8941658346529477, 'max_depth': 11, 'learning_rate': 0.00728225234880661, 'subsample': 0.7484554461238431, 'colsample_bytree': 0.7568404173339334, 'min_data_in_leaf': 62, 'max_bin': 491}. Best is trial 3 with value: 38469.37739993295.\n",
      "C:\\Users\\Andrew\\anaconda3\\envs\\ml_env\\lib\\site-packages\\lightgbm\\sklearn.py:736: UserWarning: 'verbose' argument is deprecated and will be removed in a future release of LightGBM. Pass 'log_evaluation()' callback via 'callbacks' argument instead.\n",
      "  _log_warning(\"'verbose' argument is deprecated and will be removed in a future release of LightGBM. \"\n"
     ]
    },
    {
     "name": "stdout",
     "output_type": "stream",
     "text": [
      "[LightGBM] [Warning] feature_fraction is set=0.7526431728170268, colsample_bytree=0.5271428377954726 will be ignored. Current value: feature_fraction=0.7526431728170268\n",
      "[LightGBM] [Warning] min_data_in_leaf is set=35, min_child_samples=20 will be ignored. Current value: min_data_in_leaf=35\n",
      "[LightGBM] [Warning] bagging_fraction is set=0.5820216217994321, subsample=0.9411084903870164 will be ignored. Current value: bagging_fraction=0.5820216217994321\n",
      "[LightGBM] [Warning] lambda_l2 is set=8.286876921304028, reg_lambda=0.0 will be ignored. Current value: lambda_l2=8.286876921304028\n",
      "[LightGBM] [Warning] bagging_freq is set=1, subsample_freq=0 will be ignored. Current value: bagging_freq=1\n"
     ]
    },
    {
     "name": "stderr",
     "output_type": "stream",
     "text": [
      "[I 2023-11-14 07:35:33,452] Trial 15 finished with value: 38633.12486308518 and parameters: {'n_estimators': 947, 'lambda_l2': 8.286876921304028, 'bagging_fraction': 0.5820216217994321, 'num_leaves': 595, 'feature_fraction': 0.7526431728170268, 'max_depth': 7, 'learning_rate': 0.01942530325361445, 'subsample': 0.9411084903870164, 'colsample_bytree': 0.5271428377954726, 'min_data_in_leaf': 35, 'max_bin': 409}. Best is trial 3 with value: 38469.37739993295.\n",
      "C:\\Users\\Andrew\\anaconda3\\envs\\ml_env\\lib\\site-packages\\lightgbm\\sklearn.py:736: UserWarning: 'verbose' argument is deprecated and will be removed in a future release of LightGBM. Pass 'log_evaluation()' callback via 'callbacks' argument instead.\n",
      "  _log_warning(\"'verbose' argument is deprecated and will be removed in a future release of LightGBM. \"\n"
     ]
    },
    {
     "name": "stdout",
     "output_type": "stream",
     "text": [
      "[LightGBM] [Warning] feature_fraction is set=0.6835886496015797, colsample_bytree=0.8459534044767243 will be ignored. Current value: feature_fraction=0.6835886496015797\n",
      "[LightGBM] [Warning] min_data_in_leaf is set=84, min_child_samples=20 will be ignored. Current value: min_data_in_leaf=84\n",
      "[LightGBM] [Warning] bagging_fraction is set=0.7139704746515128, subsample=0.8320382609652273 will be ignored. Current value: bagging_fraction=0.7139704746515128\n",
      "[LightGBM] [Warning] lambda_l2 is set=5.777809002208027, reg_lambda=0.0 will be ignored. Current value: lambda_l2=5.777809002208027\n",
      "[LightGBM] [Warning] bagging_freq is set=1, subsample_freq=0 will be ignored. Current value: bagging_freq=1\n"
     ]
    },
    {
     "name": "stderr",
     "output_type": "stream",
     "text": [
      "[I 2023-11-14 07:35:41,727] Trial 16 finished with value: 38630.88935399633 and parameters: {'n_estimators': 841, 'lambda_l2': 5.777809002208027, 'bagging_fraction': 0.7139704746515128, 'num_leaves': 730, 'feature_fraction': 0.6835886496015797, 'max_depth': 9, 'learning_rate': 0.006760190168015178, 'subsample': 0.8320382609652273, 'colsample_bytree': 0.8459534044767243, 'min_data_in_leaf': 84, 'max_bin': 330}. Best is trial 3 with value: 38469.37739993295.\n",
      "C:\\Users\\Andrew\\anaconda3\\envs\\ml_env\\lib\\site-packages\\lightgbm\\sklearn.py:736: UserWarning: 'verbose' argument is deprecated and will be removed in a future release of LightGBM. Pass 'log_evaluation()' callback via 'callbacks' argument instead.\n",
      "  _log_warning(\"'verbose' argument is deprecated and will be removed in a future release of LightGBM. \"\n"
     ]
    },
    {
     "name": "stdout",
     "output_type": "stream",
     "text": [
      "[LightGBM] [Warning] feature_fraction is set=0.5028674876489367, colsample_bytree=0.29916356661434096 will be ignored. Current value: feature_fraction=0.5028674876489367\n",
      "[LightGBM] [Warning] min_data_in_leaf is set=63, min_child_samples=20 will be ignored. Current value: min_data_in_leaf=63\n",
      "[LightGBM] [Warning] bagging_fraction is set=0.8066258804452008, subsample=0.6742631576963813 will be ignored. Current value: bagging_fraction=0.8066258804452008\n",
      "[LightGBM] [Warning] lambda_l2 is set=9.918707226106964, reg_lambda=0.0 will be ignored. Current value: lambda_l2=9.918707226106964\n",
      "[LightGBM] [Warning] bagging_freq is set=1, subsample_freq=0 will be ignored. Current value: bagging_freq=1\n"
     ]
    },
    {
     "name": "stderr",
     "output_type": "stream",
     "text": [
      "[I 2023-11-14 07:35:44,552] Trial 17 finished with value: 38586.95769147617 and parameters: {'n_estimators': 754, 'lambda_l2': 9.918707226106964, 'bagging_fraction': 0.8066258804452008, 'num_leaves': 510, 'feature_fraction': 0.5028674876489367, 'max_depth': 5, 'learning_rate': 0.04663733921496317, 'subsample': 0.6742631576963813, 'colsample_bytree': 0.29916356661434096, 'min_data_in_leaf': 63, 'max_bin': 237}. Best is trial 3 with value: 38469.37739993295.\n",
      "C:\\Users\\Andrew\\anaconda3\\envs\\ml_env\\lib\\site-packages\\lightgbm\\sklearn.py:736: UserWarning: 'verbose' argument is deprecated and will be removed in a future release of LightGBM. Pass 'log_evaluation()' callback via 'callbacks' argument instead.\n",
      "  _log_warning(\"'verbose' argument is deprecated and will be removed in a future release of LightGBM. \"\n"
     ]
    },
    {
     "name": "stdout",
     "output_type": "stream",
     "text": [
      "[LightGBM] [Warning] feature_fraction is set=0.8940701447298445, colsample_bytree=0.5947842265173191 will be ignored. Current value: feature_fraction=0.8940701447298445\n",
      "[LightGBM] [Warning] min_data_in_leaf is set=39, min_child_samples=20 will be ignored. Current value: min_data_in_leaf=39\n",
      "[LightGBM] [Warning] bagging_fraction is set=0.5786297326856271, subsample=0.34567845749803117 will be ignored. Current value: bagging_fraction=0.5786297326856271\n",
      "[LightGBM] [Warning] lambda_l2 is set=4.275173743626066, reg_lambda=0.0 will be ignored. Current value: lambda_l2=4.275173743626066\n",
      "[LightGBM] [Warning] bagging_freq is set=1, subsample_freq=0 will be ignored. Current value: bagging_freq=1\n"
     ]
    },
    {
     "name": "stderr",
     "output_type": "stream",
     "text": [
      "[I 2023-11-14 07:35:55,081] Trial 18 finished with value: 38586.218653070566 and parameters: {'n_estimators': 667, 'lambda_l2': 4.275173743626066, 'bagging_fraction': 0.5786297326856271, 'num_leaves': 196, 'feature_fraction': 0.8940701447298445, 'max_depth': 12, 'learning_rate': 0.016001189729740815, 'subsample': 0.34567845749803117, 'colsample_bytree': 0.5947842265173191, 'min_data_in_leaf': 39, 'max_bin': 304}. Best is trial 3 with value: 38469.37739993295.\n",
      "C:\\Users\\Andrew\\anaconda3\\envs\\ml_env\\lib\\site-packages\\lightgbm\\sklearn.py:736: UserWarning: 'verbose' argument is deprecated and will be removed in a future release of LightGBM. Pass 'log_evaluation()' callback via 'callbacks' argument instead.\n",
      "  _log_warning(\"'verbose' argument is deprecated and will be removed in a future release of LightGBM. \"\n"
     ]
    },
    {
     "name": "stdout",
     "output_type": "stream",
     "text": [
      "[LightGBM] [Warning] feature_fraction is set=0.6465547379675016, colsample_bytree=0.725335447084739 will be ignored. Current value: feature_fraction=0.6465547379675016\n",
      "[LightGBM] [Warning] min_data_in_leaf is set=71, min_child_samples=20 will be ignored. Current value: min_data_in_leaf=71\n",
      "[LightGBM] [Warning] bagging_fraction is set=0.7072490917128831, subsample=0.5814102391576914 will be ignored. Current value: bagging_fraction=0.7072490917128831\n",
      "[LightGBM] [Warning] lambda_l2 is set=6.073733457404466, reg_lambda=0.0 will be ignored. Current value: lambda_l2=6.073733457404466\n",
      "[LightGBM] [Warning] bagging_freq is set=1, subsample_freq=0 will be ignored. Current value: bagging_freq=1\n"
     ]
    },
    {
     "name": "stderr",
     "output_type": "stream",
     "text": [
      "[I 2023-11-14 07:36:02,195] Trial 19 finished with value: 38755.617102114535 and parameters: {'n_estimators': 925, 'lambda_l2': 6.073733457404466, 'bagging_fraction': 0.7072490917128831, 'num_leaves': 334, 'feature_fraction': 0.6465547379675016, 'max_depth': 8, 'learning_rate': 0.028390392760687305, 'subsample': 0.5814102391576914, 'colsample_bytree': 0.725335447084739, 'min_data_in_leaf': 71, 'max_bin': 452}. Best is trial 3 with value: 38469.37739993295.\n",
      "C:\\Users\\Andrew\\anaconda3\\envs\\ml_env\\lib\\site-packages\\lightgbm\\sklearn.py:736: UserWarning: 'verbose' argument is deprecated and will be removed in a future release of LightGBM. Pass 'log_evaluation()' callback via 'callbacks' argument instead.\n",
      "  _log_warning(\"'verbose' argument is deprecated and will be removed in a future release of LightGBM. \"\n"
     ]
    },
    {
     "name": "stdout",
     "output_type": "stream",
     "text": [
      "[LightGBM] [Warning] feature_fraction is set=0.7350655792896781, colsample_bytree=0.8454987389047821 will be ignored. Current value: feature_fraction=0.7350655792896781\n",
      "[LightGBM] [Warning] min_data_in_leaf is set=63, min_child_samples=20 will be ignored. Current value: min_data_in_leaf=63\n",
      "[LightGBM] [Warning] bagging_fraction is set=0.838743603798948, subsample=0.7805287173632746 will be ignored. Current value: bagging_fraction=0.838743603798948\n",
      "[LightGBM] [Warning] lambda_l2 is set=8.37597463052281, reg_lambda=0.0 will be ignored. Current value: lambda_l2=8.37597463052281\n",
      "[LightGBM] [Warning] bagging_freq is set=1, subsample_freq=0 will be ignored. Current value: bagging_freq=1\n"
     ]
    },
    {
     "name": "stderr",
     "output_type": "stream",
     "text": [
      "[I 2023-11-14 07:36:13,648] Trial 20 finished with value: 38466.654772346665 and parameters: {'n_estimators': 863, 'lambda_l2': 8.37597463052281, 'bagging_fraction': 0.838743603798948, 'num_leaves': 1019, 'feature_fraction': 0.7350655792896781, 'max_depth': 12, 'learning_rate': 0.00985855628918478, 'subsample': 0.7805287173632746, 'colsample_bytree': 0.8454987389047821, 'min_data_in_leaf': 63, 'max_bin': 202}. Best is trial 20 with value: 38466.654772346665.\n",
      "C:\\Users\\Andrew\\anaconda3\\envs\\ml_env\\lib\\site-packages\\lightgbm\\sklearn.py:736: UserWarning: 'verbose' argument is deprecated and will be removed in a future release of LightGBM. Pass 'log_evaluation()' callback via 'callbacks' argument instead.\n",
      "  _log_warning(\"'verbose' argument is deprecated and will be removed in a future release of LightGBM. \"\n"
     ]
    },
    {
     "name": "stdout",
     "output_type": "stream",
     "text": [
      "[LightGBM] [Warning] feature_fraction is set=0.723025146335873, colsample_bytree=0.8529453574094209 will be ignored. Current value: feature_fraction=0.723025146335873\n",
      "[LightGBM] [Warning] min_data_in_leaf is set=62, min_child_samples=20 will be ignored. Current value: min_data_in_leaf=62\n",
      "[LightGBM] [Warning] bagging_fraction is set=0.8474876774129152, subsample=0.7687364271354552 will be ignored. Current value: bagging_fraction=0.8474876774129152\n",
      "[LightGBM] [Warning] lambda_l2 is set=8.448129242120853, reg_lambda=0.0 will be ignored. Current value: lambda_l2=8.448129242120853\n",
      "[LightGBM] [Warning] bagging_freq is set=1, subsample_freq=0 will be ignored. Current value: bagging_freq=1\n"
     ]
    },
    {
     "name": "stderr",
     "output_type": "stream",
     "text": [
      "[I 2023-11-14 07:36:25,837] Trial 21 finished with value: 38435.27106203086 and parameters: {'n_estimators': 861, 'lambda_l2': 8.448129242120853, 'bagging_fraction': 0.8474876774129152, 'num_leaves': 491, 'feature_fraction': 0.723025146335873, 'max_depth': 12, 'learning_rate': 0.009709623719797564, 'subsample': 0.7687364271354552, 'colsample_bytree': 0.8529453574094209, 'min_data_in_leaf': 62, 'max_bin': 184}. Best is trial 21 with value: 38435.27106203086.\n",
      "C:\\Users\\Andrew\\anaconda3\\envs\\ml_env\\lib\\site-packages\\lightgbm\\sklearn.py:736: UserWarning: 'verbose' argument is deprecated and will be removed in a future release of LightGBM. Pass 'log_evaluation()' callback via 'callbacks' argument instead.\n",
      "  _log_warning(\"'verbose' argument is deprecated and will be removed in a future release of LightGBM. \"\n"
     ]
    },
    {
     "name": "stdout",
     "output_type": "stream",
     "text": [
      "[LightGBM] [Warning] feature_fraction is set=0.7515477204477046, colsample_bytree=0.8830947992309973 will be ignored. Current value: feature_fraction=0.7515477204477046\n",
      "[LightGBM] [Warning] min_data_in_leaf is set=61, min_child_samples=20 will be ignored. Current value: min_data_in_leaf=61\n",
      "[LightGBM] [Warning] bagging_fraction is set=0.8524893731075035, subsample=0.758868216256347 will be ignored. Current value: bagging_fraction=0.8524893731075035\n",
      "[LightGBM] [Warning] lambda_l2 is set=8.339666893465008, reg_lambda=0.0 will be ignored. Current value: lambda_l2=8.339666893465008\n",
      "[LightGBM] [Warning] bagging_freq is set=1, subsample_freq=0 will be ignored. Current value: bagging_freq=1\n"
     ]
    },
    {
     "name": "stderr",
     "output_type": "stream",
     "text": [
      "[I 2023-11-14 07:36:37,061] Trial 22 finished with value: 38435.928157917784 and parameters: {'n_estimators': 841, 'lambda_l2': 8.339666893465008, 'bagging_fraction': 0.8524893731075035, 'num_leaves': 525, 'feature_fraction': 0.7515477204477046, 'max_depth': 12, 'learning_rate': 0.008134130131087304, 'subsample': 0.758868216256347, 'colsample_bytree': 0.8830947992309973, 'min_data_in_leaf': 61, 'max_bin': 188}. Best is trial 21 with value: 38435.27106203086.\n",
      "C:\\Users\\Andrew\\anaconda3\\envs\\ml_env\\lib\\site-packages\\lightgbm\\sklearn.py:736: UserWarning: 'verbose' argument is deprecated and will be removed in a future release of LightGBM. Pass 'log_evaluation()' callback via 'callbacks' argument instead.\n",
      "  _log_warning(\"'verbose' argument is deprecated and will be removed in a future release of LightGBM. \"\n"
     ]
    },
    {
     "name": "stdout",
     "output_type": "stream",
     "text": [
      "[LightGBM] [Warning] feature_fraction is set=0.730284794448135, colsample_bytree=0.9082727182794368 will be ignored. Current value: feature_fraction=0.730284794448135\n",
      "[LightGBM] [Warning] min_data_in_leaf is set=45, min_child_samples=20 will be ignored. Current value: min_data_in_leaf=45\n",
      "[LightGBM] [Warning] bagging_fraction is set=0.8387496378670708, subsample=0.7832176405082869 will be ignored. Current value: bagging_fraction=0.8387496378670708\n",
      "[LightGBM] [Warning] lambda_l2 is set=8.35439977457018, reg_lambda=0.0 will be ignored. Current value: lambda_l2=8.35439977457018\n",
      "[LightGBM] [Warning] bagging_freq is set=1, subsample_freq=0 will be ignored. Current value: bagging_freq=1\n"
     ]
    },
    {
     "name": "stderr",
     "output_type": "stream",
     "text": [
      "[I 2023-11-14 07:36:50,491] Trial 23 finished with value: 38440.77794499876 and parameters: {'n_estimators': 861, 'lambda_l2': 8.35439977457018, 'bagging_fraction': 0.8387496378670708, 'num_leaves': 1000, 'feature_fraction': 0.730284794448135, 'max_depth': 12, 'learning_rate': 0.009619725985058225, 'subsample': 0.7832176405082869, 'colsample_bytree': 0.9082727182794368, 'min_data_in_leaf': 45, 'max_bin': 184}. Best is trial 21 with value: 38435.27106203086.\n",
      "C:\\Users\\Andrew\\anaconda3\\envs\\ml_env\\lib\\site-packages\\lightgbm\\sklearn.py:736: UserWarning: 'verbose' argument is deprecated and will be removed in a future release of LightGBM. Pass 'log_evaluation()' callback via 'callbacks' argument instead.\n",
      "  _log_warning(\"'verbose' argument is deprecated and will be removed in a future release of LightGBM. \"\n"
     ]
    },
    {
     "name": "stdout",
     "output_type": "stream",
     "text": [
      "[LightGBM] [Warning] feature_fraction is set=0.7341873331552474, colsample_bytree=0.9068630618251882 will be ignored. Current value: feature_fraction=0.7341873331552474\n",
      "[LightGBM] [Warning] min_data_in_leaf is set=42, min_child_samples=20 will be ignored. Current value: min_data_in_leaf=42\n",
      "[LightGBM] [Warning] bagging_fraction is set=0.8940051677798889, subsample=0.6814347091306121 will be ignored. Current value: bagging_fraction=0.8940051677798889\n",
      "[LightGBM] [Warning] lambda_l2 is set=7.528750961735357, reg_lambda=0.0 will be ignored. Current value: lambda_l2=7.528750961735357\n",
      "[LightGBM] [Warning] bagging_freq is set=1, subsample_freq=0 will be ignored. Current value: bagging_freq=1\n"
     ]
    },
    {
     "name": "stderr",
     "output_type": "stream",
     "text": [
      "[I 2023-11-14 07:37:08,354] Trial 24 finished with value: 38487.19089123995 and parameters: {'n_estimators': 835, 'lambda_l2': 7.528750961735357, 'bagging_fraction': 0.8940051677798889, 'num_leaves': 754, 'feature_fraction': 0.7341873331552474, 'max_depth': 13, 'learning_rate': 0.005102318932123268, 'subsample': 0.6814347091306121, 'colsample_bytree': 0.9068630618251882, 'min_data_in_leaf': 42, 'max_bin': 183}. Best is trial 21 with value: 38435.27106203086.\n",
      "C:\\Users\\Andrew\\anaconda3\\envs\\ml_env\\lib\\site-packages\\lightgbm\\sklearn.py:736: UserWarning: 'verbose' argument is deprecated and will be removed in a future release of LightGBM. Pass 'log_evaluation()' callback via 'callbacks' argument instead.\n",
      "  _log_warning(\"'verbose' argument is deprecated and will be removed in a future release of LightGBM. \"\n"
     ]
    },
    {
     "name": "stdout",
     "output_type": "stream",
     "text": [
      "[LightGBM] [Warning] feature_fraction is set=0.7742014997609322, colsample_bytree=0.89850177871863 will be ignored. Current value: feature_fraction=0.7742014997609322\n",
      "[LightGBM] [Warning] min_data_in_leaf is set=55, min_child_samples=20 will be ignored. Current value: min_data_in_leaf=55\n",
      "[LightGBM] [Warning] bagging_fraction is set=0.8041079068472419, subsample=0.777432268302187 will be ignored. Current value: bagging_fraction=0.8041079068472419\n",
      "[LightGBM] [Warning] lambda_l2 is set=8.457895160598722, reg_lambda=0.0 will be ignored. Current value: lambda_l2=8.457895160598722\n",
      "[LightGBM] [Warning] bagging_freq is set=1, subsample_freq=0 will be ignored. Current value: bagging_freq=1\n"
     ]
    },
    {
     "name": "stderr",
     "output_type": "stream",
     "text": [
      "[I 2023-11-14 07:37:20,145] Trial 25 finished with value: 38459.02081307895 and parameters: {'n_estimators': 767, 'lambda_l2': 8.457895160598722, 'bagging_fraction': 0.8041079068472419, 'num_leaves': 580, 'feature_fraction': 0.7742014997609322, 'max_depth': 13, 'learning_rate': 0.008930092952744793, 'subsample': 0.777432268302187, 'colsample_bytree': 0.89850177871863, 'min_data_in_leaf': 55, 'max_bin': 171}. Best is trial 21 with value: 38435.27106203086.\n",
      "C:\\Users\\Andrew\\anaconda3\\envs\\ml_env\\lib\\site-packages\\lightgbm\\sklearn.py:736: UserWarning: 'verbose' argument is deprecated and will be removed in a future release of LightGBM. Pass 'log_evaluation()' callback via 'callbacks' argument instead.\n",
      "  _log_warning(\"'verbose' argument is deprecated and will be removed in a future release of LightGBM. \"\n"
     ]
    },
    {
     "name": "stdout",
     "output_type": "stream",
     "text": [
      "[LightGBM] [Warning] feature_fraction is set=0.7080199756610764, colsample_bytree=0.7145647735822654 will be ignored. Current value: feature_fraction=0.7080199756610764\n",
      "[LightGBM] [Warning] min_data_in_leaf is set=32, min_child_samples=20 will be ignored. Current value: min_data_in_leaf=32\n",
      "[LightGBM] [Warning] bagging_fraction is set=0.8646468067218588, subsample=0.6433246795209553 will be ignored. Current value: bagging_fraction=0.8646468067218588\n",
      "[LightGBM] [Warning] lambda_l2 is set=8.876237594930952, reg_lambda=0.0 will be ignored. Current value: lambda_l2=8.876237594930952\n",
      "[LightGBM] [Warning] bagging_freq is set=1, subsample_freq=0 will be ignored. Current value: bagging_freq=1\n"
     ]
    },
    {
     "name": "stderr",
     "output_type": "stream",
     "text": [
      "[I 2023-11-14 07:37:32,959] Trial 26 finished with value: 38666.27729513128 and parameters: {'n_estimators': 893, 'lambda_l2': 8.876237594930952, 'bagging_fraction': 0.8646468067218588, 'num_leaves': 121, 'feature_fraction': 0.7080199756610764, 'max_depth': 12, 'learning_rate': 0.01449356985961856, 'subsample': 0.6433246795209553, 'colsample_bytree': 0.7145647735822654, 'min_data_in_leaf': 32, 'max_bin': 229}. Best is trial 21 with value: 38435.27106203086.\n",
      "C:\\Users\\Andrew\\anaconda3\\envs\\ml_env\\lib\\site-packages\\lightgbm\\sklearn.py:736: UserWarning: 'verbose' argument is deprecated and will be removed in a future release of LightGBM. Pass 'log_evaluation()' callback via 'callbacks' argument instead.\n",
      "  _log_warning(\"'verbose' argument is deprecated and will be removed in a future release of LightGBM. \"\n"
     ]
    },
    {
     "name": "stdout",
     "output_type": "stream",
     "text": [
      "[LightGBM] [Warning] feature_fraction is set=0.6362360031683512, colsample_bytree=0.7907368841748692 will be ignored. Current value: feature_fraction=0.6362360031683512\n",
      "[LightGBM] [Warning] min_data_in_leaf is set=46, min_child_samples=20 will be ignored. Current value: min_data_in_leaf=46\n",
      "[LightGBM] [Warning] bagging_fraction is set=0.934212812297027, subsample=0.7371134934911652 will be ignored. Current value: bagging_fraction=0.934212812297027\n",
      "[LightGBM] [Warning] lambda_l2 is set=7.540324921552546, reg_lambda=0.0 will be ignored. Current value: lambda_l2=7.540324921552546\n",
      "[LightGBM] [Warning] bagging_freq is set=1, subsample_freq=0 will be ignored. Current value: bagging_freq=1\n"
     ]
    },
    {
     "name": "stderr",
     "output_type": "stream",
     "text": [
      "[I 2023-11-14 07:37:44,385] Trial 27 finished with value: 38366.63512123794 and parameters: {'n_estimators': 843, 'lambda_l2': 7.540324921552546, 'bagging_fraction': 0.934212812297027, 'num_leaves': 507, 'feature_fraction': 0.6362360031683512, 'max_depth': 10, 'learning_rate': 0.00888018088677683, 'subsample': 0.7371134934911652, 'colsample_bytree': 0.7907368841748692, 'min_data_in_leaf': 46, 'max_bin': 230}. Best is trial 27 with value: 38366.63512123794.\n",
      "C:\\Users\\Andrew\\anaconda3\\envs\\ml_env\\lib\\site-packages\\lightgbm\\sklearn.py:736: UserWarning: 'verbose' argument is deprecated and will be removed in a future release of LightGBM. Pass 'log_evaluation()' callback via 'callbacks' argument instead.\n",
      "  _log_warning(\"'verbose' argument is deprecated and will be removed in a future release of LightGBM. \"\n"
     ]
    },
    {
     "name": "stdout",
     "output_type": "stream",
     "text": [
      "[LightGBM] [Warning] feature_fraction is set=0.615518530950563, colsample_bytree=0.7610388533996385 will be ignored. Current value: feature_fraction=0.615518530950563\n",
      "[LightGBM] [Warning] min_data_in_leaf is set=52, min_child_samples=20 will be ignored. Current value: min_data_in_leaf=52\n",
      "[LightGBM] [Warning] bagging_fraction is set=0.9636492868257603, subsample=0.7229667751483916 will be ignored. Current value: bagging_fraction=0.9636492868257603\n",
      "[LightGBM] [Warning] lambda_l2 is set=7.117449203501024, reg_lambda=0.0 will be ignored. Current value: lambda_l2=7.117449203501024\n",
      "[LightGBM] [Warning] bagging_freq is set=1, subsample_freq=0 will be ignored. Current value: bagging_freq=1\n"
     ]
    },
    {
     "name": "stderr",
     "output_type": "stream",
     "text": [
      "[I 2023-11-14 07:37:57,571] Trial 28 finished with value: 38556.27688577657 and parameters: {'n_estimators': 822, 'lambda_l2': 7.117449203501024, 'bagging_fraction': 0.9636492868257603, 'num_leaves': 505, 'feature_fraction': 0.615518530950563, 'max_depth': 10, 'learning_rate': 0.004838960184545148, 'subsample': 0.7229667751483916, 'colsample_bytree': 0.7610388533996385, 'min_data_in_leaf': 52, 'max_bin': 237}. Best is trial 27 with value: 38366.63512123794.\n",
      "C:\\Users\\Andrew\\anaconda3\\envs\\ml_env\\lib\\site-packages\\lightgbm\\sklearn.py:736: UserWarning: 'verbose' argument is deprecated and will be removed in a future release of LightGBM. Pass 'log_evaluation()' callback via 'callbacks' argument instead.\n",
      "  _log_warning(\"'verbose' argument is deprecated and will be removed in a future release of LightGBM. \"\n"
     ]
    },
    {
     "name": "stdout",
     "output_type": "stream",
     "text": [
      "[LightGBM] [Warning] feature_fraction is set=0.6499552844137975, colsample_bytree=0.6820632993804449 will be ignored. Current value: feature_fraction=0.6499552844137975\n",
      "[LightGBM] [Warning] min_data_in_leaf is set=80, min_child_samples=20 will be ignored. Current value: min_data_in_leaf=80\n",
      "[LightGBM] [Warning] bagging_fraction is set=0.9204696430738387, subsample=0.5832543000943513 will be ignored. Current value: bagging_fraction=0.9204696430738387\n",
      "[LightGBM] [Warning] lambda_l2 is set=7.657495324462321, reg_lambda=0.0 will be ignored. Current value: lambda_l2=7.657495324462321\n",
      "[LightGBM] [Warning] bagging_freq is set=1, subsample_freq=0 will be ignored. Current value: bagging_freq=1\n"
     ]
    },
    {
     "name": "stderr",
     "output_type": "stream",
     "text": [
      "[I 2023-11-14 07:38:06,054] Trial 29 finished with value: 40035.37971714469 and parameters: {'n_estimators': 997, 'lambda_l2': 7.657495324462321, 'bagging_fraction': 0.9204696430738387, 'num_leaves': 680, 'feature_fraction': 0.6499552844137975, 'max_depth': 10, 'learning_rate': 0.0668297260547953, 'subsample': 0.5832543000943513, 'colsample_bytree': 0.6820632993804449, 'min_data_in_leaf': 80, 'max_bin': 255}. Best is trial 27 with value: 38366.63512123794.\n",
      "C:\\Users\\Andrew\\anaconda3\\envs\\ml_env\\lib\\site-packages\\lightgbm\\sklearn.py:736: UserWarning: 'verbose' argument is deprecated and will be removed in a future release of LightGBM. Pass 'log_evaluation()' callback via 'callbacks' argument instead.\n",
      "  _log_warning(\"'verbose' argument is deprecated and will be removed in a future release of LightGBM. \"\n"
     ]
    },
    {
     "name": "stdout",
     "output_type": "stream",
     "text": [
      "[LightGBM] [Warning] feature_fraction is set=0.6646758331155727, colsample_bytree=0.8054384065804729 will be ignored. Current value: feature_fraction=0.6646758331155727\n",
      "[LightGBM] [Warning] min_data_in_leaf is set=58, min_child_samples=20 will be ignored. Current value: min_data_in_leaf=58\n",
      "[LightGBM] [Warning] bagging_fraction is set=0.9497323136135287, subsample=0.6228410845446541 will be ignored. Current value: bagging_fraction=0.9497323136135287\n",
      "[LightGBM] [Warning] lambda_l2 is set=9.958598787432438, reg_lambda=0.0 will be ignored. Current value: lambda_l2=9.958598787432438\n",
      "[LightGBM] [Warning] bagging_freq is set=1, subsample_freq=0 will be ignored. Current value: bagging_freq=1\n"
     ]
    },
    {
     "name": "stderr",
     "output_type": "stream",
     "text": [
      "[I 2023-11-14 07:38:26,592] Trial 30 finished with value: 39459.41429614896 and parameters: {'n_estimators': 769, 'lambda_l2': 9.958598787432438, 'bagging_fraction': 0.9497323136135287, 'num_leaves': 482, 'feature_fraction': 0.6646758331155727, 'max_depth': 15, 'learning_rate': 0.0025216472034268467, 'subsample': 0.6228410845446541, 'colsample_bytree': 0.8054384065804729, 'min_data_in_leaf': 58, 'max_bin': 295}. Best is trial 27 with value: 38366.63512123794.\n",
      "C:\\Users\\Andrew\\anaconda3\\envs\\ml_env\\lib\\site-packages\\lightgbm\\sklearn.py:736: UserWarning: 'verbose' argument is deprecated and will be removed in a future release of LightGBM. Pass 'log_evaluation()' callback via 'callbacks' argument instead.\n",
      "  _log_warning(\"'verbose' argument is deprecated and will be removed in a future release of LightGBM. \"\n"
     ]
    },
    {
     "name": "stdout",
     "output_type": "stream",
     "text": [
      "[LightGBM] [Warning] feature_fraction is set=0.7125950149184351, colsample_bytree=0.902060457381532 will be ignored. Current value: feature_fraction=0.7125950149184351\n",
      "[LightGBM] [Warning] min_data_in_leaf is set=45, min_child_samples=20 will be ignored. Current value: min_data_in_leaf=45\n",
      "[LightGBM] [Warning] bagging_fraction is set=0.8987469861919891, subsample=0.8620361200244543 will be ignored. Current value: bagging_fraction=0.8987469861919891\n",
      "[LightGBM] [Warning] lambda_l2 is set=8.874509471024307, reg_lambda=0.0 will be ignored. Current value: lambda_l2=8.874509471024307\n",
      "[LightGBM] [Warning] bagging_freq is set=1, subsample_freq=0 will be ignored. Current value: bagging_freq=1\n"
     ]
    },
    {
     "name": "stderr",
     "output_type": "stream",
     "text": [
      "[I 2023-11-14 07:38:39,157] Trial 31 finished with value: 38475.77727169641 and parameters: {'n_estimators': 845, 'lambda_l2': 8.874509471024307, 'bagging_fraction': 0.8987469861919891, 'num_leaves': 833, 'feature_fraction': 0.7125950149184351, 'max_depth': 12, 'learning_rate': 0.009021259539163119, 'subsample': 0.8620361200244543, 'colsample_bytree': 0.902060457381532, 'min_data_in_leaf': 45, 'max_bin': 165}. Best is trial 27 with value: 38366.63512123794.\n",
      "C:\\Users\\Andrew\\anaconda3\\envs\\ml_env\\lib\\site-packages\\lightgbm\\sklearn.py:736: UserWarning: 'verbose' argument is deprecated and will be removed in a future release of LightGBM. Pass 'log_evaluation()' callback via 'callbacks' argument instead.\n",
      "  _log_warning(\"'verbose' argument is deprecated and will be removed in a future release of LightGBM. \"\n"
     ]
    },
    {
     "name": "stdout",
     "output_type": "stream",
     "text": [
      "[LightGBM] [Warning] feature_fraction is set=0.6310830331453144, colsample_bytree=0.9398417250728438 will be ignored. Current value: feature_fraction=0.6310830331453144\n",
      "[LightGBM] [Warning] min_data_in_leaf is set=38, min_child_samples=20 will be ignored. Current value: min_data_in_leaf=38\n",
      "[LightGBM] [Warning] bagging_fraction is set=0.8715648017098235, subsample=0.7976655912560283 will be ignored. Current value: bagging_fraction=0.8715648017098235\n",
      "[LightGBM] [Warning] lambda_l2 is set=8.152149826665585, reg_lambda=0.0 will be ignored. Current value: lambda_l2=8.152149826665585\n",
      "[LightGBM] [Warning] bagging_freq is set=1, subsample_freq=0 will be ignored. Current value: bagging_freq=1\n"
     ]
    },
    {
     "name": "stderr",
     "output_type": "stream",
     "text": [
      "[I 2023-11-14 07:38:52,386] Trial 32 finished with value: 38721.99744335057 and parameters: {'n_estimators': 854, 'lambda_l2': 8.152149826665585, 'bagging_fraction': 0.8715648017098235, 'num_leaves': 553, 'feature_fraction': 0.6310830331453144, 'max_depth': 13, 'learning_rate': 0.013587499652858515, 'subsample': 0.7976655912560283, 'colsample_bytree': 0.9398417250728438, 'min_data_in_leaf': 38, 'max_bin': 208}. Best is trial 27 with value: 38366.63512123794.\n",
      "C:\\Users\\Andrew\\anaconda3\\envs\\ml_env\\lib\\site-packages\\lightgbm\\sklearn.py:736: UserWarning: 'verbose' argument is deprecated and will be removed in a future release of LightGBM. Pass 'log_evaluation()' callback via 'callbacks' argument instead.\n",
      "  _log_warning(\"'verbose' argument is deprecated and will be removed in a future release of LightGBM. \"\n"
     ]
    },
    {
     "name": "stdout",
     "output_type": "stream",
     "text": [
      "[LightGBM] [Warning] feature_fraction is set=0.6864365936394377, colsample_bytree=0.8500717211078491 will be ignored. Current value: feature_fraction=0.6864365936394377\n",
      "[LightGBM] [Warning] min_data_in_leaf is set=47, min_child_samples=20 will be ignored. Current value: min_data_in_leaf=47\n",
      "[LightGBM] [Warning] bagging_fraction is set=0.8212524434096794, subsample=0.7227675964333954 will be ignored. Current value: bagging_fraction=0.8212524434096794\n",
      "[LightGBM] [Warning] lambda_l2 is set=9.120174322435526, reg_lambda=0.0 will be ignored. Current value: lambda_l2=9.120174322435526\n",
      "[LightGBM] [Warning] bagging_freq is set=1, subsample_freq=0 will be ignored. Current value: bagging_freq=1\n"
     ]
    },
    {
     "name": "stderr",
     "output_type": "stream",
     "text": [
      "[I 2023-11-14 07:39:01,912] Trial 33 finished with value: 38358.47512708974 and parameters: {'n_estimators': 892, 'lambda_l2': 9.120174322435526, 'bagging_fraction': 0.8212524434096794, 'num_leaves': 312, 'feature_fraction': 0.6864365936394377, 'max_depth': 10, 'learning_rate': 0.009025702249254646, 'subsample': 0.7227675964333954, 'colsample_bytree': 0.8500717211078491, 'min_data_in_leaf': 47, 'max_bin': 186}. Best is trial 33 with value: 38358.47512708974.\n",
      "C:\\Users\\Andrew\\anaconda3\\envs\\ml_env\\lib\\site-packages\\lightgbm\\sklearn.py:736: UserWarning: 'verbose' argument is deprecated and will be removed in a future release of LightGBM. Pass 'log_evaluation()' callback via 'callbacks' argument instead.\n",
      "  _log_warning(\"'verbose' argument is deprecated and will be removed in a future release of LightGBM. \"\n"
     ]
    },
    {
     "name": "stdout",
     "output_type": "stream",
     "text": [
      "[LightGBM] [Warning] feature_fraction is set=0.6774758257628701, colsample_bytree=0.8560471276080658 will be ignored. Current value: feature_fraction=0.6774758257628701\n",
      "[LightGBM] [Warning] min_data_in_leaf is set=67, min_child_samples=20 will be ignored. Current value: min_data_in_leaf=67\n",
      "[LightGBM] [Warning] bagging_fraction is set=0.8153536953056564, subsample=0.7035763233854005 will be ignored. Current value: bagging_fraction=0.8153536953056564\n",
      "[LightGBM] [Warning] lambda_l2 is set=9.1947521247167, reg_lambda=0.0 will be ignored. Current value: lambda_l2=9.1947521247167\n",
      "[LightGBM] [Warning] bagging_freq is set=1, subsample_freq=0 will be ignored. Current value: bagging_freq=1\n"
     ]
    },
    {
     "name": "stderr",
     "output_type": "stream",
     "text": [
      "[I 2023-11-14 07:39:12,225] Trial 34 finished with value: 38568.15802240149 and parameters: {'n_estimators': 888, 'lambda_l2': 9.1947521247167, 'bagging_fraction': 0.8153536953056564, 'num_leaves': 298, 'feature_fraction': 0.6774758257628701, 'max_depth': 10, 'learning_rate': 0.005594454463976644, 'subsample': 0.7035763233854005, 'colsample_bytree': 0.8560471276080658, 'min_data_in_leaf': 67, 'max_bin': 217}. Best is trial 33 with value: 38358.47512708974.\n",
      "C:\\Users\\Andrew\\anaconda3\\envs\\ml_env\\lib\\site-packages\\lightgbm\\sklearn.py:736: UserWarning: 'verbose' argument is deprecated and will be removed in a future release of LightGBM. Pass 'log_evaluation()' callback via 'callbacks' argument instead.\n",
      "  _log_warning(\"'verbose' argument is deprecated and will be removed in a future release of LightGBM. \"\n"
     ]
    },
    {
     "name": "stdout",
     "output_type": "stream",
     "text": [
      "[LightGBM] [Warning] feature_fraction is set=0.6987460548706966, colsample_bytree=0.8062045848726094 will be ignored. Current value: feature_fraction=0.6987460548706966\n",
      "[LightGBM] [Warning] min_data_in_leaf is set=31, min_child_samples=20 will be ignored. Current value: min_data_in_leaf=31\n",
      "[LightGBM] [Warning] bagging_fraction is set=0.8772114422714393, subsample=0.8924389961519081 will be ignored. Current value: bagging_fraction=0.8772114422714393\n",
      "[LightGBM] [Warning] lambda_l2 is set=9.088134337062714, reg_lambda=0.0 will be ignored. Current value: lambda_l2=9.088134337062714\n",
      "[LightGBM] [Warning] bagging_freq is set=1, subsample_freq=0 will be ignored. Current value: bagging_freq=1\n"
     ]
    },
    {
     "name": "stderr",
     "output_type": "stream",
     "text": [
      "[I 2023-11-14 07:39:25,730] Trial 35 finished with value: 38433.94360548685 and parameters: {'n_estimators': 952, 'lambda_l2': 9.088134337062714, 'bagging_fraction': 0.8772114422714393, 'num_leaves': 445, 'feature_fraction': 0.6987460548706966, 'max_depth': 11, 'learning_rate': 0.008081669924653458, 'subsample': 0.8924389961519081, 'colsample_bytree': 0.8062045848726094, 'min_data_in_leaf': 31, 'max_bin': 150}. Best is trial 33 with value: 38358.47512708974.\n",
      "C:\\Users\\Andrew\\anaconda3\\envs\\ml_env\\lib\\site-packages\\lightgbm\\sklearn.py:736: UserWarning: 'verbose' argument is deprecated and will be removed in a future release of LightGBM. Pass 'log_evaluation()' callback via 'callbacks' argument instead.\n",
      "  _log_warning(\"'verbose' argument is deprecated and will be removed in a future release of LightGBM. \"\n"
     ]
    },
    {
     "name": "stdout",
     "output_type": "stream",
     "text": [
      "[LightGBM] [Warning] feature_fraction is set=0.6943012101447136, colsample_bytree=0.7771809516250275 will be ignored. Current value: feature_fraction=0.6943012101447136\n",
      "[LightGBM] [Warning] min_data_in_leaf is set=26, min_child_samples=20 will be ignored. Current value: min_data_in_leaf=26\n",
      "[LightGBM] [Warning] bagging_fraction is set=0.8798688020260801, subsample=0.9015944904764788 will be ignored. Current value: bagging_fraction=0.8798688020260801\n",
      "[LightGBM] [Warning] lambda_l2 is set=9.142003588994932, reg_lambda=0.0 will be ignored. Current value: lambda_l2=9.142003588994932\n",
      "[LightGBM] [Warning] bagging_freq is set=1, subsample_freq=0 will be ignored. Current value: bagging_freq=1\n"
     ]
    },
    {
     "name": "stderr",
     "output_type": "stream",
     "text": [
      "[I 2023-11-14 07:39:38,987] Trial 36 finished with value: 38580.619674959955 and parameters: {'n_estimators': 950, 'lambda_l2': 9.142003588994932, 'bagging_fraction': 0.8798688020260801, 'num_leaves': 448, 'feature_fraction': 0.6943012101447136, 'max_depth': 9, 'learning_rate': 0.004335885741470699, 'subsample': 0.9015944904764788, 'colsample_bytree': 0.7771809516250275, 'min_data_in_leaf': 26, 'max_bin': 154}. Best is trial 33 with value: 38358.47512708974.\n",
      "C:\\Users\\Andrew\\anaconda3\\envs\\ml_env\\lib\\site-packages\\lightgbm\\sklearn.py:736: UserWarning: 'verbose' argument is deprecated and will be removed in a future release of LightGBM. Pass 'log_evaluation()' callback via 'callbacks' argument instead.\n",
      "  _log_warning(\"'verbose' argument is deprecated and will be removed in a future release of LightGBM. \"\n"
     ]
    },
    {
     "name": "stdout",
     "output_type": "stream",
     "text": [
      "[LightGBM] [Warning] feature_fraction is set=0.6130836695915051, colsample_bytree=0.9987801493523015 will be ignored. Current value: feature_fraction=0.6130836695915051\n",
      "[LightGBM] [Warning] min_data_in_leaf is set=32, min_child_samples=20 will be ignored. Current value: min_data_in_leaf=32\n",
      "[LightGBM] [Warning] bagging_fraction is set=0.925600219499232, subsample=0.8542925559685568 will be ignored. Current value: bagging_fraction=0.925600219499232\n",
      "[LightGBM] [Warning] lambda_l2 is set=9.217184376516988, reg_lambda=0.0 will be ignored. Current value: lambda_l2=9.217184376516988\n",
      "[LightGBM] [Warning] bagging_freq is set=1, subsample_freq=0 will be ignored. Current value: bagging_freq=1\n"
     ]
    },
    {
     "name": "stderr",
     "output_type": "stream",
     "text": [
      "[I 2023-11-14 07:39:56,581] Trial 37 finished with value: 38493.68230391849 and parameters: {'n_estimators': 935, 'lambda_l2': 9.217184376516988, 'bagging_fraction': 0.925600219499232, 'num_leaves': 293, 'feature_fraction': 0.6130836695915051, 'max_depth': 11, 'learning_rate': 0.006185018167697081, 'subsample': 0.8542925559685568, 'colsample_bytree': 0.9987801493523015, 'min_data_in_leaf': 32, 'max_bin': 140}. Best is trial 33 with value: 38358.47512708974.\n",
      "C:\\Users\\Andrew\\anaconda3\\envs\\ml_env\\lib\\site-packages\\lightgbm\\sklearn.py:736: UserWarning: 'verbose' argument is deprecated and will be removed in a future release of LightGBM. Pass 'log_evaluation()' callback via 'callbacks' argument instead.\n",
      "  _log_warning(\"'verbose' argument is deprecated and will be removed in a future release of LightGBM. \"\n"
     ]
    },
    {
     "name": "stdout",
     "output_type": "stream",
     "text": [
      "[LightGBM] [Warning] feature_fraction is set=0.664990927008856, colsample_bytree=0.8048202391135235 will be ignored. Current value: feature_fraction=0.664990927008856\n",
      "[LightGBM] [Warning] min_data_in_leaf is set=29, min_child_samples=20 will be ignored. Current value: min_data_in_leaf=29\n",
      "[LightGBM] [Warning] bagging_fraction is set=0.8806961803715622, subsample=0.9166242946416379 will be ignored. Current value: bagging_fraction=0.8806961803715622\n",
      "[LightGBM] [Warning] lambda_l2 is set=9.559080223322075, reg_lambda=0.0 will be ignored. Current value: lambda_l2=9.559080223322075\n",
      "[LightGBM] [Warning] bagging_freq is set=1, subsample_freq=0 will be ignored. Current value: bagging_freq=1\n"
     ]
    },
    {
     "name": "stderr",
     "output_type": "stream",
     "text": [
      "[I 2023-11-14 07:40:07,877] Trial 38 finished with value: 38951.45870137653 and parameters: {'n_estimators': 908, 'lambda_l2': 9.559080223322075, 'bagging_fraction': 0.8806961803715622, 'num_leaves': 351, 'feature_fraction': 0.664990927008856, 'max_depth': 8, 'learning_rate': 0.003312178872449354, 'subsample': 0.9166242946416379, 'colsample_bytree': 0.8048202391135235, 'min_data_in_leaf': 29, 'max_bin': 131}. Best is trial 33 with value: 38358.47512708974.\n",
      "C:\\Users\\Andrew\\anaconda3\\envs\\ml_env\\lib\\site-packages\\lightgbm\\sklearn.py:736: UserWarning: 'verbose' argument is deprecated and will be removed in a future release of LightGBM. Pass 'log_evaluation()' callback via 'callbacks' argument instead.\n",
      "  _log_warning(\"'verbose' argument is deprecated and will be removed in a future release of LightGBM. \"\n"
     ]
    },
    {
     "name": "stdout",
     "output_type": "stream",
     "text": [
      "[LightGBM] [Warning] feature_fraction is set=0.7022200422896903, colsample_bytree=0.6637403589642128 will be ignored. Current value: feature_fraction=0.7022200422896903\n",
      "[LightGBM] [Warning] min_data_in_leaf is set=22, min_child_samples=20 will be ignored. Current value: min_data_in_leaf=22\n",
      "[LightGBM] [Warning] bagging_fraction is set=0.8297211699863656, subsample=0.8293193634200635 will be ignored. Current value: bagging_fraction=0.8297211699863656\n",
      "[LightGBM] [Warning] lambda_l2 is set=8.796445529952827, reg_lambda=0.0 will be ignored. Current value: lambda_l2=8.796445529952827\n",
      "[LightGBM] [Warning] bagging_freq is set=1, subsample_freq=0 will be ignored. Current value: bagging_freq=1\n"
     ]
    },
    {
     "name": "stderr",
     "output_type": "stream",
     "text": [
      "[I 2023-11-14 07:40:22,908] Trial 39 finished with value: 38519.12722343993 and parameters: {'n_estimators': 982, 'lambda_l2': 8.796445529952827, 'bagging_fraction': 0.8297211699863656, 'num_leaves': 439, 'feature_fraction': 0.7022200422896903, 'max_depth': 10, 'learning_rate': 0.008093831811501289, 'subsample': 0.8293193634200635, 'colsample_bytree': 0.6637403589642128, 'min_data_in_leaf': 22, 'max_bin': 172}. Best is trial 33 with value: 38358.47512708974.\n",
      "C:\\Users\\Andrew\\anaconda3\\envs\\ml_env\\lib\\site-packages\\lightgbm\\sklearn.py:736: UserWarning: 'verbose' argument is deprecated and will be removed in a future release of LightGBM. Pass 'log_evaluation()' callback via 'callbacks' argument instead.\n",
      "  _log_warning(\"'verbose' argument is deprecated and will be removed in a future release of LightGBM. \"\n"
     ]
    },
    {
     "name": "stdout",
     "output_type": "stream",
     "text": [
      "[LightGBM] [Warning] feature_fraction is set=0.6604324925926955, colsample_bytree=0.7150981567836613 will be ignored. Current value: feature_fraction=0.6604324925926955\n",
      "[LightGBM] [Warning] min_data_in_leaf is set=52, min_child_samples=20 will be ignored. Current value: min_data_in_leaf=52\n",
      "[LightGBM] [Warning] bagging_fraction is set=0.7842333436465975, subsample=0.7303923091895896 will be ignored. Current value: bagging_fraction=0.7842333436465975\n",
      "[LightGBM] [Warning] lambda_l2 is set=6.5652971603616015, reg_lambda=0.0 will be ignored. Current value: lambda_l2=6.5652971603616015\n",
      "[LightGBM] [Warning] bagging_freq is set=1, subsample_freq=0 will be ignored. Current value: bagging_freq=1\n"
     ]
    },
    {
     "name": "stderr",
     "output_type": "stream",
     "text": [
      "[I 2023-11-14 07:40:33,411] Trial 40 finished with value: 38450.57203168928 and parameters: {'n_estimators': 953, 'lambda_l2': 6.5652971603616015, 'bagging_fraction': 0.7842333436465975, 'num_leaves': 141, 'feature_fraction': 0.6604324925926955, 'max_depth': 10, 'learning_rate': 0.011889723268458888, 'subsample': 0.7303923091895896, 'colsample_bytree': 0.7150981567836613, 'min_data_in_leaf': 52, 'max_bin': 275}. Best is trial 33 with value: 38358.47512708974.\n",
      "C:\\Users\\Andrew\\anaconda3\\envs\\ml_env\\lib\\site-packages\\lightgbm\\sklearn.py:736: UserWarning: 'verbose' argument is deprecated and will be removed in a future release of LightGBM. Pass 'log_evaluation()' callback via 'callbacks' argument instead.\n",
      "  _log_warning(\"'verbose' argument is deprecated and will be removed in a future release of LightGBM. \"\n"
     ]
    },
    {
     "name": "stdout",
     "output_type": "stream",
     "text": [
      "[LightGBM] [Warning] feature_fraction is set=0.7646276949178893, colsample_bytree=0.852160328302262 will be ignored. Current value: feature_fraction=0.7646276949178893\n",
      "[LightGBM] [Warning] min_data_in_leaf is set=78, min_child_samples=20 will be ignored. Current value: min_data_in_leaf=78\n",
      "[LightGBM] [Warning] bagging_fraction is set=0.8571108455669122, subsample=0.740802590161897 will be ignored. Current value: bagging_fraction=0.8571108455669122\n",
      "[LightGBM] [Warning] lambda_l2 is set=7.9144660553725785, reg_lambda=0.0 will be ignored. Current value: lambda_l2=7.9144660553725785\n",
      "[LightGBM] [Warning] bagging_freq is set=1, subsample_freq=0 will be ignored. Current value: bagging_freq=1\n"
     ]
    },
    {
     "name": "stderr",
     "output_type": "stream",
     "text": [
      "[I 2023-11-14 07:40:43,402] Trial 41 finished with value: 38466.45288632068 and parameters: {'n_estimators': 831, 'lambda_l2': 7.9144660553725785, 'bagging_fraction': 0.8571108455669122, 'num_leaves': 537, 'feature_fraction': 0.7646276949178893, 'max_depth': 11, 'learning_rate': 0.007912498397394151, 'subsample': 0.740802590161897, 'colsample_bytree': 0.852160328302262, 'min_data_in_leaf': 78, 'max_bin': 196}. Best is trial 33 with value: 38358.47512708974.\n",
      "C:\\Users\\Andrew\\anaconda3\\envs\\ml_env\\lib\\site-packages\\lightgbm\\sklearn.py:736: UserWarning: 'verbose' argument is deprecated and will be removed in a future release of LightGBM. Pass 'log_evaluation()' callback via 'callbacks' argument instead.\n",
      "  _log_warning(\"'verbose' argument is deprecated and will be removed in a future release of LightGBM. \"\n"
     ]
    },
    {
     "name": "stdout",
     "output_type": "stream",
     "text": [
      "[LightGBM] [Warning] feature_fraction is set=0.7157610653487053, colsample_bytree=0.945576733314843 will be ignored. Current value: feature_fraction=0.7157610653487053\n",
      "[LightGBM] [Warning] min_data_in_leaf is set=60, min_child_samples=20 will be ignored. Current value: min_data_in_leaf=60\n",
      "[LightGBM] [Warning] bagging_fraction is set=0.8272324400615318, subsample=0.8548133816303772 will be ignored. Current value: bagging_fraction=0.8272324400615318\n",
      "[LightGBM] [Warning] lambda_l2 is set=7.45244280631027, reg_lambda=0.0 will be ignored. Current value: lambda_l2=7.45244280631027\n",
      "[LightGBM] [Warning] bagging_freq is set=1, subsample_freq=0 will be ignored. Current value: bagging_freq=1\n"
     ]
    },
    {
     "name": "stderr",
     "output_type": "stream",
     "text": [
      "[I 2023-11-14 07:40:55,942] Trial 42 finished with value: 38495.95756574286 and parameters: {'n_estimators': 892, 'lambda_l2': 7.45244280631027, 'bagging_fraction': 0.8272324400615318, 'num_leaves': 640, 'feature_fraction': 0.7157610653487053, 'max_depth': 11, 'learning_rate': 0.005879001907286505, 'subsample': 0.8548133816303772, 'colsample_bytree': 0.945576733314843, 'min_data_in_leaf': 60, 'max_bin': 218}. Best is trial 33 with value: 38358.47512708974.\n",
      "C:\\Users\\Andrew\\anaconda3\\envs\\ml_env\\lib\\site-packages\\lightgbm\\sklearn.py:736: UserWarning: 'verbose' argument is deprecated and will be removed in a future release of LightGBM. Pass 'log_evaluation()' callback via 'callbacks' argument instead.\n",
      "  _log_warning(\"'verbose' argument is deprecated and will be removed in a future release of LightGBM. \"\n"
     ]
    },
    {
     "name": "stdout",
     "output_type": "stream",
     "text": [
      "[LightGBM] [Warning] feature_fraction is set=0.6847118974197975, colsample_bytree=0.8148713486546576 will be ignored. Current value: feature_fraction=0.6847118974197975\n",
      "[LightGBM] [Warning] min_data_in_leaf is set=14, min_child_samples=20 will be ignored. Current value: min_data_in_leaf=14\n",
      "[LightGBM] [Warning] bagging_fraction is set=0.8531844171278923, subsample=0.9634947260435232 will be ignored. Current value: bagging_fraction=0.8531844171278923\n",
      "[LightGBM] [Warning] lambda_l2 is set=9.585470125223946, reg_lambda=0.0 will be ignored. Current value: lambda_l2=9.585470125223946\n",
      "[LightGBM] [Warning] bagging_freq is set=1, subsample_freq=0 will be ignored. Current value: bagging_freq=1\n"
     ]
    },
    {
     "name": "stderr",
     "output_type": "stream",
     "text": [
      "[I 2023-11-14 07:41:06,465] Trial 43 finished with value: 38551.35245744521 and parameters: {'n_estimators': 899, 'lambda_l2': 9.585470125223946, 'bagging_fraction': 0.8531844171278923, 'num_leaves': 470, 'feature_fraction': 0.6847118974197975, 'max_depth': 9, 'learning_rate': 0.010449800133491529, 'subsample': 0.9634947260435232, 'colsample_bytree': 0.8148713486546576, 'min_data_in_leaf': 14, 'max_bin': 190}. Best is trial 33 with value: 38358.47512708974.\n",
      "C:\\Users\\Andrew\\anaconda3\\envs\\ml_env\\lib\\site-packages\\lightgbm\\sklearn.py:736: UserWarning: 'verbose' argument is deprecated and will be removed in a future release of LightGBM. Pass 'log_evaluation()' callback via 'callbacks' argument instead.\n",
      "  _log_warning(\"'verbose' argument is deprecated and will be removed in a future release of LightGBM. \"\n"
     ]
    },
    {
     "name": "stdout",
     "output_type": "stream",
     "text": [
      "[LightGBM] [Warning] feature_fraction is set=0.6261205328513119, colsample_bytree=0.8786144011038255 will be ignored. Current value: feature_fraction=0.6261205328513119\n",
      "[LightGBM] [Warning] min_data_in_leaf is set=68, min_child_samples=20 will be ignored. Current value: min_data_in_leaf=68\n",
      "[LightGBM] [Warning] bagging_fraction is set=0.8981177243154277, subsample=0.8926869618493646 will be ignored. Current value: bagging_fraction=0.8981177243154277\n",
      "[LightGBM] [Warning] lambda_l2 is set=8.736391429834825, reg_lambda=0.0 will be ignored. Current value: lambda_l2=8.736391429834825\n",
      "[LightGBM] [Warning] bagging_freq is set=1, subsample_freq=0 will be ignored. Current value: bagging_freq=1\n"
     ]
    },
    {
     "name": "stderr",
     "output_type": "stream",
     "text": [
      "[I 2023-11-14 07:41:18,653] Trial 44 finished with value: 38435.264860239484 and parameters: {'n_estimators': 793, 'lambda_l2': 8.736391429834825, 'bagging_fraction': 0.8981177243154277, 'num_leaves': 411, 'feature_fraction': 0.6261205328513119, 'max_depth': 14, 'learning_rate': 0.0077587803342942544, 'subsample': 0.8926869618493646, 'colsample_bytree': 0.8786144011038255, 'min_data_in_leaf': 68, 'max_bin': 159}. Best is trial 33 with value: 38358.47512708974.\n",
      "C:\\Users\\Andrew\\anaconda3\\envs\\ml_env\\lib\\site-packages\\lightgbm\\sklearn.py:736: UserWarning: 'verbose' argument is deprecated and will be removed in a future release of LightGBM. Pass 'log_evaluation()' callback via 'callbacks' argument instead.\n",
      "  _log_warning(\"'verbose' argument is deprecated and will be removed in a future release of LightGBM. \"\n"
     ]
    },
    {
     "name": "stdout",
     "output_type": "stream",
     "text": [
      "[LightGBM] [Warning] feature_fraction is set=0.5932301530251893, colsample_bytree=0.9304500659927992 will be ignored. Current value: feature_fraction=0.5932301530251893\n",
      "[LightGBM] [Warning] min_data_in_leaf is set=48, min_child_samples=20 will be ignored. Current value: min_data_in_leaf=48\n",
      "[LightGBM] [Warning] bagging_fraction is set=0.9122485457619444, subsample=0.8961731024174344 will be ignored. Current value: bagging_fraction=0.9122485457619444\n",
      "[LightGBM] [Warning] lambda_l2 is set=8.730336717183128, reg_lambda=0.0 will be ignored. Current value: lambda_l2=8.730336717183128\n",
      "[LightGBM] [Warning] bagging_freq is set=1, subsample_freq=0 will be ignored. Current value: bagging_freq=1\n"
     ]
    },
    {
     "name": "stderr",
     "output_type": "stream",
     "text": [
      "[I 2023-11-14 07:41:34,303] Trial 45 finished with value: 38585.76641454848 and parameters: {'n_estimators': 790, 'lambda_l2': 8.730336717183128, 'bagging_fraction': 0.9122485457619444, 'num_leaves': 399, 'feature_fraction': 0.5932301530251893, 'max_depth': 14, 'learning_rate': 0.004215147037339746, 'subsample': 0.8961731024174344, 'colsample_bytree': 0.9304500659927992, 'min_data_in_leaf': 48, 'max_bin': 154}. Best is trial 33 with value: 38358.47512708974.\n",
      "C:\\Users\\Andrew\\anaconda3\\envs\\ml_env\\lib\\site-packages\\lightgbm\\sklearn.py:736: UserWarning: 'verbose' argument is deprecated and will be removed in a future release of LightGBM. Pass 'log_evaluation()' callback via 'callbacks' argument instead.\n",
      "  _log_warning(\"'verbose' argument is deprecated and will be removed in a future release of LightGBM. \"\n"
     ]
    },
    {
     "name": "stdout",
     "output_type": "stream",
     "text": [
      "[LightGBM] [Warning] feature_fraction is set=0.6398029275816542, colsample_bytree=0.7641806423484908 will be ignored. Current value: feature_fraction=0.6398029275816542\n",
      "[LightGBM] [Warning] min_data_in_leaf is set=55, min_child_samples=20 will be ignored. Current value: min_data_in_leaf=55\n",
      "[LightGBM] [Warning] bagging_fraction is set=0.9388375318754775, subsample=0.9904664167282979 will be ignored. Current value: bagging_fraction=0.9388375318754775\n",
      "[LightGBM] [Warning] lambda_l2 is set=7.943453844663894, reg_lambda=0.0 will be ignored. Current value: lambda_l2=7.943453844663894\n",
      "[LightGBM] [Warning] bagging_freq is set=1, subsample_freq=0 will be ignored. Current value: bagging_freq=1\n"
     ]
    },
    {
     "name": "stderr",
     "output_type": "stream",
     "text": [
      "[I 2023-11-14 07:41:47,098] Trial 46 finished with value: 38521.56021869959 and parameters: {'n_estimators': 718, 'lambda_l2': 7.943453844663894, 'bagging_fraction': 0.9388375318754775, 'num_leaves': 330, 'feature_fraction': 0.6398029275816542, 'max_depth': 15, 'learning_rate': 0.007009899507288785, 'subsample': 0.9904664167282979, 'colsample_bytree': 0.7641806423484908, 'min_data_in_leaf': 55, 'max_bin': 129}. Best is trial 33 with value: 38358.47512708974.\n",
      "C:\\Users\\Andrew\\anaconda3\\envs\\ml_env\\lib\\site-packages\\lightgbm\\sklearn.py:736: UserWarning: 'verbose' argument is deprecated and will be removed in a future release of LightGBM. Pass 'log_evaluation()' callback via 'callbacks' argument instead.\n",
      "  _log_warning(\"'verbose' argument is deprecated and will be removed in a future release of LightGBM. \"\n"
     ]
    },
    {
     "name": "stdout",
     "output_type": "stream",
     "text": [
      "[LightGBM] [Warning] feature_fraction is set=0.6205333024581456, colsample_bytree=0.8662145592363091 will be ignored. Current value: feature_fraction=0.6205333024581456\n",
      "[LightGBM] [Warning] min_data_in_leaf is set=69, min_child_samples=20 will be ignored. Current value: min_data_in_leaf=69\n",
      "[LightGBM] [Warning] bagging_fraction is set=0.8942611282107091, subsample=0.9234923813024067 will be ignored. Current value: bagging_fraction=0.8942611282107091\n",
      "[LightGBM] [Warning] lambda_l2 is set=7.24899707712127, reg_lambda=0.0 will be ignored. Current value: lambda_l2=7.24899707712127\n",
      "[LightGBM] [Warning] bagging_freq is set=1, subsample_freq=0 will be ignored. Current value: bagging_freq=1\n"
     ]
    },
    {
     "name": "stderr",
     "output_type": "stream",
     "text": [
      "[I 2023-11-14 07:42:00,372] Trial 47 finished with value: 38510.89076331572 and parameters: {'n_estimators': 971, 'lambda_l2': 7.24899707712127, 'bagging_fraction': 0.8942611282107091, 'num_leaves': 420, 'feature_fraction': 0.6205333024581456, 'max_depth': 14, 'learning_rate': 0.012088302164183771, 'subsample': 0.9234923813024067, 'colsample_bytree': 0.8662145592363091, 'min_data_in_leaf': 69, 'max_bin': 160}. Best is trial 33 with value: 38358.47512708974.\n",
      "C:\\Users\\Andrew\\anaconda3\\envs\\ml_env\\lib\\site-packages\\lightgbm\\sklearn.py:736: UserWarning: 'verbose' argument is deprecated and will be removed in a future release of LightGBM. Pass 'log_evaluation()' callback via 'callbacks' argument instead.\n",
      "  _log_warning(\"'verbose' argument is deprecated and will be removed in a future release of LightGBM. \"\n"
     ]
    },
    {
     "name": "stdout",
     "output_type": "stream",
     "text": [
      "[LightGBM] [Warning] feature_fraction is set=0.5903990430353143, colsample_bytree=0.8255920483702012 will be ignored. Current value: feature_fraction=0.5903990430353143\n",
      "[LightGBM] [Warning] min_data_in_leaf is set=41, min_child_samples=20 will be ignored. Current value: min_data_in_leaf=41\n",
      "[LightGBM] [Warning] bagging_fraction is set=0.9720717537394429, subsample=0.8793564569423541 will be ignored. Current value: bagging_fraction=0.9720717537394429\n",
      "[LightGBM] [Warning] lambda_l2 is set=9.47781656266903, reg_lambda=0.0 will be ignored. Current value: lambda_l2=9.47781656266903\n",
      "[LightGBM] [Warning] bagging_freq is set=1, subsample_freq=0 will be ignored. Current value: bagging_freq=1\n"
     ]
    },
    {
     "name": "stderr",
     "output_type": "stream",
     "text": [
      "[I 2023-11-14 07:42:11,892] Trial 48 finished with value: 38485.466166527 and parameters: {'n_estimators': 876, 'lambda_l2': 9.47781656266903, 'bagging_fraction': 0.9720717537394429, 'num_leaves': 367, 'feature_fraction': 0.5903990430353143, 'max_depth': 10, 'learning_rate': 0.005216849178715095, 'subsample': 0.8793564569423541, 'colsample_bytree': 0.8255920483702012, 'min_data_in_leaf': 41, 'max_bin': 146}. Best is trial 33 with value: 38358.47512708974.\n",
      "C:\\Users\\Andrew\\anaconda3\\envs\\ml_env\\lib\\site-packages\\lightgbm\\sklearn.py:736: UserWarning: 'verbose' argument is deprecated and will be removed in a future release of LightGBM. Pass 'log_evaluation()' callback via 'callbacks' argument instead.\n",
      "  _log_warning(\"'verbose' argument is deprecated and will be removed in a future release of LightGBM. \"\n"
     ]
    },
    {
     "name": "stdout",
     "output_type": "stream",
     "text": [
      "[LightGBM] [Warning] feature_fraction is set=0.6774395466933044, colsample_bytree=0.9589587581031029 will be ignored. Current value: feature_fraction=0.6774395466933044\n",
      "[LightGBM] [Warning] min_data_in_leaf is set=66, min_child_samples=20 will be ignored. Current value: min_data_in_leaf=66\n",
      "[LightGBM] [Warning] bagging_fraction is set=0.7817085130448806, subsample=0.8151795563646692 will be ignored. Current value: bagging_fraction=0.7817085130448806\n",
      "[LightGBM] [Warning] lambda_l2 is set=9.996428539218133, reg_lambda=0.0 will be ignored. Current value: lambda_l2=9.996428539218133\n",
      "[LightGBM] [Warning] bagging_freq is set=1, subsample_freq=0 will be ignored. Current value: bagging_freq=1\n"
     ]
    },
    {
     "name": "stderr",
     "output_type": "stream",
     "text": [
      "[I 2023-11-14 07:42:24,117] Trial 49 finished with value: 38473.87042981599 and parameters: {'n_estimators': 922, 'lambda_l2': 9.996428539218133, 'bagging_fraction': 0.7817085130448806, 'num_leaves': 618, 'feature_fraction': 0.6774395466933044, 'max_depth': 13, 'learning_rate': 0.010528239772901673, 'subsample': 0.8151795563646692, 'colsample_bytree': 0.9589587581031029, 'min_data_in_leaf': 66, 'max_bin': 251}. Best is trial 33 with value: 38358.47512708974.\n"
     ]
    },
    {
     "name": "stdout",
     "output_type": "stream",
     "text": [
      "Best hyperparameters: {'n_estimators': 892, 'lambda_l2': 9.120174322435526, 'bagging_fraction': 0.8212524434096794, 'num_leaves': 312, 'feature_fraction': 0.6864365936394377, 'max_depth': 10, 'learning_rate': 0.009025702249254646, 'subsample': 0.7227675964333954, 'colsample_bytree': 0.8500717211078491, 'min_data_in_leaf': 47, 'max_bin': 186}\n",
      "Best RMSE: 38358.47512708974\n",
      "[LightGBM] [Warning] feature_fraction is set=0.8208352381370674, colsample_bytree=0.9891475516872527 will be ignored. Current value: feature_fraction=0.8208352381370674\n",
      "[LightGBM] [Warning] min_data_in_leaf is set=16, min_child_samples=20 will be ignored. Current value: min_data_in_leaf=16\n",
      "[LightGBM] [Warning] bagging_fraction is set=0.9108190713445593, subsample=0.7251169328279444 will be ignored. Current value: bagging_fraction=0.9108190713445593\n",
      "[LightGBM] [Warning] lambda_l2 is set=0.36978134386024575, reg_lambda=0.0 will be ignored. Current value: lambda_l2=0.36978134386024575\n"
     ]
    }
   ],
   "source": [
    "# 0.31010 params\n",
    "owner_params = {\n",
    "    'n_estimators': 388, \n",
    "    'lambda_l2': 5.8771302319480325, \n",
    "    'bagging_fraction': 0.8660359026008017, \n",
    "    'num_leaves': 202, \n",
    "    'feature_fraction': 0.7359742854201246, \n",
    "    'max_depth': 9, \n",
    "    'learning_rate': 0.08215092367951148, \n",
    "    'subsample': 0.41686599402329344, \n",
    "    'colsample_bytree': 0.1944406869188812, \n",
    "    'min_data_in_leaf': 11, \n",
    "    'max_bin': 392\n",
    "}\n",
    "\n",
    "investment_params = {\n",
    "    'n_estimators': 640, \n",
    "    'lambda_l2': 6.421076660114255, \n",
    "    'bagging_fraction': 0.8195474653271653, \n",
    "    'num_leaves': 474, \n",
    "    'feature_fraction': 0.5006530112297926, \n",
    "    'max_depth': 10, \n",
    "    'learning_rate': 0.010757243865305521, \n",
    "    'subsample': 0.24435014285782658, \n",
    "    'colsample_bytree': 0.2998744009955994, \n",
    "    'min_data_in_leaf': 36, \n",
    "    'max_bin': 274\n",
    "}\n",
    "\n",
    "est = sep_estimator(owner_params=owner_params,investment_params=investment_params)\n",
    "est.fit(X,y)"
   ]
  },
  {
   "cell_type": "code",
   "execution_count": 8,
   "id": "c6598b1f",
   "metadata": {},
   "outputs": [
    {
     "data": {
      "text/html": [
       "<div>\n",
       "<style scoped>\n",
       "    .dataframe tbody tr th:only-of-type {\n",
       "        vertical-align: middle;\n",
       "    }\n",
       "\n",
       "    .dataframe tbody tr th {\n",
       "        vertical-align: top;\n",
       "    }\n",
       "\n",
       "    .dataframe thead th {\n",
       "        text-align: right;\n",
       "    }\n",
       "</style>\n",
       "<table border=\"1\" class=\"dataframe\">\n",
       "  <thead>\n",
       "    <tr style=\"text-align: right;\">\n",
       "      <th></th>\n",
       "      <th>id</th>\n",
       "      <th>price_doc</th>\n",
       "    </tr>\n",
       "  </thead>\n",
       "  <tbody>\n",
       "    <tr>\n",
       "      <th>0</th>\n",
       "      <td>30474</td>\n",
       "      <td>5.455544e+06</td>\n",
       "    </tr>\n",
       "    <tr>\n",
       "      <th>1</th>\n",
       "      <td>30475</td>\n",
       "      <td>8.213875e+06</td>\n",
       "    </tr>\n",
       "    <tr>\n",
       "      <th>2</th>\n",
       "      <td>30476</td>\n",
       "      <td>5.528125e+06</td>\n",
       "    </tr>\n",
       "    <tr>\n",
       "      <th>3</th>\n",
       "      <td>30477</td>\n",
       "      <td>6.540667e+06</td>\n",
       "    </tr>\n",
       "    <tr>\n",
       "      <th>4</th>\n",
       "      <td>30478</td>\n",
       "      <td>5.083761e+06</td>\n",
       "    </tr>\n",
       "  </tbody>\n",
       "</table>\n",
       "</div>"
      ],
      "text/plain": [
       "      id     price_doc\n",
       "0  30474  5.455544e+06\n",
       "1  30475  8.213875e+06\n",
       "2  30476  5.528125e+06\n",
       "3  30477  6.540667e+06\n",
       "4  30478  5.083761e+06"
      ]
     },
     "execution_count": 8,
     "metadata": {},
     "output_type": "execute_result"
    }
   ],
   "source": [
    "pred_test = np.zeros(shape=test1.values.shape[0])\n",
    "\n",
    "pred_test = est.predict(test1)\n",
    "\n",
    "pred_test = pred_test * .969 + 10\n",
    "# pred_test *= 0.9915\n",
    "subm = pd.read_csv('../../Dataset/sample_submission.csv/sample_submission.csv')\n",
    "subm['price_doc'] = pred_test\n",
    "subm.to_csv('./clean data/output.csv',index=False)\n",
    "subm.head()"
   ]
  },
  {
   "cell_type": "code",
   "execution_count": null,
   "id": "6896eaae",
   "metadata": {},
   "outputs": [],
   "source": []
  }
 ],
 "metadata": {
  "kernelspec": {
   "display_name": "ml_env",
   "language": "python",
   "name": "ml_env"
  },
  "language_info": {
   "codemirror_mode": {
    "name": "ipython",
    "version": 3
   },
   "file_extension": ".py",
   "mimetype": "text/x-python",
   "name": "python",
   "nbconvert_exporter": "python",
   "pygments_lexer": "ipython3",
   "version": "3.10.0"
  }
 },
 "nbformat": 4,
 "nbformat_minor": 5
}
