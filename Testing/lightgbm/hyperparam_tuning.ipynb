{
 "cells": [
  {
   "cell_type": "code",
   "execution_count": 1,
   "id": "3bf9f5b5",
   "metadata": {},
   "outputs": [],
   "source": [
    "import lightgbm as lgb\n",
    "\n",
    "import numpy as np\n",
    "import pandas as pd\n",
    "import matplotlib.pyplot as plt\n",
    "from sklearn.model_selection import train_test_split\n",
    "from sklearn.metrics import mean_squared_log_error, r2_score, mean_squared_error\n"
   ]
  },
  {
   "cell_type": "code",
   "execution_count": 2,
   "id": "6b8bc4c9",
   "metadata": {},
   "outputs": [
    {
     "data": {
      "text/html": [
       "<div>\n",
       "<style scoped>\n",
       "    .dataframe tbody tr th:only-of-type {\n",
       "        vertical-align: middle;\n",
       "    }\n",
       "\n",
       "    .dataframe tbody tr th {\n",
       "        vertical-align: top;\n",
       "    }\n",
       "\n",
       "    .dataframe thead th {\n",
       "        text-align: right;\n",
       "    }\n",
       "</style>\n",
       "<table border=\"1\" class=\"dataframe\">\n",
       "  <thead>\n",
       "    <tr style=\"text-align: right;\">\n",
       "      <th></th>\n",
       "      <th>full_sq</th>\n",
       "      <th>life_sq</th>\n",
       "      <th>floor</th>\n",
       "      <th>max_floor</th>\n",
       "      <th>build_year</th>\n",
       "      <th>num_room</th>\n",
       "      <th>kitch_sq</th>\n",
       "      <th>state</th>\n",
       "      <th>area_m</th>\n",
       "      <th>raion_popul</th>\n",
       "      <th>...</th>\n",
       "      <th>railroad_1line_no</th>\n",
       "      <th>railroad_1line_yes</th>\n",
       "      <th>material_1.0</th>\n",
       "      <th>material_2.0</th>\n",
       "      <th>material_3.0</th>\n",
       "      <th>material_4.0</th>\n",
       "      <th>material_5.0</th>\n",
       "      <th>material_6.0</th>\n",
       "      <th>material_nan</th>\n",
       "      <th>price_doc</th>\n",
       "    </tr>\n",
       "  </thead>\n",
       "  <tbody>\n",
       "    <tr>\n",
       "      <th>0</th>\n",
       "      <td>43</td>\n",
       "      <td>27.000000</td>\n",
       "      <td>4.0</td>\n",
       "      <td>12.559171</td>\n",
       "      <td>1879</td>\n",
       "      <td>1.909844</td>\n",
       "      <td>6.399244</td>\n",
       "      <td>2.105145</td>\n",
       "      <td>6.407578e+06</td>\n",
       "      <td>155572</td>\n",
       "      <td>...</td>\n",
       "      <td>1.0</td>\n",
       "      <td>0.0</td>\n",
       "      <td>0.0</td>\n",
       "      <td>0.0</td>\n",
       "      <td>0.0</td>\n",
       "      <td>0.0</td>\n",
       "      <td>0.0</td>\n",
       "      <td>0.0</td>\n",
       "      <td>1.0</td>\n",
       "      <td>5.668660e+06</td>\n",
       "    </tr>\n",
       "    <tr>\n",
       "      <th>1</th>\n",
       "      <td>34</td>\n",
       "      <td>19.000000</td>\n",
       "      <td>3.0</td>\n",
       "      <td>12.559171</td>\n",
       "      <td>1879</td>\n",
       "      <td>1.909844</td>\n",
       "      <td>6.399244</td>\n",
       "      <td>2.105145</td>\n",
       "      <td>9.589337e+06</td>\n",
       "      <td>115352</td>\n",
       "      <td>...</td>\n",
       "      <td>1.0</td>\n",
       "      <td>0.0</td>\n",
       "      <td>0.0</td>\n",
       "      <td>0.0</td>\n",
       "      <td>0.0</td>\n",
       "      <td>0.0</td>\n",
       "      <td>0.0</td>\n",
       "      <td>0.0</td>\n",
       "      <td>1.0</td>\n",
       "      <td>5.814010e+06</td>\n",
       "    </tr>\n",
       "    <tr>\n",
       "      <th>2</th>\n",
       "      <td>43</td>\n",
       "      <td>29.000000</td>\n",
       "      <td>2.0</td>\n",
       "      <td>12.559171</td>\n",
       "      <td>1879</td>\n",
       "      <td>1.909844</td>\n",
       "      <td>6.399244</td>\n",
       "      <td>2.105145</td>\n",
       "      <td>4.808270e+06</td>\n",
       "      <td>101708</td>\n",
       "      <td>...</td>\n",
       "      <td>1.0</td>\n",
       "      <td>0.0</td>\n",
       "      <td>0.0</td>\n",
       "      <td>0.0</td>\n",
       "      <td>0.0</td>\n",
       "      <td>0.0</td>\n",
       "      <td>0.0</td>\n",
       "      <td>0.0</td>\n",
       "      <td>1.0</td>\n",
       "      <td>5.523310e+06</td>\n",
       "    </tr>\n",
       "    <tr>\n",
       "      <th>3</th>\n",
       "      <td>89</td>\n",
       "      <td>50.000000</td>\n",
       "      <td>9.0</td>\n",
       "      <td>12.559171</td>\n",
       "      <td>1879</td>\n",
       "      <td>1.909844</td>\n",
       "      <td>6.399244</td>\n",
       "      <td>2.105145</td>\n",
       "      <td>1.258354e+07</td>\n",
       "      <td>178473</td>\n",
       "      <td>...</td>\n",
       "      <td>1.0</td>\n",
       "      <td>0.0</td>\n",
       "      <td>0.0</td>\n",
       "      <td>0.0</td>\n",
       "      <td>0.0</td>\n",
       "      <td>0.0</td>\n",
       "      <td>0.0</td>\n",
       "      <td>0.0</td>\n",
       "      <td>1.0</td>\n",
       "      <td>1.269391e+07</td>\n",
       "    </tr>\n",
       "    <tr>\n",
       "      <th>4</th>\n",
       "      <td>77</td>\n",
       "      <td>77.000000</td>\n",
       "      <td>4.0</td>\n",
       "      <td>12.559171</td>\n",
       "      <td>1879</td>\n",
       "      <td>1.909844</td>\n",
       "      <td>6.399244</td>\n",
       "      <td>2.105145</td>\n",
       "      <td>8.398461e+06</td>\n",
       "      <td>108171</td>\n",
       "      <td>...</td>\n",
       "      <td>0.0</td>\n",
       "      <td>1.0</td>\n",
       "      <td>0.0</td>\n",
       "      <td>0.0</td>\n",
       "      <td>0.0</td>\n",
       "      <td>0.0</td>\n",
       "      <td>0.0</td>\n",
       "      <td>0.0</td>\n",
       "      <td>1.0</td>\n",
       "      <td>1.582519e+07</td>\n",
       "    </tr>\n",
       "    <tr>\n",
       "      <th>...</th>\n",
       "      <td>...</td>\n",
       "      <td>...</td>\n",
       "      <td>...</td>\n",
       "      <td>...</td>\n",
       "      <td>...</td>\n",
       "      <td>...</td>\n",
       "      <td>...</td>\n",
       "      <td>...</td>\n",
       "      <td>...</td>\n",
       "      <td>...</td>\n",
       "      <td>...</td>\n",
       "      <td>...</td>\n",
       "      <td>...</td>\n",
       "      <td>...</td>\n",
       "      <td>...</td>\n",
       "      <td>...</td>\n",
       "      <td>...</td>\n",
       "      <td>...</td>\n",
       "      <td>...</td>\n",
       "      <td>...</td>\n",
       "      <td>...</td>\n",
       "    </tr>\n",
       "    <tr>\n",
       "      <th>30464</th>\n",
       "      <td>44</td>\n",
       "      <td>27.000000</td>\n",
       "      <td>7.0</td>\n",
       "      <td>9.000000</td>\n",
       "      <td>1975</td>\n",
       "      <td>2.000000</td>\n",
       "      <td>6.000000</td>\n",
       "      <td>3.000000</td>\n",
       "      <td>1.005305e+07</td>\n",
       "      <td>175518</td>\n",
       "      <td>...</td>\n",
       "      <td>1.0</td>\n",
       "      <td>0.0</td>\n",
       "      <td>1.0</td>\n",
       "      <td>0.0</td>\n",
       "      <td>0.0</td>\n",
       "      <td>0.0</td>\n",
       "      <td>0.0</td>\n",
       "      <td>0.0</td>\n",
       "      <td>0.0</td>\n",
       "      <td>7.170610e+06</td>\n",
       "    </tr>\n",
       "    <tr>\n",
       "      <th>30465</th>\n",
       "      <td>86</td>\n",
       "      <td>59.000000</td>\n",
       "      <td>3.0</td>\n",
       "      <td>9.000000</td>\n",
       "      <td>1935</td>\n",
       "      <td>4.000000</td>\n",
       "      <td>10.000000</td>\n",
       "      <td>3.000000</td>\n",
       "      <td>7.307411e+06</td>\n",
       "      <td>75377</td>\n",
       "      <td>...</td>\n",
       "      <td>1.0</td>\n",
       "      <td>0.0</td>\n",
       "      <td>0.0</td>\n",
       "      <td>1.0</td>\n",
       "      <td>0.0</td>\n",
       "      <td>0.0</td>\n",
       "      <td>0.0</td>\n",
       "      <td>0.0</td>\n",
       "      <td>0.0</td>\n",
       "      <td>2.422501e+07</td>\n",
       "    </tr>\n",
       "    <tr>\n",
       "      <th>30466</th>\n",
       "      <td>45</td>\n",
       "      <td>34.404467</td>\n",
       "      <td>10.0</td>\n",
       "      <td>20.000000</td>\n",
       "      <td>1879</td>\n",
       "      <td>1.000000</td>\n",
       "      <td>1.000000</td>\n",
       "      <td>1.000000</td>\n",
       "      <td>2.553630e+07</td>\n",
       "      <td>4001</td>\n",
       "      <td>...</td>\n",
       "      <td>1.0</td>\n",
       "      <td>0.0</td>\n",
       "      <td>1.0</td>\n",
       "      <td>0.0</td>\n",
       "      <td>0.0</td>\n",
       "      <td>0.0</td>\n",
       "      <td>0.0</td>\n",
       "      <td>0.0</td>\n",
       "      <td>0.0</td>\n",
       "      <td>6.754869e+06</td>\n",
       "    </tr>\n",
       "    <tr>\n",
       "      <th>30467</th>\n",
       "      <td>64</td>\n",
       "      <td>32.000000</td>\n",
       "      <td>5.0</td>\n",
       "      <td>15.000000</td>\n",
       "      <td>2003</td>\n",
       "      <td>2.000000</td>\n",
       "      <td>11.000000</td>\n",
       "      <td>2.000000</td>\n",
       "      <td>6.050065e+06</td>\n",
       "      <td>78616</td>\n",
       "      <td>...</td>\n",
       "      <td>1.0</td>\n",
       "      <td>0.0</td>\n",
       "      <td>1.0</td>\n",
       "      <td>0.0</td>\n",
       "      <td>0.0</td>\n",
       "      <td>0.0</td>\n",
       "      <td>0.0</td>\n",
       "      <td>0.0</td>\n",
       "      <td>0.0</td>\n",
       "      <td>1.308151e+07</td>\n",
       "    </tr>\n",
       "    <tr>\n",
       "      <th>30468</th>\n",
       "      <td>43</td>\n",
       "      <td>28.000000</td>\n",
       "      <td>1.0</td>\n",
       "      <td>9.000000</td>\n",
       "      <td>1968</td>\n",
       "      <td>2.000000</td>\n",
       "      <td>6.000000</td>\n",
       "      <td>2.000000</td>\n",
       "      <td>4.395333e+06</td>\n",
       "      <td>94561</td>\n",
       "      <td>...</td>\n",
       "      <td>1.0</td>\n",
       "      <td>0.0</td>\n",
       "      <td>1.0</td>\n",
       "      <td>0.0</td>\n",
       "      <td>0.0</td>\n",
       "      <td>0.0</td>\n",
       "      <td>0.0</td>\n",
       "      <td>0.0</td>\n",
       "      <td>0.0</td>\n",
       "      <td>5.426410e+06</td>\n",
       "    </tr>\n",
       "  </tbody>\n",
       "</table>\n",
       "<p>30469 rows × 451 columns</p>\n",
       "</div>"
      ],
      "text/plain": [
       "       full_sq    life_sq  floor  max_floor  build_year  num_room   kitch_sq  \\\n",
       "0           43  27.000000    4.0  12.559171        1879  1.909844   6.399244   \n",
       "1           34  19.000000    3.0  12.559171        1879  1.909844   6.399244   \n",
       "2           43  29.000000    2.0  12.559171        1879  1.909844   6.399244   \n",
       "3           89  50.000000    9.0  12.559171        1879  1.909844   6.399244   \n",
       "4           77  77.000000    4.0  12.559171        1879  1.909844   6.399244   \n",
       "...        ...        ...    ...        ...         ...       ...        ...   \n",
       "30464       44  27.000000    7.0   9.000000        1975  2.000000   6.000000   \n",
       "30465       86  59.000000    3.0   9.000000        1935  4.000000  10.000000   \n",
       "30466       45  34.404467   10.0  20.000000        1879  1.000000   1.000000   \n",
       "30467       64  32.000000    5.0  15.000000        2003  2.000000  11.000000   \n",
       "30468       43  28.000000    1.0   9.000000        1968  2.000000   6.000000   \n",
       "\n",
       "          state        area_m  raion_popul  ...  railroad_1line_no  \\\n",
       "0      2.105145  6.407578e+06       155572  ...                1.0   \n",
       "1      2.105145  9.589337e+06       115352  ...                1.0   \n",
       "2      2.105145  4.808270e+06       101708  ...                1.0   \n",
       "3      2.105145  1.258354e+07       178473  ...                1.0   \n",
       "4      2.105145  8.398461e+06       108171  ...                0.0   \n",
       "...         ...           ...          ...  ...                ...   \n",
       "30464  3.000000  1.005305e+07       175518  ...                1.0   \n",
       "30465  3.000000  7.307411e+06        75377  ...                1.0   \n",
       "30466  1.000000  2.553630e+07         4001  ...                1.0   \n",
       "30467  2.000000  6.050065e+06        78616  ...                1.0   \n",
       "30468  2.000000  4.395333e+06        94561  ...                1.0   \n",
       "\n",
       "       railroad_1line_yes  material_1.0  material_2.0  material_3.0  \\\n",
       "0                     0.0           0.0           0.0           0.0   \n",
       "1                     0.0           0.0           0.0           0.0   \n",
       "2                     0.0           0.0           0.0           0.0   \n",
       "3                     0.0           0.0           0.0           0.0   \n",
       "4                     1.0           0.0           0.0           0.0   \n",
       "...                   ...           ...           ...           ...   \n",
       "30464                 0.0           1.0           0.0           0.0   \n",
       "30465                 0.0           0.0           1.0           0.0   \n",
       "30466                 0.0           1.0           0.0           0.0   \n",
       "30467                 0.0           1.0           0.0           0.0   \n",
       "30468                 0.0           1.0           0.0           0.0   \n",
       "\n",
       "       material_4.0  material_5.0  material_6.0  material_nan     price_doc  \n",
       "0               0.0           0.0           0.0           1.0  5.668660e+06  \n",
       "1               0.0           0.0           0.0           1.0  5.814010e+06  \n",
       "2               0.0           0.0           0.0           1.0  5.523310e+06  \n",
       "3               0.0           0.0           0.0           1.0  1.269391e+07  \n",
       "4               0.0           0.0           0.0           1.0  1.582519e+07  \n",
       "...             ...           ...           ...           ...           ...  \n",
       "30464           0.0           0.0           0.0           0.0  7.170610e+06  \n",
       "30465           0.0           0.0           0.0           0.0  2.422501e+07  \n",
       "30466           0.0           0.0           0.0           0.0  6.754869e+06  \n",
       "30467           0.0           0.0           0.0           0.0  1.308151e+07  \n",
       "30468           0.0           0.0           0.0           0.0  5.426410e+06  \n",
       "\n",
       "[30469 rows x 451 columns]"
      ]
     },
     "execution_count": 2,
     "metadata": {},
     "output_type": "execute_result"
    }
   ],
   "source": [
    "df_train = pd.read_csv(\"processed/processed_train_2.csv\")\n",
    "df_test = pd.read_csv(\"processed/processed_test_2.csv\")\n",
    "df_train"
   ]
  },
  {
   "cell_type": "code",
   "execution_count": 3,
   "id": "42d71d0f",
   "metadata": {},
   "outputs": [],
   "source": [
    "X_train, X_val, y_train, y_val = train_test_split(df_train.drop(columns=['price_doc']),\n",
    "                                                 df_train['price_doc'], test_size=0.15, random_state=42)"
   ]
  },
  {
   "cell_type": "code",
   "execution_count": 4,
   "id": "edcbe3ed",
   "metadata": {},
   "outputs": [],
   "source": [
    "## https://neptune.ai/blog/lightgbm-parameters-guide"
   ]
  },
  {
   "cell_type": "code",
   "execution_count": 5,
   "id": "5a018adf",
   "metadata": {},
   "outputs": [],
   "source": [
    "from sklearn.metrics import mean_squared_error\n",
    "import optuna\n",
    "\n",
    "def objective(trial):\n",
    "    params = {\n",
    "        \"objective\": \"regression\",\n",
    "        \"metric\": \"rmse\",\n",
    "        \"verbosity\": -1,\n",
    "        \"n_estimators\": trial.suggest_int(\"n_estimators\", 800, 1200),\n",
    "        \"boosting\": trial.suggest_categorical(\"boosting\", [\"gbdt\", \"rf\", \"dart\"]),\n",
    "        \"lambda_l2\": trial.suggest_float(\"lambda_l2\", 0, 10),\n",
    "        \"bagging_fraction\": trial.suggest_float(\"bagging_fraction\", 0, 1),\n",
    "        \"bagging_freq\": 1,\n",
    "        \"num_leaves\": trial.suggest_int(\"num_leaves\", 2, 2**10),\n",
    "        \"feature_fraction\": trial.suggest_float(\"feature_fraction\", 0.5, 1),\n",
    "        \"max_depth\": trial.suggest_int(\"max_depth\", 1, 50),\n",
    "        \"learning_rate\": trial.suggest_float(\"learning_rate\", 1e-3, 0.1, log=True),\n",
    "        \"subsample\": trial.suggest_float(\"subsample\", 0.05, 1.0),\n",
    "        \"colsample_bytree\": trial.suggest_float(\"colsample_bytree\", 0.05, 1.0),\n",
    "        \"min_data_in_leaf\": trial.suggest_int(\"min_data_in_leaf\", 10, 100),\n",
    "    }\n",
    "\n",
    "    model = lgb.LGBMRegressor(**params)\n",
    "    model.fit(X_train, y_train, verbose=False)\n",
    "    predictions = model.predict(X_val)\n",
    "    rmse = mean_squared_error(y_val, predictions, squared=False)\n",
    "    return rmse"
   ]
  },
  {
   "cell_type": "code",
   "execution_count": 6,
   "id": "6332bd73",
   "metadata": {},
   "outputs": [
    {
     "name": "stderr",
     "output_type": "stream",
     "text": [
      "[I 2023-10-30 18:24:38,750] A new study created in memory with name: no-name-698c5a4f-4e01-405f-8f7b-df472a06e2d4\n",
      "C:\\Users\\Andrew\\anaconda3\\envs\\ml_env\\lib\\site-packages\\lightgbm\\sklearn.py:736: UserWarning: 'verbose' argument is deprecated and will be removed in a future release of LightGBM. Pass 'log_evaluation()' callback via 'callbacks' argument instead.\n",
      "  _log_warning(\"'verbose' argument is deprecated and will be removed in a future release of LightGBM. \"\n"
     ]
    },
    {
     "name": "stdout",
     "output_type": "stream",
     "text": [
      "[LightGBM] [Warning] boosting is set=gbdt, boosting_type=gbdt will be ignored. Current value: boosting=gbdt\n",
      "[LightGBM] [Warning] feature_fraction is set=0.8864492913112696, colsample_bytree=0.7292891314199127 will be ignored. Current value: feature_fraction=0.8864492913112696\n",
      "[LightGBM] [Warning] min_data_in_leaf is set=59, min_child_samples=20 will be ignored. Current value: min_data_in_leaf=59\n",
      "[LightGBM] [Warning] bagging_fraction is set=0.9112454745493027, subsample=0.9122521994357183 will be ignored. Current value: bagging_fraction=0.9112454745493027\n",
      "[LightGBM] [Warning] lambda_l2 is set=2.229449447868286, reg_lambda=0.0 will be ignored. Current value: lambda_l2=2.229449447868286\n",
      "[LightGBM] [Warning] bagging_freq is set=1, subsample_freq=0 will be ignored. Current value: bagging_freq=1\n"
     ]
    },
    {
     "name": "stderr",
     "output_type": "stream",
     "text": [
      "[I 2023-10-30 18:24:44,034] Trial 0 finished with value: 2653111.496233502 and parameters: {'n_estimators': 1152, 'boosting': 'gbdt', 'lambda_l2': 2.229449447868286, 'bagging_fraction': 0.9112454745493027, 'num_leaves': 565, 'feature_fraction': 0.8864492913112696, 'max_depth': 4, 'learning_rate': 0.004187587848234434, 'subsample': 0.9122521994357183, 'colsample_bytree': 0.7292891314199127, 'min_data_in_leaf': 59}. Best is trial 0 with value: 2653111.496233502.\n",
      "C:\\Users\\Andrew\\anaconda3\\envs\\ml_env\\lib\\site-packages\\lightgbm\\sklearn.py:736: UserWarning: 'verbose' argument is deprecated and will be removed in a future release of LightGBM. Pass 'log_evaluation()' callback via 'callbacks' argument instead.\n",
      "  _log_warning(\"'verbose' argument is deprecated and will be removed in a future release of LightGBM. \"\n"
     ]
    },
    {
     "name": "stdout",
     "output_type": "stream",
     "text": [
      "[LightGBM] [Warning] boosting is set=dart, boosting_type=gbdt will be ignored. Current value: boosting=dart\n",
      "[LightGBM] [Warning] feature_fraction is set=0.8368953192500224, colsample_bytree=0.07639779896178667 will be ignored. Current value: feature_fraction=0.8368953192500224\n",
      "[LightGBM] [Warning] min_data_in_leaf is set=52, min_child_samples=20 will be ignored. Current value: min_data_in_leaf=52\n",
      "[LightGBM] [Warning] bagging_fraction is set=0.06697772855853035, subsample=0.38879502438126395 will be ignored. Current value: bagging_fraction=0.06697772855853035\n",
      "[LightGBM] [Warning] lambda_l2 is set=9.638169946599145, reg_lambda=0.0 will be ignored. Current value: lambda_l2=9.638169946599145\n",
      "[LightGBM] [Warning] bagging_freq is set=1, subsample_freq=0 will be ignored. Current value: bagging_freq=1\n"
     ]
    },
    {
     "name": "stderr",
     "output_type": "stream",
     "text": [
      "[I 2023-10-30 18:24:54,009] Trial 1 finished with value: 5063542.70817733 and parameters: {'n_estimators': 1171, 'boosting': 'dart', 'lambda_l2': 9.638169946599145, 'bagging_fraction': 0.06697772855853035, 'num_leaves': 26, 'feature_fraction': 0.8368953192500224, 'max_depth': 28, 'learning_rate': 0.002022372163629401, 'subsample': 0.38879502438126395, 'colsample_bytree': 0.07639779896178667, 'min_data_in_leaf': 52}. Best is trial 0 with value: 2653111.496233502.\n",
      "C:\\Users\\Andrew\\anaconda3\\envs\\ml_env\\lib\\site-packages\\lightgbm\\sklearn.py:736: UserWarning: 'verbose' argument is deprecated and will be removed in a future release of LightGBM. Pass 'log_evaluation()' callback via 'callbacks' argument instead.\n",
      "  _log_warning(\"'verbose' argument is deprecated and will be removed in a future release of LightGBM. \"\n"
     ]
    },
    {
     "name": "stdout",
     "output_type": "stream",
     "text": [
      "[LightGBM] [Warning] boosting is set=dart, boosting_type=gbdt will be ignored. Current value: boosting=dart\n",
      "[LightGBM] [Warning] feature_fraction is set=0.6798971727984808, colsample_bytree=0.6693521122102537 will be ignored. Current value: feature_fraction=0.6798971727984808\n",
      "[LightGBM] [Warning] min_data_in_leaf is set=14, min_child_samples=20 will be ignored. Current value: min_data_in_leaf=14\n",
      "[LightGBM] [Warning] bagging_fraction is set=0.9702489049875914, subsample=0.27606466614689573 will be ignored. Current value: bagging_fraction=0.9702489049875914\n",
      "[LightGBM] [Warning] lambda_l2 is set=9.434116362659111, reg_lambda=0.0 will be ignored. Current value: lambda_l2=9.434116362659111\n",
      "[LightGBM] [Warning] bagging_freq is set=1, subsample_freq=0 will be ignored. Current value: bagging_freq=1\n"
     ]
    },
    {
     "name": "stderr",
     "output_type": "stream",
     "text": [
      "[I 2023-10-30 18:26:00,911] Trial 2 finished with value: 2649372.3807400647 and parameters: {'n_estimators': 1001, 'boosting': 'dart', 'lambda_l2': 9.434116362659111, 'bagging_fraction': 0.9702489049875914, 'num_leaves': 495, 'feature_fraction': 0.6798971727984808, 'max_depth': 30, 'learning_rate': 0.04656280774257206, 'subsample': 0.27606466614689573, 'colsample_bytree': 0.6693521122102537, 'min_data_in_leaf': 14}. Best is trial 2 with value: 2649372.3807400647.\n",
      "C:\\Users\\Andrew\\anaconda3\\envs\\ml_env\\lib\\site-packages\\lightgbm\\sklearn.py:736: UserWarning: 'verbose' argument is deprecated and will be removed in a future release of LightGBM. Pass 'log_evaluation()' callback via 'callbacks' argument instead.\n",
      "  _log_warning(\"'verbose' argument is deprecated and will be removed in a future release of LightGBM. \"\n"
     ]
    },
    {
     "name": "stdout",
     "output_type": "stream",
     "text": [
      "[LightGBM] [Warning] boosting is set=rf, boosting_type=gbdt will be ignored. Current value: boosting=rf\n",
      "[LightGBM] [Warning] feature_fraction is set=0.6440744921664677, colsample_bytree=0.19969617221877556 will be ignored. Current value: feature_fraction=0.6440744921664677\n",
      "[LightGBM] [Warning] min_data_in_leaf is set=85, min_child_samples=20 will be ignored. Current value: min_data_in_leaf=85\n",
      "[LightGBM] [Warning] bagging_fraction is set=0.9984822282939793, subsample=0.14420802656911746 will be ignored. Current value: bagging_fraction=0.9984822282939793\n",
      "[LightGBM] [Warning] lambda_l2 is set=9.574498793755026, reg_lambda=0.0 will be ignored. Current value: lambda_l2=9.574498793755026\n",
      "[LightGBM] [Warning] bagging_freq is set=1, subsample_freq=0 will be ignored. Current value: bagging_freq=1\n"
     ]
    },
    {
     "name": "stderr",
     "output_type": "stream",
     "text": [
      "[I 2023-10-30 18:26:19,552] Trial 3 finished with value: 2887450.253879538 and parameters: {'n_estimators': 929, 'boosting': 'rf', 'lambda_l2': 9.574498793755026, 'bagging_fraction': 0.9984822282939793, 'num_leaves': 254, 'feature_fraction': 0.6440744921664677, 'max_depth': 17, 'learning_rate': 0.01669779151533324, 'subsample': 0.14420802656911746, 'colsample_bytree': 0.19969617221877556, 'min_data_in_leaf': 85}. Best is trial 2 with value: 2649372.3807400647.\n",
      "C:\\Users\\Andrew\\anaconda3\\envs\\ml_env\\lib\\site-packages\\lightgbm\\sklearn.py:736: UserWarning: 'verbose' argument is deprecated and will be removed in a future release of LightGBM. Pass 'log_evaluation()' callback via 'callbacks' argument instead.\n",
      "  _log_warning(\"'verbose' argument is deprecated and will be removed in a future release of LightGBM. \"\n"
     ]
    },
    {
     "name": "stdout",
     "output_type": "stream",
     "text": [
      "[LightGBM] [Warning] boosting is set=rf, boosting_type=gbdt will be ignored. Current value: boosting=rf\n",
      "[LightGBM] [Warning] feature_fraction is set=0.627860098154764, colsample_bytree=0.6255932193635804 will be ignored. Current value: feature_fraction=0.627860098154764\n",
      "[LightGBM] [Warning] min_data_in_leaf is set=44, min_child_samples=20 will be ignored. Current value: min_data_in_leaf=44\n",
      "[LightGBM] [Warning] bagging_fraction is set=0.8236338611160338, subsample=0.27629327762377853 will be ignored. Current value: bagging_fraction=0.8236338611160338\n",
      "[LightGBM] [Warning] lambda_l2 is set=0.015269066930787556, reg_lambda=0.0 will be ignored. Current value: lambda_l2=0.015269066930787556\n",
      "[LightGBM] [Warning] bagging_freq is set=1, subsample_freq=0 will be ignored. Current value: bagging_freq=1\n"
     ]
    },
    {
     "name": "stderr",
     "output_type": "stream",
     "text": [
      "[I 2023-10-30 18:27:06,841] Trial 4 finished with value: 2798080.0941294325 and parameters: {'n_estimators': 1163, 'boosting': 'rf', 'lambda_l2': 0.015269066930787556, 'bagging_fraction': 0.8236338611160338, 'num_leaves': 393, 'feature_fraction': 0.627860098154764, 'max_depth': 47, 'learning_rate': 0.07142730700257663, 'subsample': 0.27629327762377853, 'colsample_bytree': 0.6255932193635804, 'min_data_in_leaf': 44}. Best is trial 2 with value: 2649372.3807400647.\n",
      "C:\\Users\\Andrew\\anaconda3\\envs\\ml_env\\lib\\site-packages\\lightgbm\\sklearn.py:736: UserWarning: 'verbose' argument is deprecated and will be removed in a future release of LightGBM. Pass 'log_evaluation()' callback via 'callbacks' argument instead.\n",
      "  _log_warning(\"'verbose' argument is deprecated and will be removed in a future release of LightGBM. \"\n"
     ]
    },
    {
     "name": "stdout",
     "output_type": "stream",
     "text": [
      "[LightGBM] [Warning] boosting is set=gbdt, boosting_type=gbdt will be ignored. Current value: boosting=gbdt\n",
      "[LightGBM] [Warning] feature_fraction is set=0.9267144715298715, colsample_bytree=0.6690839925004739 will be ignored. Current value: feature_fraction=0.9267144715298715\n",
      "[LightGBM] [Warning] min_data_in_leaf is set=83, min_child_samples=20 will be ignored. Current value: min_data_in_leaf=83\n",
      "[LightGBM] [Warning] bagging_fraction is set=0.5344675614153079, subsample=0.5023640890089518 will be ignored. Current value: bagging_fraction=0.5344675614153079\n",
      "[LightGBM] [Warning] lambda_l2 is set=6.460269341519112, reg_lambda=0.0 will be ignored. Current value: lambda_l2=6.460269341519112\n",
      "[LightGBM] [Warning] bagging_freq is set=1, subsample_freq=0 will be ignored. Current value: bagging_freq=1\n"
     ]
    },
    {
     "name": "stderr",
     "output_type": "stream",
     "text": [
      "[I 2023-10-30 18:27:10,452] Trial 5 finished with value: 2662514.532616621 and parameters: {'n_estimators': 979, 'boosting': 'gbdt', 'lambda_l2': 6.460269341519112, 'bagging_fraction': 0.5344675614153079, 'num_leaves': 244, 'feature_fraction': 0.9267144715298715, 'max_depth': 4, 'learning_rate': 0.0069023200723682, 'subsample': 0.5023640890089518, 'colsample_bytree': 0.6690839925004739, 'min_data_in_leaf': 83}. Best is trial 2 with value: 2649372.3807400647.\n",
      "C:\\Users\\Andrew\\anaconda3\\envs\\ml_env\\lib\\site-packages\\lightgbm\\sklearn.py:736: UserWarning: 'verbose' argument is deprecated and will be removed in a future release of LightGBM. Pass 'log_evaluation()' callback via 'callbacks' argument instead.\n",
      "  _log_warning(\"'verbose' argument is deprecated and will be removed in a future release of LightGBM. \"\n"
     ]
    },
    {
     "name": "stdout",
     "output_type": "stream",
     "text": [
      "[LightGBM] [Warning] boosting is set=gbdt, boosting_type=gbdt will be ignored. Current value: boosting=gbdt\n",
      "[LightGBM] [Warning] feature_fraction is set=0.668191068538806, colsample_bytree=0.6146399978037402 will be ignored. Current value: feature_fraction=0.668191068538806\n",
      "[LightGBM] [Warning] min_data_in_leaf is set=67, min_child_samples=20 will be ignored. Current value: min_data_in_leaf=67\n",
      "[LightGBM] [Warning] bagging_fraction is set=0.3349264969672755, subsample=0.056988194347188 will be ignored. Current value: bagging_fraction=0.3349264969672755\n",
      "[LightGBM] [Warning] lambda_l2 is set=7.081957241444616, reg_lambda=0.0 will be ignored. Current value: lambda_l2=7.081957241444616\n",
      "[LightGBM] [Warning] bagging_freq is set=1, subsample_freq=0 will be ignored. Current value: bagging_freq=1\n"
     ]
    },
    {
     "name": "stderr",
     "output_type": "stream",
     "text": [
      "[I 2023-10-30 18:27:15,860] Trial 6 finished with value: 2633005.9314145357 and parameters: {'n_estimators': 863, 'boosting': 'gbdt', 'lambda_l2': 7.081957241444616, 'bagging_fraction': 0.3349264969672755, 'num_leaves': 570, 'feature_fraction': 0.668191068538806, 'max_depth': 10, 'learning_rate': 0.0242251622886038, 'subsample': 0.056988194347188, 'colsample_bytree': 0.6146399978037402, 'min_data_in_leaf': 67}. Best is trial 6 with value: 2633005.9314145357.\n",
      "C:\\Users\\Andrew\\anaconda3\\envs\\ml_env\\lib\\site-packages\\lightgbm\\sklearn.py:736: UserWarning: 'verbose' argument is deprecated and will be removed in a future release of LightGBM. Pass 'log_evaluation()' callback via 'callbacks' argument instead.\n",
      "  _log_warning(\"'verbose' argument is deprecated and will be removed in a future release of LightGBM. \"\n"
     ]
    },
    {
     "name": "stdout",
     "output_type": "stream",
     "text": [
      "[LightGBM] [Warning] boosting is set=dart, boosting_type=gbdt will be ignored. Current value: boosting=dart\n",
      "[LightGBM] [Warning] feature_fraction is set=0.8792269504163504, colsample_bytree=0.4204890549094711 will be ignored. Current value: feature_fraction=0.8792269504163504\n",
      "[LightGBM] [Warning] min_data_in_leaf is set=71, min_child_samples=20 will be ignored. Current value: min_data_in_leaf=71\n",
      "[LightGBM] [Warning] bagging_fraction is set=0.09773318745060122, subsample=0.19105586408410136 will be ignored. Current value: bagging_fraction=0.09773318745060122\n",
      "[LightGBM] [Warning] lambda_l2 is set=3.0879600143198283, reg_lambda=0.0 will be ignored. Current value: lambda_l2=3.0879600143198283\n",
      "[LightGBM] [Warning] bagging_freq is set=1, subsample_freq=0 will be ignored. Current value: bagging_freq=1\n"
     ]
    },
    {
     "name": "stderr",
     "output_type": "stream",
     "text": [
      "[I 2023-10-30 18:27:28,762] Trial 7 finished with value: 2783107.544061262 and parameters: {'n_estimators': 889, 'boosting': 'dart', 'lambda_l2': 3.0879600143198283, 'bagging_fraction': 0.09773318745060122, 'num_leaves': 288, 'feature_fraction': 0.8792269504163504, 'max_depth': 9, 'learning_rate': 0.09697202251916945, 'subsample': 0.19105586408410136, 'colsample_bytree': 0.4204890549094711, 'min_data_in_leaf': 71}. Best is trial 6 with value: 2633005.9314145357.\n",
      "C:\\Users\\Andrew\\anaconda3\\envs\\ml_env\\lib\\site-packages\\lightgbm\\sklearn.py:736: UserWarning: 'verbose' argument is deprecated and will be removed in a future release of LightGBM. Pass 'log_evaluation()' callback via 'callbacks' argument instead.\n",
      "  _log_warning(\"'verbose' argument is deprecated and will be removed in a future release of LightGBM. \"\n"
     ]
    },
    {
     "name": "stdout",
     "output_type": "stream",
     "text": [
      "[LightGBM] [Warning] boosting is set=rf, boosting_type=gbdt will be ignored. Current value: boosting=rf\n",
      "[LightGBM] [Warning] feature_fraction is set=0.9329349147609525, colsample_bytree=0.8362991036046267 will be ignored. Current value: feature_fraction=0.9329349147609525\n",
      "[LightGBM] [Warning] min_data_in_leaf is set=24, min_child_samples=20 will be ignored. Current value: min_data_in_leaf=24\n",
      "[LightGBM] [Warning] bagging_fraction is set=0.7685205860690892, subsample=0.5353464141652452 will be ignored. Current value: bagging_fraction=0.7685205860690892\n",
      "[LightGBM] [Warning] lambda_l2 is set=5.387873717441025, reg_lambda=0.0 will be ignored. Current value: lambda_l2=5.387873717441025\n",
      "[LightGBM] [Warning] bagging_freq is set=1, subsample_freq=0 will be ignored. Current value: bagging_freq=1\n"
     ]
    },
    {
     "name": "stderr",
     "output_type": "stream",
     "text": [
      "[I 2023-10-30 18:28:22,486] Trial 8 finished with value: 2765679.2942053494 and parameters: {'n_estimators': 1174, 'boosting': 'rf', 'lambda_l2': 5.387873717441025, 'bagging_fraction': 0.7685205860690892, 'num_leaves': 325, 'feature_fraction': 0.9329349147609525, 'max_depth': 46, 'learning_rate': 0.003023517330694156, 'subsample': 0.5353464141652452, 'colsample_bytree': 0.8362991036046267, 'min_data_in_leaf': 24}. Best is trial 6 with value: 2633005.9314145357.\n",
      "C:\\Users\\Andrew\\anaconda3\\envs\\ml_env\\lib\\site-packages\\lightgbm\\sklearn.py:736: UserWarning: 'verbose' argument is deprecated and will be removed in a future release of LightGBM. Pass 'log_evaluation()' callback via 'callbacks' argument instead.\n",
      "  _log_warning(\"'verbose' argument is deprecated and will be removed in a future release of LightGBM. \"\n"
     ]
    },
    {
     "name": "stdout",
     "output_type": "stream",
     "text": [
      "[LightGBM] [Warning] boosting is set=dart, boosting_type=gbdt will be ignored. Current value: boosting=dart\n",
      "[LightGBM] [Warning] feature_fraction is set=0.7399147173838689, colsample_bytree=0.8884746853600546 will be ignored. Current value: feature_fraction=0.7399147173838689\n",
      "[LightGBM] [Warning] min_data_in_leaf is set=33, min_child_samples=20 will be ignored. Current value: min_data_in_leaf=33\n",
      "[LightGBM] [Warning] bagging_fraction is set=0.11271251738787391, subsample=0.43317303069872287 will be ignored. Current value: bagging_fraction=0.11271251738787391\n",
      "[LightGBM] [Warning] lambda_l2 is set=4.670572915079738, reg_lambda=0.0 will be ignored. Current value: lambda_l2=4.670572915079738\n",
      "[LightGBM] [Warning] bagging_freq is set=1, subsample_freq=0 will be ignored. Current value: bagging_freq=1\n"
     ]
    },
    {
     "name": "stderr",
     "output_type": "stream",
     "text": [
      "[I 2023-10-30 18:28:35,889] Trial 9 finished with value: 3056635.2707226896 and parameters: {'n_estimators': 1135, 'boosting': 'dart', 'lambda_l2': 4.670572915079738, 'bagging_fraction': 0.11271251738787391, 'num_leaves': 465, 'feature_fraction': 0.7399147173838689, 'max_depth': 5, 'learning_rate': 0.010173360299773405, 'subsample': 0.43317303069872287, 'colsample_bytree': 0.8884746853600546, 'min_data_in_leaf': 33}. Best is trial 6 with value: 2633005.9314145357.\n",
      "C:\\Users\\Andrew\\anaconda3\\envs\\ml_env\\lib\\site-packages\\lightgbm\\sklearn.py:736: UserWarning: 'verbose' argument is deprecated and will be removed in a future release of LightGBM. Pass 'log_evaluation()' callback via 'callbacks' argument instead.\n",
      "  _log_warning(\"'verbose' argument is deprecated and will be removed in a future release of LightGBM. \"\n"
     ]
    },
    {
     "name": "stdout",
     "output_type": "stream",
     "text": [
      "[LightGBM] [Warning] boosting is set=gbdt, boosting_type=gbdt will be ignored. Current value: boosting=gbdt\n",
      "[LightGBM] [Warning] feature_fraction is set=0.5032090084887042, colsample_bytree=0.9823177934971018 will be ignored. Current value: feature_fraction=0.5032090084887042\n",
      "[LightGBM] [Warning] min_data_in_leaf is set=100, min_child_samples=20 will be ignored. Current value: min_data_in_leaf=100\n",
      "[LightGBM] [Warning] bagging_fraction is set=0.3031762656187183, subsample=0.07653301741254136 will be ignored. Current value: bagging_fraction=0.3031762656187183\n",
      "[LightGBM] [Warning] lambda_l2 is set=7.466391282843988, reg_lambda=0.0 will be ignored. Current value: lambda_l2=7.466391282843988\n",
      "[LightGBM] [Warning] bagging_freq is set=1, subsample_freq=0 will be ignored. Current value: bagging_freq=1\n"
     ]
    },
    {
     "name": "stderr",
     "output_type": "stream",
     "text": [
      "[I 2023-10-30 18:28:41,846] Trial 10 finished with value: 3470731.1580717294 and parameters: {'n_estimators': 801, 'boosting': 'gbdt', 'lambda_l2': 7.466391282843988, 'bagging_fraction': 0.3031762656187183, 'num_leaves': 916, 'feature_fraction': 0.5032090084887042, 'max_depth': 18, 'learning_rate': 0.001192744441625588, 'subsample': 0.07653301741254136, 'colsample_bytree': 0.9823177934971018, 'min_data_in_leaf': 100}. Best is trial 6 with value: 2633005.9314145357.\n",
      "C:\\Users\\Andrew\\anaconda3\\envs\\ml_env\\lib\\site-packages\\lightgbm\\sklearn.py:736: UserWarning: 'verbose' argument is deprecated and will be removed in a future release of LightGBM. Pass 'log_evaluation()' callback via 'callbacks' argument instead.\n",
      "  _log_warning(\"'verbose' argument is deprecated and will be removed in a future release of LightGBM. \"\n"
     ]
    },
    {
     "name": "stdout",
     "output_type": "stream",
     "text": [
      "[LightGBM] [Warning] boosting is set=gbdt, boosting_type=gbdt will be ignored. Current value: boosting=gbdt\n",
      "[LightGBM] [Warning] feature_fraction is set=0.7292765580242468, colsample_bytree=0.4925608827762196 will be ignored. Current value: feature_fraction=0.7292765580242468\n",
      "[LightGBM] [Warning] min_data_in_leaf is set=14, min_child_samples=20 will be ignored. Current value: min_data_in_leaf=14\n",
      "[LightGBM] [Warning] bagging_fraction is set=0.5905393581135105, subsample=0.05381809386711214 will be ignored. Current value: bagging_fraction=0.5905393581135105\n",
      "[LightGBM] [Warning] lambda_l2 is set=8.12786438020596, reg_lambda=0.0 will be ignored. Current value: lambda_l2=8.12786438020596\n",
      "[LightGBM] [Warning] bagging_freq is set=1, subsample_freq=0 will be ignored. Current value: bagging_freq=1\n"
     ]
    },
    {
     "name": "stderr",
     "output_type": "stream",
     "text": [
      "[I 2023-10-30 18:29:42,674] Trial 11 finished with value: 2650244.7372420058 and parameters: {'n_estimators': 1049, 'boosting': 'gbdt', 'lambda_l2': 8.12786438020596, 'bagging_fraction': 0.5905393581135105, 'num_leaves': 680, 'feature_fraction': 0.7292765580242468, 'max_depth': 33, 'learning_rate': 0.028095363693427217, 'subsample': 0.05381809386711214, 'colsample_bytree': 0.4925608827762196, 'min_data_in_leaf': 14}. Best is trial 6 with value: 2633005.9314145357.\n",
      "C:\\Users\\Andrew\\anaconda3\\envs\\ml_env\\lib\\site-packages\\lightgbm\\sklearn.py:736: UserWarning: 'verbose' argument is deprecated and will be removed in a future release of LightGBM. Pass 'log_evaluation()' callback via 'callbacks' argument instead.\n",
      "  _log_warning(\"'verbose' argument is deprecated and will be removed in a future release of LightGBM. \"\n"
     ]
    },
    {
     "name": "stdout",
     "output_type": "stream",
     "text": [
      "[LightGBM] [Warning] boosting is set=dart, boosting_type=gbdt will be ignored. Current value: boosting=dart\n",
      "[LightGBM] [Warning] feature_fraction is set=0.6604120390449859, colsample_bytree=0.5612894342757714 will be ignored. Current value: feature_fraction=0.6604120390449859\n",
      "[LightGBM] [Warning] min_data_in_leaf is set=10, min_child_samples=20 will be ignored. Current value: min_data_in_leaf=10\n",
      "[LightGBM] [Warning] bagging_fraction is set=0.3902331221313592, subsample=0.2606242307855746 will be ignored. Current value: bagging_fraction=0.3902331221313592\n",
      "[LightGBM] [Warning] lambda_l2 is set=8.237511108553496, reg_lambda=0.0 will be ignored. Current value: lambda_l2=8.237511108553496\n",
      "[LightGBM] [Warning] bagging_freq is set=1, subsample_freq=0 will be ignored. Current value: bagging_freq=1\n"
     ]
    },
    {
     "name": "stderr",
     "output_type": "stream",
     "text": [
      "[I 2023-10-30 18:30:45,749] Trial 12 finished with value: 2640762.701465851 and parameters: {'n_estimators': 1039, 'boosting': 'dart', 'lambda_l2': 8.237511108553496, 'bagging_fraction': 0.3902331221313592, 'num_leaves': 759, 'feature_fraction': 0.6604120390449859, 'max_depth': 36, 'learning_rate': 0.036396310546215095, 'subsample': 0.2606242307855746, 'colsample_bytree': 0.5612894342757714, 'min_data_in_leaf': 10}. Best is trial 6 with value: 2633005.9314145357.\n",
      "C:\\Users\\Andrew\\anaconda3\\envs\\ml_env\\lib\\site-packages\\lightgbm\\sklearn.py:736: UserWarning: 'verbose' argument is deprecated and will be removed in a future release of LightGBM. Pass 'log_evaluation()' callback via 'callbacks' argument instead.\n",
      "  _log_warning(\"'verbose' argument is deprecated and will be removed in a future release of LightGBM. \"\n"
     ]
    },
    {
     "name": "stdout",
     "output_type": "stream",
     "text": [
      "[LightGBM] [Warning] boosting is set=gbdt, boosting_type=gbdt will be ignored. Current value: boosting=gbdt\n",
      "[LightGBM] [Warning] feature_fraction is set=0.5787815636227573, colsample_bytree=0.39370656028609025 will be ignored. Current value: feature_fraction=0.5787815636227573\n",
      "[LightGBM] [Warning] min_data_in_leaf is set=68, min_child_samples=20 will be ignored. Current value: min_data_in_leaf=68\n",
      "[LightGBM] [Warning] bagging_fraction is set=0.35520695367360766, subsample=0.05014456627250638 will be ignored. Current value: bagging_fraction=0.35520695367360766\n",
      "[LightGBM] [Warning] lambda_l2 is set=7.654014307146344, reg_lambda=0.0 will be ignored. Current value: lambda_l2=7.654014307146344\n",
      "[LightGBM] [Warning] bagging_freq is set=1, subsample_freq=0 will be ignored. Current value: bagging_freq=1\n"
     ]
    },
    {
     "name": "stderr",
     "output_type": "stream",
     "text": [
      "[I 2023-10-30 18:30:59,260] Trial 13 finished with value: 2654022.1467867475 and parameters: {'n_estimators': 1069, 'boosting': 'gbdt', 'lambda_l2': 7.654014307146344, 'bagging_fraction': 0.35520695367360766, 'num_leaves': 771, 'feature_fraction': 0.5787815636227573, 'max_depth': 37, 'learning_rate': 0.02579874980233953, 'subsample': 0.05014456627250638, 'colsample_bytree': 0.39370656028609025, 'min_data_in_leaf': 68}. Best is trial 6 with value: 2633005.9314145357.\n",
      "C:\\Users\\Andrew\\anaconda3\\envs\\ml_env\\lib\\site-packages\\lightgbm\\sklearn.py:736: UserWarning: 'verbose' argument is deprecated and will be removed in a future release of LightGBM. Pass 'log_evaluation()' callback via 'callbacks' argument instead.\n",
      "  _log_warning(\"'verbose' argument is deprecated and will be removed in a future release of LightGBM. \"\n"
     ]
    },
    {
     "name": "stdout",
     "output_type": "stream",
     "text": [
      "[LightGBM] [Warning] boosting is set=dart, boosting_type=gbdt will be ignored. Current value: boosting=dart\n",
      "[LightGBM] [Warning] feature_fraction is set=0.791978633198261, colsample_bytree=0.5490541511623811 will be ignored. Current value: feature_fraction=0.791978633198261\n",
      "[LightGBM] [Warning] min_data_in_leaf is set=39, min_child_samples=20 will be ignored. Current value: min_data_in_leaf=39\n",
      "[LightGBM] [Warning] bagging_fraction is set=0.3647839870950125, subsample=0.22336892583737755 will be ignored. Current value: bagging_fraction=0.3647839870950125\n",
      "[LightGBM] [Warning] lambda_l2 is set=6.434660979148086, reg_lambda=0.0 will be ignored. Current value: lambda_l2=6.434660979148086\n",
      "[LightGBM] [Warning] bagging_freq is set=1, subsample_freq=0 will be ignored. Current value: bagging_freq=1\n"
     ]
    },
    {
     "name": "stderr",
     "output_type": "stream",
     "text": [
      "[I 2023-10-30 18:31:28,453] Trial 14 finished with value: 2655805.174107333 and parameters: {'n_estimators': 817, 'boosting': 'dart', 'lambda_l2': 6.434660979148086, 'bagging_fraction': 0.3647839870950125, 'num_leaves': 1002, 'feature_fraction': 0.791978633198261, 'max_depth': 18, 'learning_rate': 0.042730436436864985, 'subsample': 0.22336892583737755, 'colsample_bytree': 0.5490541511623811, 'min_data_in_leaf': 39}. Best is trial 6 with value: 2633005.9314145357.\n",
      "C:\\Users\\Andrew\\anaconda3\\envs\\ml_env\\lib\\site-packages\\lightgbm\\sklearn.py:736: UserWarning: 'verbose' argument is deprecated and will be removed in a future release of LightGBM. Pass 'log_evaluation()' callback via 'callbacks' argument instead.\n",
      "  _log_warning(\"'verbose' argument is deprecated and will be removed in a future release of LightGBM. \"\n"
     ]
    },
    {
     "name": "stdout",
     "output_type": "stream",
     "text": [
      "[LightGBM] [Warning] boosting is set=dart, boosting_type=gbdt will be ignored. Current value: boosting=dart\n",
      "[LightGBM] [Warning] feature_fraction is set=0.6999920734330773, colsample_bytree=0.34235105267508753 will be ignored. Current value: feature_fraction=0.6999920734330773\n",
      "[LightGBM] [Warning] min_data_in_leaf is set=56, min_child_samples=20 will be ignored. Current value: min_data_in_leaf=56\n",
      "[LightGBM] [Warning] bagging_fraction is set=0.21516104907889821, subsample=0.34489457116436706 will be ignored. Current value: bagging_fraction=0.21516104907889821\n",
      "[LightGBM] [Warning] lambda_l2 is set=8.092201388615823, reg_lambda=0.0 will be ignored. Current value: lambda_l2=8.092201388615823\n",
      "[LightGBM] [Warning] bagging_freq is set=1, subsample_freq=0 will be ignored. Current value: bagging_freq=1\n"
     ]
    },
    {
     "name": "stderr",
     "output_type": "stream",
     "text": [
      "[I 2023-10-30 18:31:44,242] Trial 15 finished with value: 2946080.97899715 and parameters: {'n_estimators': 873, 'boosting': 'dart', 'lambda_l2': 8.092201388615823, 'bagging_fraction': 0.21516104907889821, 'num_leaves': 784, 'feature_fraction': 0.6999920734330773, 'max_depth': 41, 'learning_rate': 0.013917680659520103, 'subsample': 0.34489457116436706, 'colsample_bytree': 0.34235105267508753, 'min_data_in_leaf': 56}. Best is trial 6 with value: 2633005.9314145357.\n",
      "C:\\Users\\Andrew\\anaconda3\\envs\\ml_env\\lib\\site-packages\\lightgbm\\sklearn.py:736: UserWarning: 'verbose' argument is deprecated and will be removed in a future release of LightGBM. Pass 'log_evaluation()' callback via 'callbacks' argument instead.\n",
      "  _log_warning(\"'verbose' argument is deprecated and will be removed in a future release of LightGBM. \"\n"
     ]
    },
    {
     "name": "stdout",
     "output_type": "stream",
     "text": [
      "[LightGBM] [Warning] boosting is set=gbdt, boosting_type=gbdt will be ignored. Current value: boosting=gbdt\n",
      "[LightGBM] [Warning] feature_fraction is set=0.7806206714381678, colsample_bytree=0.5591040313982958 will be ignored. Current value: feature_fraction=0.7806206714381678\n",
      "[LightGBM] [Warning] min_data_in_leaf is set=26, min_child_samples=20 will be ignored. Current value: min_data_in_leaf=26\n",
      "[LightGBM] [Warning] bagging_fraction is set=0.5010040820685515, subsample=0.18018217771372194 will be ignored. Current value: bagging_fraction=0.5010040820685515\n",
      "[LightGBM] [Warning] lambda_l2 is set=8.468523355212147, reg_lambda=0.0 will be ignored. Current value: lambda_l2=8.468523355212147\n",
      "[LightGBM] [Warning] bagging_freq is set=1, subsample_freq=0 will be ignored. Current value: bagging_freq=1\n"
     ]
    },
    {
     "name": "stderr",
     "output_type": "stream",
     "text": [
      "[I 2023-10-30 18:32:14,322] Trial 16 finished with value: 2621276.231498524 and parameters: {'n_estimators': 1071, 'boosting': 'gbdt', 'lambda_l2': 8.468523355212147, 'bagging_fraction': 0.5010040820685515, 'num_leaves': 677, 'feature_fraction': 0.7806206714381678, 'max_depth': 24, 'learning_rate': 0.021390599834400743, 'subsample': 0.18018217771372194, 'colsample_bytree': 0.5591040313982958, 'min_data_in_leaf': 26}. Best is trial 16 with value: 2621276.231498524.\n",
      "C:\\Users\\Andrew\\anaconda3\\envs\\ml_env\\lib\\site-packages\\lightgbm\\sklearn.py:736: UserWarning: 'verbose' argument is deprecated and will be removed in a future release of LightGBM. Pass 'log_evaluation()' callback via 'callbacks' argument instead.\n",
      "  _log_warning(\"'verbose' argument is deprecated and will be removed in a future release of LightGBM. \"\n"
     ]
    },
    {
     "name": "stdout",
     "output_type": "stream",
     "text": [
      "[LightGBM] [Warning] boosting is set=gbdt, boosting_type=gbdt will be ignored. Current value: boosting=gbdt\n",
      "[LightGBM] [Warning] feature_fraction is set=0.825580749602095, colsample_bytree=0.7527783817596005 will be ignored. Current value: feature_fraction=0.825580749602095\n",
      "[LightGBM] [Warning] min_data_in_leaf is set=28, min_child_samples=20 will be ignored. Current value: min_data_in_leaf=28\n",
      "[LightGBM] [Warning] bagging_fraction is set=0.606401497014063, subsample=0.18101363470868598 will be ignored. Current value: bagging_fraction=0.606401497014063\n",
      "[LightGBM] [Warning] lambda_l2 is set=6.34626319719219, reg_lambda=0.0 will be ignored. Current value: lambda_l2=6.34626319719219\n",
      "[LightGBM] [Warning] bagging_freq is set=1, subsample_freq=0 will be ignored. Current value: bagging_freq=1\n"
     ]
    },
    {
     "name": "stderr",
     "output_type": "stream",
     "text": [
      "[I 2023-10-30 18:32:42,747] Trial 17 finished with value: 2592383.289728547 and parameters: {'n_estimators': 1099, 'boosting': 'gbdt', 'lambda_l2': 6.34626319719219, 'bagging_fraction': 0.606401497014063, 'num_leaves': 634, 'feature_fraction': 0.825580749602095, 'max_depth': 23, 'learning_rate': 0.019272861579545896, 'subsample': 0.18101363470868598, 'colsample_bytree': 0.7527783817596005, 'min_data_in_leaf': 28}. Best is trial 17 with value: 2592383.289728547.\n",
      "C:\\Users\\Andrew\\anaconda3\\envs\\ml_env\\lib\\site-packages\\lightgbm\\sklearn.py:736: UserWarning: 'verbose' argument is deprecated and will be removed in a future release of LightGBM. Pass 'log_evaluation()' callback via 'callbacks' argument instead.\n",
      "  _log_warning(\"'verbose' argument is deprecated and will be removed in a future release of LightGBM. \"\n"
     ]
    },
    {
     "name": "stdout",
     "output_type": "stream",
     "text": [
      "[LightGBM] [Warning] boosting is set=gbdt, boosting_type=gbdt will be ignored. Current value: boosting=gbdt\n",
      "[LightGBM] [Warning] feature_fraction is set=0.7892495091448404, colsample_bytree=0.7779908511174316 will be ignored. Current value: feature_fraction=0.7892495091448404\n",
      "[LightGBM] [Warning] min_data_in_leaf is set=26, min_child_samples=20 will be ignored. Current value: min_data_in_leaf=26\n",
      "[LightGBM] [Warning] bagging_fraction is set=0.6494653540018881, subsample=0.18237713572683323 will be ignored. Current value: bagging_fraction=0.6494653540018881\n",
      "[LightGBM] [Warning] lambda_l2 is set=5.801561587337013, reg_lambda=0.0 will be ignored. Current value: lambda_l2=5.801561587337013\n",
      "[LightGBM] [Warning] bagging_freq is set=1, subsample_freq=0 will be ignored. Current value: bagging_freq=1\n"
     ]
    },
    {
     "name": "stderr",
     "output_type": "stream",
     "text": [
      "[I 2023-10-30 18:33:19,679] Trial 18 finished with value: 2577051.200226115 and parameters: {'n_estimators': 1104, 'boosting': 'gbdt', 'lambda_l2': 5.801561587337013, 'bagging_fraction': 0.6494653540018881, 'num_leaves': 626, 'feature_fraction': 0.7892495091448404, 'max_depth': 23, 'learning_rate': 0.008028784316971306, 'subsample': 0.18237713572683323, 'colsample_bytree': 0.7779908511174316, 'min_data_in_leaf': 26}. Best is trial 18 with value: 2577051.200226115.\n",
      "C:\\Users\\Andrew\\anaconda3\\envs\\ml_env\\lib\\site-packages\\lightgbm\\sklearn.py:736: UserWarning: 'verbose' argument is deprecated and will be removed in a future release of LightGBM. Pass 'log_evaluation()' callback via 'callbacks' argument instead.\n",
      "  _log_warning(\"'verbose' argument is deprecated and will be removed in a future release of LightGBM. \"\n"
     ]
    },
    {
     "name": "stdout",
     "output_type": "stream",
     "text": [
      "[LightGBM] [Warning] boosting is set=gbdt, boosting_type=gbdt will be ignored. Current value: boosting=gbdt\n",
      "[LightGBM] [Warning] feature_fraction is set=0.9874999981988422, colsample_bytree=0.7598084571106424 will be ignored. Current value: feature_fraction=0.9874999981988422\n",
      "[LightGBM] [Warning] min_data_in_leaf is set=26, min_child_samples=20 will be ignored. Current value: min_data_in_leaf=26\n",
      "[LightGBM] [Warning] bagging_fraction is set=0.6432460581908271, subsample=0.605547027712792 will be ignored. Current value: bagging_fraction=0.6432460581908271\n",
      "[LightGBM] [Warning] lambda_l2 is set=5.367177824334458, reg_lambda=0.0 will be ignored. Current value: lambda_l2=5.367177824334458\n",
      "[LightGBM] [Warning] bagging_freq is set=1, subsample_freq=0 will be ignored. Current value: bagging_freq=1\n"
     ]
    },
    {
     "name": "stderr",
     "output_type": "stream",
     "text": [
      "[I 2023-10-30 18:34:01,408] Trial 19 finished with value: 2561774.161927067 and parameters: {'n_estimators': 1096, 'boosting': 'gbdt', 'lambda_l2': 5.367177824334458, 'bagging_fraction': 0.6432460581908271, 'num_leaves': 897, 'feature_fraction': 0.9874999981988422, 'max_depth': 24, 'learning_rate': 0.007714193394097146, 'subsample': 0.605547027712792, 'colsample_bytree': 0.7598084571106424, 'min_data_in_leaf': 26}. Best is trial 19 with value: 2561774.161927067.\n",
      "C:\\Users\\Andrew\\anaconda3\\envs\\ml_env\\lib\\site-packages\\lightgbm\\sklearn.py:736: UserWarning: 'verbose' argument is deprecated and will be removed in a future release of LightGBM. Pass 'log_evaluation()' callback via 'callbacks' argument instead.\n",
      "  _log_warning(\"'verbose' argument is deprecated and will be removed in a future release of LightGBM. \"\n"
     ]
    },
    {
     "name": "stdout",
     "output_type": "stream",
     "text": [
      "[LightGBM] [Warning] boosting is set=gbdt, boosting_type=gbdt will be ignored. Current value: boosting=gbdt\n",
      "[LightGBM] [Warning] feature_fraction is set=0.977922910390989, colsample_bytree=0.8005305948508215 will be ignored. Current value: feature_fraction=0.977922910390989\n",
      "[LightGBM] [Warning] min_data_in_leaf is set=43, min_child_samples=20 will be ignored. Current value: min_data_in_leaf=43\n",
      "[LightGBM] [Warning] bagging_fraction is set=0.6823455645912265, subsample=0.6328088366609974 will be ignored. Current value: bagging_fraction=0.6823455645912265\n",
      "[LightGBM] [Warning] lambda_l2 is set=5.003475419441374, reg_lambda=0.0 will be ignored. Current value: lambda_l2=5.003475419441374\n",
      "[LightGBM] [Warning] bagging_freq is set=1, subsample_freq=0 will be ignored. Current value: bagging_freq=1\n"
     ]
    },
    {
     "name": "stderr",
     "output_type": "stream",
     "text": [
      "[I 2023-10-30 18:34:23,174] Trial 20 finished with value: 2551799.9930268377 and parameters: {'n_estimators': 1102, 'boosting': 'gbdt', 'lambda_l2': 5.003475419441374, 'bagging_fraction': 0.6823455645912265, 'num_leaves': 897, 'feature_fraction': 0.977922910390989, 'max_depth': 13, 'learning_rate': 0.006790994041786697, 'subsample': 0.6328088366609974, 'colsample_bytree': 0.8005305948508215, 'min_data_in_leaf': 43}. Best is trial 20 with value: 2551799.9930268377.\n",
      "C:\\Users\\Andrew\\anaconda3\\envs\\ml_env\\lib\\site-packages\\lightgbm\\sklearn.py:736: UserWarning: 'verbose' argument is deprecated and will be removed in a future release of LightGBM. Pass 'log_evaluation()' callback via 'callbacks' argument instead.\n",
      "  _log_warning(\"'verbose' argument is deprecated and will be removed in a future release of LightGBM. \"\n"
     ]
    },
    {
     "name": "stdout",
     "output_type": "stream",
     "text": [
      "[LightGBM] [Warning] boosting is set=gbdt, boosting_type=gbdt will be ignored. Current value: boosting=gbdt\n",
      "[LightGBM] [Warning] feature_fraction is set=0.9997009943799137, colsample_bytree=0.8077059623500861 will be ignored. Current value: feature_fraction=0.9997009943799137\n",
      "[LightGBM] [Warning] min_data_in_leaf is set=41, min_child_samples=20 will be ignored. Current value: min_data_in_leaf=41\n",
      "[LightGBM] [Warning] bagging_fraction is set=0.6726362178929178, subsample=0.6300808893105623 will be ignored. Current value: bagging_fraction=0.6726362178929178\n",
      "[LightGBM] [Warning] lambda_l2 is set=4.986326594579468, reg_lambda=0.0 will be ignored. Current value: lambda_l2=4.986326594579468\n",
      "[LightGBM] [Warning] bagging_freq is set=1, subsample_freq=0 will be ignored. Current value: bagging_freq=1\n"
     ]
    },
    {
     "name": "stderr",
     "output_type": "stream",
     "text": [
      "[I 2023-10-30 18:34:43,092] Trial 21 finished with value: 2549413.6181684 and parameters: {'n_estimators': 1111, 'boosting': 'gbdt', 'lambda_l2': 4.986326594579468, 'bagging_fraction': 0.6726362178929178, 'num_leaves': 903, 'feature_fraction': 0.9997009943799137, 'max_depth': 13, 'learning_rate': 0.0063106163502641725, 'subsample': 0.6300808893105623, 'colsample_bytree': 0.8077059623500861, 'min_data_in_leaf': 41}. Best is trial 21 with value: 2549413.6181684.\n",
      "C:\\Users\\Andrew\\anaconda3\\envs\\ml_env\\lib\\site-packages\\lightgbm\\sklearn.py:736: UserWarning: 'verbose' argument is deprecated and will be removed in a future release of LightGBM. Pass 'log_evaluation()' callback via 'callbacks' argument instead.\n",
      "  _log_warning(\"'verbose' argument is deprecated and will be removed in a future release of LightGBM. \"\n"
     ]
    },
    {
     "name": "stdout",
     "output_type": "stream",
     "text": [
      "[LightGBM] [Warning] boosting is set=gbdt, boosting_type=gbdt will be ignored. Current value: boosting=gbdt\n",
      "[LightGBM] [Warning] feature_fraction is set=0.9843873411868239, colsample_bytree=0.8971625055598238 will be ignored. Current value: feature_fraction=0.9843873411868239\n",
      "[LightGBM] [Warning] min_data_in_leaf is set=45, min_child_samples=20 will be ignored. Current value: min_data_in_leaf=45\n",
      "[LightGBM] [Warning] bagging_fraction is set=0.6966382622933757, subsample=0.6615344974491301 will be ignored. Current value: bagging_fraction=0.6966382622933757\n",
      "[LightGBM] [Warning] lambda_l2 is set=4.486716200591772, reg_lambda=0.0 will be ignored. Current value: lambda_l2=4.486716200591772\n",
      "[LightGBM] [Warning] bagging_freq is set=1, subsample_freq=0 will be ignored. Current value: bagging_freq=1\n"
     ]
    },
    {
     "name": "stderr",
     "output_type": "stream",
     "text": [
      "[I 2023-10-30 18:35:01,329] Trial 22 finished with value: 2550612.220459148 and parameters: {'n_estimators': 1200, 'boosting': 'gbdt', 'lambda_l2': 4.486716200591772, 'bagging_fraction': 0.6966382622933757, 'num_leaves': 883, 'feature_fraction': 0.9843873411868239, 'max_depth': 11, 'learning_rate': 0.00572818749016262, 'subsample': 0.6615344974491301, 'colsample_bytree': 0.8971625055598238, 'min_data_in_leaf': 45}. Best is trial 21 with value: 2549413.6181684.\n",
      "C:\\Users\\Andrew\\anaconda3\\envs\\ml_env\\lib\\site-packages\\lightgbm\\sklearn.py:736: UserWarning: 'verbose' argument is deprecated and will be removed in a future release of LightGBM. Pass 'log_evaluation()' callback via 'callbacks' argument instead.\n",
      "  _log_warning(\"'verbose' argument is deprecated and will be removed in a future release of LightGBM. \"\n"
     ]
    },
    {
     "name": "stdout",
     "output_type": "stream",
     "text": [
      "[LightGBM] [Warning] boosting is set=gbdt, boosting_type=gbdt will be ignored. Current value: boosting=gbdt\n",
      "[LightGBM] [Warning] feature_fraction is set=0.9992692857998761, colsample_bytree=0.9276823738685074 will be ignored. Current value: feature_fraction=0.9992692857998761\n",
      "[LightGBM] [Warning] min_data_in_leaf is set=48, min_child_samples=20 will be ignored. Current value: min_data_in_leaf=48\n",
      "[LightGBM] [Warning] bagging_fraction is set=0.7347316911305052, subsample=0.6759225309632929 will be ignored. Current value: bagging_fraction=0.7347316911305052\n",
      "[LightGBM] [Warning] lambda_l2 is set=4.288608598019909, reg_lambda=0.0 will be ignored. Current value: lambda_l2=4.288608598019909\n",
      "[LightGBM] [Warning] bagging_freq is set=1, subsample_freq=0 will be ignored. Current value: bagging_freq=1\n"
     ]
    },
    {
     "name": "stderr",
     "output_type": "stream",
     "text": [
      "[I 2023-10-30 18:35:20,087] Trial 23 finished with value: 2555749.336756417 and parameters: {'n_estimators': 1193, 'boosting': 'gbdt', 'lambda_l2': 4.288608598019909, 'bagging_fraction': 0.7347316911305052, 'num_leaves': 1021, 'feature_fraction': 0.9992692857998761, 'max_depth': 11, 'learning_rate': 0.0050374900817086125, 'subsample': 0.6759225309632929, 'colsample_bytree': 0.9276823738685074, 'min_data_in_leaf': 48}. Best is trial 21 with value: 2549413.6181684.\n",
      "C:\\Users\\Andrew\\anaconda3\\envs\\ml_env\\lib\\site-packages\\lightgbm\\sklearn.py:736: UserWarning: 'verbose' argument is deprecated and will be removed in a future release of LightGBM. Pass 'log_evaluation()' callback via 'callbacks' argument instead.\n",
      "  _log_warning(\"'verbose' argument is deprecated and will be removed in a future release of LightGBM. \"\n"
     ]
    },
    {
     "name": "stdout",
     "output_type": "stream",
     "text": [
      "[LightGBM] [Warning] boosting is set=gbdt, boosting_type=gbdt will be ignored. Current value: boosting=gbdt\n",
      "[LightGBM] [Warning] feature_fraction is set=0.9595641763527119, colsample_bytree=0.8599221455757927 will be ignored. Current value: feature_fraction=0.9595641763527119\n",
      "[LightGBM] [Warning] min_data_in_leaf is set=39, min_child_samples=20 will be ignored. Current value: min_data_in_leaf=39\n",
      "[LightGBM] [Warning] bagging_fraction is set=0.7056472249570577, subsample=0.7124883254513367 will be ignored. Current value: bagging_fraction=0.7056472249570577\n",
      "[LightGBM] [Warning] lambda_l2 is set=3.8071506702904476, reg_lambda=0.0 will be ignored. Current value: lambda_l2=3.8071506702904476\n",
      "[LightGBM] [Warning] bagging_freq is set=1, subsample_freq=0 will be ignored. Current value: bagging_freq=1\n"
     ]
    },
    {
     "name": "stderr",
     "output_type": "stream",
     "text": [
      "[I 2023-10-30 18:35:37,685] Trial 24 finished with value: 2562519.9402912995 and parameters: {'n_estimators': 1125, 'boosting': 'gbdt', 'lambda_l2': 3.8071506702904476, 'bagging_fraction': 0.7056472249570577, 'num_leaves': 903, 'feature_fraction': 0.9595641763527119, 'max_depth': 14, 'learning_rate': 0.012717897529775963, 'subsample': 0.7124883254513367, 'colsample_bytree': 0.8599221455757927, 'min_data_in_leaf': 39}. Best is trial 21 with value: 2549413.6181684.\n",
      "C:\\Users\\Andrew\\anaconda3\\envs\\ml_env\\lib\\site-packages\\lightgbm\\sklearn.py:736: UserWarning: 'verbose' argument is deprecated and will be removed in a future release of LightGBM. Pass 'log_evaluation()' callback via 'callbacks' argument instead.\n",
      "  _log_warning(\"'verbose' argument is deprecated and will be removed in a future release of LightGBM. \"\n"
     ]
    },
    {
     "name": "stdout",
     "output_type": "stream",
     "text": [
      "[LightGBM] [Warning] boosting is set=gbdt, boosting_type=gbdt will be ignored. Current value: boosting=gbdt\n",
      "[LightGBM] [Warning] feature_fraction is set=0.9983410473109503, colsample_bytree=0.9653633978219514 will be ignored. Current value: feature_fraction=0.9983410473109503\n",
      "[LightGBM] [Warning] min_data_in_leaf is set=41, min_child_samples=20 will be ignored. Current value: min_data_in_leaf=41\n",
      "[LightGBM] [Warning] bagging_fraction is set=0.8326952531358638, subsample=0.7854620767524065 will be ignored. Current value: bagging_fraction=0.8326952531358638\n",
      "[LightGBM] [Warning] lambda_l2 is set=4.790814353843039, reg_lambda=0.0 will be ignored. Current value: lambda_l2=4.790814353843039\n",
      "[LightGBM] [Warning] bagging_freq is set=1, subsample_freq=0 will be ignored. Current value: bagging_freq=1\n"
     ]
    },
    {
     "name": "stderr",
     "output_type": "stream",
     "text": [
      "[I 2023-10-30 18:36:07,113] Trial 25 finished with value: 2554234.460186504 and parameters: {'n_estimators': 1199, 'boosting': 'gbdt', 'lambda_l2': 4.790814353843039, 'bagging_fraction': 0.8326952531358638, 'num_leaves': 843, 'feature_fraction': 0.9983410473109503, 'max_depth': 14, 'learning_rate': 0.006043633618865978, 'subsample': 0.7854620767524065, 'colsample_bytree': 0.9653633978219514, 'min_data_in_leaf': 41}. Best is trial 21 with value: 2549413.6181684.\n",
      "C:\\Users\\Andrew\\anaconda3\\envs\\ml_env\\lib\\site-packages\\lightgbm\\sklearn.py:736: UserWarning: 'verbose' argument is deprecated and will be removed in a future release of LightGBM. Pass 'log_evaluation()' callback via 'callbacks' argument instead.\n",
      "  _log_warning(\"'verbose' argument is deprecated and will be removed in a future release of LightGBM. \"\n"
     ]
    },
    {
     "name": "stdout",
     "output_type": "stream",
     "text": [
      "[LightGBM] [Warning] boosting is set=rf, boosting_type=gbdt will be ignored. Current value: boosting=rf\n",
      "[LightGBM] [Warning] feature_fraction is set=0.954389311052118, colsample_bytree=0.820667723183611 will be ignored. Current value: feature_fraction=0.954389311052118\n",
      "[LightGBM] [Warning] min_data_in_leaf is set=62, min_child_samples=20 will be ignored. Current value: min_data_in_leaf=62\n",
      "[LightGBM] [Warning] bagging_fraction is set=0.6844874108924593, subsample=0.6013673505360652 will be ignored. Current value: bagging_fraction=0.6844874108924593\n",
      "[LightGBM] [Warning] lambda_l2 is set=3.67558595594568, reg_lambda=0.0 will be ignored. Current value: lambda_l2=3.67558595594568\n",
      "[LightGBM] [Warning] bagging_freq is set=1, subsample_freq=0 will be ignored. Current value: bagging_freq=1\n"
     ]
    },
    {
     "name": "stderr",
     "output_type": "stream",
     "text": [
      "[I 2023-10-30 18:36:09,280] Trial 26 finished with value: 4031936.2253305092 and parameters: {'n_estimators': 979, 'boosting': 'rf', 'lambda_l2': 3.67558595594568, 'bagging_fraction': 0.6844874108924593, 'num_leaves': 974, 'feature_fraction': 0.954389311052118, 'max_depth': 1, 'learning_rate': 0.004255355503337488, 'subsample': 0.6013673505360652, 'colsample_bytree': 0.820667723183611, 'min_data_in_leaf': 62}. Best is trial 21 with value: 2549413.6181684.\n",
      "C:\\Users\\Andrew\\anaconda3\\envs\\ml_env\\lib\\site-packages\\lightgbm\\sklearn.py:736: UserWarning: 'verbose' argument is deprecated and will be removed in a future release of LightGBM. Pass 'log_evaluation()' callback via 'callbacks' argument instead.\n",
      "  _log_warning(\"'verbose' argument is deprecated and will be removed in a future release of LightGBM. \"\n"
     ]
    },
    {
     "name": "stdout",
     "output_type": "stream",
     "text": [
      "[LightGBM] [Warning] boosting is set=gbdt, boosting_type=gbdt will be ignored. Current value: boosting=gbdt\n",
      "[LightGBM] [Warning] feature_fraction is set=0.9047538110631537, colsample_bytree=0.8964980069945112 will be ignored. Current value: feature_fraction=0.9047538110631537\n",
      "[LightGBM] [Warning] min_data_in_leaf is set=50, min_child_samples=20 will be ignored. Current value: min_data_in_leaf=50\n",
      "[LightGBM] [Warning] bagging_fraction is set=0.5601759139416629, subsample=0.7929225488161564 will be ignored. Current value: bagging_fraction=0.5601759139416629\n",
      "[LightGBM] [Warning] lambda_l2 is set=5.21304469068181, reg_lambda=0.0 will be ignored. Current value: lambda_l2=5.21304469068181\n",
      "[LightGBM] [Warning] bagging_freq is set=1, subsample_freq=0 will be ignored. Current value: bagging_freq=1\n"
     ]
    },
    {
     "name": "stderr",
     "output_type": "stream",
     "text": [
      "[I 2023-10-30 18:36:17,206] Trial 27 finished with value: 2578325.7526316266 and parameters: {'n_estimators': 1027, 'boosting': 'gbdt', 'lambda_l2': 5.21304469068181, 'bagging_fraction': 0.5601759139416629, 'num_leaves': 829, 'feature_fraction': 0.9047538110631537, 'max_depth': 8, 'learning_rate': 0.010273293403359134, 'subsample': 0.7929225488161564, 'colsample_bytree': 0.8964980069945112, 'min_data_in_leaf': 50}. Best is trial 21 with value: 2549413.6181684.\n",
      "C:\\Users\\Andrew\\anaconda3\\envs\\ml_env\\lib\\site-packages\\lightgbm\\sklearn.py:736: UserWarning: 'verbose' argument is deprecated and will be removed in a future release of LightGBM. Pass 'log_evaluation()' callback via 'callbacks' argument instead.\n",
      "  _log_warning(\"'verbose' argument is deprecated and will be removed in a future release of LightGBM. \"\n"
     ]
    },
    {
     "name": "stdout",
     "output_type": "stream",
     "text": [
      "[LightGBM] [Warning] boosting is set=gbdt, boosting_type=gbdt will be ignored. Current value: boosting=gbdt\n",
      "[LightGBM] [Warning] feature_fraction is set=0.9608915583789369, colsample_bytree=0.996825040502983 will be ignored. Current value: feature_fraction=0.9608915583789369\n",
      "[LightGBM] [Warning] min_data_in_leaf is set=33, min_child_samples=20 will be ignored. Current value: min_data_in_leaf=33\n",
      "[LightGBM] [Warning] bagging_fraction is set=0.45392505117629467, subsample=0.5149679914809937 will be ignored. Current value: bagging_fraction=0.45392505117629467\n",
      "[LightGBM] [Warning] lambda_l2 is set=5.7505928162548905, reg_lambda=0.0 will be ignored. Current value: lambda_l2=5.7505928162548905\n",
      "[LightGBM] [Warning] bagging_freq is set=1, subsample_freq=0 will be ignored. Current value: bagging_freq=1\n"
     ]
    },
    {
     "name": "stderr",
     "output_type": "stream",
     "text": [
      "[I 2023-10-30 18:36:46,160] Trial 28 finished with value: 2640007.222354662 and parameters: {'n_estimators': 1125, 'boosting': 'gbdt', 'lambda_l2': 5.7505928162548905, 'bagging_fraction': 0.45392505117629467, 'num_leaves': 924, 'feature_fraction': 0.9608915583789369, 'max_depth': 14, 'learning_rate': 0.002711061674793462, 'subsample': 0.5149679914809937, 'colsample_bytree': 0.996825040502983, 'min_data_in_leaf': 33}. Best is trial 21 with value: 2549413.6181684.\n",
      "C:\\Users\\Andrew\\anaconda3\\envs\\ml_env\\lib\\site-packages\\lightgbm\\sklearn.py:736: UserWarning: 'verbose' argument is deprecated and will be removed in a future release of LightGBM. Pass 'log_evaluation()' callback via 'callbacks' argument instead.\n",
      "  _log_warning(\"'verbose' argument is deprecated and will be removed in a future release of LightGBM. \"\n"
     ]
    },
    {
     "name": "stdout",
     "output_type": "stream",
     "text": [
      "[LightGBM] [Warning] boosting is set=gbdt, boosting_type=gbdt will be ignored. Current value: boosting=gbdt\n",
      "[LightGBM] [Warning] feature_fraction is set=0.9003735097328458, colsample_bytree=0.8068384389181539 will be ignored. Current value: feature_fraction=0.9003735097328458\n",
      "[LightGBM] [Warning] min_data_in_leaf is set=60, min_child_samples=20 will be ignored. Current value: min_data_in_leaf=60\n",
      "[LightGBM] [Warning] bagging_fraction is set=0.8711201797141817, subsample=0.9806988965125001 will be ignored. Current value: bagging_fraction=0.8711201797141817\n",
      "[LightGBM] [Warning] lambda_l2 is set=2.669127746326127, reg_lambda=0.0 will be ignored. Current value: lambda_l2=2.669127746326127\n",
      "[LightGBM] [Warning] bagging_freq is set=1, subsample_freq=0 will be ignored. Current value: bagging_freq=1\n"
     ]
    },
    {
     "name": "stderr",
     "output_type": "stream",
     "text": [
      "[I 2023-10-30 18:36:48,863] Trial 29 finished with value: 3288514.521730242 and parameters: {'n_estimators': 1139, 'boosting': 'gbdt', 'lambda_l2': 2.669127746326127, 'bagging_fraction': 0.8711201797141817, 'num_leaves': 830, 'feature_fraction': 0.9003735097328458, 'max_depth': 1, 'learning_rate': 0.004862595922254778, 'subsample': 0.9806988965125001, 'colsample_bytree': 0.8068384389181539, 'min_data_in_leaf': 60}. Best is trial 21 with value: 2549413.6181684.\n",
      "C:\\Users\\Andrew\\anaconda3\\envs\\ml_env\\lib\\site-packages\\lightgbm\\sklearn.py:736: UserWarning: 'verbose' argument is deprecated and will be removed in a future release of LightGBM. Pass 'log_evaluation()' callback via 'callbacks' argument instead.\n",
      "  _log_warning(\"'verbose' argument is deprecated and will be removed in a future release of LightGBM. \"\n"
     ]
    },
    {
     "name": "stdout",
     "output_type": "stream",
     "text": [
      "[LightGBM] [Warning] boosting is set=gbdt, boosting_type=gbdt will be ignored. Current value: boosting=gbdt\n",
      "[LightGBM] [Warning] feature_fraction is set=0.8755398525728846, colsample_bytree=0.7192202050220958 will be ignored. Current value: feature_fraction=0.8755398525728846\n",
      "[LightGBM] [Warning] min_data_in_leaf is set=34, min_child_samples=20 will be ignored. Current value: min_data_in_leaf=34\n",
      "[LightGBM] [Warning] bagging_fraction is set=0.7826113001215316, subsample=0.8449506366697725 will be ignored. Current value: bagging_fraction=0.7826113001215316\n",
      "[LightGBM] [Warning] lambda_l2 is set=4.358929040963914, reg_lambda=0.0 will be ignored. Current value: lambda_l2=4.358929040963914\n",
      "[LightGBM] [Warning] bagging_freq is set=1, subsample_freq=0 will be ignored. Current value: bagging_freq=1\n"
     ]
    },
    {
     "name": "stderr",
     "output_type": "stream",
     "text": [
      "[I 2023-10-30 18:37:36,186] Trial 30 finished with value: 2605840.6292526894 and parameters: {'n_estimators': 1081, 'boosting': 'gbdt', 'lambda_l2': 4.358929040963914, 'bagging_fraction': 0.7826113001215316, 'num_leaves': 720, 'feature_fraction': 0.8755398525728846, 'max_depth': 21, 'learning_rate': 0.0034827536108475504, 'subsample': 0.8449506366697725, 'colsample_bytree': 0.7192202050220958, 'min_data_in_leaf': 34}. Best is trial 21 with value: 2549413.6181684.\n",
      "C:\\Users\\Andrew\\anaconda3\\envs\\ml_env\\lib\\site-packages\\lightgbm\\sklearn.py:736: UserWarning: 'verbose' argument is deprecated and will be removed in a future release of LightGBM. Pass 'log_evaluation()' callback via 'callbacks' argument instead.\n",
      "  _log_warning(\"'verbose' argument is deprecated and will be removed in a future release of LightGBM. \"\n"
     ]
    },
    {
     "name": "stdout",
     "output_type": "stream",
     "text": [
      "[LightGBM] [Warning] boosting is set=gbdt, boosting_type=gbdt will be ignored. Current value: boosting=gbdt\n",
      "[LightGBM] [Warning] feature_fraction is set=0.9901932615805181, colsample_bytree=0.9428811662663968 will be ignored. Current value: feature_fraction=0.9901932615805181\n",
      "[LightGBM] [Warning] min_data_in_leaf is set=43, min_child_samples=20 will be ignored. Current value: min_data_in_leaf=43\n",
      "[LightGBM] [Warning] bagging_fraction is set=0.8443482510104968, subsample=0.7473365237861109 will be ignored. Current value: bagging_fraction=0.8443482510104968\n",
      "[LightGBM] [Warning] lambda_l2 is set=4.831064715879882, reg_lambda=0.0 will be ignored. Current value: lambda_l2=4.831064715879882\n",
      "[LightGBM] [Warning] bagging_freq is set=1, subsample_freq=0 will be ignored. Current value: bagging_freq=1\n"
     ]
    },
    {
     "name": "stderr",
     "output_type": "stream",
     "text": [
      "[I 2023-10-30 18:38:01,253] Trial 31 finished with value: 2550995.470563494 and parameters: {'n_estimators': 1197, 'boosting': 'gbdt', 'lambda_l2': 4.831064715879882, 'bagging_fraction': 0.8443482510104968, 'num_leaves': 845, 'feature_fraction': 0.9901932615805181, 'max_depth': 14, 'learning_rate': 0.005892148750564004, 'subsample': 0.7473365237861109, 'colsample_bytree': 0.9428811662663968, 'min_data_in_leaf': 43}. Best is trial 21 with value: 2549413.6181684.\n",
      "C:\\Users\\Andrew\\anaconda3\\envs\\ml_env\\lib\\site-packages\\lightgbm\\sklearn.py:736: UserWarning: 'verbose' argument is deprecated and will be removed in a future release of LightGBM. Pass 'log_evaluation()' callback via 'callbacks' argument instead.\n",
      "  _log_warning(\"'verbose' argument is deprecated and will be removed in a future release of LightGBM. \"\n"
     ]
    },
    {
     "name": "stdout",
     "output_type": "stream",
     "text": [
      "[LightGBM] [Warning] boosting is set=gbdt, boosting_type=gbdt will be ignored. Current value: boosting=gbdt\n",
      "[LightGBM] [Warning] feature_fraction is set=0.9728844728959027, colsample_bytree=0.934275924506481 will be ignored. Current value: feature_fraction=0.9728844728959027\n",
      "[LightGBM] [Warning] min_data_in_leaf is set=46, min_child_samples=20 will be ignored. Current value: min_data_in_leaf=46\n",
      "[LightGBM] [Warning] bagging_fraction is set=0.718194152123905, subsample=0.6958109464656097 will be ignored. Current value: bagging_fraction=0.718194152123905\n",
      "[LightGBM] [Warning] lambda_l2 is set=3.969512888912289, reg_lambda=0.0 will be ignored. Current value: lambda_l2=3.969512888912289\n",
      "[LightGBM] [Warning] bagging_freq is set=1, subsample_freq=0 will be ignored. Current value: bagging_freq=1\n"
     ]
    },
    {
     "name": "stderr",
     "output_type": "stream",
     "text": [
      "[I 2023-10-30 18:38:11,495] Trial 32 finished with value: 2578527.5581561276 and parameters: {'n_estimators': 1159, 'boosting': 'gbdt', 'lambda_l2': 3.969512888912289, 'bagging_fraction': 0.718194152123905, 'num_leaves': 953, 'feature_fraction': 0.9728844728959027, 'max_depth': 7, 'learning_rate': 0.004998201074700581, 'subsample': 0.6958109464656097, 'colsample_bytree': 0.934275924506481, 'min_data_in_leaf': 46}. Best is trial 21 with value: 2549413.6181684.\n",
      "C:\\Users\\Andrew\\anaconda3\\envs\\ml_env\\lib\\site-packages\\lightgbm\\sklearn.py:736: UserWarning: 'verbose' argument is deprecated and will be removed in a future release of LightGBM. Pass 'log_evaluation()' callback via 'callbacks' argument instead.\n",
      "  _log_warning(\"'verbose' argument is deprecated and will be removed in a future release of LightGBM. \"\n"
     ]
    },
    {
     "name": "stdout",
     "output_type": "stream",
     "text": [
      "[LightGBM] [Warning] boosting is set=gbdt, boosting_type=gbdt will be ignored. Current value: boosting=gbdt\n",
      "[LightGBM] [Warning] feature_fraction is set=0.9338190261876019, colsample_bytree=0.8816666835160427 will be ignored. Current value: feature_fraction=0.9338190261876019\n",
      "[LightGBM] [Warning] min_data_in_leaf is set=54, min_child_samples=20 will be ignored. Current value: min_data_in_leaf=54\n",
      "[LightGBM] [Warning] bagging_fraction is set=0.8909593724160273, subsample=0.6539009605761733 will be ignored. Current value: bagging_fraction=0.8909593724160273\n",
      "[LightGBM] [Warning] lambda_l2 is set=4.6959513329125455, reg_lambda=0.0 will be ignored. Current value: lambda_l2=4.6959513329125455\n",
      "[LightGBM] [Warning] bagging_freq is set=1, subsample_freq=0 will be ignored. Current value: bagging_freq=1\n"
     ]
    },
    {
     "name": "stderr",
     "output_type": "stream",
     "text": [
      "[I 2023-10-30 18:38:32,938] Trial 33 finished with value: 2553172.3803349594 and parameters: {'n_estimators': 1177, 'boosting': 'gbdt', 'lambda_l2': 4.6959513329125455, 'bagging_fraction': 0.8909593724160273, 'num_leaves': 112, 'feature_fraction': 0.9338190261876019, 'max_depth': 12, 'learning_rate': 0.006560505599254823, 'subsample': 0.6539009605761733, 'colsample_bytree': 0.8816666835160427, 'min_data_in_leaf': 54}. Best is trial 21 with value: 2549413.6181684.\n",
      "C:\\Users\\Andrew\\anaconda3\\envs\\ml_env\\lib\\site-packages\\lightgbm\\sklearn.py:736: UserWarning: 'verbose' argument is deprecated and will be removed in a future release of LightGBM. Pass 'log_evaluation()' callback via 'callbacks' argument instead.\n",
      "  _log_warning(\"'verbose' argument is deprecated and will be removed in a future release of LightGBM. \"\n"
     ]
    },
    {
     "name": "stdout",
     "output_type": "stream",
     "text": [
      "[LightGBM] [Warning] boosting is set=gbdt, boosting_type=gbdt will be ignored. Current value: boosting=gbdt\n",
      "[LightGBM] [Warning] feature_fraction is set=0.9686023965681402, colsample_bytree=0.8409765583515667 will be ignored. Current value: feature_fraction=0.9686023965681402\n",
      "[LightGBM] [Warning] min_data_in_leaf is set=52, min_child_samples=20 will be ignored. Current value: min_data_in_leaf=52\n",
      "[LightGBM] [Warning] bagging_fraction is set=0.9128813524320016, subsample=0.7476931407691383 will be ignored. Current value: bagging_fraction=0.9128813524320016\n",
      "[LightGBM] [Warning] lambda_l2 is set=3.5573510419516436, reg_lambda=0.0 will be ignored. Current value: lambda_l2=3.5573510419516436\n",
      "[LightGBM] [Warning] bagging_freq is set=1, subsample_freq=0 will be ignored. Current value: bagging_freq=1\n"
     ]
    },
    {
     "name": "stderr",
     "output_type": "stream",
     "text": [
      "[I 2023-10-30 18:39:24,050] Trial 34 finished with value: 2578793.7204321646 and parameters: {'n_estimators': 1149, 'boosting': 'gbdt', 'lambda_l2': 3.5573510419516436, 'bagging_fraction': 0.9128813524320016, 'num_leaves': 864, 'feature_fraction': 0.9686023965681402, 'max_depth': 28, 'learning_rate': 0.0038328250486311002, 'subsample': 0.7476931407691383, 'colsample_bytree': 0.8409765583515667, 'min_data_in_leaf': 52}. Best is trial 21 with value: 2549413.6181684.\n",
      "C:\\Users\\Andrew\\anaconda3\\envs\\ml_env\\lib\\site-packages\\lightgbm\\sklearn.py:736: UserWarning: 'verbose' argument is deprecated and will be removed in a future release of LightGBM. Pass 'log_evaluation()' callback via 'callbacks' argument instead.\n",
      "  _log_warning(\"'verbose' argument is deprecated and will be removed in a future release of LightGBM. \"\n"
     ]
    },
    {
     "name": "stdout",
     "output_type": "stream",
     "text": [
      "[LightGBM] [Warning] boosting is set=rf, boosting_type=gbdt will be ignored. Current value: boosting=rf\n",
      "[LightGBM] [Warning] feature_fraction is set=0.9993588583504732, colsample_bytree=0.9266813357404338 will be ignored. Current value: feature_fraction=0.9993588583504732\n",
      "[LightGBM] [Warning] min_data_in_leaf is set=42, min_child_samples=20 will be ignored. Current value: min_data_in_leaf=42\n",
      "[LightGBM] [Warning] bagging_fraction is set=0.7691299164696312, subsample=0.61278124467288 will be ignored. Current value: bagging_fraction=0.7691299164696312\n",
      "[LightGBM] [Warning] lambda_l2 is set=5.021669125612922, reg_lambda=0.0 will be ignored. Current value: lambda_l2=5.021669125612922\n",
      "[LightGBM] [Warning] bagging_freq is set=1, subsample_freq=0 will be ignored. Current value: bagging_freq=1\n"
     ]
    },
    {
     "name": "stderr",
     "output_type": "stream",
     "text": [
      "[I 2023-10-30 18:40:03,578] Trial 35 finished with value: 2783970.6939438456 and parameters: {'n_estimators': 1199, 'boosting': 'rf', 'lambda_l2': 5.021669125612922, 'bagging_fraction': 0.7691299164696312, 'num_leaves': 788, 'feature_fraction': 0.9993588583504732, 'max_depth': 17, 'learning_rate': 0.008852885110836334, 'subsample': 0.61278124467288, 'colsample_bytree': 0.9266813357404338, 'min_data_in_leaf': 42}. Best is trial 21 with value: 2549413.6181684.\n",
      "C:\\Users\\Andrew\\anaconda3\\envs\\ml_env\\lib\\site-packages\\lightgbm\\sklearn.py:736: UserWarning: 'verbose' argument is deprecated and will be removed in a future release of LightGBM. Pass 'log_evaluation()' callback via 'callbacks' argument instead.\n",
      "  _log_warning(\"'verbose' argument is deprecated and will be removed in a future release of LightGBM. \"\n"
     ]
    },
    {
     "name": "stdout",
     "output_type": "stream",
     "text": [
      "[LightGBM] [Warning] boosting is set=gbdt, boosting_type=gbdt will be ignored. Current value: boosting=gbdt\n",
      "[LightGBM] [Warning] feature_fraction is set=0.9415178200533473, colsample_bytree=0.7211642006498968 will be ignored. Current value: feature_fraction=0.9415178200533473\n",
      "[LightGBM] [Warning] min_data_in_leaf is set=37, min_child_samples=20 will be ignored. Current value: min_data_in_leaf=37\n",
      "[LightGBM] [Warning] bagging_fraction is set=0.6630723058653598, subsample=0.8648192464341404 will be ignored. Current value: bagging_fraction=0.6630723058653598\n",
      "[LightGBM] [Warning] lambda_l2 is set=1.981693517447689, reg_lambda=0.0 will be ignored. Current value: lambda_l2=1.981693517447689\n",
      "[LightGBM] [Warning] bagging_freq is set=1, subsample_freq=0 will be ignored. Current value: bagging_freq=1\n"
     ]
    },
    {
     "name": "stderr",
     "output_type": "stream",
     "text": [
      "[I 2023-10-30 18:40:34,588] Trial 36 finished with value: 2570056.040555223 and parameters: {'n_estimators': 1116, 'boosting': 'gbdt', 'lambda_l2': 1.981693517447689, 'bagging_fraction': 0.6630723058653598, 'num_leaves': 971, 'feature_fraction': 0.9415178200533473, 'max_depth': 20, 'learning_rate': 0.005973227233740056, 'subsample': 0.8648192464341404, 'colsample_bytree': 0.7211642006498968, 'min_data_in_leaf': 37}. Best is trial 21 with value: 2549413.6181684.\n",
      "C:\\Users\\Andrew\\anaconda3\\envs\\ml_env\\lib\\site-packages\\lightgbm\\sklearn.py:736: UserWarning: 'verbose' argument is deprecated and will be removed in a future release of LightGBM. Pass 'log_evaluation()' callback via 'callbacks' argument instead.\n",
      "  _log_warning(\"'verbose' argument is deprecated and will be removed in a future release of LightGBM. \"\n"
     ]
    },
    {
     "name": "stdout",
     "output_type": "stream",
     "text": [
      "[LightGBM] [Warning] boosting is set=gbdt, boosting_type=gbdt will be ignored. Current value: boosting=gbdt\n",
      "[LightGBM] [Warning] feature_fraction is set=0.9135893057092159, colsample_bytree=0.7995697198115451 will be ignored. Current value: feature_fraction=0.9135893057092159\n",
      "[LightGBM] [Warning] min_data_in_leaf is set=43, min_child_samples=20 will be ignored. Current value: min_data_in_leaf=43\n",
      "[LightGBM] [Warning] bagging_fraction is set=0.9454848425028018, subsample=0.736539404319797 will be ignored. Current value: bagging_fraction=0.9454848425028018\n",
      "[LightGBM] [Warning] lambda_l2 is set=5.962223484927767, reg_lambda=0.0 will be ignored. Current value: lambda_l2=5.962223484927767\n",
      "[LightGBM] [Warning] bagging_freq is set=1, subsample_freq=0 will be ignored. Current value: bagging_freq=1\n"
     ]
    },
    {
     "name": "stderr",
     "output_type": "stream",
     "text": [
      "[I 2023-10-30 18:41:10,191] Trial 37 finished with value: 2685323.9548551305 and parameters: {'n_estimators': 1017, 'boosting': 'gbdt', 'lambda_l2': 5.962223484927767, 'bagging_fraction': 0.9454848425028018, 'num_leaves': 723, 'feature_fraction': 0.9135893057092159, 'max_depth': 14, 'learning_rate': 0.002414405296770414, 'subsample': 0.736539404319797, 'colsample_bytree': 0.7995697198115451, 'min_data_in_leaf': 43}. Best is trial 21 with value: 2549413.6181684.\n",
      "C:\\Users\\Andrew\\anaconda3\\envs\\ml_env\\lib\\site-packages\\lightgbm\\sklearn.py:736: UserWarning: 'verbose' argument is deprecated and will be removed in a future release of LightGBM. Pass 'log_evaluation()' callback via 'callbacks' argument instead.\n",
      "  _log_warning(\"'verbose' argument is deprecated and will be removed in a future release of LightGBM. \"\n"
     ]
    },
    {
     "name": "stdout",
     "output_type": "stream",
     "text": [
      "[LightGBM] [Warning] boosting is set=rf, boosting_type=gbdt will be ignored. Current value: boosting=rf\n",
      "[LightGBM] [Warning] feature_fraction is set=0.8715027945679933, colsample_bytree=0.6951195641985387 will be ignored. Current value: feature_fraction=0.8715027945679933\n",
      "[LightGBM] [Warning] min_data_in_leaf is set=48, min_child_samples=20 will be ignored. Current value: min_data_in_leaf=48\n",
      "[LightGBM] [Warning] bagging_fraction is set=0.8208316595284443, subsample=0.6542269966311706 will be ignored. Current value: bagging_fraction=0.8208316595284443\n",
      "[LightGBM] [Warning] lambda_l2 is set=4.350688293460479, reg_lambda=0.0 will be ignored. Current value: lambda_l2=4.350688293460479\n",
      "[LightGBM] [Warning] bagging_freq is set=1, subsample_freq=0 will be ignored. Current value: bagging_freq=1\n"
     ]
    },
    {
     "name": "stderr",
     "output_type": "stream",
     "text": [
      "[I 2023-10-30 18:41:17,467] Trial 38 finished with value: 2914960.8727299874 and parameters: {'n_estimators': 1174, 'boosting': 'rf', 'lambda_l2': 4.350688293460479, 'bagging_fraction': 0.8208316595284443, 'num_leaves': 554, 'feature_fraction': 0.8715027945679933, 'max_depth': 5, 'learning_rate': 0.012231093569833483, 'subsample': 0.6542269966311706, 'colsample_bytree': 0.6951195641985387, 'min_data_in_leaf': 48}. Best is trial 21 with value: 2549413.6181684.\n",
      "C:\\Users\\Andrew\\anaconda3\\envs\\ml_env\\lib\\site-packages\\lightgbm\\sklearn.py:736: UserWarning: 'verbose' argument is deprecated and will be removed in a future release of LightGBM. Pass 'log_evaluation()' callback via 'callbacks' argument instead.\n",
      "  _log_warning(\"'verbose' argument is deprecated and will be removed in a future release of LightGBM. \"\n"
     ]
    },
    {
     "name": "stdout",
     "output_type": "stream",
     "text": [
      "[LightGBM] [Warning] boosting is set=gbdt, boosting_type=gbdt will be ignored. Current value: boosting=gbdt\n",
      "[LightGBM] [Warning] feature_fraction is set=0.9734185223404805, colsample_bytree=0.8600319719040397 will be ignored. Current value: feature_fraction=0.9734185223404805\n",
      "[LightGBM] [Warning] min_data_in_leaf is set=20, min_child_samples=20 will be ignored. Current value: min_data_in_leaf=20\n",
      "[LightGBM] [Warning] bagging_fraction is set=0.5984627262583391, subsample=0.5474803263993347 will be ignored. Current value: bagging_fraction=0.5984627262583391\n",
      "[LightGBM] [Warning] lambda_l2 is set=6.8485880037292235, reg_lambda=0.0 will be ignored. Current value: lambda_l2=6.8485880037292235\n",
      "[LightGBM] [Warning] bagging_freq is set=1, subsample_freq=0 will be ignored. Current value: bagging_freq=1\n"
     ]
    },
    {
     "name": "stderr",
     "output_type": "stream",
     "text": [
      "[I 2023-10-30 18:41:26,900] Trial 39 finished with value: 2626190.4231553953 and parameters: {'n_estimators': 941, 'boosting': 'gbdt', 'lambda_l2': 6.8485880037292235, 'bagging_fraction': 0.5984627262583391, 'num_leaves': 871, 'feature_fraction': 0.9734185223404805, 'max_depth': 7, 'learning_rate': 0.0036137647080579055, 'subsample': 0.5474803263993347, 'colsample_bytree': 0.8600319719040397, 'min_data_in_leaf': 20}. Best is trial 21 with value: 2549413.6181684.\n",
      "C:\\Users\\Andrew\\anaconda3\\envs\\ml_env\\lib\\site-packages\\lightgbm\\sklearn.py:736: UserWarning: 'verbose' argument is deprecated and will be removed in a future release of LightGBM. Pass 'log_evaluation()' callback via 'callbacks' argument instead.\n",
      "  _log_warning(\"'verbose' argument is deprecated and will be removed in a future release of LightGBM. \"\n"
     ]
    },
    {
     "name": "stdout",
     "output_type": "stream",
     "text": [
      "[LightGBM] [Warning] boosting is set=gbdt, boosting_type=gbdt will be ignored. Current value: boosting=gbdt\n",
      "[LightGBM] [Warning] feature_fraction is set=0.9292803158587715, colsample_bytree=0.6679813712793786 will be ignored. Current value: feature_fraction=0.9292803158587715\n",
      "[LightGBM] [Warning] min_data_in_leaf is set=74, min_child_samples=20 will be ignored. Current value: min_data_in_leaf=74\n",
      "[LightGBM] [Warning] bagging_fraction is set=0.7065179352441608, subsample=0.45919899597593294 will be ignored. Current value: bagging_fraction=0.7065179352441608\n",
      "[LightGBM] [Warning] lambda_l2 is set=5.427133100809459, reg_lambda=0.0 will be ignored. Current value: lambda_l2=5.427133100809459\n",
      "[LightGBM] [Warning] bagging_freq is set=1, subsample_freq=0 will be ignored. Current value: bagging_freq=1\n"
     ]
    },
    {
     "name": "stderr",
     "output_type": "stream",
     "text": [
      "[I 2023-10-30 18:41:37,238] Trial 40 finished with value: 2581930.8607286746 and parameters: {'n_estimators': 1155, 'boosting': 'gbdt', 'lambda_l2': 5.427133100809459, 'bagging_fraction': 0.7065179352441608, 'num_leaves': 40, 'feature_fraction': 0.9292803158587715, 'max_depth': 11, 'learning_rate': 0.007293189000427967, 'subsample': 0.45919899597593294, 'colsample_bytree': 0.6679813712793786, 'min_data_in_leaf': 74}. Best is trial 21 with value: 2549413.6181684.\n",
      "C:\\Users\\Andrew\\anaconda3\\envs\\ml_env\\lib\\site-packages\\lightgbm\\sklearn.py:736: UserWarning: 'verbose' argument is deprecated and will be removed in a future release of LightGBM. Pass 'log_evaluation()' callback via 'callbacks' argument instead.\n",
      "  _log_warning(\"'verbose' argument is deprecated and will be removed in a future release of LightGBM. \"\n"
     ]
    },
    {
     "name": "stdout",
     "output_type": "stream",
     "text": [
      "[LightGBM] [Warning] boosting is set=gbdt, boosting_type=gbdt will be ignored. Current value: boosting=gbdt\n",
      "[LightGBM] [Warning] feature_fraction is set=0.9445937893176352, colsample_bytree=0.8970574414107435 will be ignored. Current value: feature_fraction=0.9445937893176352\n",
      "[LightGBM] [Warning] min_data_in_leaf is set=56, min_child_samples=20 will be ignored. Current value: min_data_in_leaf=56\n",
      "[LightGBM] [Warning] bagging_fraction is set=0.847698431302929, subsample=0.6527227515159228 will be ignored. Current value: bagging_fraction=0.847698431302929\n",
      "[LightGBM] [Warning] lambda_l2 is set=4.6780967321967735, reg_lambda=0.0 will be ignored. Current value: lambda_l2=4.6780967321967735\n",
      "[LightGBM] [Warning] bagging_freq is set=1, subsample_freq=0 will be ignored. Current value: bagging_freq=1\n"
     ]
    },
    {
     "name": "stderr",
     "output_type": "stream",
     "text": [
      "[I 2023-10-30 18:41:50,660] Trial 41 finished with value: 2551106.333738107 and parameters: {'n_estimators': 1172, 'boosting': 'gbdt', 'lambda_l2': 4.6780967321967735, 'bagging_fraction': 0.847698431302929, 'num_leaves': 80, 'feature_fraction': 0.9445937893176352, 'max_depth': 12, 'learning_rate': 0.006241601881996193, 'subsample': 0.6527227515159228, 'colsample_bytree': 0.8970574414107435, 'min_data_in_leaf': 56}. Best is trial 21 with value: 2549413.6181684.\n",
      "C:\\Users\\Andrew\\anaconda3\\envs\\ml_env\\lib\\site-packages\\lightgbm\\sklearn.py:736: UserWarning: 'verbose' argument is deprecated and will be removed in a future release of LightGBM. Pass 'log_evaluation()' callback via 'callbacks' argument instead.\n",
      "  _log_warning(\"'verbose' argument is deprecated and will be removed in a future release of LightGBM. \"\n"
     ]
    },
    {
     "name": "stdout",
     "output_type": "stream",
     "text": [
      "[LightGBM] [Warning] boosting is set=gbdt, boosting_type=gbdt will be ignored. Current value: boosting=gbdt\n",
      "[LightGBM] [Warning] feature_fraction is set=0.9431758089029016, colsample_bytree=0.9166615277239789 will be ignored. Current value: feature_fraction=0.9431758089029016\n",
      "[LightGBM] [Warning] min_data_in_leaf is set=58, min_child_samples=20 will be ignored. Current value: min_data_in_leaf=58\n",
      "[LightGBM] [Warning] bagging_fraction is set=0.853663021408189, subsample=0.5659335368950589 will be ignored. Current value: bagging_fraction=0.853663021408189\n",
      "[LightGBM] [Warning] lambda_l2 is set=4.986533334096474, reg_lambda=0.0 will be ignored. Current value: lambda_l2=4.986533334096474\n",
      "[LightGBM] [Warning] bagging_freq is set=1, subsample_freq=0 will be ignored. Current value: bagging_freq=1\n"
     ]
    },
    {
     "name": "stderr",
     "output_type": "stream",
     "text": [
      "[I 2023-10-30 18:42:14,418] Trial 42 finished with value: 2558400.166142341 and parameters: {'n_estimators': 1182, 'boosting': 'gbdt', 'lambda_l2': 4.986533334096474, 'bagging_fraction': 0.853663021408189, 'num_leaves': 326, 'feature_fraction': 0.9431758089029016, 'max_depth': 16, 'learning_rate': 0.005715030735582296, 'subsample': 0.5659335368950589, 'colsample_bytree': 0.9166615277239789, 'min_data_in_leaf': 58}. Best is trial 21 with value: 2549413.6181684.\n",
      "C:\\Users\\Andrew\\anaconda3\\envs\\ml_env\\lib\\site-packages\\lightgbm\\sklearn.py:736: UserWarning: 'verbose' argument is deprecated and will be removed in a future release of LightGBM. Pass 'log_evaluation()' callback via 'callbacks' argument instead.\n",
      "  _log_warning(\"'verbose' argument is deprecated and will be removed in a future release of LightGBM. \"\n"
     ]
    },
    {
     "name": "stdout",
     "output_type": "stream",
     "text": [
      "[LightGBM] [Warning] boosting is set=gbdt, boosting_type=gbdt will be ignored. Current value: boosting=gbdt\n",
      "[LightGBM] [Warning] feature_fraction is set=0.9717754785485588, colsample_bytree=0.9629583970588135 will be ignored. Current value: feature_fraction=0.9717754785485588\n",
      "[LightGBM] [Warning] min_data_in_leaf is set=52, min_child_samples=20 will be ignored. Current value: min_data_in_leaf=52\n",
      "[LightGBM] [Warning] bagging_fraction is set=0.7962064194704177, subsample=0.6440187963145113 will be ignored. Current value: bagging_fraction=0.7962064194704177\n",
      "[LightGBM] [Warning] lambda_l2 is set=3.319773389526874, reg_lambda=0.0 will be ignored. Current value: lambda_l2=3.319773389526874\n",
      "[LightGBM] [Warning] bagging_freq is set=1, subsample_freq=0 will be ignored. Current value: bagging_freq=1\n"
     ]
    },
    {
     "name": "stderr",
     "output_type": "stream",
     "text": [
      "[I 2023-10-30 18:42:37,265] Trial 43 finished with value: 2555558.266530529 and parameters: {'n_estimators': 1149, 'boosting': 'gbdt', 'lambda_l2': 3.319773389526874, 'bagging_fraction': 0.7962064194704177, 'num_leaves': 395, 'feature_fraction': 0.9717754785485588, 'max_depth': 20, 'learning_rate': 0.009404426853481444, 'subsample': 0.6440187963145113, 'colsample_bytree': 0.9629583970588135, 'min_data_in_leaf': 52}. Best is trial 21 with value: 2549413.6181684.\n",
      "C:\\Users\\Andrew\\anaconda3\\envs\\ml_env\\lib\\site-packages\\lightgbm\\sklearn.py:736: UserWarning: 'verbose' argument is deprecated and will be removed in a future release of LightGBM. Pass 'log_evaluation()' callback via 'callbacks' argument instead.\n",
      "  _log_warning(\"'verbose' argument is deprecated and will be removed in a future release of LightGBM. \"\n"
     ]
    },
    {
     "name": "stdout",
     "output_type": "stream",
     "text": [
      "[LightGBM] [Warning] boosting is set=gbdt, boosting_type=gbdt will be ignored. Current value: boosting=gbdt\n",
      "[LightGBM] [Warning] feature_fraction is set=0.9178510262087918, colsample_bytree=0.996087897863684 will be ignored. Current value: feature_fraction=0.9178510262087918\n",
      "[LightGBM] [Warning] min_data_in_leaf is set=64, min_child_samples=20 will be ignored. Current value: min_data_in_leaf=64\n",
      "[LightGBM] [Warning] bagging_fraction is set=0.7546886827462935, subsample=0.697483629613902 will be ignored. Current value: bagging_fraction=0.7546886827462935\n",
      "[LightGBM] [Warning] lambda_l2 is set=4.2157035912507395, reg_lambda=0.0 will be ignored. Current value: lambda_l2=4.2157035912507395\n",
      "[LightGBM] [Warning] bagging_freq is set=1, subsample_freq=0 will be ignored. Current value: bagging_freq=1\n"
     ]
    },
    {
     "name": "stderr",
     "output_type": "stream",
     "text": [
      "[I 2023-10-30 18:42:48,954] Trial 44 finished with value: 2595292.8274113345 and parameters: {'n_estimators': 1164, 'boosting': 'gbdt', 'lambda_l2': 4.2157035912507395, 'bagging_fraction': 0.7546886827462935, 'num_leaves': 72, 'feature_fraction': 0.9178510262087918, 'max_depth': 9, 'learning_rate': 0.004358616980066335, 'subsample': 0.697483629613902, 'colsample_bytree': 0.996087897863684, 'min_data_in_leaf': 64}. Best is trial 21 with value: 2549413.6181684.\n",
      "C:\\Users\\Andrew\\anaconda3\\envs\\ml_env\\lib\\site-packages\\lightgbm\\sklearn.py:736: UserWarning: 'verbose' argument is deprecated and will be removed in a future release of LightGBM. Pass 'log_evaluation()' callback via 'callbacks' argument instead.\n",
      "  _log_warning(\"'verbose' argument is deprecated and will be removed in a future release of LightGBM. \"\n"
     ]
    },
    {
     "name": "stdout",
     "output_type": "stream",
     "text": [
      "[LightGBM] [Warning] boosting is set=rf, boosting_type=gbdt will be ignored. Current value: boosting=rf\n",
      "[LightGBM] [Warning] feature_fraction is set=0.9823539277137114, colsample_bytree=0.8328101692202289 will be ignored. Current value: feature_fraction=0.9823539277137114\n",
      "[LightGBM] [Warning] min_data_in_leaf is set=45, min_child_samples=20 will be ignored. Current value: min_data_in_leaf=45\n",
      "[LightGBM] [Warning] bagging_fraction is set=0.993112201331293, subsample=0.576550060949434 will be ignored. Current value: bagging_fraction=0.993112201331293\n",
      "[LightGBM] [Warning] lambda_l2 is set=4.746382339743225, reg_lambda=0.0 will be ignored. Current value: lambda_l2=4.746382339743225\n",
      "[LightGBM] [Warning] bagging_freq is set=1, subsample_freq=0 will be ignored. Current value: bagging_freq=1\n"
     ]
    },
    {
     "name": "stderr",
     "output_type": "stream",
     "text": [
      "[I 2023-10-30 18:43:23,570] Trial 45 finished with value: 2912017.3474910227 and parameters: {'n_estimators': 1135, 'boosting': 'rf', 'lambda_l2': 4.746382339743225, 'bagging_fraction': 0.993112201331293, 'num_leaves': 195, 'feature_fraction': 0.9823539277137114, 'max_depth': 12, 'learning_rate': 0.006761340728401816, 'subsample': 0.576550060949434, 'colsample_bytree': 0.8328101692202289, 'min_data_in_leaf': 45}. Best is trial 21 with value: 2549413.6181684.\n",
      "C:\\Users\\Andrew\\anaconda3\\envs\\ml_env\\lib\\site-packages\\lightgbm\\sklearn.py:736: UserWarning: 'verbose' argument is deprecated and will be removed in a future release of LightGBM. Pass 'log_evaluation()' callback via 'callbacks' argument instead.\n",
      "  _log_warning(\"'verbose' argument is deprecated and will be removed in a future release of LightGBM. \"\n"
     ]
    },
    {
     "name": "stdout",
     "output_type": "stream",
     "text": [
      "[LightGBM] [Warning] boosting is set=dart, boosting_type=gbdt will be ignored. Current value: boosting=dart\n",
      "[LightGBM] [Warning] feature_fraction is set=0.9498143809096139, colsample_bytree=0.8830075237603163 will be ignored. Current value: feature_fraction=0.9498143809096139\n",
      "[LightGBM] [Warning] min_data_in_leaf is set=31, min_child_samples=20 will be ignored. Current value: min_data_in_leaf=31\n",
      "[LightGBM] [Warning] bagging_fraction is set=0.9372728714568633, subsample=0.6185059584380675 will be ignored. Current value: bagging_fraction=0.9372728714568633\n",
      "[LightGBM] [Warning] lambda_l2 is set=5.90886049199866, reg_lambda=0.0 will be ignored. Current value: lambda_l2=5.90886049199866\n",
      "[LightGBM] [Warning] bagging_freq is set=1, subsample_freq=0 will be ignored. Current value: bagging_freq=1\n"
     ]
    },
    {
     "name": "stderr",
     "output_type": "stream",
     "text": [
      "[I 2023-10-30 18:44:13,134] Trial 46 finished with value: 2988950.2695148652 and parameters: {'n_estimators': 1186, 'boosting': 'dart', 'lambda_l2': 5.90886049199866, 'bagging_fraction': 0.9372728714568633, 'num_leaves': 187, 'feature_fraction': 0.9498143809096139, 'max_depth': 16, 'learning_rate': 0.008366845986012955, 'subsample': 0.6185059584380675, 'colsample_bytree': 0.8830075237603163, 'min_data_in_leaf': 31}. Best is trial 21 with value: 2549413.6181684.\n",
      "C:\\Users\\Andrew\\anaconda3\\envs\\ml_env\\lib\\site-packages\\lightgbm\\sklearn.py:736: UserWarning: 'verbose' argument is deprecated and will be removed in a future release of LightGBM. Pass 'log_evaluation()' callback via 'callbacks' argument instead.\n",
      "  _log_warning(\"'verbose' argument is deprecated and will be removed in a future release of LightGBM. \"\n"
     ]
    },
    {
     "name": "stdout",
     "output_type": "stream",
     "text": [
      "[LightGBM] [Warning] boosting is set=gbdt, boosting_type=gbdt will be ignored. Current value: boosting=gbdt\n",
      "[LightGBM] [Warning] feature_fraction is set=0.979223789248514, colsample_bytree=0.784036351565008 will be ignored. Current value: feature_fraction=0.979223789248514\n",
      "[LightGBM] [Warning] min_data_in_leaf is set=56, min_child_samples=20 will be ignored. Current value: min_data_in_leaf=56\n",
      "[LightGBM] [Warning] bagging_fraction is set=0.8126658192858758, subsample=0.665584952727149 will be ignored. Current value: bagging_fraction=0.8126658192858758\n",
      "[LightGBM] [Warning] lambda_l2 is set=5.354028330937584, reg_lambda=0.0 will be ignored. Current value: lambda_l2=5.354028330937584\n",
      "[LightGBM] [Warning] bagging_freq is set=1, subsample_freq=0 will be ignored. Current value: bagging_freq=1\n"
     ]
    },
    {
     "name": "stderr",
     "output_type": "stream",
     "text": [
      "[I 2023-10-30 18:44:19,763] Trial 47 finished with value: 2680709.8353226334 and parameters: {'n_estimators': 1050, 'boosting': 'gbdt', 'lambda_l2': 5.354028330937584, 'bagging_fraction': 0.8126658192858758, 'num_leaves': 496, 'feature_fraction': 0.979223789248514, 'max_depth': 5, 'learning_rate': 0.003208130251315147, 'subsample': 0.665584952727149, 'colsample_bytree': 0.784036351565008, 'min_data_in_leaf': 56}. Best is trial 21 with value: 2549413.6181684.\n",
      "C:\\Users\\Andrew\\anaconda3\\envs\\ml_env\\lib\\site-packages\\lightgbm\\sklearn.py:736: UserWarning: 'verbose' argument is deprecated and will be removed in a future release of LightGBM. Pass 'log_evaluation()' callback via 'callbacks' argument instead.\n",
      "  _log_warning(\"'verbose' argument is deprecated and will be removed in a future release of LightGBM. \"\n"
     ]
    },
    {
     "name": "stdout",
     "output_type": "stream",
     "text": [
      "[LightGBM] [Warning] boosting is set=gbdt, boosting_type=gbdt will be ignored. Current value: boosting=gbdt\n",
      "[LightGBM] [Warning] feature_fraction is set=0.9432936910178845, colsample_bytree=0.945578138094481 will be ignored. Current value: feature_fraction=0.9432936910178845\n",
      "[LightGBM] [Warning] min_data_in_leaf is set=36, min_child_samples=20 will be ignored. Current value: min_data_in_leaf=36\n",
      "[LightGBM] [Warning] bagging_fraction is set=0.8669421694188698, subsample=0.5074098278779302 will be ignored. Current value: bagging_fraction=0.8669421694188698\n",
      "[LightGBM] [Warning] lambda_l2 is set=3.016277230613636, reg_lambda=0.0 will be ignored. Current value: lambda_l2=3.016277230613636\n",
      "[LightGBM] [Warning] bagging_freq is set=1, subsample_freq=0 will be ignored. Current value: bagging_freq=1\n"
     ]
    },
    {
     "name": "stderr",
     "output_type": "stream",
     "text": [
      "[I 2023-10-30 18:44:59,970] Trial 48 finished with value: 2580768.5035512666 and parameters: {'n_estimators': 1115, 'boosting': 'gbdt', 'lambda_l2': 3.016277230613636, 'bagging_fraction': 0.8669421694188698, 'num_leaves': 940, 'feature_fraction': 0.9432936910178845, 'max_depth': 28, 'learning_rate': 0.010848963811765235, 'subsample': 0.5074098278779302, 'colsample_bytree': 0.945578138094481, 'min_data_in_leaf': 36}. Best is trial 21 with value: 2549413.6181684.\n",
      "C:\\Users\\Andrew\\anaconda3\\envs\\ml_env\\lib\\site-packages\\lightgbm\\sklearn.py:736: UserWarning: 'verbose' argument is deprecated and will be removed in a future release of LightGBM. Pass 'log_evaluation()' callback via 'callbacks' argument instead.\n",
      "  _log_warning(\"'verbose' argument is deprecated and will be removed in a future release of LightGBM. \"\n"
     ]
    },
    {
     "name": "stdout",
     "output_type": "stream",
     "text": [
      "[LightGBM] [Warning] boosting is set=dart, boosting_type=gbdt will be ignored. Current value: boosting=dart\n",
      "[LightGBM] [Warning] feature_fraction is set=0.8547780179213449, colsample_bytree=0.8901535529942564 will be ignored. Current value: feature_fraction=0.8547780179213449\n",
      "[LightGBM] [Warning] min_data_in_leaf is set=20, min_child_samples=20 will be ignored. Current value: min_data_in_leaf=20\n",
      "[LightGBM] [Warning] bagging_fraction is set=0.7500441391343291, subsample=0.7438130051417878 will be ignored. Current value: bagging_fraction=0.7500441391343291\n",
      "[LightGBM] [Warning] lambda_l2 is set=4.01454113985347, reg_lambda=0.0 will be ignored. Current value: lambda_l2=4.01454113985347\n",
      "[LightGBM] [Warning] bagging_freq is set=1, subsample_freq=0 will be ignored. Current value: bagging_freq=1\n"
     ]
    },
    {
     "name": "stderr",
     "output_type": "stream",
     "text": [
      "[I 2023-10-30 18:45:53,806] Trial 49 finished with value: 2711446.8093136037 and parameters: {'n_estimators': 1083, 'boosting': 'dart', 'lambda_l2': 4.01454113985347, 'bagging_fraction': 0.7500441391343291, 'num_leaves': 428, 'feature_fraction': 0.8547780179213449, 'max_depth': 13, 'learning_rate': 0.015175162966046466, 'subsample': 0.7438130051417878, 'colsample_bytree': 0.8901535529942564, 'min_data_in_leaf': 20}. Best is trial 21 with value: 2549413.6181684.\n"
     ]
    }
   ],
   "source": [
    "study = optuna.create_study(direction='minimize')\n",
    "study.optimize(objective, n_trials=50)"
   ]
  },
  {
   "cell_type": "code",
   "execution_count": 7,
   "id": "b9a6ee7b",
   "metadata": {},
   "outputs": [
    {
     "name": "stdout",
     "output_type": "stream",
     "text": [
      "Best hyperparameters: {'n_estimators': 1111, 'boosting': 'gbdt', 'lambda_l2': 4.986326594579468, 'bagging_fraction': 0.6726362178929178, 'num_leaves': 903, 'feature_fraction': 0.9997009943799137, 'max_depth': 13, 'learning_rate': 0.0063106163502641725, 'subsample': 0.6300808893105623, 'colsample_bytree': 0.8077059623500861, 'min_data_in_leaf': 41}\n",
      "Best RMSE: 2549413.6181684\n"
     ]
    }
   ],
   "source": [
    "print('Best hyperparameters:', study.best_params)\n",
    "print('Best RMSE:', study.best_value)"
   ]
  },
  {
   "cell_type": "code",
   "execution_count": null,
   "id": "39cac6e0",
   "metadata": {},
   "outputs": [],
   "source": []
  }
 ],
 "metadata": {
  "kernelspec": {
   "display_name": "ml_env",
   "language": "python",
   "name": "ml_env"
  },
  "language_info": {
   "codemirror_mode": {
    "name": "ipython",
    "version": 3
   },
   "file_extension": ".py",
   "mimetype": "text/x-python",
   "name": "python",
   "nbconvert_exporter": "python",
   "pygments_lexer": "ipython3",
   "version": "3.10.0"
  }
 },
 "nbformat": 4,
 "nbformat_minor": 5
}
