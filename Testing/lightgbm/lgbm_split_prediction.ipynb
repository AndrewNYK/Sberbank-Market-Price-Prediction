{
 "cells": [
  {
   "cell_type": "code",
   "execution_count": 1,
   "id": "65c30ead",
   "metadata": {},
   "outputs": [
    {
     "name": "stderr",
     "output_type": "stream",
     "text": [
      "C:\\Users\\Andrew\\anaconda3\\envs\\ml_env\\lib\\site-packages\\shap\\utils\\_clustering.py:35: NumbaDeprecationWarning: \u001b[1mThe 'nopython' keyword argument was not supplied to the 'numba.jit' decorator. The implicit default value for this argument is currently False, but it will be changed to True in Numba 0.59.0. See https://numba.readthedocs.io/en/stable/reference/deprecation.html#deprecation-of-object-mode-fall-back-behaviour-when-using-jit for details.\u001b[0m\n",
      "  def _pt_shuffle_rec(i, indexes, index_mask, partition_tree, M, pos):\n",
      "C:\\Users\\Andrew\\anaconda3\\envs\\ml_env\\lib\\site-packages\\shap\\utils\\_clustering.py:54: NumbaDeprecationWarning: \u001b[1mThe 'nopython' keyword argument was not supplied to the 'numba.jit' decorator. The implicit default value for this argument is currently False, but it will be changed to True in Numba 0.59.0. See https://numba.readthedocs.io/en/stable/reference/deprecation.html#deprecation-of-object-mode-fall-back-behaviour-when-using-jit for details.\u001b[0m\n",
      "  def delta_minimization_order(all_masks, max_swap_size=100, num_passes=2):\n",
      "C:\\Users\\Andrew\\anaconda3\\envs\\ml_env\\lib\\site-packages\\shap\\utils\\_clustering.py:63: NumbaDeprecationWarning: \u001b[1mThe 'nopython' keyword argument was not supplied to the 'numba.jit' decorator. The implicit default value for this argument is currently False, but it will be changed to True in Numba 0.59.0. See https://numba.readthedocs.io/en/stable/reference/deprecation.html#deprecation-of-object-mode-fall-back-behaviour-when-using-jit for details.\u001b[0m\n",
      "  def _reverse_window(order, start, length):\n",
      "C:\\Users\\Andrew\\anaconda3\\envs\\ml_env\\lib\\site-packages\\shap\\utils\\_clustering.py:69: NumbaDeprecationWarning: \u001b[1mThe 'nopython' keyword argument was not supplied to the 'numba.jit' decorator. The implicit default value for this argument is currently False, but it will be changed to True in Numba 0.59.0. See https://numba.readthedocs.io/en/stable/reference/deprecation.html#deprecation-of-object-mode-fall-back-behaviour-when-using-jit for details.\u001b[0m\n",
      "  def _reverse_window_score_gain(masks, order, start, length):\n",
      "C:\\Users\\Andrew\\anaconda3\\envs\\ml_env\\lib\\site-packages\\shap\\utils\\_clustering.py:77: NumbaDeprecationWarning: \u001b[1mThe 'nopython' keyword argument was not supplied to the 'numba.jit' decorator. The implicit default value for this argument is currently False, but it will be changed to True in Numba 0.59.0. See https://numba.readthedocs.io/en/stable/reference/deprecation.html#deprecation-of-object-mode-fall-back-behaviour-when-using-jit for details.\u001b[0m\n",
      "  def _mask_delta_score(m1, m2):\n",
      "C:\\Users\\Andrew\\anaconda3\\envs\\ml_env\\lib\\site-packages\\shap\\links.py:5: NumbaDeprecationWarning: \u001b[1mThe 'nopython' keyword argument was not supplied to the 'numba.jit' decorator. The implicit default value for this argument is currently False, but it will be changed to True in Numba 0.59.0. See https://numba.readthedocs.io/en/stable/reference/deprecation.html#deprecation-of-object-mode-fall-back-behaviour-when-using-jit for details.\u001b[0m\n",
      "  def identity(x):\n",
      "C:\\Users\\Andrew\\anaconda3\\envs\\ml_env\\lib\\site-packages\\shap\\links.py:10: NumbaDeprecationWarning: \u001b[1mThe 'nopython' keyword argument was not supplied to the 'numba.jit' decorator. The implicit default value for this argument is currently False, but it will be changed to True in Numba 0.59.0. See https://numba.readthedocs.io/en/stable/reference/deprecation.html#deprecation-of-object-mode-fall-back-behaviour-when-using-jit for details.\u001b[0m\n",
      "  def _identity_inverse(x):\n",
      "C:\\Users\\Andrew\\anaconda3\\envs\\ml_env\\lib\\site-packages\\shap\\links.py:15: NumbaDeprecationWarning: \u001b[1mThe 'nopython' keyword argument was not supplied to the 'numba.jit' decorator. The implicit default value for this argument is currently False, but it will be changed to True in Numba 0.59.0. See https://numba.readthedocs.io/en/stable/reference/deprecation.html#deprecation-of-object-mode-fall-back-behaviour-when-using-jit for details.\u001b[0m\n",
      "  def logit(x):\n",
      "C:\\Users\\Andrew\\anaconda3\\envs\\ml_env\\lib\\site-packages\\shap\\links.py:20: NumbaDeprecationWarning: \u001b[1mThe 'nopython' keyword argument was not supplied to the 'numba.jit' decorator. The implicit default value for this argument is currently False, but it will be changed to True in Numba 0.59.0. See https://numba.readthedocs.io/en/stable/reference/deprecation.html#deprecation-of-object-mode-fall-back-behaviour-when-using-jit for details.\u001b[0m\n",
      "  def _logit_inverse(x):\n",
      "C:\\Users\\Andrew\\anaconda3\\envs\\ml_env\\lib\\site-packages\\shap\\utils\\_masked_model.py:363: NumbaDeprecationWarning: \u001b[1mThe 'nopython' keyword argument was not supplied to the 'numba.jit' decorator. The implicit default value for this argument is currently False, but it will be changed to True in Numba 0.59.0. See https://numba.readthedocs.io/en/stable/reference/deprecation.html#deprecation-of-object-mode-fall-back-behaviour-when-using-jit for details.\u001b[0m\n",
      "  def _build_fixed_single_output(averaged_outs, last_outs, outputs, batch_positions, varying_rows, num_varying_rows, link, linearizing_weights):\n",
      "C:\\Users\\Andrew\\anaconda3\\envs\\ml_env\\lib\\site-packages\\shap\\utils\\_masked_model.py:385: NumbaDeprecationWarning: \u001b[1mThe 'nopython' keyword argument was not supplied to the 'numba.jit' decorator. The implicit default value for this argument is currently False, but it will be changed to True in Numba 0.59.0. See https://numba.readthedocs.io/en/stable/reference/deprecation.html#deprecation-of-object-mode-fall-back-behaviour-when-using-jit for details.\u001b[0m\n",
      "  def _build_fixed_multi_output(averaged_outs, last_outs, outputs, batch_positions, varying_rows, num_varying_rows, link, linearizing_weights):\n",
      "C:\\Users\\Andrew\\anaconda3\\envs\\ml_env\\lib\\site-packages\\shap\\utils\\_masked_model.py:428: NumbaDeprecationWarning: \u001b[1mThe 'nopython' keyword argument was not supplied to the 'numba.jit' decorator. The implicit default value for this argument is currently False, but it will be changed to True in Numba 0.59.0. See https://numba.readthedocs.io/en/stable/reference/deprecation.html#deprecation-of-object-mode-fall-back-behaviour-when-using-jit for details.\u001b[0m\n",
      "  def _init_masks(cluster_matrix, M, indices_row_pos, indptr):\n",
      "C:\\Users\\Andrew\\anaconda3\\envs\\ml_env\\lib\\site-packages\\shap\\utils\\_masked_model.py:439: NumbaDeprecationWarning: \u001b[1mThe 'nopython' keyword argument was not supplied to the 'numba.jit' decorator. The implicit default value for this argument is currently False, but it will be changed to True in Numba 0.59.0. See https://numba.readthedocs.io/en/stable/reference/deprecation.html#deprecation-of-object-mode-fall-back-behaviour-when-using-jit for details.\u001b[0m\n",
      "  def _rec_fill_masks(cluster_matrix, indices_row_pos, indptr, indices, M, ind):\n",
      "C:\\Users\\Andrew\\anaconda3\\envs\\ml_env\\lib\\site-packages\\shap\\maskers\\_tabular.py:186: NumbaDeprecationWarning: \u001b[1mThe 'nopython' keyword argument was not supplied to the 'numba.jit' decorator. The implicit default value for this argument is currently False, but it will be changed to True in Numba 0.59.0. See https://numba.readthedocs.io/en/stable/reference/deprecation.html#deprecation-of-object-mode-fall-back-behaviour-when-using-jit for details.\u001b[0m\n",
      "  def _single_delta_mask(dind, masked_inputs, last_mask, data, x, noop_code):\n",
      "C:\\Users\\Andrew\\anaconda3\\envs\\ml_env\\lib\\site-packages\\shap\\maskers\\_tabular.py:197: NumbaDeprecationWarning: \u001b[1mThe 'nopython' keyword argument was not supplied to the 'numba.jit' decorator. The implicit default value for this argument is currently False, but it will be changed to True in Numba 0.59.0. See https://numba.readthedocs.io/en/stable/reference/deprecation.html#deprecation-of-object-mode-fall-back-behaviour-when-using-jit for details.\u001b[0m\n",
      "  def _delta_masking(masks, x, curr_delta_inds, varying_rows_out,\n",
      "C:\\Users\\Andrew\\anaconda3\\envs\\ml_env\\lib\\site-packages\\shap\\maskers\\_image.py:175: NumbaDeprecationWarning: \u001b[1mThe 'nopython' keyword argument was not supplied to the 'numba.jit' decorator. The implicit default value for this argument is currently False, but it will be changed to True in Numba 0.59.0. See https://numba.readthedocs.io/en/stable/reference/deprecation.html#deprecation-of-object-mode-fall-back-behaviour-when-using-jit for details.\u001b[0m\n",
      "  def _jit_build_partition_tree(xmin, xmax, ymin, ymax, zmin, zmax, total_ywidth, total_zwidth, M, clustering, q):\n",
      "C:\\Users\\Andrew\\anaconda3\\envs\\ml_env\\lib\\site-packages\\shap\\explainers\\_partition.py:676: NumbaDeprecationWarning: \u001b[1mThe 'nopython' keyword argument was not supplied to the 'numba.jit' decorator. The implicit default value for this argument is currently False, but it will be changed to True in Numba 0.59.0. See https://numba.readthedocs.io/en/stable/reference/deprecation.html#deprecation-of-object-mode-fall-back-behaviour-when-using-jit for details.\u001b[0m\n",
      "  def lower_credit(i, value, M, values, clustering):\n",
      "\u001b[1mThe 'nopython' keyword argument was not supplied to the 'numba.jit' decorator. The implicit default value for this argument is currently False, but it will be changed to True in Numba 0.59.0. See https://numba.readthedocs.io/en/stable/reference/deprecation.html#deprecation-of-object-mode-fall-back-behaviour-when-using-jit for details.\u001b[0m\n",
      "\u001b[1mThe 'nopython' keyword argument was not supplied to the 'numba.jit' decorator. The implicit default value for this argument is currently False, but it will be changed to True in Numba 0.59.0. See https://numba.readthedocs.io/en/stable/reference/deprecation.html#deprecation-of-object-mode-fall-back-behaviour-when-using-jit for details.\u001b[0m\n"
     ]
    }
   ],
   "source": [
    "import numpy as np\n",
    "import pandas as pd\n",
    "import matplotlib.pyplot as plt\n",
    "\n",
    "from scipy import stats\n",
    "from sklearn.model_selection import train_test_split\n",
    "from sklearn.metrics import mean_squared_log_error, r2_score, mean_squared_error\n",
    "\n",
    "from sklearn.preprocessing import LabelEncoder, OrdinalEncoder\n",
    "from category_encoders import MEstimateEncoder, TargetEncoder\n",
    "from sklearn.inspection import permutation_importance\n",
    "\n",
    "import seaborn as sns\n",
    "import shap\n",
    "\n",
    "import lightgbm as lgb\n",
    "\n",
    "import sys\n",
    "sys.path.append('../lightgbm')"
   ]
  },
  {
   "cell_type": "code",
   "execution_count": 2,
   "id": "c44be7ca",
   "metadata": {},
   "outputs": [],
   "source": [
    "# Train datasets\n",
    "invesment_train_path = 'processed/processed_train_inv.csv'\n",
    "owner_train_path = 'processed/processed_train_own.csv'\n",
    "\n",
    "# Test\n",
    "investment_test_path = 'processed/processed_test_inv.csv'\n",
    "owner_test_path = 'processed/processed_test_own.csv'\n",
    "\n",
    "# Feats\n",
    "# investment_feat_path = './best_feats/Inv_Onehot_only_mean_NANs_modified_prices.csv'\n",
    "# owner_feat_path = './best_feats/Own_Onehot_only_mean_NANs_modified_prices.csv'\n",
    "\n",
    "output_path = './output/lgbm_split_pred.csv'"
   ]
  },
  {
   "cell_type": "code",
   "execution_count": 3,
   "id": "872ca254",
   "metadata": {},
   "outputs": [
    {
     "data": {
      "text/html": [
       "<div>\n",
       "<style scoped>\n",
       "    .dataframe tbody tr th:only-of-type {\n",
       "        vertical-align: middle;\n",
       "    }\n",
       "\n",
       "    .dataframe tbody tr th {\n",
       "        vertical-align: top;\n",
       "    }\n",
       "\n",
       "    .dataframe thead th {\n",
       "        text-align: right;\n",
       "    }\n",
       "</style>\n",
       "<table border=\"1\" class=\"dataframe\">\n",
       "  <thead>\n",
       "    <tr style=\"text-align: right;\">\n",
       "      <th></th>\n",
       "      <th>full_sq</th>\n",
       "      <th>life_sq</th>\n",
       "      <th>floor</th>\n",
       "      <th>max_floor</th>\n",
       "      <th>build_year</th>\n",
       "      <th>num_room</th>\n",
       "      <th>kitch_sq</th>\n",
       "      <th>state</th>\n",
       "      <th>area_m</th>\n",
       "      <th>raion_popul</th>\n",
       "      <th>...</th>\n",
       "      <th>big_road1_1line_yes</th>\n",
       "      <th>railroad_1line_no</th>\n",
       "      <th>railroad_1line_yes</th>\n",
       "      <th>material_1.0</th>\n",
       "      <th>material_2.0</th>\n",
       "      <th>material_4.0</th>\n",
       "      <th>material_5.0</th>\n",
       "      <th>material_6.0</th>\n",
       "      <th>material_nan</th>\n",
       "      <th>price_doc</th>\n",
       "    </tr>\n",
       "  </thead>\n",
       "  <tbody>\n",
       "    <tr>\n",
       "      <th>0</th>\n",
       "      <td>43</td>\n",
       "      <td>27.0</td>\n",
       "      <td>4.0</td>\n",
       "      <td>12.184338</td>\n",
       "      <td>1974</td>\n",
       "      <td>1.967868</td>\n",
       "      <td>8.124853</td>\n",
       "      <td>2.480988</td>\n",
       "      <td>6.407578e+06</td>\n",
       "      <td>155572</td>\n",
       "      <td>...</td>\n",
       "      <td>0.0</td>\n",
       "      <td>1.0</td>\n",
       "      <td>0.0</td>\n",
       "      <td>0.0</td>\n",
       "      <td>0.0</td>\n",
       "      <td>0.0</td>\n",
       "      <td>0.0</td>\n",
       "      <td>0.0</td>\n",
       "      <td>1.0</td>\n",
       "      <td>5.668660e+06</td>\n",
       "    </tr>\n",
       "    <tr>\n",
       "      <th>1</th>\n",
       "      <td>34</td>\n",
       "      <td>19.0</td>\n",
       "      <td>3.0</td>\n",
       "      <td>12.184338</td>\n",
       "      <td>1974</td>\n",
       "      <td>1.967868</td>\n",
       "      <td>8.124853</td>\n",
       "      <td>2.480988</td>\n",
       "      <td>9.589337e+06</td>\n",
       "      <td>115352</td>\n",
       "      <td>...</td>\n",
       "      <td>0.0</td>\n",
       "      <td>1.0</td>\n",
       "      <td>0.0</td>\n",
       "      <td>0.0</td>\n",
       "      <td>0.0</td>\n",
       "      <td>0.0</td>\n",
       "      <td>0.0</td>\n",
       "      <td>0.0</td>\n",
       "      <td>1.0</td>\n",
       "      <td>5.814010e+06</td>\n",
       "    </tr>\n",
       "    <tr>\n",
       "      <th>2</th>\n",
       "      <td>43</td>\n",
       "      <td>29.0</td>\n",
       "      <td>2.0</td>\n",
       "      <td>12.184338</td>\n",
       "      <td>1974</td>\n",
       "      <td>1.967868</td>\n",
       "      <td>8.124853</td>\n",
       "      <td>2.480988</td>\n",
       "      <td>4.808270e+06</td>\n",
       "      <td>101708</td>\n",
       "      <td>...</td>\n",
       "      <td>0.0</td>\n",
       "      <td>1.0</td>\n",
       "      <td>0.0</td>\n",
       "      <td>0.0</td>\n",
       "      <td>0.0</td>\n",
       "      <td>0.0</td>\n",
       "      <td>0.0</td>\n",
       "      <td>0.0</td>\n",
       "      <td>1.0</td>\n",
       "      <td>5.523310e+06</td>\n",
       "    </tr>\n",
       "    <tr>\n",
       "      <th>3</th>\n",
       "      <td>89</td>\n",
       "      <td>50.0</td>\n",
       "      <td>9.0</td>\n",
       "      <td>12.184338</td>\n",
       "      <td>1974</td>\n",
       "      <td>1.967868</td>\n",
       "      <td>8.124853</td>\n",
       "      <td>2.480988</td>\n",
       "      <td>1.258354e+07</td>\n",
       "      <td>178473</td>\n",
       "      <td>...</td>\n",
       "      <td>0.0</td>\n",
       "      <td>1.0</td>\n",
       "      <td>0.0</td>\n",
       "      <td>0.0</td>\n",
       "      <td>0.0</td>\n",
       "      <td>0.0</td>\n",
       "      <td>0.0</td>\n",
       "      <td>0.0</td>\n",
       "      <td>1.0</td>\n",
       "      <td>1.269391e+07</td>\n",
       "    </tr>\n",
       "    <tr>\n",
       "      <th>4</th>\n",
       "      <td>77</td>\n",
       "      <td>77.0</td>\n",
       "      <td>4.0</td>\n",
       "      <td>12.184338</td>\n",
       "      <td>1974</td>\n",
       "      <td>1.967868</td>\n",
       "      <td>8.124853</td>\n",
       "      <td>2.480988</td>\n",
       "      <td>8.398461e+06</td>\n",
       "      <td>108171</td>\n",
       "      <td>...</td>\n",
       "      <td>0.0</td>\n",
       "      <td>0.0</td>\n",
       "      <td>1.0</td>\n",
       "      <td>0.0</td>\n",
       "      <td>0.0</td>\n",
       "      <td>0.0</td>\n",
       "      <td>0.0</td>\n",
       "      <td>0.0</td>\n",
       "      <td>1.0</td>\n",
       "      <td>1.582519e+07</td>\n",
       "    </tr>\n",
       "    <tr>\n",
       "      <th>...</th>\n",
       "      <td>...</td>\n",
       "      <td>...</td>\n",
       "      <td>...</td>\n",
       "      <td>...</td>\n",
       "      <td>...</td>\n",
       "      <td>...</td>\n",
       "      <td>...</td>\n",
       "      <td>...</td>\n",
       "      <td>...</td>\n",
       "      <td>...</td>\n",
       "      <td>...</td>\n",
       "      <td>...</td>\n",
       "      <td>...</td>\n",
       "      <td>...</td>\n",
       "      <td>...</td>\n",
       "      <td>...</td>\n",
       "      <td>...</td>\n",
       "      <td>...</td>\n",
       "      <td>...</td>\n",
       "      <td>...</td>\n",
       "      <td>...</td>\n",
       "    </tr>\n",
       "    <tr>\n",
       "      <th>19441</th>\n",
       "      <td>56</td>\n",
       "      <td>29.0</td>\n",
       "      <td>13.0</td>\n",
       "      <td>14.000000</td>\n",
       "      <td>2001</td>\n",
       "      <td>2.000000</td>\n",
       "      <td>11.000000</td>\n",
       "      <td>3.000000</td>\n",
       "      <td>9.249237e+06</td>\n",
       "      <td>156377</td>\n",
       "      <td>...</td>\n",
       "      <td>0.0</td>\n",
       "      <td>1.0</td>\n",
       "      <td>0.0</td>\n",
       "      <td>1.0</td>\n",
       "      <td>0.0</td>\n",
       "      <td>0.0</td>\n",
       "      <td>0.0</td>\n",
       "      <td>0.0</td>\n",
       "      <td>0.0</td>\n",
       "      <td>1.162801e+07</td>\n",
       "    </tr>\n",
       "    <tr>\n",
       "      <th>19442</th>\n",
       "      <td>44</td>\n",
       "      <td>27.0</td>\n",
       "      <td>7.0</td>\n",
       "      <td>9.000000</td>\n",
       "      <td>1975</td>\n",
       "      <td>2.000000</td>\n",
       "      <td>6.000000</td>\n",
       "      <td>3.000000</td>\n",
       "      <td>1.005305e+07</td>\n",
       "      <td>175518</td>\n",
       "      <td>...</td>\n",
       "      <td>0.0</td>\n",
       "      <td>1.0</td>\n",
       "      <td>0.0</td>\n",
       "      <td>1.0</td>\n",
       "      <td>0.0</td>\n",
       "      <td>0.0</td>\n",
       "      <td>0.0</td>\n",
       "      <td>0.0</td>\n",
       "      <td>0.0</td>\n",
       "      <td>7.170610e+06</td>\n",
       "    </tr>\n",
       "    <tr>\n",
       "      <th>19443</th>\n",
       "      <td>86</td>\n",
       "      <td>59.0</td>\n",
       "      <td>3.0</td>\n",
       "      <td>9.000000</td>\n",
       "      <td>1935</td>\n",
       "      <td>4.000000</td>\n",
       "      <td>10.000000</td>\n",
       "      <td>3.000000</td>\n",
       "      <td>7.307411e+06</td>\n",
       "      <td>75377</td>\n",
       "      <td>...</td>\n",
       "      <td>0.0</td>\n",
       "      <td>1.0</td>\n",
       "      <td>0.0</td>\n",
       "      <td>0.0</td>\n",
       "      <td>1.0</td>\n",
       "      <td>0.0</td>\n",
       "      <td>0.0</td>\n",
       "      <td>0.0</td>\n",
       "      <td>0.0</td>\n",
       "      <td>2.422501e+07</td>\n",
       "    </tr>\n",
       "    <tr>\n",
       "      <th>19444</th>\n",
       "      <td>64</td>\n",
       "      <td>32.0</td>\n",
       "      <td>5.0</td>\n",
       "      <td>15.000000</td>\n",
       "      <td>2003</td>\n",
       "      <td>2.000000</td>\n",
       "      <td>11.000000</td>\n",
       "      <td>2.000000</td>\n",
       "      <td>6.050065e+06</td>\n",
       "      <td>78616</td>\n",
       "      <td>...</td>\n",
       "      <td>0.0</td>\n",
       "      <td>1.0</td>\n",
       "      <td>0.0</td>\n",
       "      <td>1.0</td>\n",
       "      <td>0.0</td>\n",
       "      <td>0.0</td>\n",
       "      <td>0.0</td>\n",
       "      <td>0.0</td>\n",
       "      <td>0.0</td>\n",
       "      <td>1.308151e+07</td>\n",
       "    </tr>\n",
       "    <tr>\n",
       "      <th>19445</th>\n",
       "      <td>43</td>\n",
       "      <td>28.0</td>\n",
       "      <td>1.0</td>\n",
       "      <td>9.000000</td>\n",
       "      <td>1968</td>\n",
       "      <td>2.000000</td>\n",
       "      <td>6.000000</td>\n",
       "      <td>2.000000</td>\n",
       "      <td>4.395333e+06</td>\n",
       "      <td>94561</td>\n",
       "      <td>...</td>\n",
       "      <td>0.0</td>\n",
       "      <td>1.0</td>\n",
       "      <td>0.0</td>\n",
       "      <td>1.0</td>\n",
       "      <td>0.0</td>\n",
       "      <td>0.0</td>\n",
       "      <td>0.0</td>\n",
       "      <td>0.0</td>\n",
       "      <td>0.0</td>\n",
       "      <td>5.426410e+06</td>\n",
       "    </tr>\n",
       "  </tbody>\n",
       "</table>\n",
       "<p>19446 rows × 449 columns</p>\n",
       "</div>"
      ],
      "text/plain": [
       "       full_sq  life_sq  floor  max_floor  build_year  num_room   kitch_sq  \\\n",
       "0           43     27.0    4.0  12.184338        1974  1.967868   8.124853   \n",
       "1           34     19.0    3.0  12.184338        1974  1.967868   8.124853   \n",
       "2           43     29.0    2.0  12.184338        1974  1.967868   8.124853   \n",
       "3           89     50.0    9.0  12.184338        1974  1.967868   8.124853   \n",
       "4           77     77.0    4.0  12.184338        1974  1.967868   8.124853   \n",
       "...        ...      ...    ...        ...         ...       ...        ...   \n",
       "19441       56     29.0   13.0  14.000000        2001  2.000000  11.000000   \n",
       "19442       44     27.0    7.0   9.000000        1975  2.000000   6.000000   \n",
       "19443       86     59.0    3.0   9.000000        1935  4.000000  10.000000   \n",
       "19444       64     32.0    5.0  15.000000        2003  2.000000  11.000000   \n",
       "19445       43     28.0    1.0   9.000000        1968  2.000000   6.000000   \n",
       "\n",
       "          state        area_m  raion_popul  ...  big_road1_1line_yes  \\\n",
       "0      2.480988  6.407578e+06       155572  ...                  0.0   \n",
       "1      2.480988  9.589337e+06       115352  ...                  0.0   \n",
       "2      2.480988  4.808270e+06       101708  ...                  0.0   \n",
       "3      2.480988  1.258354e+07       178473  ...                  0.0   \n",
       "4      2.480988  8.398461e+06       108171  ...                  0.0   \n",
       "...         ...           ...          ...  ...                  ...   \n",
       "19441  3.000000  9.249237e+06       156377  ...                  0.0   \n",
       "19442  3.000000  1.005305e+07       175518  ...                  0.0   \n",
       "19443  3.000000  7.307411e+06        75377  ...                  0.0   \n",
       "19444  2.000000  6.050065e+06        78616  ...                  0.0   \n",
       "19445  2.000000  4.395333e+06        94561  ...                  0.0   \n",
       "\n",
       "       railroad_1line_no  railroad_1line_yes  material_1.0  material_2.0  \\\n",
       "0                    1.0                 0.0           0.0           0.0   \n",
       "1                    1.0                 0.0           0.0           0.0   \n",
       "2                    1.0                 0.0           0.0           0.0   \n",
       "3                    1.0                 0.0           0.0           0.0   \n",
       "4                    0.0                 1.0           0.0           0.0   \n",
       "...                  ...                 ...           ...           ...   \n",
       "19441                1.0                 0.0           1.0           0.0   \n",
       "19442                1.0                 0.0           1.0           0.0   \n",
       "19443                1.0                 0.0           0.0           1.0   \n",
       "19444                1.0                 0.0           1.0           0.0   \n",
       "19445                1.0                 0.0           1.0           0.0   \n",
       "\n",
       "       material_4.0  material_5.0  material_6.0  material_nan     price_doc  \n",
       "0               0.0           0.0           0.0           1.0  5.668660e+06  \n",
       "1               0.0           0.0           0.0           1.0  5.814010e+06  \n",
       "2               0.0           0.0           0.0           1.0  5.523310e+06  \n",
       "3               0.0           0.0           0.0           1.0  1.269391e+07  \n",
       "4               0.0           0.0           0.0           1.0  1.582519e+07  \n",
       "...             ...           ...           ...           ...           ...  \n",
       "19441           0.0           0.0           0.0           0.0  1.162801e+07  \n",
       "19442           0.0           0.0           0.0           0.0  7.170610e+06  \n",
       "19443           0.0           0.0           0.0           0.0  2.422501e+07  \n",
       "19444           0.0           0.0           0.0           0.0  1.308151e+07  \n",
       "19445           0.0           0.0           0.0           0.0  5.426410e+06  \n",
       "\n",
       "[19446 rows x 449 columns]"
      ]
     },
     "execution_count": 3,
     "metadata": {},
     "output_type": "execute_result"
    }
   ],
   "source": [
    "processed_inv_train_df = pd.read_csv(invesment_train_path)\n",
    "X = processed_inv_train_df.drop(['price_doc'], axis=1)\n",
    "y = processed_inv_train_df['price_doc']\n",
    "\n",
    "processed_inv_train_df"
   ]
  },
  {
   "cell_type": "code",
   "execution_count": 4,
   "id": "f27d58e5",
   "metadata": {},
   "outputs": [],
   "source": [
    "X_train, X_val, y_train, y_val = train_test_split(processed_inv_train_df.drop(columns=['price_doc']),\n",
    "                                                 processed_inv_train_df['price_doc'], test_size=0.15, random_state=42)"
   ]
  },
  {
   "cell_type": "code",
   "execution_count": 5,
   "id": "96bf5ab7",
   "metadata": {},
   "outputs": [],
   "source": [
    "from sklearn.metrics import mean_squared_error\n",
    "import optuna\n",
    "\n",
    "def objective(trial):\n",
    "    params = {\n",
    "        \"objective\": \"regression\",\n",
    "        \"metric\": \"rmse\",\n",
    "        \"verbosity\": -1,\n",
    "        \"n_estimators\": trial.suggest_int(\"n_estimators\", 800, 1200),\n",
    "#         \"boosting\": trial.suggest_categorical(\"boosting\", [\"gbdt\", \"rf\", \"dart\"]),\n",
    "        \"lambda_l2\": trial.suggest_float(\"lambda_l2\", 0, 10),\n",
    "        \"bagging_fraction\": trial.suggest_float(\"bagging_fraction\", 0, 1),\n",
    "        \"bagging_freq\": 1,\n",
    "        \"num_leaves\": trial.suggest_int(\"num_leaves\", 2, 2**10),\n",
    "        \"feature_fraction\": trial.suggest_float(\"feature_fraction\", 0.5, 1),\n",
    "        \"max_depth\": trial.suggest_int(\"max_depth\", 1, 50),\n",
    "        \"learning_rate\": trial.suggest_float(\"learning_rate\", 1e-3, 0.1, log=True),\n",
    "        \"subsample\": trial.suggest_float(\"subsample\", 0.05, 1.0),\n",
    "        \"colsample_bytree\": trial.suggest_float(\"colsample_bytree\", 0.05, 1.0),\n",
    "        \"min_data_in_leaf\": trial.suggest_int(\"min_data_in_leaf\", 10, 100),\n",
    "    }\n",
    "\n",
    "    model = lgb.LGBMRegressor(**params)\n",
    "    model.fit(X_train, y_train, verbose=False)\n",
    "    predictions = model.predict(X_val)\n",
    "    rmse = mean_squared_error(y_val, predictions, squared=False)\n",
    "    return rmse"
   ]
  },
  {
   "cell_type": "code",
   "execution_count": 6,
   "id": "36f53a92",
   "metadata": {},
   "outputs": [
    {
     "name": "stderr",
     "output_type": "stream",
     "text": [
      "[I 2023-10-30 19:18:46,022] A new study created in memory with name: no-name-cac2f260-5d79-4550-bf2d-d343bf3959cc\n",
      "'verbose' argument is deprecated and will be removed in a future release of LightGBM. Pass 'log_evaluation()' callback via 'callbacks' argument instead.\n"
     ]
    },
    {
     "name": "stdout",
     "output_type": "stream",
     "text": [
      "[LightGBM] [Warning] feature_fraction is set=0.938091862962235, colsample_bytree=0.23134149144796534 will be ignored. Current value: feature_fraction=0.938091862962235\n",
      "[LightGBM] [Warning] min_data_in_leaf is set=80, min_child_samples=20 will be ignored. Current value: min_data_in_leaf=80\n",
      "[LightGBM] [Warning] bagging_fraction is set=0.13910793455675197, subsample=0.3936949176994204 will be ignored. Current value: bagging_fraction=0.13910793455675197\n",
      "[LightGBM] [Warning] lambda_l2 is set=3.9824559370122836, reg_lambda=0.0 will be ignored. Current value: lambda_l2=3.9824559370122836\n",
      "[LightGBM] [Warning] bagging_freq is set=1, subsample_freq=0 will be ignored. Current value: bagging_freq=1\n"
     ]
    },
    {
     "name": "stderr",
     "output_type": "stream",
     "text": [
      "[I 2023-10-30 19:18:49,677] Trial 0 finished with value: 3364431.7653503967 and parameters: {'n_estimators': 1128, 'lambda_l2': 3.9824559370122836, 'bagging_fraction': 0.13910793455675197, 'num_leaves': 691, 'feature_fraction': 0.938091862962235, 'max_depth': 21, 'learning_rate': 0.009023639134607136, 'subsample': 0.3936949176994204, 'colsample_bytree': 0.23134149144796534, 'min_data_in_leaf': 80}. Best is trial 0 with value: 3364431.7653503967.\n",
      "'verbose' argument is deprecated and will be removed in a future release of LightGBM. Pass 'log_evaluation()' callback via 'callbacks' argument instead.\n"
     ]
    },
    {
     "name": "stdout",
     "output_type": "stream",
     "text": [
      "[LightGBM] [Warning] feature_fraction is set=0.9988628690312592, colsample_bytree=0.3151460793789506 will be ignored. Current value: feature_fraction=0.9988628690312592\n",
      "[LightGBM] [Warning] min_data_in_leaf is set=18, min_child_samples=20 will be ignored. Current value: min_data_in_leaf=18\n",
      "[LightGBM] [Warning] bagging_fraction is set=0.512877778687155, subsample=0.26126814374373 will be ignored. Current value: bagging_fraction=0.512877778687155\n",
      "[LightGBM] [Warning] lambda_l2 is set=9.161204202980027, reg_lambda=0.0 will be ignored. Current value: lambda_l2=9.161204202980027\n",
      "[LightGBM] [Warning] bagging_freq is set=1, subsample_freq=0 will be ignored. Current value: bagging_freq=1\n"
     ]
    },
    {
     "name": "stderr",
     "output_type": "stream",
     "text": [
      "[I 2023-10-30 19:18:50,995] Trial 1 finished with value: 2987602.7076837807 and parameters: {'n_estimators': 856, 'lambda_l2': 9.161204202980027, 'bagging_fraction': 0.512877778687155, 'num_leaves': 906, 'feature_fraction': 0.9988628690312592, 'max_depth': 2, 'learning_rate': 0.07137880477899301, 'subsample': 0.26126814374373, 'colsample_bytree': 0.3151460793789506, 'min_data_in_leaf': 18}. Best is trial 1 with value: 2987602.7076837807.\n",
      "'verbose' argument is deprecated and will be removed in a future release of LightGBM. Pass 'log_evaluation()' callback via 'callbacks' argument instead.\n"
     ]
    },
    {
     "name": "stdout",
     "output_type": "stream",
     "text": [
      "[LightGBM] [Warning] feature_fraction is set=0.914074722476103, colsample_bytree=0.3443767399243354 will be ignored. Current value: feature_fraction=0.914074722476103\n",
      "[LightGBM] [Warning] min_data_in_leaf is set=48, min_child_samples=20 will be ignored. Current value: min_data_in_leaf=48\n",
      "[LightGBM] [Warning] bagging_fraction is set=0.6723156150127583, subsample=0.782289270410083 will be ignored. Current value: bagging_fraction=0.6723156150127583\n",
      "[LightGBM] [Warning] lambda_l2 is set=0.6211110138263998, reg_lambda=0.0 will be ignored. Current value: lambda_l2=0.6211110138263998\n",
      "[LightGBM] [Warning] bagging_freq is set=1, subsample_freq=0 will be ignored. Current value: bagging_freq=1\n"
     ]
    },
    {
     "name": "stderr",
     "output_type": "stream",
     "text": [
      "[I 2023-10-30 19:18:53,197] Trial 2 finished with value: 3056653.638620104 and parameters: {'n_estimators': 1114, 'lambda_l2': 0.6211110138263998, 'bagging_fraction': 0.6723156150127583, 'num_leaves': 702, 'feature_fraction': 0.914074722476103, 'max_depth': 2, 'learning_rate': 0.012996999714599023, 'subsample': 0.782289270410083, 'colsample_bytree': 0.3443767399243354, 'min_data_in_leaf': 48}. Best is trial 1 with value: 2987602.7076837807.\n",
      "'verbose' argument is deprecated and will be removed in a future release of LightGBM. Pass 'log_evaluation()' callback via 'callbacks' argument instead.\n"
     ]
    },
    {
     "name": "stdout",
     "output_type": "stream",
     "text": [
      "[LightGBM] [Warning] feature_fraction is set=0.9790468791228151, colsample_bytree=0.22501349599439563 will be ignored. Current value: feature_fraction=0.9790468791228151\n",
      "[LightGBM] [Warning] min_data_in_leaf is set=41, min_child_samples=20 will be ignored. Current value: min_data_in_leaf=41\n",
      "[LightGBM] [Warning] bagging_fraction is set=0.9641469292871357, subsample=0.5252338545503993 will be ignored. Current value: bagging_fraction=0.9641469292871357\n",
      "[LightGBM] [Warning] lambda_l2 is set=7.347075873745203, reg_lambda=0.0 will be ignored. Current value: lambda_l2=7.347075873745203\n",
      "[LightGBM] [Warning] bagging_freq is set=1, subsample_freq=0 will be ignored. Current value: bagging_freq=1\n"
     ]
    },
    {
     "name": "stderr",
     "output_type": "stream",
     "text": [
      "[I 2023-10-30 19:18:59,509] Trial 3 finished with value: 3073794.065205055 and parameters: {'n_estimators': 1136, 'lambda_l2': 7.347075873745203, 'bagging_fraction': 0.9641469292871357, 'num_leaves': 201, 'feature_fraction': 0.9790468791228151, 'max_depth': 7, 'learning_rate': 0.06538112181506557, 'subsample': 0.5252338545503993, 'colsample_bytree': 0.22501349599439563, 'min_data_in_leaf': 41}. Best is trial 1 with value: 2987602.7076837807.\n",
      "'verbose' argument is deprecated and will be removed in a future release of LightGBM. Pass 'log_evaluation()' callback via 'callbacks' argument instead.\n"
     ]
    },
    {
     "name": "stdout",
     "output_type": "stream",
     "text": [
      "[LightGBM] [Warning] feature_fraction is set=0.923412122087828, colsample_bytree=0.38708107986803586 will be ignored. Current value: feature_fraction=0.923412122087828\n",
      "[LightGBM] [Warning] min_data_in_leaf is set=61, min_child_samples=20 will be ignored. Current value: min_data_in_leaf=61\n",
      "[LightGBM] [Warning] bagging_fraction is set=0.7875989086331282, subsample=0.6881740546462842 will be ignored. Current value: bagging_fraction=0.7875989086331282\n",
      "[LightGBM] [Warning] lambda_l2 is set=8.035865860500754, reg_lambda=0.0 will be ignored. Current value: lambda_l2=8.035865860500754\n",
      "[LightGBM] [Warning] bagging_freq is set=1, subsample_freq=0 will be ignored. Current value: bagging_freq=1\n"
     ]
    },
    {
     "name": "stderr",
     "output_type": "stream",
     "text": [
      "[I 2023-10-30 19:19:06,266] Trial 4 finished with value: 3160971.9449151675 and parameters: {'n_estimators': 1081, 'lambda_l2': 8.035865860500754, 'bagging_fraction': 0.7875989086331282, 'num_leaves': 439, 'feature_fraction': 0.923412122087828, 'max_depth': 6, 'learning_rate': 0.002645530932075332, 'subsample': 0.6881740546462842, 'colsample_bytree': 0.38708107986803586, 'min_data_in_leaf': 61}. Best is trial 1 with value: 2987602.7076837807.\n",
      "'verbose' argument is deprecated and will be removed in a future release of LightGBM. Pass 'log_evaluation()' callback via 'callbacks' argument instead.\n"
     ]
    },
    {
     "name": "stdout",
     "output_type": "stream",
     "text": [
      "[LightGBM] [Warning] feature_fraction is set=0.5610232277743802, colsample_bytree=0.8160165300563211 will be ignored. Current value: feature_fraction=0.5610232277743802\n",
      "[LightGBM] [Warning] min_data_in_leaf is set=44, min_child_samples=20 will be ignored. Current value: min_data_in_leaf=44\n",
      "[LightGBM] [Warning] bagging_fraction is set=0.21070010684406904, subsample=0.4252968931498496 will be ignored. Current value: bagging_fraction=0.21070010684406904\n",
      "[LightGBM] [Warning] lambda_l2 is set=9.035648288769941, reg_lambda=0.0 will be ignored. Current value: lambda_l2=9.035648288769941\n",
      "[LightGBM] [Warning] bagging_freq is set=1, subsample_freq=0 will be ignored. Current value: bagging_freq=1\n"
     ]
    },
    {
     "name": "stderr",
     "output_type": "stream",
     "text": [
      "[I 2023-10-30 19:19:11,106] Trial 5 finished with value: 3136174.939668191 and parameters: {'n_estimators': 914, 'lambda_l2': 9.035648288769941, 'bagging_fraction': 0.21070010684406904, 'num_leaves': 147, 'feature_fraction': 0.5610232277743802, 'max_depth': 18, 'learning_rate': 0.011127416044961192, 'subsample': 0.4252968931498496, 'colsample_bytree': 0.8160165300563211, 'min_data_in_leaf': 44}. Best is trial 1 with value: 2987602.7076837807.\n",
      "'verbose' argument is deprecated and will be removed in a future release of LightGBM. Pass 'log_evaluation()' callback via 'callbacks' argument instead.\n"
     ]
    },
    {
     "name": "stdout",
     "output_type": "stream",
     "text": [
      "[LightGBM] [Warning] feature_fraction is set=0.5577089998120672, colsample_bytree=0.2902529439321684 will be ignored. Current value: feature_fraction=0.5577089998120672\n",
      "[LightGBM] [Warning] min_data_in_leaf is set=25, min_child_samples=20 will be ignored. Current value: min_data_in_leaf=25\n",
      "[LightGBM] [Warning] bagging_fraction is set=0.8051369710417341, subsample=0.8466751230740795 will be ignored. Current value: bagging_fraction=0.8051369710417341\n",
      "[LightGBM] [Warning] lambda_l2 is set=7.0619923390979835, reg_lambda=0.0 will be ignored. Current value: lambda_l2=7.0619923390979835\n",
      "[LightGBM] [Warning] bagging_freq is set=1, subsample_freq=0 will be ignored. Current value: bagging_freq=1\n"
     ]
    },
    {
     "name": "stderr",
     "output_type": "stream",
     "text": [
      "[I 2023-10-30 19:19:32,169] Trial 6 finished with value: 3399952.253370103 and parameters: {'n_estimators': 867, 'lambda_l2': 7.0619923390979835, 'bagging_fraction': 0.8051369710417341, 'num_leaves': 285, 'feature_fraction': 0.5577089998120672, 'max_depth': 43, 'learning_rate': 0.001718177541985677, 'subsample': 0.8466751230740795, 'colsample_bytree': 0.2902529439321684, 'min_data_in_leaf': 25}. Best is trial 1 with value: 2987602.7076837807.\n",
      "'verbose' argument is deprecated and will be removed in a future release of LightGBM. Pass 'log_evaluation()' callback via 'callbacks' argument instead.\n"
     ]
    },
    {
     "name": "stdout",
     "output_type": "stream",
     "text": [
      "[LightGBM] [Warning] feature_fraction is set=0.5345424073203916, colsample_bytree=0.8119106670260272 will be ignored. Current value: feature_fraction=0.5345424073203916\n",
      "[LightGBM] [Warning] min_data_in_leaf is set=79, min_child_samples=20 will be ignored. Current value: min_data_in_leaf=79\n",
      "[LightGBM] [Warning] bagging_fraction is set=0.3337752039441263, subsample=0.8800218982506067 will be ignored. Current value: bagging_fraction=0.3337752039441263\n",
      "[LightGBM] [Warning] lambda_l2 is set=0.8433948058584184, reg_lambda=0.0 will be ignored. Current value: lambda_l2=0.8433948058584184\n",
      "[LightGBM] [Warning] bagging_freq is set=1, subsample_freq=0 will be ignored. Current value: bagging_freq=1\n"
     ]
    },
    {
     "name": "stderr",
     "output_type": "stream",
     "text": [
      "[I 2023-10-30 19:19:33,423] Trial 7 finished with value: 3100055.7584060817 and parameters: {'n_estimators': 844, 'lambda_l2': 0.8433948058584184, 'bagging_fraction': 0.3337752039441263, 'num_leaves': 764, 'feature_fraction': 0.5345424073203916, 'max_depth': 2, 'learning_rate': 0.06335654501983017, 'subsample': 0.8800218982506067, 'colsample_bytree': 0.8119106670260272, 'min_data_in_leaf': 79}. Best is trial 1 with value: 2987602.7076837807.\n",
      "'verbose' argument is deprecated and will be removed in a future release of LightGBM. Pass 'log_evaluation()' callback via 'callbacks' argument instead.\n"
     ]
    },
    {
     "name": "stdout",
     "output_type": "stream",
     "text": [
      "[LightGBM] [Warning] feature_fraction is set=0.987680876872357, colsample_bytree=0.776666112916592 will be ignored. Current value: feature_fraction=0.987680876872357\n",
      "[LightGBM] [Warning] min_data_in_leaf is set=31, min_child_samples=20 will be ignored. Current value: min_data_in_leaf=31\n",
      "[LightGBM] [Warning] bagging_fraction is set=0.41711681658278044, subsample=0.3071298363872119 will be ignored. Current value: bagging_fraction=0.41711681658278044\n",
      "[LightGBM] [Warning] lambda_l2 is set=9.414152218444784, reg_lambda=0.0 will be ignored. Current value: lambda_l2=9.414152218444784\n",
      "[LightGBM] [Warning] bagging_freq is set=1, subsample_freq=0 will be ignored. Current value: bagging_freq=1\n"
     ]
    },
    {
     "name": "stderr",
     "output_type": "stream",
     "text": [
      "[I 2023-10-30 19:19:57,612] Trial 8 finished with value: 3032233.921111105 and parameters: {'n_estimators': 1098, 'lambda_l2': 9.414152218444784, 'bagging_fraction': 0.41711681658278044, 'num_leaves': 657, 'feature_fraction': 0.987680876872357, 'max_depth': 42, 'learning_rate': 0.017226398122934205, 'subsample': 0.3071298363872119, 'colsample_bytree': 0.776666112916592, 'min_data_in_leaf': 31}. Best is trial 1 with value: 2987602.7076837807.\n",
      "'verbose' argument is deprecated and will be removed in a future release of LightGBM. Pass 'log_evaluation()' callback via 'callbacks' argument instead.\n"
     ]
    },
    {
     "name": "stdout",
     "output_type": "stream",
     "text": [
      "[LightGBM] [Warning] feature_fraction is set=0.5693996104412762, colsample_bytree=0.5206313399796677 will be ignored. Current value: feature_fraction=0.5693996104412762\n",
      "[LightGBM] [Warning] min_data_in_leaf is set=99, min_child_samples=20 will be ignored. Current value: min_data_in_leaf=99\n",
      "[LightGBM] [Warning] bagging_fraction is set=0.12407138442724153, subsample=0.0573303050761168 will be ignored. Current value: bagging_fraction=0.12407138442724153\n",
      "[LightGBM] [Warning] lambda_l2 is set=9.91800801883861, reg_lambda=0.0 will be ignored. Current value: lambda_l2=9.91800801883861\n",
      "[LightGBM] [Warning] bagging_freq is set=1, subsample_freq=0 will be ignored. Current value: bagging_freq=1\n"
     ]
    },
    {
     "name": "stderr",
     "output_type": "stream",
     "text": [
      "[I 2023-10-30 19:19:59,921] Trial 9 finished with value: 3366500.3573942035 and parameters: {'n_estimators': 816, 'lambda_l2': 9.91800801883861, 'bagging_fraction': 0.12407138442724153, 'num_leaves': 617, 'feature_fraction': 0.5693996104412762, 'max_depth': 13, 'learning_rate': 0.05583038544829408, 'subsample': 0.0573303050761168, 'colsample_bytree': 0.5206313399796677, 'min_data_in_leaf': 99}. Best is trial 1 with value: 2987602.7076837807.\n",
      "'verbose' argument is deprecated and will be removed in a future release of LightGBM. Pass 'log_evaluation()' callback via 'callbacks' argument instead.\n"
     ]
    },
    {
     "name": "stdout",
     "output_type": "stream",
     "text": [
      "[LightGBM] [Warning] feature_fraction is set=0.828600608832111, colsample_bytree=0.10786977598746272 will be ignored. Current value: feature_fraction=0.828600608832111\n",
      "[LightGBM] [Warning] min_data_in_leaf is set=10, min_child_samples=20 will be ignored. Current value: min_data_in_leaf=10\n",
      "[LightGBM] [Warning] bagging_fraction is set=0.5415235706862953, subsample=0.18584078709971097 will be ignored. Current value: bagging_fraction=0.5415235706862953\n",
      "[LightGBM] [Warning] lambda_l2 is set=5.4983510060557474, reg_lambda=0.0 will be ignored. Current value: lambda_l2=5.4983510060557474\n",
      "[LightGBM] [Warning] bagging_freq is set=1, subsample_freq=0 will be ignored. Current value: bagging_freq=1\n"
     ]
    },
    {
     "name": "stderr",
     "output_type": "stream",
     "text": [
      "[I 2023-10-30 19:20:59,861] Trial 10 finished with value: 3183117.1795693925 and parameters: {'n_estimators': 977, 'lambda_l2': 5.4983510060557474, 'bagging_fraction': 0.5415235706862953, 'num_leaves': 1015, 'feature_fraction': 0.828600608832111, 'max_depth': 31, 'learning_rate': 0.0301805690297491, 'subsample': 0.18584078709971097, 'colsample_bytree': 0.10786977598746272, 'min_data_in_leaf': 10}. Best is trial 1 with value: 2987602.7076837807.\n",
      "'verbose' argument is deprecated and will be removed in a future release of LightGBM. Pass 'log_evaluation()' callback via 'callbacks' argument instead.\n"
     ]
    },
    {
     "name": "stdout",
     "output_type": "stream",
     "text": [
      "[LightGBM] [Warning] feature_fraction is set=0.9983388930288476, colsample_bytree=0.6565993133110966 will be ignored. Current value: feature_fraction=0.9983388930288476\n",
      "[LightGBM] [Warning] min_data_in_leaf is set=22, min_child_samples=20 will be ignored. Current value: min_data_in_leaf=22\n",
      "[LightGBM] [Warning] bagging_fraction is set=0.42416977078757934, subsample=0.26158424957490634 will be ignored. Current value: bagging_fraction=0.42416977078757934\n",
      "[LightGBM] [Warning] lambda_l2 is set=9.9999806461496, reg_lambda=0.0 will be ignored. Current value: lambda_l2=9.9999806461496\n",
      "[LightGBM] [Warning] bagging_freq is set=1, subsample_freq=0 will be ignored. Current value: bagging_freq=1\n"
     ]
    },
    {
     "name": "stderr",
     "output_type": "stream",
     "text": [
      "[I 2023-10-30 19:21:31,133] Trial 11 finished with value: 3114051.053575283 and parameters: {'n_estimators': 1034, 'lambda_l2': 9.9999806461496, 'bagging_fraction': 0.42416977078757934, 'num_leaves': 933, 'feature_fraction': 0.9983388930288476, 'max_depth': 49, 'learning_rate': 0.02648901231590015, 'subsample': 0.26158424957490634, 'colsample_bytree': 0.6565993133110966, 'min_data_in_leaf': 22}. Best is trial 1 with value: 2987602.7076837807.\n",
      "'verbose' argument is deprecated and will be removed in a future release of LightGBM. Pass 'log_evaluation()' callback via 'callbacks' argument instead.\n"
     ]
    },
    {
     "name": "stdout",
     "output_type": "stream",
     "text": [
      "[LightGBM] [Warning] feature_fraction is set=0.8087122083909087, colsample_bytree=0.90742924005402 will be ignored. Current value: feature_fraction=0.8087122083909087\n",
      "[LightGBM] [Warning] min_data_in_leaf is set=28, min_child_samples=20 will be ignored. Current value: min_data_in_leaf=28\n",
      "[LightGBM] [Warning] bagging_fraction is set=0.49470860829741553, subsample=0.2754979527128597 will be ignored. Current value: bagging_fraction=0.49470860829741553\n",
      "[LightGBM] [Warning] lambda_l2 is set=8.241990933309886, reg_lambda=0.0 will be ignored. Current value: lambda_l2=8.241990933309886\n",
      "[LightGBM] [Warning] bagging_freq is set=1, subsample_freq=0 will be ignored. Current value: bagging_freq=1\n"
     ]
    },
    {
     "name": "stderr",
     "output_type": "stream",
     "text": [
      "[I 2023-10-30 19:21:55,991] Trial 12 finished with value: 3312074.116891748 and parameters: {'n_estimators': 971, 'lambda_l2': 8.241990933309886, 'bagging_fraction': 0.49470860829741553, 'num_leaves': 819, 'feature_fraction': 0.8087122083909087, 'max_depth': 31, 'learning_rate': 0.09648661508753646, 'subsample': 0.2754979527128597, 'colsample_bytree': 0.90742924005402, 'min_data_in_leaf': 28}. Best is trial 1 with value: 2987602.7076837807.\n",
      "'verbose' argument is deprecated and will be removed in a future release of LightGBM. Pass 'log_evaluation()' callback via 'callbacks' argument instead.\n"
     ]
    },
    {
     "name": "stdout",
     "output_type": "stream",
     "text": [
      "[LightGBM] [Warning] feature_fraction is set=0.8670306836767661, colsample_bytree=0.9867978009767683 will be ignored. Current value: feature_fraction=0.8670306836767661\n",
      "[LightGBM] [Warning] min_data_in_leaf is set=10, min_child_samples=20 will be ignored. Current value: min_data_in_leaf=10\n",
      "[LightGBM] [Warning] bagging_fraction is set=0.30072132081589875, subsample=0.052097976975696736 will be ignored. Current value: bagging_fraction=0.30072132081589875\n",
      "[LightGBM] [Warning] lambda_l2 is set=6.273519686476726, reg_lambda=0.0 will be ignored. Current value: lambda_l2=6.273519686476726\n",
      "[LightGBM] [Warning] bagging_freq is set=1, subsample_freq=0 will be ignored. Current value: bagging_freq=1\n"
     ]
    },
    {
     "name": "stderr",
     "output_type": "stream",
     "text": [
      "[I 2023-10-30 19:22:39,863] Trial 13 finished with value: 3170287.1907556728 and parameters: {'n_estimators': 1187, 'lambda_l2': 6.273519686476726, 'bagging_fraction': 0.30072132081589875, 'num_leaves': 470, 'feature_fraction': 0.8670306836767661, 'max_depth': 38, 'learning_rate': 0.02962314004165909, 'subsample': 0.052097976975696736, 'colsample_bytree': 0.9867978009767683, 'min_data_in_leaf': 10}. Best is trial 1 with value: 2987602.7076837807.\n",
      "'verbose' argument is deprecated and will be removed in a future release of LightGBM. Pass 'log_evaluation()' callback via 'callbacks' argument instead.\n"
     ]
    },
    {
     "name": "stdout",
     "output_type": "stream",
     "text": [
      "[LightGBM] [Warning] feature_fraction is set=0.9982733148173875, colsample_bytree=0.5586227329010705 will be ignored. Current value: feature_fraction=0.9982733148173875\n",
      "[LightGBM] [Warning] min_data_in_leaf is set=35, min_child_samples=20 will be ignored. Current value: min_data_in_leaf=35\n",
      "[LightGBM] [Warning] bagging_fraction is set=0.001265753074657927, subsample=0.5307566820178738 will be ignored. Current value: bagging_fraction=0.001265753074657927\n",
      "[LightGBM] [Warning] lambda_l2 is set=8.66664884136004, reg_lambda=0.0 will be ignored. Current value: lambda_l2=8.66664884136004\n",
      "[LightGBM] [Warning] bagging_freq is set=1, subsample_freq=0 will be ignored. Current value: bagging_freq=1\n"
     ]
    },
    {
     "name": "stderr",
     "output_type": "stream",
     "text": [
      "[I 2023-10-30 19:22:40,478] Trial 14 finished with value: 5023614.032841535 and parameters: {'n_estimators': 1032, 'lambda_l2': 8.66664884136004, 'bagging_fraction': 0.001265753074657927, 'num_leaves': 868, 'feature_fraction': 0.9982733148173875, 'max_depth': 28, 'learning_rate': 0.0038825565811584886, 'subsample': 0.5307566820178738, 'colsample_bytree': 0.5586227329010705, 'min_data_in_leaf': 35}. Best is trial 1 with value: 2987602.7076837807.\n",
      "'verbose' argument is deprecated and will be removed in a future release of LightGBM. Pass 'log_evaluation()' callback via 'callbacks' argument instead.\n"
     ]
    },
    {
     "name": "stdout",
     "output_type": "stream",
     "text": [
      "[LightGBM] [Warning] feature_fraction is set=0.7566513325234075, colsample_bytree=0.671848950674743 will be ignored. Current value: feature_fraction=0.7566513325234075\n",
      "[LightGBM] [Warning] min_data_in_leaf is set=57, min_child_samples=20 will be ignored. Current value: min_data_in_leaf=57\n",
      "[LightGBM] [Warning] bagging_fraction is set=0.5839322455611402, subsample=0.36996871863616076 will be ignored. Current value: bagging_fraction=0.5839322455611402\n",
      "[LightGBM] [Warning] lambda_l2 is set=9.316353005993902, reg_lambda=0.0 will be ignored. Current value: lambda_l2=9.316353005993902\n",
      "[LightGBM] [Warning] bagging_freq is set=1, subsample_freq=0 will be ignored. Current value: bagging_freq=1\n"
     ]
    },
    {
     "name": "stderr",
     "output_type": "stream",
     "text": [
      "[I 2023-10-30 19:22:54,184] Trial 15 finished with value: 3085494.8579867086 and parameters: {'n_estimators': 913, 'lambda_l2': 9.316353005993902, 'bagging_fraction': 0.5839322455611402, 'num_leaves': 563, 'feature_fraction': 0.7566513325234075, 'max_depth': 38, 'learning_rate': 0.0058473299216205915, 'subsample': 0.36996871863616076, 'colsample_bytree': 0.671848950674743, 'min_data_in_leaf': 57}. Best is trial 1 with value: 2987602.7076837807.\n",
      "'verbose' argument is deprecated and will be removed in a future release of LightGBM. Pass 'log_evaluation()' callback via 'callbacks' argument instead.\n"
     ]
    },
    {
     "name": "stdout",
     "output_type": "stream",
     "text": [
      "[LightGBM] [Warning] feature_fraction is set=0.8867471005913475, colsample_bytree=0.0751726252142765 will be ignored. Current value: feature_fraction=0.8867471005913475\n",
      "[LightGBM] [Warning] min_data_in_leaf is set=21, min_child_samples=20 will be ignored. Current value: min_data_in_leaf=21\n",
      "[LightGBM] [Warning] bagging_fraction is set=0.4009683542874203, subsample=0.5951001998655574 will be ignored. Current value: bagging_fraction=0.4009683542874203\n",
      "[LightGBM] [Warning] lambda_l2 is set=7.634370852114594, reg_lambda=0.0 will be ignored. Current value: lambda_l2=7.634370852114594\n",
      "[LightGBM] [Warning] bagging_freq is set=1, subsample_freq=0 will be ignored. Current value: bagging_freq=1\n"
     ]
    },
    {
     "name": "stderr",
     "output_type": "stream",
     "text": [
      "[I 2023-10-30 19:23:15,248] Trial 16 finished with value: 3619057.9615484443 and parameters: {'n_estimators': 1058, 'lambda_l2': 7.634370852114594, 'bagging_fraction': 0.4009683542874203, 'num_leaves': 982, 'feature_fraction': 0.8867471005913475, 'max_depth': 50, 'learning_rate': 0.001041384035347379, 'subsample': 0.5951001998655574, 'colsample_bytree': 0.0751726252142765, 'min_data_in_leaf': 21}. Best is trial 1 with value: 2987602.7076837807.\n",
      "'verbose' argument is deprecated and will be removed in a future release of LightGBM. Pass 'log_evaluation()' callback via 'callbacks' argument instead.\n"
     ]
    },
    {
     "name": "stdout",
     "output_type": "stream",
     "text": [
      "[LightGBM] [Warning] feature_fraction is set=0.953646135767505, colsample_bytree=0.45540421312019996 will be ignored. Current value: feature_fraction=0.953646135767505\n",
      "[LightGBM] [Warning] min_data_in_leaf is set=33, min_child_samples=20 will be ignored. Current value: min_data_in_leaf=33\n",
      "[LightGBM] [Warning] bagging_fraction is set=0.47997991391488937, subsample=0.16127975874808448 will be ignored. Current value: bagging_fraction=0.47997991391488937\n",
      "[LightGBM] [Warning] lambda_l2 is set=8.736078494669549, reg_lambda=0.0 will be ignored. Current value: lambda_l2=8.736078494669549\n",
      "[LightGBM] [Warning] bagging_freq is set=1, subsample_freq=0 will be ignored. Current value: bagging_freq=1\n"
     ]
    },
    {
     "name": "stderr",
     "output_type": "stream",
     "text": [
      "[I 2023-10-30 19:23:37,294] Trial 17 finished with value: 3045715.328025198 and parameters: {'n_estimators': 1196, 'lambda_l2': 8.736078494669549, 'bagging_fraction': 0.47997991391488937, 'num_leaves': 398, 'feature_fraction': 0.953646135767505, 'max_depth': 22, 'learning_rate': 0.01764255625772257, 'subsample': 0.16127975874808448, 'colsample_bytree': 0.45540421312019996, 'min_data_in_leaf': 33}. Best is trial 1 with value: 2987602.7076837807.\n",
      "'verbose' argument is deprecated and will be removed in a future release of LightGBM. Pass 'log_evaluation()' callback via 'callbacks' argument instead.\n"
     ]
    },
    {
     "name": "stdout",
     "output_type": "stream",
     "text": [
      "[LightGBM] [Warning] feature_fraction is set=0.8699525490750235, colsample_bytree=0.6507692899781923 will be ignored. Current value: feature_fraction=0.8699525490750235\n",
      "[LightGBM] [Warning] min_data_in_leaf is set=66, min_child_samples=20 will be ignored. Current value: min_data_in_leaf=66\n",
      "[LightGBM] [Warning] bagging_fraction is set=0.6209510968037378, subsample=0.34485970393182436 will be ignored. Current value: bagging_fraction=0.6209510968037378\n",
      "[LightGBM] [Warning] lambda_l2 is set=6.62043247308433, reg_lambda=0.0 will be ignored. Current value: lambda_l2=6.62043247308433\n",
      "[LightGBM] [Warning] bagging_freq is set=1, subsample_freq=0 will be ignored. Current value: bagging_freq=1\n"
     ]
    },
    {
     "name": "stderr",
     "output_type": "stream",
     "text": [
      "[I 2023-10-30 19:23:43,400] Trial 18 finished with value: 3030830.1756018186 and parameters: {'n_estimators': 929, 'lambda_l2': 6.62043247308433, 'bagging_fraction': 0.6209510968037378, 'num_leaves': 839, 'feature_fraction': 0.8699525490750235, 'max_depth': 11, 'learning_rate': 0.04093641151761849, 'subsample': 0.34485970393182436, 'colsample_bytree': 0.6507692899781923, 'min_data_in_leaf': 66}. Best is trial 1 with value: 2987602.7076837807.\n",
      "'verbose' argument is deprecated and will be removed in a future release of LightGBM. Pass 'log_evaluation()' callback via 'callbacks' argument instead.\n"
     ]
    },
    {
     "name": "stdout",
     "output_type": "stream",
     "text": [
      "[LightGBM] [Warning] feature_fraction is set=0.8980464224948862, colsample_bytree=0.4505784814834498 will be ignored. Current value: feature_fraction=0.8980464224948862\n",
      "[LightGBM] [Warning] min_data_in_leaf is set=68, min_child_samples=20 will be ignored. Current value: min_data_in_leaf=68\n",
      "[LightGBM] [Warning] bagging_fraction is set=0.6358406583168691, subsample=0.9869062048541509 will be ignored. Current value: bagging_fraction=0.6358406583168691\n",
      "[LightGBM] [Warning] lambda_l2 is set=6.352321574857264, reg_lambda=0.0 will be ignored. Current value: lambda_l2=6.352321574857264\n",
      "[LightGBM] [Warning] bagging_freq is set=1, subsample_freq=0 will be ignored. Current value: bagging_freq=1\n"
     ]
    },
    {
     "name": "stderr",
     "output_type": "stream",
     "text": [
      "[I 2023-10-30 19:23:50,791] Trial 19 finished with value: 3066982.593307015 and parameters: {'n_estimators': 915, 'lambda_l2': 6.352321574857264, 'bagging_fraction': 0.6358406583168691, 'num_leaves': 875, 'feature_fraction': 0.8980464224948862, 'max_depth': 13, 'learning_rate': 0.04191737392976664, 'subsample': 0.9869062048541509, 'colsample_bytree': 0.4505784814834498, 'min_data_in_leaf': 68}. Best is trial 1 with value: 2987602.7076837807.\n",
      "'verbose' argument is deprecated and will be removed in a future release of LightGBM. Pass 'log_evaluation()' callback via 'callbacks' argument instead.\n"
     ]
    },
    {
     "name": "stdout",
     "output_type": "stream",
     "text": [
      "[LightGBM] [Warning] feature_fraction is set=0.8591972183801202, colsample_bytree=0.5717783393514669 will be ignored. Current value: feature_fraction=0.8591972183801202\n",
      "[LightGBM] [Warning] min_data_in_leaf is set=71, min_child_samples=20 will be ignored. Current value: min_data_in_leaf=71\n",
      "[LightGBM] [Warning] bagging_fraction is set=0.6863653561385352, subsample=0.4592620980561619 will be ignored. Current value: bagging_fraction=0.6863653561385352\n",
      "[LightGBM] [Warning] lambda_l2 is set=4.600625135016115, reg_lambda=0.0 will be ignored. Current value: lambda_l2=4.600625135016115\n",
      "[LightGBM] [Warning] bagging_freq is set=1, subsample_freq=0 will be ignored. Current value: bagging_freq=1\n"
     ]
    },
    {
     "name": "stderr",
     "output_type": "stream",
     "text": [
      "[I 2023-10-30 19:23:56,333] Trial 20 finished with value: 3145830.592302546 and parameters: {'n_estimators': 878, 'lambda_l2': 4.600625135016115, 'bagging_fraction': 0.6863653561385352, 'num_leaves': 41, 'feature_fraction': 0.8591972183801202, 'max_depth': 11, 'learning_rate': 0.08361783802391672, 'subsample': 0.4592620980561619, 'colsample_bytree': 0.5717783393514669, 'min_data_in_leaf': 71}. Best is trial 1 with value: 2987602.7076837807.\n",
      "'verbose' argument is deprecated and will be removed in a future release of LightGBM. Pass 'log_evaluation()' callback via 'callbacks' argument instead.\n"
     ]
    },
    {
     "name": "stdout",
     "output_type": "stream",
     "text": [
      "[LightGBM] [Warning] feature_fraction is set=0.9541286975031399, colsample_bytree=0.6991777694154566 will be ignored. Current value: feature_fraction=0.9541286975031399\n",
      "[LightGBM] [Warning] min_data_in_leaf is set=17, min_child_samples=20 will be ignored. Current value: min_data_in_leaf=17\n",
      "[LightGBM] [Warning] bagging_fraction is set=0.5044978627523873, subsample=0.32954897331117544 will be ignored. Current value: bagging_fraction=0.5044978627523873\n",
      "[LightGBM] [Warning] lambda_l2 is set=9.027201503619342, reg_lambda=0.0 will be ignored. Current value: lambda_l2=9.027201503619342\n",
      "[LightGBM] [Warning] bagging_freq is set=1, subsample_freq=0 will be ignored. Current value: bagging_freq=1\n"
     ]
    },
    {
     "name": "stderr",
     "output_type": "stream",
     "text": [
      "[I 2023-10-30 19:24:03,230] Trial 21 finished with value: 3077878.7481260365 and parameters: {'n_estimators': 951, 'lambda_l2': 9.027201503619342, 'bagging_fraction': 0.5044978627523873, 'num_leaves': 736, 'feature_fraction': 0.9541286975031399, 'max_depth': 8, 'learning_rate': 0.04425930367585742, 'subsample': 0.32954897331117544, 'colsample_bytree': 0.6991777694154566, 'min_data_in_leaf': 17}. Best is trial 1 with value: 2987602.7076837807.\n",
      "'verbose' argument is deprecated and will be removed in a future release of LightGBM. Pass 'log_evaluation()' callback via 'callbacks' argument instead.\n"
     ]
    },
    {
     "name": "stdout",
     "output_type": "stream",
     "text": [
      "[LightGBM] [Warning] feature_fraction is set=0.9514314865086141, colsample_bytree=0.7520666832566602 will be ignored. Current value: feature_fraction=0.9514314865086141\n",
      "[LightGBM] [Warning] min_data_in_leaf is set=51, min_child_samples=20 will be ignored. Current value: min_data_in_leaf=51\n",
      "[LightGBM] [Warning] bagging_fraction is set=0.381218906632498, subsample=0.3037269500811348 will be ignored. Current value: bagging_fraction=0.381218906632498\n",
      "[LightGBM] [Warning] lambda_l2 is set=8.087605668800048, reg_lambda=0.0 will be ignored. Current value: lambda_l2=8.087605668800048\n",
      "[LightGBM] [Warning] bagging_freq is set=1, subsample_freq=0 will be ignored. Current value: bagging_freq=1\n"
     ]
    },
    {
     "name": "stderr",
     "output_type": "stream",
     "text": [
      "[I 2023-10-30 19:24:11,403] Trial 22 finished with value: 3072275.6377855926 and parameters: {'n_estimators': 808, 'lambda_l2': 8.087605668800048, 'bagging_fraction': 0.381218906632498, 'num_leaves': 642, 'feature_fraction': 0.9514314865086141, 'max_depth': 16, 'learning_rate': 0.01822586746934769, 'subsample': 0.3037269500811348, 'colsample_bytree': 0.7520666832566602, 'min_data_in_leaf': 51}. Best is trial 1 with value: 2987602.7076837807.\n",
      "'verbose' argument is deprecated and will be removed in a future release of LightGBM. Pass 'log_evaluation()' callback via 'callbacks' argument instead.\n"
     ]
    },
    {
     "name": "stdout",
     "output_type": "stream",
     "text": [
      "[LightGBM] [Warning] feature_fraction is set=0.9961014410216636, colsample_bytree=0.5985807697132399 will be ignored. Current value: feature_fraction=0.9961014410216636\n",
      "[LightGBM] [Warning] min_data_in_leaf is set=38, min_child_samples=20 will be ignored. Current value: min_data_in_leaf=38\n",
      "[LightGBM] [Warning] bagging_fraction is set=0.6015728435701444, subsample=0.21332009812046634 will be ignored. Current value: bagging_fraction=0.6015728435701444\n",
      "[LightGBM] [Warning] lambda_l2 is set=9.914051397586993, reg_lambda=0.0 will be ignored. Current value: lambda_l2=9.914051397586993\n",
      "[LightGBM] [Warning] bagging_freq is set=1, subsample_freq=0 will be ignored. Current value: bagging_freq=1\n"
     ]
    },
    {
     "name": "stderr",
     "output_type": "stream",
     "text": [
      "[I 2023-10-30 19:24:12,938] Trial 23 finished with value: 3254967.4059258453 and parameters: {'n_estimators': 947, 'lambda_l2': 9.914051397586993, 'bagging_fraction': 0.6015728435701444, 'num_leaves': 804, 'feature_fraction': 0.9961014410216636, 'max_depth': 1, 'learning_rate': 0.044591348311997674, 'subsample': 0.21332009812046634, 'colsample_bytree': 0.5985807697132399, 'min_data_in_leaf': 38}. Best is trial 1 with value: 2987602.7076837807.\n",
      "'verbose' argument is deprecated and will be removed in a future release of LightGBM. Pass 'log_evaluation()' callback via 'callbacks' argument instead.\n"
     ]
    },
    {
     "name": "stdout",
     "output_type": "stream",
     "text": [
      "[LightGBM] [Warning] feature_fraction is set=0.9134786332639073, colsample_bytree=0.7424497949572824 will be ignored. Current value: feature_fraction=0.9134786332639073\n",
      "[LightGBM] [Warning] min_data_in_leaf is set=89, min_child_samples=20 will be ignored. Current value: min_data_in_leaf=89\n",
      "[LightGBM] [Warning] bagging_fraction is set=0.45631252936349453, subsample=0.37194395107323897 will be ignored. Current value: bagging_fraction=0.45631252936349453\n",
      "[LightGBM] [Warning] lambda_l2 is set=7.286579397834107, reg_lambda=0.0 will be ignored. Current value: lambda_l2=7.286579397834107\n",
      "[LightGBM] [Warning] bagging_freq is set=1, subsample_freq=0 will be ignored. Current value: bagging_freq=1\n"
     ]
    },
    {
     "name": "stderr",
     "output_type": "stream",
     "text": [
      "[I 2023-10-30 19:24:23,012] Trial 24 finished with value: 3220705.6009654994 and parameters: {'n_estimators': 1008, 'lambda_l2': 7.286579397834107, 'bagging_fraction': 0.45631252936349453, 'num_leaves': 909, 'feature_fraction': 0.9134786332639073, 'max_depth': 37, 'learning_rate': 0.0917447931674818, 'subsample': 0.37194395107323897, 'colsample_bytree': 0.7424497949572824, 'min_data_in_leaf': 89}. Best is trial 1 with value: 2987602.7076837807.\n",
      "'verbose' argument is deprecated and will be removed in a future release of LightGBM. Pass 'log_evaluation()' callback via 'callbacks' argument instead.\n"
     ]
    },
    {
     "name": "stdout",
     "output_type": "stream",
     "text": [
      "[LightGBM] [Warning] feature_fraction is set=0.9573348781604104, colsample_bytree=0.6254291874718537 will be ignored. Current value: feature_fraction=0.9573348781604104\n",
      "[LightGBM] [Warning] min_data_in_leaf is set=65, min_child_samples=20 will be ignored. Current value: min_data_in_leaf=65\n",
      "[LightGBM] [Warning] bagging_fraction is set=0.5553721911954868, subsample=0.45788444092379343 will be ignored. Current value: bagging_fraction=0.5553721911954868\n",
      "[LightGBM] [Warning] lambda_l2 is set=8.493127109173248, reg_lambda=0.0 will be ignored. Current value: lambda_l2=8.493127109173248\n",
      "[LightGBM] [Warning] bagging_freq is set=1, subsample_freq=0 will be ignored. Current value: bagging_freq=1\n"
     ]
    },
    {
     "name": "stderr",
     "output_type": "stream",
     "text": [
      "[I 2023-10-30 19:24:35,939] Trial 25 finished with value: 3082743.875849012 and parameters: {'n_estimators': 881, 'lambda_l2': 8.493127109173248, 'bagging_fraction': 0.5553721911954868, 'num_leaves': 551, 'feature_fraction': 0.9573348781604104, 'max_depth': 25, 'learning_rate': 0.02323973033203358, 'subsample': 0.45788444092379343, 'colsample_bytree': 0.6254291874718537, 'min_data_in_leaf': 65}. Best is trial 1 with value: 2987602.7076837807.\n",
      "'verbose' argument is deprecated and will be removed in a future release of LightGBM. Pass 'log_evaluation()' callback via 'callbacks' argument instead.\n"
     ]
    },
    {
     "name": "stdout",
     "output_type": "stream",
     "text": [
      "[LightGBM] [Warning] feature_fraction is set=0.8566525476928637, colsample_bytree=0.5149509571980377 will be ignored. Current value: feature_fraction=0.8566525476928637\n",
      "[LightGBM] [Warning] min_data_in_leaf is set=54, min_child_samples=20 will be ignored. Current value: min_data_in_leaf=54\n",
      "[LightGBM] [Warning] bagging_fraction is set=0.3517141027209685, subsample=0.31804306711471886 will be ignored. Current value: bagging_fraction=0.3517141027209685\n",
      "[LightGBM] [Warning] lambda_l2 is set=9.284486856673947, reg_lambda=0.0 will be ignored. Current value: lambda_l2=9.284486856673947\n",
      "[LightGBM] [Warning] bagging_freq is set=1, subsample_freq=0 will be ignored. Current value: bagging_freq=1\n"
     ]
    },
    {
     "name": "stderr",
     "output_type": "stream",
     "text": [
      "[I 2023-10-30 19:24:45,524] Trial 26 finished with value: 3104577.402425708 and parameters: {'n_estimators': 845, 'lambda_l2': 9.284486856673947, 'bagging_fraction': 0.3517141027209685, 'num_leaves': 851, 'feature_fraction': 0.8566525476928637, 'max_depth': 43, 'learning_rate': 0.035754398183849775, 'subsample': 0.31804306711471886, 'colsample_bytree': 0.5149509571980377, 'min_data_in_leaf': 54}. Best is trial 1 with value: 2987602.7076837807.\n",
      "'verbose' argument is deprecated and will be removed in a future release of LightGBM. Pass 'log_evaluation()' callback via 'callbacks' argument instead.\n"
     ]
    },
    {
     "name": "stdout",
     "output_type": "stream",
     "text": [
      "[LightGBM] [Warning] feature_fraction is set=0.9056147668225324, colsample_bytree=0.8100235147736161 will be ignored. Current value: feature_fraction=0.9056147668225324\n",
      "[LightGBM] [Warning] min_data_in_leaf is set=31, min_child_samples=20 will be ignored. Current value: min_data_in_leaf=31\n",
      "[LightGBM] [Warning] bagging_fraction is set=0.43024349209927704, subsample=0.23388449257482039 will be ignored. Current value: bagging_fraction=0.43024349209927704\n",
      "[LightGBM] [Warning] lambda_l2 is set=8.078900782792193, reg_lambda=0.0 will be ignored. Current value: lambda_l2=8.078900782792193\n",
      "[LightGBM] [Warning] bagging_freq is set=1, subsample_freq=0 will be ignored. Current value: bagging_freq=1\n"
     ]
    },
    {
     "name": "stderr",
     "output_type": "stream",
     "text": [
      "[I 2023-10-30 19:24:48,750] Trial 27 finished with value: 2993098.0681120176 and parameters: {'n_estimators': 1164, 'lambda_l2': 8.078900782792193, 'bagging_fraction': 0.43024349209927704, 'num_leaves': 972, 'feature_fraction': 0.9056147668225324, 'max_depth': 5, 'learning_rate': 0.05468929386881457, 'subsample': 0.23388449257482039, 'colsample_bytree': 0.8100235147736161, 'min_data_in_leaf': 31}. Best is trial 1 with value: 2987602.7076837807.\n",
      "'verbose' argument is deprecated and will be removed in a future release of LightGBM. Pass 'log_evaluation()' callback via 'callbacks' argument instead.\n"
     ]
    },
    {
     "name": "stdout",
     "output_type": "stream",
     "text": [
      "[LightGBM] [Warning] feature_fraction is set=0.8920180270416964, colsample_bytree=0.8512774349382044 will be ignored. Current value: feature_fraction=0.8920180270416964\n",
      "[LightGBM] [Warning] min_data_in_leaf is set=77, min_child_samples=20 will be ignored. Current value: min_data_in_leaf=77\n",
      "[LightGBM] [Warning] bagging_fraction is set=0.2827945958731103, subsample=0.1408294894403947 will be ignored. Current value: bagging_fraction=0.2827945958731103\n",
      "[LightGBM] [Warning] lambda_l2 is set=6.754629522087571, reg_lambda=0.0 will be ignored. Current value: lambda_l2=6.754629522087571\n",
      "[LightGBM] [Warning] bagging_freq is set=1, subsample_freq=0 will be ignored. Current value: bagging_freq=1\n"
     ]
    },
    {
     "name": "stderr",
     "output_type": "stream",
     "text": [
      "[I 2023-10-30 19:24:51,233] Trial 28 finished with value: 3057732.9805596257 and parameters: {'n_estimators': 1168, 'lambda_l2': 6.754629522087571, 'bagging_fraction': 0.2827945958731103, 'num_leaves': 949, 'feature_fraction': 0.8920180270416964, 'max_depth': 5, 'learning_rate': 0.05900685700464942, 'subsample': 0.1408294894403947, 'colsample_bytree': 0.8512774349382044, 'min_data_in_leaf': 77}. Best is trial 1 with value: 2987602.7076837807.\n",
      "'verbose' argument is deprecated and will be removed in a future release of LightGBM. Pass 'log_evaluation()' callback via 'callbacks' argument instead.\n"
     ]
    },
    {
     "name": "stdout",
     "output_type": "stream",
     "text": [
      "[LightGBM] [Warning] feature_fraction is set=0.9339490771952601, colsample_bytree=0.691113788532717 will be ignored. Current value: feature_fraction=0.9339490771952601\n",
      "[LightGBM] [Warning] min_data_in_leaf is set=16, min_child_samples=20 will be ignored. Current value: min_data_in_leaf=16\n",
      "[LightGBM] [Warning] bagging_fraction is set=0.5222347952277747, subsample=0.225296380303045 will be ignored. Current value: bagging_fraction=0.5222347952277747\n",
      "[LightGBM] [Warning] lambda_l2 is set=5.747095491375119, reg_lambda=0.0 will be ignored. Current value: lambda_l2=5.747095491375119\n",
      "[LightGBM] [Warning] bagging_freq is set=1, subsample_freq=0 will be ignored. Current value: bagging_freq=1\n"
     ]
    },
    {
     "name": "stderr",
     "output_type": "stream",
     "text": [
      "[I 2023-10-30 19:25:01,519] Trial 29 finished with value: 3128909.229408232 and parameters: {'n_estimators': 1148, 'lambda_l2': 5.747095491375119, 'bagging_fraction': 0.5222347952277747, 'num_leaves': 1022, 'feature_fraction': 0.9339490771952601, 'max_depth': 9, 'learning_rate': 0.0388099629500393, 'subsample': 0.225296380303045, 'colsample_bytree': 0.691113788532717, 'min_data_in_leaf': 16}. Best is trial 1 with value: 2987602.7076837807.\n",
      "'verbose' argument is deprecated and will be removed in a future release of LightGBM. Pass 'log_evaluation()' callback via 'callbacks' argument instead.\n"
     ]
    },
    {
     "name": "stdout",
     "output_type": "stream",
     "text": [
      "[LightGBM] [Warning] feature_fraction is set=0.8110007878241166, colsample_bytree=0.6238430147912397 will be ignored. Current value: feature_fraction=0.8110007878241166\n",
      "[LightGBM] [Warning] min_data_in_leaf is set=46, min_child_samples=20 will be ignored. Current value: min_data_in_leaf=46\n",
      "[LightGBM] [Warning] bagging_fraction is set=0.44623342955340456, subsample=0.11849607862730012 will be ignored. Current value: bagging_fraction=0.44623342955340456\n",
      "[LightGBM] [Warning] lambda_l2 is set=7.565741596942955, reg_lambda=0.0 will be ignored. Current value: lambda_l2=7.565741596942955\n",
      "[LightGBM] [Warning] bagging_freq is set=1, subsample_freq=0 will be ignored. Current value: bagging_freq=1\n"
     ]
    },
    {
     "name": "stderr",
     "output_type": "stream",
     "text": [
      "[I 2023-10-30 19:25:12,169] Trial 30 finished with value: 3173766.981134803 and parameters: {'n_estimators': 942, 'lambda_l2': 7.565741596942955, 'bagging_fraction': 0.44623342955340456, 'num_leaves': 768, 'feature_fraction': 0.8110007878241166, 'max_depth': 17, 'learning_rate': 0.07543992909865435, 'subsample': 0.11849607862730012, 'colsample_bytree': 0.6238430147912397, 'min_data_in_leaf': 46}. Best is trial 1 with value: 2987602.7076837807.\n",
      "'verbose' argument is deprecated and will be removed in a future release of LightGBM. Pass 'log_evaluation()' callback via 'callbacks' argument instead.\n"
     ]
    },
    {
     "name": "stdout",
     "output_type": "stream",
     "text": [
      "[LightGBM] [Warning] feature_fraction is set=0.9714979714257107, colsample_bytree=0.7966609470723868 will be ignored. Current value: feature_fraction=0.9714979714257107\n",
      "[LightGBM] [Warning] min_data_in_leaf is set=29, min_child_samples=20 will be ignored. Current value: min_data_in_leaf=29\n",
      "[LightGBM] [Warning] bagging_fraction is set=0.4414771717495832, subsample=0.23529262919488036 will be ignored. Current value: bagging_fraction=0.4414771717495832\n",
      "[LightGBM] [Warning] lambda_l2 is set=8.020365754591227, reg_lambda=0.0 will be ignored. Current value: lambda_l2=8.020365754591227\n",
      "[LightGBM] [Warning] bagging_freq is set=1, subsample_freq=0 will be ignored. Current value: bagging_freq=1\n"
     ]
    },
    {
     "name": "stderr",
     "output_type": "stream",
     "text": [
      "[I 2023-10-30 19:25:14,868] Trial 31 finished with value: 2977351.147414334 and parameters: {'n_estimators': 1108, 'lambda_l2': 8.020365754591227, 'bagging_fraction': 0.4414771717495832, 'num_leaves': 683, 'feature_fraction': 0.9714979714257107, 'max_depth': 4, 'learning_rate': 0.052768278177209534, 'subsample': 0.23529262919488036, 'colsample_bytree': 0.7966609470723868, 'min_data_in_leaf': 29}. Best is trial 31 with value: 2977351.147414334.\n",
      "'verbose' argument is deprecated and will be removed in a future release of LightGBM. Pass 'log_evaluation()' callback via 'callbacks' argument instead.\n"
     ]
    },
    {
     "name": "stdout",
     "output_type": "stream",
     "text": [
      "[LightGBM] [Warning] feature_fraction is set=0.942866769023929, colsample_bytree=0.8919732243661038 will be ignored. Current value: feature_fraction=0.942866769023929\n",
      "[LightGBM] [Warning] min_data_in_leaf is set=28, min_child_samples=20 will be ignored. Current value: min_data_in_leaf=28\n",
      "[LightGBM] [Warning] bagging_fraction is set=0.5805826542701102, subsample=0.22873701811195507 will be ignored. Current value: bagging_fraction=0.5805826542701102\n",
      "[LightGBM] [Warning] lambda_l2 is set=7.818031646930466, reg_lambda=0.0 will be ignored. Current value: lambda_l2=7.818031646930466\n",
      "[LightGBM] [Warning] bagging_freq is set=1, subsample_freq=0 will be ignored. Current value: bagging_freq=1\n"
     ]
    },
    {
     "name": "stderr",
     "output_type": "stream",
     "text": [
      "[I 2023-10-30 19:25:16,844] Trial 32 finished with value: 2983878.73299396 and parameters: {'n_estimators': 1112, 'lambda_l2': 7.818031646930466, 'bagging_fraction': 0.5805826542701102, 'num_leaves': 939, 'feature_fraction': 0.942866769023929, 'max_depth': 2, 'learning_rate': 0.053908245268466916, 'subsample': 0.22873701811195507, 'colsample_bytree': 0.8919732243661038, 'min_data_in_leaf': 28}. Best is trial 31 with value: 2977351.147414334.\n",
      "'verbose' argument is deprecated and will be removed in a future release of LightGBM. Pass 'log_evaluation()' callback via 'callbacks' argument instead.\n"
     ]
    },
    {
     "name": "stdout",
     "output_type": "stream",
     "text": [
      "[LightGBM] [Warning] feature_fraction is set=0.934302679985381, colsample_bytree=0.8888744547110337 will be ignored. Current value: feature_fraction=0.934302679985381\n",
      "[LightGBM] [Warning] min_data_in_leaf is set=28, min_child_samples=20 will be ignored. Current value: min_data_in_leaf=28\n",
      "[LightGBM] [Warning] bagging_fraction is set=0.4713330274344705, subsample=0.24515482919825088 will be ignored. Current value: bagging_fraction=0.4713330274344705\n",
      "[LightGBM] [Warning] lambda_l2 is set=7.7630309719101245, reg_lambda=0.0 will be ignored. Current value: lambda_l2=7.7630309719101245\n",
      "[LightGBM] [Warning] bagging_freq is set=1, subsample_freq=0 will be ignored. Current value: bagging_freq=1\n"
     ]
    },
    {
     "name": "stderr",
     "output_type": "stream",
     "text": [
      "[I 2023-10-30 19:25:19,011] Trial 33 finished with value: 2993876.043191366 and parameters: {'n_estimators': 1110, 'lambda_l2': 7.7630309719101245, 'bagging_fraction': 0.4713330274344705, 'num_leaves': 939, 'feature_fraction': 0.934302679985381, 'max_depth': 3, 'learning_rate': 0.05417280238563805, 'subsample': 0.24515482919825088, 'colsample_bytree': 0.8888744547110337, 'min_data_in_leaf': 28}. Best is trial 31 with value: 2977351.147414334.\n",
      "'verbose' argument is deprecated and will be removed in a future release of LightGBM. Pass 'log_evaluation()' callback via 'callbacks' argument instead.\n"
     ]
    },
    {
     "name": "stdout",
     "output_type": "stream",
     "text": [
      "[LightGBM] [Warning] feature_fraction is set=0.9693174320935533, colsample_bytree=0.9462441211897236 will be ignored. Current value: feature_fraction=0.9693174320935533\n",
      "[LightGBM] [Warning] min_data_in_leaf is set=40, min_child_samples=20 will be ignored. Current value: min_data_in_leaf=40\n",
      "[LightGBM] [Warning] bagging_fraction is set=0.37073928879811946, subsample=0.21440320911282287 will be ignored. Current value: bagging_fraction=0.37073928879811946\n",
      "[LightGBM] [Warning] lambda_l2 is set=8.027149879063606, reg_lambda=0.0 will be ignored. Current value: lambda_l2=8.027149879063606\n",
      "[LightGBM] [Warning] bagging_freq is set=1, subsample_freq=0 will be ignored. Current value: bagging_freq=1\n"
     ]
    },
    {
     "name": "stderr",
     "output_type": "stream",
     "text": [
      "[I 2023-10-30 19:25:21,917] Trial 34 finished with value: 2982839.7555569983 and parameters: {'n_estimators': 1146, 'lambda_l2': 8.027149879063606, 'bagging_fraction': 0.37073928879811946, 'num_leaves': 721, 'feature_fraction': 0.9693174320935533, 'max_depth': 5, 'learning_rate': 0.07152344282527662, 'subsample': 0.21440320911282287, 'colsample_bytree': 0.9462441211897236, 'min_data_in_leaf': 40}. Best is trial 31 with value: 2977351.147414334.\n",
      "'verbose' argument is deprecated and will be removed in a future release of LightGBM. Pass 'log_evaluation()' callback via 'callbacks' argument instead.\n"
     ]
    },
    {
     "name": "stdout",
     "output_type": "stream",
     "text": [
      "[LightGBM] [Warning] feature_fraction is set=0.9671801356623714, colsample_bytree=0.9730858564792368 will be ignored. Current value: feature_fraction=0.9671801356623714\n",
      "[LightGBM] [Warning] min_data_in_leaf is set=38, min_child_samples=20 will be ignored. Current value: min_data_in_leaf=38\n",
      "[LightGBM] [Warning] bagging_fraction is set=0.3483423012072573, subsample=0.11500743805053251 will be ignored. Current value: bagging_fraction=0.3483423012072573\n",
      "[LightGBM] [Warning] lambda_l2 is set=8.45217309771659, reg_lambda=0.0 will be ignored. Current value: lambda_l2=8.45217309771659\n",
      "[LightGBM] [Warning] bagging_freq is set=1, subsample_freq=0 will be ignored. Current value: bagging_freq=1\n"
     ]
    },
    {
     "name": "stderr",
     "output_type": "stream",
     "text": [
      "[I 2023-10-30 19:25:23,314] Trial 35 finished with value: 3257596.483770082 and parameters: {'n_estimators': 1127, 'lambda_l2': 8.45217309771659, 'bagging_fraction': 0.3483423012072573, 'num_leaves': 708, 'feature_fraction': 0.9671801356623714, 'max_depth': 1, 'learning_rate': 0.07406267616835059, 'subsample': 0.11500743805053251, 'colsample_bytree': 0.9730858564792368, 'min_data_in_leaf': 38}. Best is trial 31 with value: 2977351.147414334.\n",
      "'verbose' argument is deprecated and will be removed in a future release of LightGBM. Pass 'log_evaluation()' callback via 'callbacks' argument instead.\n"
     ]
    },
    {
     "name": "stdout",
     "output_type": "stream",
     "text": [
      "[LightGBM] [Warning] feature_fraction is set=0.9677880624365205, colsample_bytree=0.930242116986196 will be ignored. Current value: feature_fraction=0.9677880624365205\n",
      "[LightGBM] [Warning] min_data_in_leaf is set=42, min_child_samples=20 will be ignored. Current value: min_data_in_leaf=42\n",
      "[LightGBM] [Warning] bagging_fraction is set=0.24081461417640776, subsample=0.1868930918289404 will be ignored. Current value: bagging_fraction=0.24081461417640776\n",
      "[LightGBM] [Warning] lambda_l2 is set=7.018743506738367, reg_lambda=0.0 will be ignored. Current value: lambda_l2=7.018743506738367\n",
      "[LightGBM] [Warning] bagging_freq is set=1, subsample_freq=0 will be ignored. Current value: bagging_freq=1\n"
     ]
    },
    {
     "name": "stderr",
     "output_type": "stream",
     "text": [
      "[I 2023-10-30 19:25:25,764] Trial 36 finished with value: 3043407.681729153 and parameters: {'n_estimators': 1079, 'lambda_l2': 7.018743506738367, 'bagging_fraction': 0.24081461417640776, 'num_leaves': 704, 'feature_fraction': 0.9677880624365205, 'max_depth': 5, 'learning_rate': 0.07417525627937036, 'subsample': 0.1868930918289404, 'colsample_bytree': 0.930242116986196, 'min_data_in_leaf': 42}. Best is trial 31 with value: 2977351.147414334.\n",
      "'verbose' argument is deprecated and will be removed in a future release of LightGBM. Pass 'log_evaluation()' callback via 'callbacks' argument instead.\n"
     ]
    },
    {
     "name": "stdout",
     "output_type": "stream",
     "text": [
      "[LightGBM] [Warning] feature_fraction is set=0.9239030766379853, colsample_bytree=0.8797355121787827 will be ignored. Current value: feature_fraction=0.9239030766379853\n",
      "[LightGBM] [Warning] min_data_in_leaf is set=17, min_child_samples=20 will be ignored. Current value: min_data_in_leaf=17\n",
      "[LightGBM] [Warning] bagging_fraction is set=0.6760560240948018, subsample=0.3905561745873901 will be ignored. Current value: bagging_fraction=0.6760560240948018\n",
      "[LightGBM] [Warning] lambda_l2 is set=7.358419424393585, reg_lambda=0.0 will be ignored. Current value: lambda_l2=7.358419424393585\n",
      "[LightGBM] [Warning] bagging_freq is set=1, subsample_freq=0 will be ignored. Current value: bagging_freq=1\n"
     ]
    },
    {
     "name": "stderr",
     "output_type": "stream",
     "text": [
      "[I 2023-10-30 19:25:36,881] Trial 37 finished with value: 3212858.3778208457 and parameters: {'n_estimators': 1084, 'lambda_l2': 7.358419424393585, 'bagging_fraction': 0.6760560240948018, 'num_leaves': 593, 'feature_fraction': 0.9239030766379853, 'max_depth': 8, 'learning_rate': 0.08442409850965982, 'subsample': 0.3905561745873901, 'colsample_bytree': 0.8797355121787827, 'min_data_in_leaf': 17}. Best is trial 31 with value: 2977351.147414334.\n",
      "'verbose' argument is deprecated and will be removed in a future release of LightGBM. Pass 'log_evaluation()' callback via 'callbacks' argument instead.\n"
     ]
    },
    {
     "name": "stdout",
     "output_type": "stream",
     "text": [
      "[LightGBM] [Warning] feature_fraction is set=0.9754188783758305, colsample_bytree=0.929834363038827 will be ignored. Current value: feature_fraction=0.9754188783758305\n",
      "[LightGBM] [Warning] min_data_in_leaf is set=21, min_child_samples=20 will be ignored. Current value: min_data_in_leaf=21\n",
      "[LightGBM] [Warning] bagging_fraction is set=0.5553129001183463, subsample=0.2723766684972539 will be ignored. Current value: bagging_fraction=0.5553129001183463\n",
      "[LightGBM] [Warning] lambda_l2 is set=8.844895761072246, reg_lambda=0.0 will be ignored. Current value: lambda_l2=8.844895761072246\n",
      "[LightGBM] [Warning] bagging_freq is set=1, subsample_freq=0 will be ignored. Current value: bagging_freq=1\n"
     ]
    },
    {
     "name": "stderr",
     "output_type": "stream",
     "text": [
      "[I 2023-10-30 19:25:40,374] Trial 38 finished with value: 3050018.167134916 and parameters: {'n_estimators': 1136, 'lambda_l2': 8.844895761072246, 'bagging_fraction': 0.5553129001183463, 'num_leaves': 782, 'feature_fraction': 0.9754188783758305, 'max_depth': 4, 'learning_rate': 0.06158866031610296, 'subsample': 0.2723766684972539, 'colsample_bytree': 0.929834363038827, 'min_data_in_leaf': 21}. Best is trial 31 with value: 2977351.147414334.\n",
      "'verbose' argument is deprecated and will be removed in a future release of LightGBM. Pass 'log_evaluation()' callback via 'callbacks' argument instead.\n"
     ]
    },
    {
     "name": "stdout",
     "output_type": "stream",
     "text": [
      "[LightGBM] [Warning] feature_fraction is set=0.9374193151802104, colsample_bytree=0.8512322389946064 will be ignored. Current value: feature_fraction=0.9374193151802104\n",
      "[LightGBM] [Warning] min_data_in_leaf is set=25, min_child_samples=20 will be ignored. Current value: min_data_in_leaf=25\n",
      "[LightGBM] [Warning] bagging_fraction is set=0.7114379878614631, subsample=0.18633394661663877 will be ignored. Current value: bagging_fraction=0.7114379878614631\n",
      "[LightGBM] [Warning] lambda_l2 is set=7.897245687835636, reg_lambda=0.0 will be ignored. Current value: lambda_l2=7.897245687835636\n",
      "[LightGBM] [Warning] bagging_freq is set=1, subsample_freq=0 will be ignored. Current value: bagging_freq=1\n"
     ]
    },
    {
     "name": "stderr",
     "output_type": "stream",
     "text": [
      "[I 2023-10-30 19:25:53,606] Trial 39 finished with value: 3253316.733225667 and parameters: {'n_estimators': 1050, 'lambda_l2': 7.897245687835636, 'bagging_fraction': 0.7114379878614631, 'num_leaves': 658, 'feature_fraction': 0.9374193151802104, 'max_depth': 10, 'learning_rate': 0.09383959871269079, 'subsample': 0.18633394661663877, 'colsample_bytree': 0.8512322389946064, 'min_data_in_leaf': 25}. Best is trial 31 with value: 2977351.147414334.\n",
      "'verbose' argument is deprecated and will be removed in a future release of LightGBM. Pass 'log_evaluation()' callback via 'callbacks' argument instead.\n"
     ]
    },
    {
     "name": "stdout",
     "output_type": "stream",
     "text": [
      "[LightGBM] [Warning] feature_fraction is set=0.9769857436567465, colsample_bytree=0.9997607103814378 will be ignored. Current value: feature_fraction=0.9769857436567465\n",
      "[LightGBM] [Warning] min_data_in_leaf is set=38, min_child_samples=20 will be ignored. Current value: min_data_in_leaf=38\n",
      "[LightGBM] [Warning] bagging_fraction is set=0.3715684850072688, subsample=0.10318694345041923 will be ignored. Current value: bagging_fraction=0.3715684850072688\n",
      "[LightGBM] [Warning] lambda_l2 is set=9.543810047337773, reg_lambda=0.0 will be ignored. Current value: lambda_l2=9.543810047337773\n",
      "[LightGBM] [Warning] bagging_freq is set=1, subsample_freq=0 will be ignored. Current value: bagging_freq=1\n"
     ]
    },
    {
     "name": "stderr",
     "output_type": "stream",
     "text": [
      "[I 2023-10-30 19:25:55,003] Trial 40 finished with value: 3251067.847797679 and parameters: {'n_estimators': 1109, 'lambda_l2': 9.543810047337773, 'bagging_fraction': 0.3715684850072688, 'num_leaves': 364, 'feature_fraction': 0.9769857436567465, 'max_depth': 1, 'learning_rate': 0.04983998634822377, 'subsample': 0.10318694345041923, 'colsample_bytree': 0.9997607103814378, 'min_data_in_leaf': 38}. Best is trial 31 with value: 2977351.147414334.\n",
      "'verbose' argument is deprecated and will be removed in a future release of LightGBM. Pass 'log_evaluation()' callback via 'callbacks' argument instead.\n"
     ]
    },
    {
     "name": "stdout",
     "output_type": "stream",
     "text": [
      "[LightGBM] [Warning] feature_fraction is set=0.9164682216993302, colsample_bytree=0.8046824201696088 will be ignored. Current value: feature_fraction=0.9164682216993302\n",
      "[LightGBM] [Warning] min_data_in_leaf is set=29, min_child_samples=20 will be ignored. Current value: min_data_in_leaf=29\n",
      "[LightGBM] [Warning] bagging_fraction is set=0.4486151811241053, subsample=0.2305756602601977 will be ignored. Current value: bagging_fraction=0.4486151811241053\n",
      "[LightGBM] [Warning] lambda_l2 is set=7.956281861756653, reg_lambda=0.0 will be ignored. Current value: lambda_l2=7.956281861756653\n",
      "[LightGBM] [Warning] bagging_freq is set=1, subsample_freq=0 will be ignored. Current value: bagging_freq=1\n"
     ]
    },
    {
     "name": "stderr",
     "output_type": "stream",
     "text": [
      "[I 2023-10-30 19:25:59,203] Trial 41 finished with value: 3041515.283085139 and parameters: {'n_estimators': 1166, 'lambda_l2': 7.956281861756653, 'bagging_fraction': 0.4486151811241053, 'num_leaves': 895, 'feature_fraction': 0.9164682216993302, 'max_depth': 6, 'learning_rate': 0.05831149458580114, 'subsample': 0.2305756602601977, 'colsample_bytree': 0.8046824201696088, 'min_data_in_leaf': 29}. Best is trial 31 with value: 2977351.147414334.\n",
      "'verbose' argument is deprecated and will be removed in a future release of LightGBM. Pass 'log_evaluation()' callback via 'callbacks' argument instead.\n"
     ]
    },
    {
     "name": "stdout",
     "output_type": "stream",
     "text": [
      "[LightGBM] [Warning] feature_fraction is set=0.9987471945858428, colsample_bytree=0.826234222936466 will be ignored. Current value: feature_fraction=0.9987471945858428\n",
      "[LightGBM] [Warning] min_data_in_leaf is set=33, min_child_samples=20 will be ignored. Current value: min_data_in_leaf=33\n",
      "[LightGBM] [Warning] bagging_fraction is set=0.3922397649092574, subsample=0.16102492345856986 will be ignored. Current value: bagging_fraction=0.3922397649092574\n",
      "[LightGBM] [Warning] lambda_l2 is set=8.27413529707786, reg_lambda=0.0 will be ignored. Current value: lambda_l2=8.27413529707786\n",
      "[LightGBM] [Warning] bagging_freq is set=1, subsample_freq=0 will be ignored. Current value: bagging_freq=1\n"
     ]
    },
    {
     "name": "stderr",
     "output_type": "stream",
     "text": [
      "[I 2023-10-30 19:26:01,846] Trial 42 finished with value: 2989326.35102693 and parameters: {'n_estimators': 1158, 'lambda_l2': 8.27413529707786, 'bagging_fraction': 0.3922397649092574, 'num_leaves': 974, 'feature_fraction': 0.9987471945858428, 'max_depth': 4, 'learning_rate': 0.06811874658097801, 'subsample': 0.16102492345856986, 'colsample_bytree': 0.826234222936466, 'min_data_in_leaf': 33}. Best is trial 31 with value: 2977351.147414334.\n",
      "'verbose' argument is deprecated and will be removed in a future release of LightGBM. Pass 'log_evaluation()' callback via 'callbacks' argument instead.\n"
     ]
    },
    {
     "name": "stdout",
     "output_type": "stream",
     "text": [
      "[LightGBM] [Warning] feature_fraction is set=0.984185589679098, colsample_bytree=0.9424496993656867 will be ignored. Current value: feature_fraction=0.984185589679098\n",
      "[LightGBM] [Warning] min_data_in_leaf is set=46, min_child_samples=20 will be ignored. Current value: min_data_in_leaf=46\n",
      "[LightGBM] [Warning] bagging_fraction is set=0.5225473351308251, subsample=0.1593165917781223 will be ignored. Current value: bagging_fraction=0.5225473351308251\n",
      "[LightGBM] [Warning] lambda_l2 is set=8.454655183731798, reg_lambda=0.0 will be ignored. Current value: lambda_l2=8.454655183731798\n",
      "[LightGBM] [Warning] bagging_freq is set=1, subsample_freq=0 will be ignored. Current value: bagging_freq=1\n"
     ]
    },
    {
     "name": "stderr",
     "output_type": "stream",
     "text": [
      "[I 2023-10-30 19:26:04,218] Trial 43 finished with value: 2957301.0637164395 and parameters: {'n_estimators': 1144, 'lambda_l2': 8.454655183731798, 'bagging_fraction': 0.5225473351308251, 'num_leaves': 1020, 'feature_fraction': 0.984185589679098, 'max_depth': 3, 'learning_rate': 0.03422299245480657, 'subsample': 0.1593165917781223, 'colsample_bytree': 0.9424496993656867, 'min_data_in_leaf': 46}. Best is trial 43 with value: 2957301.0637164395.\n",
      "'verbose' argument is deprecated and will be removed in a future release of LightGBM. Pass 'log_evaluation()' callback via 'callbacks' argument instead.\n"
     ]
    },
    {
     "name": "stdout",
     "output_type": "stream",
     "text": [
      "[LightGBM] [Warning] feature_fraction is set=0.9783944474475619, colsample_bytree=0.9205088390643145 will be ignored. Current value: feature_fraction=0.9783944474475619\n",
      "[LightGBM] [Warning] min_data_in_leaf is set=47, min_child_samples=20 will be ignored. Current value: min_data_in_leaf=47\n",
      "[LightGBM] [Warning] bagging_fraction is set=0.5199080136008606, subsample=0.08970758436344695 will be ignored. Current value: bagging_fraction=0.5199080136008606\n",
      "[LightGBM] [Warning] lambda_l2 is set=8.917001607665792, reg_lambda=0.0 will be ignored. Current value: lambda_l2=8.917001607665792\n",
      "[LightGBM] [Warning] bagging_freq is set=1, subsample_freq=0 will be ignored. Current value: bagging_freq=1\n"
     ]
    },
    {
     "name": "stderr",
     "output_type": "stream",
     "text": [
      "[I 2023-10-30 19:26:18,769] Trial 44 finished with value: 3044358.7795154005 and parameters: {'n_estimators': 1125, 'lambda_l2': 8.917001607665792, 'bagging_fraction': 0.5199080136008606, 'num_leaves': 1022, 'feature_fraction': 0.9783944474475619, 'max_depth': 14, 'learning_rate': 0.032427986252021875, 'subsample': 0.08970758436344695, 'colsample_bytree': 0.9205088390643145, 'min_data_in_leaf': 47}. Best is trial 43 with value: 2957301.0637164395.\n",
      "'verbose' argument is deprecated and will be removed in a future release of LightGBM. Pass 'log_evaluation()' callback via 'callbacks' argument instead.\n"
     ]
    },
    {
     "name": "stdout",
     "output_type": "stream",
     "text": [
      "[LightGBM] [Warning] feature_fraction is set=0.9468185243604629, colsample_bytree=0.9685869661027242 will be ignored. Current value: feature_fraction=0.9468185243604629\n",
      "[LightGBM] [Warning] min_data_in_leaf is set=42, min_child_samples=20 will be ignored. Current value: min_data_in_leaf=42\n",
      "[LightGBM] [Warning] bagging_fraction is set=0.578043267587271, subsample=0.2807606573380648 will be ignored. Current value: bagging_fraction=0.578043267587271\n",
      "[LightGBM] [Warning] lambda_l2 is set=7.389294926795998, reg_lambda=0.0 will be ignored. Current value: lambda_l2=7.389294926795998\n",
      "[LightGBM] [Warning] bagging_freq is set=1, subsample_freq=0 will be ignored. Current value: bagging_freq=1\n"
     ]
    },
    {
     "name": "stderr",
     "output_type": "stream",
     "text": [
      "[I 2023-10-30 19:26:23,581] Trial 45 finished with value: 2952960.6177072064 and parameters: {'n_estimators': 1093, 'lambda_l2': 7.389294926795998, 'bagging_fraction': 0.578043267587271, 'num_leaves': 903, 'feature_fraction': 0.9468185243604629, 'max_depth': 7, 'learning_rate': 0.024152436863543725, 'subsample': 0.2807606573380648, 'colsample_bytree': 0.9685869661027242, 'min_data_in_leaf': 42}. Best is trial 45 with value: 2952960.6177072064.\n",
      "'verbose' argument is deprecated and will be removed in a future release of LightGBM. Pass 'log_evaluation()' callback via 'callbacks' argument instead.\n"
     ]
    },
    {
     "name": "stdout",
     "output_type": "stream",
     "text": [
      "[LightGBM] [Warning] feature_fraction is set=0.9327321071328415, colsample_bytree=0.9514879217270361 will be ignored. Current value: feature_fraction=0.9327321071328415\n",
      "[LightGBM] [Warning] min_data_in_leaf is set=51, min_child_samples=20 will be ignored. Current value: min_data_in_leaf=51\n",
      "[LightGBM] [Warning] bagging_fraction is set=0.5781277295240637, subsample=0.2702484971234942 will be ignored. Current value: bagging_fraction=0.5781277295240637\n",
      "[LightGBM] [Warning] lambda_l2 is set=7.049919005118164, reg_lambda=0.0 will be ignored. Current value: lambda_l2=7.049919005118164\n",
      "[LightGBM] [Warning] bagging_freq is set=1, subsample_freq=0 will be ignored. Current value: bagging_freq=1\n"
     ]
    },
    {
     "name": "stderr",
     "output_type": "stream",
     "text": [
      "[I 2023-10-30 19:26:27,846] Trial 46 finished with value: 2979038.6937420457 and parameters: {'n_estimators': 1081, 'lambda_l2': 7.049919005118164, 'bagging_fraction': 0.5781277295240637, 'num_leaves': 502, 'feature_fraction': 0.9327321071328415, 'max_depth': 7, 'learning_rate': 0.024622914525394394, 'subsample': 0.2702484971234942, 'colsample_bytree': 0.9514879217270361, 'min_data_in_leaf': 51}. Best is trial 45 with value: 2952960.6177072064.\n",
      "'verbose' argument is deprecated and will be removed in a future release of LightGBM. Pass 'log_evaluation()' callback via 'callbacks' argument instead.\n"
     ]
    },
    {
     "name": "stdout",
     "output_type": "stream",
     "text": [
      "[LightGBM] [Warning] feature_fraction is set=0.9267029088156988, colsample_bytree=0.959079007817435 will be ignored. Current value: feature_fraction=0.9267029088156988\n",
      "[LightGBM] [Warning] min_data_in_leaf is set=59, min_child_samples=20 will be ignored. Current value: min_data_in_leaf=59\n",
      "[LightGBM] [Warning] bagging_fraction is set=0.5266951585585466, subsample=0.3023593319567359 will be ignored. Current value: bagging_fraction=0.5266951585585466\n",
      "[LightGBM] [Warning] lambda_l2 is set=6.890894607571956, reg_lambda=0.0 will be ignored. Current value: lambda_l2=6.890894607571956\n",
      "[LightGBM] [Warning] bagging_freq is set=1, subsample_freq=0 will be ignored. Current value: bagging_freq=1\n"
     ]
    },
    {
     "name": "stderr",
     "output_type": "stream",
     "text": [
      "[I 2023-10-30 19:26:31,963] Trial 47 finished with value: 2971790.2978260084 and parameters: {'n_estimators': 1089, 'lambda_l2': 6.890894607571956, 'bagging_fraction': 0.5266951585585466, 'num_leaves': 511, 'feature_fraction': 0.9267029088156988, 'max_depth': 7, 'learning_rate': 0.0275530681366213, 'subsample': 0.3023593319567359, 'colsample_bytree': 0.959079007817435, 'min_data_in_leaf': 59}. Best is trial 45 with value: 2952960.6177072064.\n",
      "'verbose' argument is deprecated and will be removed in a future release of LightGBM. Pass 'log_evaluation()' callback via 'callbacks' argument instead.\n"
     ]
    },
    {
     "name": "stdout",
     "output_type": "stream",
     "text": [
      "[LightGBM] [Warning] feature_fraction is set=0.9242956520276048, colsample_bytree=0.9695617569026996 will be ignored. Current value: feature_fraction=0.9242956520276048\n",
      "[LightGBM] [Warning] min_data_in_leaf is set=60, min_child_samples=20 will be ignored. Current value: min_data_in_leaf=60\n",
      "[LightGBM] [Warning] bagging_fraction is set=0.6407743434274321, subsample=0.2924535733961824 will be ignored. Current value: bagging_fraction=0.6407743434274321\n",
      "[LightGBM] [Warning] lambda_l2 is set=7.0088410792581275, reg_lambda=0.0 will be ignored. Current value: lambda_l2=7.0088410792581275\n",
      "[LightGBM] [Warning] bagging_freq is set=1, subsample_freq=0 will be ignored. Current value: bagging_freq=1\n"
     ]
    },
    {
     "name": "stderr",
     "output_type": "stream",
     "text": [
      "[I 2023-10-30 19:26:45,227] Trial 48 finished with value: 3065216.81594022 and parameters: {'n_estimators': 1066, 'lambda_l2': 7.0088410792581275, 'bagging_fraction': 0.6407743434274321, 'num_leaves': 504, 'feature_fraction': 0.9242956520276048, 'max_depth': 19, 'learning_rate': 0.02462177181724547, 'subsample': 0.2924535733961824, 'colsample_bytree': 0.9695617569026996, 'min_data_in_leaf': 60}. Best is trial 45 with value: 2952960.6177072064.\n",
      "'verbose' argument is deprecated and will be removed in a future release of LightGBM. Pass 'log_evaluation()' callback via 'callbacks' argument instead.\n"
     ]
    },
    {
     "name": "stdout",
     "output_type": "stream",
     "text": [
      "[LightGBM] [Warning] feature_fraction is set=0.889790105607426, colsample_bytree=0.9972198433122792 will be ignored. Current value: feature_fraction=0.889790105607426\n",
      "[LightGBM] [Warning] min_data_in_leaf is set=53, min_child_samples=20 will be ignored. Current value: min_data_in_leaf=53\n",
      "[LightGBM] [Warning] bagging_fraction is set=0.5457858489699411, subsample=0.30996665641119436 will be ignored. Current value: bagging_fraction=0.5457858489699411\n",
      "[LightGBM] [Warning] lambda_l2 is set=5.912812371287156, reg_lambda=0.0 will be ignored. Current value: lambda_l2=5.912812371287156\n",
      "[LightGBM] [Warning] bagging_freq is set=1, subsample_freq=0 will be ignored. Current value: bagging_freq=1\n"
     ]
    },
    {
     "name": "stderr",
     "output_type": "stream",
     "text": [
      "[I 2023-10-30 19:26:55,988] Trial 49 finished with value: 3020235.996688494 and parameters: {'n_estimators': 1092, 'lambda_l2': 5.912812371287156, 'bagging_fraction': 0.5457858489699411, 'num_leaves': 322, 'feature_fraction': 0.889790105607426, 'max_depth': 15, 'learning_rate': 0.013262003662218774, 'subsample': 0.30996665641119436, 'colsample_bytree': 0.9972198433122792, 'min_data_in_leaf': 53}. Best is trial 45 with value: 2952960.6177072064.\n"
     ]
    }
   ],
   "source": [
    "study = optuna.create_study(direction='minimize')\n",
    "study.optimize(objective, n_trials=50)"
   ]
  },
  {
   "cell_type": "code",
   "execution_count": 10,
   "id": "25685beb",
   "metadata": {},
   "outputs": [
    {
     "name": "stdout",
     "output_type": "stream",
     "text": [
      "[LightGBM] [Warning] feature_fraction is set=0.9468185243604629, colsample_bytree=0.9685869661027242 will be ignored. Current value: feature_fraction=0.9468185243604629\n",
      "[LightGBM] [Warning] min_data_in_leaf is set=42, min_child_samples=20 will be ignored. Current value: min_data_in_leaf=42\n",
      "[LightGBM] [Warning] bagging_fraction is set=0.578043267587271, subsample=0.2807606573380648 will be ignored. Current value: bagging_fraction=0.578043267587271\n",
      "[LightGBM] [Warning] lambda_l2 is set=7.389294926795998, reg_lambda=0.0 will be ignored. Current value: lambda_l2=7.389294926795998\n"
     ]
    },
    {
     "data": {
      "text/html": [
       "<style>#sk-container-id-1 {color: black;}#sk-container-id-1 pre{padding: 0;}#sk-container-id-1 div.sk-toggleable {background-color: white;}#sk-container-id-1 label.sk-toggleable__label {cursor: pointer;display: block;width: 100%;margin-bottom: 0;padding: 0.3em;box-sizing: border-box;text-align: center;}#sk-container-id-1 label.sk-toggleable__label-arrow:before {content: \"▸\";float: left;margin-right: 0.25em;color: #696969;}#sk-container-id-1 label.sk-toggleable__label-arrow:hover:before {color: black;}#sk-container-id-1 div.sk-estimator:hover label.sk-toggleable__label-arrow:before {color: black;}#sk-container-id-1 div.sk-toggleable__content {max-height: 0;max-width: 0;overflow: hidden;text-align: left;background-color: #f0f8ff;}#sk-container-id-1 div.sk-toggleable__content pre {margin: 0.2em;color: black;border-radius: 0.25em;background-color: #f0f8ff;}#sk-container-id-1 input.sk-toggleable__control:checked~div.sk-toggleable__content {max-height: 200px;max-width: 100%;overflow: auto;}#sk-container-id-1 input.sk-toggleable__control:checked~label.sk-toggleable__label-arrow:before {content: \"▾\";}#sk-container-id-1 div.sk-estimator input.sk-toggleable__control:checked~label.sk-toggleable__label {background-color: #d4ebff;}#sk-container-id-1 div.sk-label input.sk-toggleable__control:checked~label.sk-toggleable__label {background-color: #d4ebff;}#sk-container-id-1 input.sk-hidden--visually {border: 0;clip: rect(1px 1px 1px 1px);clip: rect(1px, 1px, 1px, 1px);height: 1px;margin: -1px;overflow: hidden;padding: 0;position: absolute;width: 1px;}#sk-container-id-1 div.sk-estimator {font-family: monospace;background-color: #f0f8ff;border: 1px dotted black;border-radius: 0.25em;box-sizing: border-box;margin-bottom: 0.5em;}#sk-container-id-1 div.sk-estimator:hover {background-color: #d4ebff;}#sk-container-id-1 div.sk-parallel-item::after {content: \"\";width: 100%;border-bottom: 1px solid gray;flex-grow: 1;}#sk-container-id-1 div.sk-label:hover label.sk-toggleable__label {background-color: #d4ebff;}#sk-container-id-1 div.sk-serial::before {content: \"\";position: absolute;border-left: 1px solid gray;box-sizing: border-box;top: 0;bottom: 0;left: 50%;z-index: 0;}#sk-container-id-1 div.sk-serial {display: flex;flex-direction: column;align-items: center;background-color: white;padding-right: 0.2em;padding-left: 0.2em;position: relative;}#sk-container-id-1 div.sk-item {position: relative;z-index: 1;}#sk-container-id-1 div.sk-parallel {display: flex;align-items: stretch;justify-content: center;background-color: white;position: relative;}#sk-container-id-1 div.sk-item::before, #sk-container-id-1 div.sk-parallel-item::before {content: \"\";position: absolute;border-left: 1px solid gray;box-sizing: border-box;top: 0;bottom: 0;left: 50%;z-index: -1;}#sk-container-id-1 div.sk-parallel-item {display: flex;flex-direction: column;z-index: 1;position: relative;background-color: white;}#sk-container-id-1 div.sk-parallel-item:first-child::after {align-self: flex-end;width: 50%;}#sk-container-id-1 div.sk-parallel-item:last-child::after {align-self: flex-start;width: 50%;}#sk-container-id-1 div.sk-parallel-item:only-child::after {width: 0;}#sk-container-id-1 div.sk-dashed-wrapped {border: 1px dashed gray;margin: 0 0.4em 0.5em 0.4em;box-sizing: border-box;padding-bottom: 0.4em;background-color: white;}#sk-container-id-1 div.sk-label label {font-family: monospace;font-weight: bold;display: inline-block;line-height: 1.2em;}#sk-container-id-1 div.sk-label-container {text-align: center;}#sk-container-id-1 div.sk-container {/* jupyter's `normalize.less` sets `[hidden] { display: none; }` but bootstrap.min.css set `[hidden] { display: none !important; }` so we also need the `!important` here to be able to override the default hidden behavior on the sphinx rendered scikit-learn.org. See: https://github.com/scikit-learn/scikit-learn/issues/21755 */display: inline-block !important;position: relative;}#sk-container-id-1 div.sk-text-repr-fallback {display: none;}</style><div id=\"sk-container-id-1\" class=\"sk-top-container\"><div class=\"sk-text-repr-fallback\"><pre>LGBMRegressor(bagging_fraction=0.578043267587271,\n",
       "              colsample_bytree=0.9685869661027242,\n",
       "              feature_fraction=0.9468185243604629, lambda_l2=7.389294926795998,\n",
       "              learning_rate=0.024152436863543725, max_depth=7, metric=&#x27;rmse&#x27;,\n",
       "              min_data_in_leaf=42, n_estimators=1093, num_leaves=903,\n",
       "              objective=&#x27;regression&#x27;, subsample=0.2807606573380648,\n",
       "              verbosity=-1)</pre><b>In a Jupyter environment, please rerun this cell to show the HTML representation or trust the notebook. <br />On GitHub, the HTML representation is unable to render, please try loading this page with nbviewer.org.</b></div><div class=\"sk-container\" hidden><div class=\"sk-item\"><div class=\"sk-estimator sk-toggleable\"><input class=\"sk-toggleable__control sk-hidden--visually\" id=\"sk-estimator-id-1\" type=\"checkbox\" checked><label for=\"sk-estimator-id-1\" class=\"sk-toggleable__label sk-toggleable__label-arrow\">LGBMRegressor</label><div class=\"sk-toggleable__content\"><pre>LGBMRegressor(bagging_fraction=0.578043267587271,\n",
       "              colsample_bytree=0.9685869661027242,\n",
       "              feature_fraction=0.9468185243604629, lambda_l2=7.389294926795998,\n",
       "              learning_rate=0.024152436863543725, max_depth=7, metric=&#x27;rmse&#x27;,\n",
       "              min_data_in_leaf=42, n_estimators=1093, num_leaves=903,\n",
       "              objective=&#x27;regression&#x27;, subsample=0.2807606573380648,\n",
       "              verbosity=-1)</pre></div></div></div></div></div>"
      ],
      "text/plain": [
       "LGBMRegressor(bagging_fraction=0.578043267587271,\n",
       "              colsample_bytree=0.9685869661027242,\n",
       "              feature_fraction=0.9468185243604629, lambda_l2=7.389294926795998,\n",
       "              learning_rate=0.024152436863543725, max_depth=7, metric='rmse',\n",
       "              min_data_in_leaf=42, n_estimators=1093, num_leaves=903,\n",
       "              objective='regression', subsample=0.2807606573380648,\n",
       "              verbosity=-1)"
      ]
     },
     "execution_count": 10,
     "metadata": {},
     "output_type": "execute_result"
    }
   ],
   "source": [
    "inv_params = study.best_params\n",
    "inv_params[\"objective\"] = \"regression\"\n",
    "inv_params[\"metric\"] = \"rmse\"\n",
    "inv_params[\"verbosity\"] = -1\n",
    "\n",
    "model = lgb.LGBMRegressor(**inv_params)\n",
    "\n",
    "model.fit(X, y)"
   ]
  },
  {
   "cell_type": "code",
   "execution_count": 12,
   "id": "8868e707",
   "metadata": {},
   "outputs": [
    {
     "data": {
      "text/html": [
       "<div>\n",
       "<style scoped>\n",
       "    .dataframe tbody tr th:only-of-type {\n",
       "        vertical-align: middle;\n",
       "    }\n",
       "\n",
       "    .dataframe tbody tr th {\n",
       "        vertical-align: top;\n",
       "    }\n",
       "\n",
       "    .dataframe thead th {\n",
       "        text-align: right;\n",
       "    }\n",
       "</style>\n",
       "<table border=\"1\" class=\"dataframe\">\n",
       "  <thead>\n",
       "    <tr style=\"text-align: right;\">\n",
       "      <th></th>\n",
       "      <th>full_sq</th>\n",
       "      <th>life_sq</th>\n",
       "      <th>floor</th>\n",
       "      <th>max_floor</th>\n",
       "      <th>build_year</th>\n",
       "      <th>num_room</th>\n",
       "      <th>kitch_sq</th>\n",
       "      <th>state</th>\n",
       "      <th>area_m</th>\n",
       "      <th>raion_popul</th>\n",
       "      <th>...</th>\n",
       "      <th>big_road1_1line_no</th>\n",
       "      <th>big_road1_1line_yes</th>\n",
       "      <th>railroad_1line_no</th>\n",
       "      <th>railroad_1line_yes</th>\n",
       "      <th>material_1.0</th>\n",
       "      <th>material_2.0</th>\n",
       "      <th>material_4.0</th>\n",
       "      <th>material_5.0</th>\n",
       "      <th>material_6.0</th>\n",
       "      <th>material_nan</th>\n",
       "    </tr>\n",
       "  </thead>\n",
       "  <tbody>\n",
       "    <tr>\n",
       "      <th>0</th>\n",
       "      <td>39.0</td>\n",
       "      <td>20.7</td>\n",
       "      <td>2</td>\n",
       "      <td>9</td>\n",
       "      <td>1998.0</td>\n",
       "      <td>1</td>\n",
       "      <td>8.9</td>\n",
       "      <td>3.000000</td>\n",
       "      <td>2.615514e+07</td>\n",
       "      <td>178264</td>\n",
       "      <td>...</td>\n",
       "      <td>1.0</td>\n",
       "      <td>0.0</td>\n",
       "      <td>1.0</td>\n",
       "      <td>0.0</td>\n",
       "      <td>1.0</td>\n",
       "      <td>0.0</td>\n",
       "      <td>0.0</td>\n",
       "      <td>0.0</td>\n",
       "      <td>0.0</td>\n",
       "      <td>0.0</td>\n",
       "    </tr>\n",
       "    <tr>\n",
       "      <th>1</th>\n",
       "      <td>40.5</td>\n",
       "      <td>25.1</td>\n",
       "      <td>3</td>\n",
       "      <td>5</td>\n",
       "      <td>1960.0</td>\n",
       "      <td>2</td>\n",
       "      <td>4.8</td>\n",
       "      <td>2.000000</td>\n",
       "      <td>9.946335e+06</td>\n",
       "      <td>139322</td>\n",
       "      <td>...</td>\n",
       "      <td>1.0</td>\n",
       "      <td>0.0</td>\n",
       "      <td>1.0</td>\n",
       "      <td>0.0</td>\n",
       "      <td>0.0</td>\n",
       "      <td>1.0</td>\n",
       "      <td>0.0</td>\n",
       "      <td>0.0</td>\n",
       "      <td>0.0</td>\n",
       "      <td>0.0</td>\n",
       "    </tr>\n",
       "    <tr>\n",
       "      <th>2</th>\n",
       "      <td>45.4</td>\n",
       "      <td>28.5</td>\n",
       "      <td>9</td>\n",
       "      <td>12</td>\n",
       "      <td>1972.0</td>\n",
       "      <td>2</td>\n",
       "      <td>6.0</td>\n",
       "      <td>2.000000</td>\n",
       "      <td>1.531990e+07</td>\n",
       "      <td>21040</td>\n",
       "      <td>...</td>\n",
       "      <td>1.0</td>\n",
       "      <td>0.0</td>\n",
       "      <td>1.0</td>\n",
       "      <td>0.0</td>\n",
       "      <td>0.0</td>\n",
       "      <td>0.0</td>\n",
       "      <td>0.0</td>\n",
       "      <td>1.0</td>\n",
       "      <td>0.0</td>\n",
       "      <td>0.0</td>\n",
       "    </tr>\n",
       "    <tr>\n",
       "      <th>3</th>\n",
       "      <td>39.8</td>\n",
       "      <td>18.9</td>\n",
       "      <td>4</td>\n",
       "      <td>17</td>\n",
       "      <td>2013.0</td>\n",
       "      <td>1</td>\n",
       "      <td>9.9</td>\n",
       "      <td>3.000000</td>\n",
       "      <td>1.139168e+07</td>\n",
       "      <td>19940</td>\n",
       "      <td>...</td>\n",
       "      <td>1.0</td>\n",
       "      <td>0.0</td>\n",
       "      <td>1.0</td>\n",
       "      <td>0.0</td>\n",
       "      <td>1.0</td>\n",
       "      <td>0.0</td>\n",
       "      <td>0.0</td>\n",
       "      <td>0.0</td>\n",
       "      <td>0.0</td>\n",
       "      <td>0.0</td>\n",
       "    </tr>\n",
       "    <tr>\n",
       "      <th>4</th>\n",
       "      <td>94.5</td>\n",
       "      <td>61.9</td>\n",
       "      <td>2</td>\n",
       "      <td>12</td>\n",
       "      <td>2000.0</td>\n",
       "      <td>4</td>\n",
       "      <td>10.3</td>\n",
       "      <td>2.480988</td>\n",
       "      <td>5.704502e+06</td>\n",
       "      <td>106445</td>\n",
       "      <td>...</td>\n",
       "      <td>1.0</td>\n",
       "      <td>0.0</td>\n",
       "      <td>1.0</td>\n",
       "      <td>0.0</td>\n",
       "      <td>1.0</td>\n",
       "      <td>0.0</td>\n",
       "      <td>0.0</td>\n",
       "      <td>0.0</td>\n",
       "      <td>0.0</td>\n",
       "      <td>0.0</td>\n",
       "    </tr>\n",
       "    <tr>\n",
       "      <th>...</th>\n",
       "      <td>...</td>\n",
       "      <td>...</td>\n",
       "      <td>...</td>\n",
       "      <td>...</td>\n",
       "      <td>...</td>\n",
       "      <td>...</td>\n",
       "      <td>...</td>\n",
       "      <td>...</td>\n",
       "      <td>...</td>\n",
       "      <td>...</td>\n",
       "      <td>...</td>\n",
       "      <td>...</td>\n",
       "      <td>...</td>\n",
       "      <td>...</td>\n",
       "      <td>...</td>\n",
       "      <td>...</td>\n",
       "      <td>...</td>\n",
       "      <td>...</td>\n",
       "      <td>...</td>\n",
       "      <td>...</td>\n",
       "      <td>...</td>\n",
       "    </tr>\n",
       "    <tr>\n",
       "      <th>4993</th>\n",
       "      <td>39.6</td>\n",
       "      <td>18.9</td>\n",
       "      <td>22</td>\n",
       "      <td>25</td>\n",
       "      <td>2014.0</td>\n",
       "      <td>1</td>\n",
       "      <td>9.1</td>\n",
       "      <td>2.000000</td>\n",
       "      <td>1.050803e+07</td>\n",
       "      <td>81887</td>\n",
       "      <td>...</td>\n",
       "      <td>0.0</td>\n",
       "      <td>1.0</td>\n",
       "      <td>0.0</td>\n",
       "      <td>1.0</td>\n",
       "      <td>1.0</td>\n",
       "      <td>0.0</td>\n",
       "      <td>0.0</td>\n",
       "      <td>0.0</td>\n",
       "      <td>0.0</td>\n",
       "      <td>0.0</td>\n",
       "    </tr>\n",
       "    <tr>\n",
       "      <th>4994</th>\n",
       "      <td>54.6</td>\n",
       "      <td>32.2</td>\n",
       "      <td>16</td>\n",
       "      <td>16</td>\n",
       "      <td>2000.0</td>\n",
       "      <td>2</td>\n",
       "      <td>9.3</td>\n",
       "      <td>3.000000</td>\n",
       "      <td>1.175477e+07</td>\n",
       "      <td>247469</td>\n",
       "      <td>...</td>\n",
       "      <td>1.0</td>\n",
       "      <td>0.0</td>\n",
       "      <td>1.0</td>\n",
       "      <td>0.0</td>\n",
       "      <td>1.0</td>\n",
       "      <td>0.0</td>\n",
       "      <td>0.0</td>\n",
       "      <td>0.0</td>\n",
       "      <td>0.0</td>\n",
       "      <td>0.0</td>\n",
       "    </tr>\n",
       "    <tr>\n",
       "      <th>4995</th>\n",
       "      <td>52.2</td>\n",
       "      <td>31.8</td>\n",
       "      <td>10</td>\n",
       "      <td>12</td>\n",
       "      <td>1973.0</td>\n",
       "      <td>2</td>\n",
       "      <td>9.1</td>\n",
       "      <td>2.000000</td>\n",
       "      <td>7.811375e+06</td>\n",
       "      <td>153248</td>\n",
       "      <td>...</td>\n",
       "      <td>1.0</td>\n",
       "      <td>0.0</td>\n",
       "      <td>1.0</td>\n",
       "      <td>0.0</td>\n",
       "      <td>0.0</td>\n",
       "      <td>0.0</td>\n",
       "      <td>0.0</td>\n",
       "      <td>1.0</td>\n",
       "      <td>0.0</td>\n",
       "      <td>0.0</td>\n",
       "    </tr>\n",
       "    <tr>\n",
       "      <th>4996</th>\n",
       "      <td>34.8</td>\n",
       "      <td>19.8</td>\n",
       "      <td>8</td>\n",
       "      <td>9</td>\n",
       "      <td>1977.0</td>\n",
       "      <td>1</td>\n",
       "      <td>6.4</td>\n",
       "      <td>2.000000</td>\n",
       "      <td>7.128794e+06</td>\n",
       "      <td>145576</td>\n",
       "      <td>...</td>\n",
       "      <td>1.0</td>\n",
       "      <td>0.0</td>\n",
       "      <td>1.0</td>\n",
       "      <td>0.0</td>\n",
       "      <td>0.0</td>\n",
       "      <td>0.0</td>\n",
       "      <td>0.0</td>\n",
       "      <td>1.0</td>\n",
       "      <td>0.0</td>\n",
       "      <td>0.0</td>\n",
       "    </tr>\n",
       "    <tr>\n",
       "      <th>4997</th>\n",
       "      <td>63.0</td>\n",
       "      <td>43.8</td>\n",
       "      <td>5</td>\n",
       "      <td>5</td>\n",
       "      <td>1973.0</td>\n",
       "      <td>3</td>\n",
       "      <td>7.1</td>\n",
       "      <td>3.000000</td>\n",
       "      <td>6.206099e+06</td>\n",
       "      <td>111874</td>\n",
       "      <td>...</td>\n",
       "      <td>1.0</td>\n",
       "      <td>0.0</td>\n",
       "      <td>1.0</td>\n",
       "      <td>0.0</td>\n",
       "      <td>1.0</td>\n",
       "      <td>0.0</td>\n",
       "      <td>0.0</td>\n",
       "      <td>0.0</td>\n",
       "      <td>0.0</td>\n",
       "      <td>0.0</td>\n",
       "    </tr>\n",
       "  </tbody>\n",
       "</table>\n",
       "<p>4998 rows × 448 columns</p>\n",
       "</div>"
      ],
      "text/plain": [
       "      full_sq  life_sq  floor  max_floor  build_year  num_room  kitch_sq  \\\n",
       "0        39.0     20.7      2          9      1998.0         1       8.9   \n",
       "1        40.5     25.1      3          5      1960.0         2       4.8   \n",
       "2        45.4     28.5      9         12      1972.0         2       6.0   \n",
       "3        39.8     18.9      4         17      2013.0         1       9.9   \n",
       "4        94.5     61.9      2         12      2000.0         4      10.3   \n",
       "...       ...      ...    ...        ...         ...       ...       ...   \n",
       "4993     39.6     18.9     22         25      2014.0         1       9.1   \n",
       "4994     54.6     32.2     16         16      2000.0         2       9.3   \n",
       "4995     52.2     31.8     10         12      1973.0         2       9.1   \n",
       "4996     34.8     19.8      8          9      1977.0         1       6.4   \n",
       "4997     63.0     43.8      5          5      1973.0         3       7.1   \n",
       "\n",
       "         state        area_m  raion_popul  ...  big_road1_1line_no  \\\n",
       "0     3.000000  2.615514e+07       178264  ...                 1.0   \n",
       "1     2.000000  9.946335e+06       139322  ...                 1.0   \n",
       "2     2.000000  1.531990e+07        21040  ...                 1.0   \n",
       "3     3.000000  1.139168e+07        19940  ...                 1.0   \n",
       "4     2.480988  5.704502e+06       106445  ...                 1.0   \n",
       "...        ...           ...          ...  ...                 ...   \n",
       "4993  2.000000  1.050803e+07        81887  ...                 0.0   \n",
       "4994  3.000000  1.175477e+07       247469  ...                 1.0   \n",
       "4995  2.000000  7.811375e+06       153248  ...                 1.0   \n",
       "4996  2.000000  7.128794e+06       145576  ...                 1.0   \n",
       "4997  3.000000  6.206099e+06       111874  ...                 1.0   \n",
       "\n",
       "      big_road1_1line_yes  railroad_1line_no  railroad_1line_yes  \\\n",
       "0                     0.0                1.0                 0.0   \n",
       "1                     0.0                1.0                 0.0   \n",
       "2                     0.0                1.0                 0.0   \n",
       "3                     0.0                1.0                 0.0   \n",
       "4                     0.0                1.0                 0.0   \n",
       "...                   ...                ...                 ...   \n",
       "4993                  1.0                0.0                 1.0   \n",
       "4994                  0.0                1.0                 0.0   \n",
       "4995                  0.0                1.0                 0.0   \n",
       "4996                  0.0                1.0                 0.0   \n",
       "4997                  0.0                1.0                 0.0   \n",
       "\n",
       "      material_1.0  material_2.0  material_4.0  material_5.0  material_6.0  \\\n",
       "0              1.0           0.0           0.0           0.0           0.0   \n",
       "1              0.0           1.0           0.0           0.0           0.0   \n",
       "2              0.0           0.0           0.0           1.0           0.0   \n",
       "3              1.0           0.0           0.0           0.0           0.0   \n",
       "4              1.0           0.0           0.0           0.0           0.0   \n",
       "...            ...           ...           ...           ...           ...   \n",
       "4993           1.0           0.0           0.0           0.0           0.0   \n",
       "4994           1.0           0.0           0.0           0.0           0.0   \n",
       "4995           0.0           0.0           0.0           1.0           0.0   \n",
       "4996           0.0           0.0           0.0           1.0           0.0   \n",
       "4997           1.0           0.0           0.0           0.0           0.0   \n",
       "\n",
       "      material_nan  \n",
       "0              0.0  \n",
       "1              0.0  \n",
       "2              0.0  \n",
       "3              0.0  \n",
       "4              0.0  \n",
       "...            ...  \n",
       "4993           0.0  \n",
       "4994           0.0  \n",
       "4995           0.0  \n",
       "4996           0.0  \n",
       "4997           0.0  \n",
       "\n",
       "[4998 rows x 448 columns]"
      ]
     },
     "execution_count": 12,
     "metadata": {},
     "output_type": "execute_result"
    }
   ],
   "source": [
    "# test_df = pd.read_csv(test_df_path)\n",
    "processed_inv_test_df = pd.read_csv(investment_test_path)\n",
    "processed_inv_test_df_copy = processed_inv_test_df.copy()\n",
    "processed_inv_test_df = processed_inv_test_df.drop(['id'], axis=1)\n",
    "processed_inv_test_df"
   ]
  },
  {
   "cell_type": "code",
   "execution_count": 14,
   "id": "6431d27a",
   "metadata": {},
   "outputs": [],
   "source": [
    "inv_pred = model.predict(processed_inv_test_df)\n",
    "inv_prediction_df = pd.DataFrame({\n",
    "    'id': processed_inv_test_df_copy['id'],\n",
    "    'price_doc': inv_pred\n",
    "})"
   ]
  },
  {
   "cell_type": "code",
   "execution_count": null,
   "id": "3d52268b",
   "metadata": {},
   "outputs": [],
   "source": []
  },
  {
   "cell_type": "code",
   "execution_count": 15,
   "id": "aaaa6a1d",
   "metadata": {},
   "outputs": [
    {
     "data": {
      "text/html": [
       "<div>\n",
       "<style scoped>\n",
       "    .dataframe tbody tr th:only-of-type {\n",
       "        vertical-align: middle;\n",
       "    }\n",
       "\n",
       "    .dataframe tbody tr th {\n",
       "        vertical-align: top;\n",
       "    }\n",
       "\n",
       "    .dataframe thead th {\n",
       "        text-align: right;\n",
       "    }\n",
       "</style>\n",
       "<table border=\"1\" class=\"dataframe\">\n",
       "  <thead>\n",
       "    <tr style=\"text-align: right;\">\n",
       "      <th></th>\n",
       "      <th>full_sq</th>\n",
       "      <th>life_sq</th>\n",
       "      <th>floor</th>\n",
       "      <th>max_floor</th>\n",
       "      <th>build_year</th>\n",
       "      <th>num_room</th>\n",
       "      <th>kitch_sq</th>\n",
       "      <th>state</th>\n",
       "      <th>area_m</th>\n",
       "      <th>raion_popul</th>\n",
       "      <th>...</th>\n",
       "      <th>railroad_1line_no</th>\n",
       "      <th>railroad_1line_yes</th>\n",
       "      <th>material_1.0</th>\n",
       "      <th>material_2.0</th>\n",
       "      <th>material_3.0</th>\n",
       "      <th>material_4.0</th>\n",
       "      <th>material_5.0</th>\n",
       "      <th>material_6.0</th>\n",
       "      <th>material_nan</th>\n",
       "      <th>price_doc</th>\n",
       "    </tr>\n",
       "  </thead>\n",
       "  <tbody>\n",
       "    <tr>\n",
       "      <th>0</th>\n",
       "      <td>73</td>\n",
       "      <td>38.000000</td>\n",
       "      <td>15.0</td>\n",
       "      <td>13.257777</td>\n",
       "      <td>1493</td>\n",
       "      <td>1.801699</td>\n",
       "      <td>3.183089</td>\n",
       "      <td>1.075835</td>\n",
       "      <td>8.659075e+06</td>\n",
       "      <td>104410</td>\n",
       "      <td>...</td>\n",
       "      <td>1.0</td>\n",
       "      <td>0.0</td>\n",
       "      <td>0.0</td>\n",
       "      <td>0.0</td>\n",
       "      <td>0.0</td>\n",
       "      <td>0.0</td>\n",
       "      <td>0.0</td>\n",
       "      <td>0.0</td>\n",
       "      <td>1.0</td>\n",
       "      <td>7.998524e+06</td>\n",
       "    </tr>\n",
       "    <tr>\n",
       "      <th>1</th>\n",
       "      <td>117</td>\n",
       "      <td>108.000000</td>\n",
       "      <td>20.0</td>\n",
       "      <td>13.257777</td>\n",
       "      <td>1493</td>\n",
       "      <td>1.801699</td>\n",
       "      <td>3.183089</td>\n",
       "      <td>1.075835</td>\n",
       "      <td>7.750778e+06</td>\n",
       "      <td>76284</td>\n",
       "      <td>...</td>\n",
       "      <td>1.0</td>\n",
       "      <td>0.0</td>\n",
       "      <td>0.0</td>\n",
       "      <td>0.0</td>\n",
       "      <td>0.0</td>\n",
       "      <td>0.0</td>\n",
       "      <td>0.0</td>\n",
       "      <td>0.0</td>\n",
       "      <td>1.0</td>\n",
       "      <td>1.366640e+07</td>\n",
       "    </tr>\n",
       "    <tr>\n",
       "      <th>2</th>\n",
       "      <td>83</td>\n",
       "      <td>83.000000</td>\n",
       "      <td>18.0</td>\n",
       "      <td>13.257777</td>\n",
       "      <td>1493</td>\n",
       "      <td>1.801699</td>\n",
       "      <td>3.183089</td>\n",
       "      <td>1.075835</td>\n",
       "      <td>8.659075e+06</td>\n",
       "      <td>104410</td>\n",
       "      <td>...</td>\n",
       "      <td>1.0</td>\n",
       "      <td>0.0</td>\n",
       "      <td>0.0</td>\n",
       "      <td>0.0</td>\n",
       "      <td>0.0</td>\n",
       "      <td>0.0</td>\n",
       "      <td>0.0</td>\n",
       "      <td>0.0</td>\n",
       "      <td>1.0</td>\n",
       "      <td>1.102727e+07</td>\n",
       "    </tr>\n",
       "    <tr>\n",
       "      <th>3</th>\n",
       "      <td>73</td>\n",
       "      <td>49.632838</td>\n",
       "      <td>14.0</td>\n",
       "      <td>13.257777</td>\n",
       "      <td>1493</td>\n",
       "      <td>1.801699</td>\n",
       "      <td>3.183089</td>\n",
       "      <td>1.075835</td>\n",
       "      <td>8.659075e+06</td>\n",
       "      <td>104410</td>\n",
       "      <td>...</td>\n",
       "      <td>1.0</td>\n",
       "      <td>0.0</td>\n",
       "      <td>0.0</td>\n",
       "      <td>0.0</td>\n",
       "      <td>0.0</td>\n",
       "      <td>0.0</td>\n",
       "      <td>0.0</td>\n",
       "      <td>0.0</td>\n",
       "      <td>1.0</td>\n",
       "      <td>9.787838e+06</td>\n",
       "    </tr>\n",
       "    <tr>\n",
       "      <th>4</th>\n",
       "      <td>70</td>\n",
       "      <td>36.000000</td>\n",
       "      <td>9.0</td>\n",
       "      <td>13.257777</td>\n",
       "      <td>1493</td>\n",
       "      <td>1.801699</td>\n",
       "      <td>3.183089</td>\n",
       "      <td>1.075835</td>\n",
       "      <td>8.659075e+06</td>\n",
       "      <td>104410</td>\n",
       "      <td>...</td>\n",
       "      <td>1.0</td>\n",
       "      <td>0.0</td>\n",
       "      <td>0.0</td>\n",
       "      <td>0.0</td>\n",
       "      <td>0.0</td>\n",
       "      <td>0.0</td>\n",
       "      <td>0.0</td>\n",
       "      <td>0.0</td>\n",
       "      <td>1.0</td>\n",
       "      <td>9.372372e+06</td>\n",
       "    </tr>\n",
       "    <tr>\n",
       "      <th>...</th>\n",
       "      <td>...</td>\n",
       "      <td>...</td>\n",
       "      <td>...</td>\n",
       "      <td>...</td>\n",
       "      <td>...</td>\n",
       "      <td>...</td>\n",
       "      <td>...</td>\n",
       "      <td>...</td>\n",
       "      <td>...</td>\n",
       "      <td>...</td>\n",
       "      <td>...</td>\n",
       "      <td>...</td>\n",
       "      <td>...</td>\n",
       "      <td>...</td>\n",
       "      <td>...</td>\n",
       "      <td>...</td>\n",
       "      <td>...</td>\n",
       "      <td>...</td>\n",
       "      <td>...</td>\n",
       "      <td>...</td>\n",
       "      <td>...</td>\n",
       "    </tr>\n",
       "    <tr>\n",
       "      <th>11018</th>\n",
       "      <td>51</td>\n",
       "      <td>49.632838</td>\n",
       "      <td>4.0</td>\n",
       "      <td>17.000000</td>\n",
       "      <td>1493</td>\n",
       "      <td>2.000000</td>\n",
       "      <td>1.000000</td>\n",
       "      <td>1.000000</td>\n",
       "      <td>1.132409e+07</td>\n",
       "      <td>113897</td>\n",
       "      <td>...</td>\n",
       "      <td>1.0</td>\n",
       "      <td>0.0</td>\n",
       "      <td>0.0</td>\n",
       "      <td>0.0</td>\n",
       "      <td>0.0</td>\n",
       "      <td>1.0</td>\n",
       "      <td>0.0</td>\n",
       "      <td>0.0</td>\n",
       "      <td>0.0</td>\n",
       "      <td>5.599757e+06</td>\n",
       "    </tr>\n",
       "    <tr>\n",
       "      <th>11019</th>\n",
       "      <td>47</td>\n",
       "      <td>30.000000</td>\n",
       "      <td>23.0</td>\n",
       "      <td>25.000000</td>\n",
       "      <td>2016</td>\n",
       "      <td>1.000000</td>\n",
       "      <td>10.000000</td>\n",
       "      <td>1.000000</td>\n",
       "      <td>9.629358e+06</td>\n",
       "      <td>89467</td>\n",
       "      <td>...</td>\n",
       "      <td>0.0</td>\n",
       "      <td>1.0</td>\n",
       "      <td>0.0</td>\n",
       "      <td>0.0</td>\n",
       "      <td>0.0</td>\n",
       "      <td>1.0</td>\n",
       "      <td>0.0</td>\n",
       "      <td>0.0</td>\n",
       "      <td>0.0</td>\n",
       "      <td>1.021721e+07</td>\n",
       "    </tr>\n",
       "    <tr>\n",
       "      <th>11020</th>\n",
       "      <td>56</td>\n",
       "      <td>51.000000</td>\n",
       "      <td>19.0</td>\n",
       "      <td>19.000000</td>\n",
       "      <td>2017</td>\n",
       "      <td>2.000000</td>\n",
       "      <td>1.000000</td>\n",
       "      <td>1.000000</td>\n",
       "      <td>4.441296e+06</td>\n",
       "      <td>60315</td>\n",
       "      <td>...</td>\n",
       "      <td>1.0</td>\n",
       "      <td>0.0</td>\n",
       "      <td>1.0</td>\n",
       "      <td>0.0</td>\n",
       "      <td>0.0</td>\n",
       "      <td>0.0</td>\n",
       "      <td>0.0</td>\n",
       "      <td>0.0</td>\n",
       "      <td>0.0</td>\n",
       "      <td>9.943898e+06</td>\n",
       "    </tr>\n",
       "    <tr>\n",
       "      <th>11021</th>\n",
       "      <td>52</td>\n",
       "      <td>49.632838</td>\n",
       "      <td>13.0</td>\n",
       "      <td>17.000000</td>\n",
       "      <td>1493</td>\n",
       "      <td>2.000000</td>\n",
       "      <td>1.000000</td>\n",
       "      <td>1.000000</td>\n",
       "      <td>7.307411e+06</td>\n",
       "      <td>75377</td>\n",
       "      <td>...</td>\n",
       "      <td>1.0</td>\n",
       "      <td>0.0</td>\n",
       "      <td>1.0</td>\n",
       "      <td>0.0</td>\n",
       "      <td>0.0</td>\n",
       "      <td>0.0</td>\n",
       "      <td>0.0</td>\n",
       "      <td>0.0</td>\n",
       "      <td>0.0</td>\n",
       "      <td>6.541297e+06</td>\n",
       "    </tr>\n",
       "    <tr>\n",
       "      <th>11022</th>\n",
       "      <td>45</td>\n",
       "      <td>49.632838</td>\n",
       "      <td>10.0</td>\n",
       "      <td>20.000000</td>\n",
       "      <td>1493</td>\n",
       "      <td>1.000000</td>\n",
       "      <td>1.000000</td>\n",
       "      <td>1.000000</td>\n",
       "      <td>2.553630e+07</td>\n",
       "      <td>4001</td>\n",
       "      <td>...</td>\n",
       "      <td>1.0</td>\n",
       "      <td>0.0</td>\n",
       "      <td>1.0</td>\n",
       "      <td>0.0</td>\n",
       "      <td>0.0</td>\n",
       "      <td>0.0</td>\n",
       "      <td>0.0</td>\n",
       "      <td>0.0</td>\n",
       "      <td>0.0</td>\n",
       "      <td>6.754869e+06</td>\n",
       "    </tr>\n",
       "  </tbody>\n",
       "</table>\n",
       "<p>11023 rows × 401 columns</p>\n",
       "</div>"
      ],
      "text/plain": [
       "       full_sq     life_sq  floor  max_floor  build_year  num_room   kitch_sq  \\\n",
       "0           73   38.000000   15.0  13.257777        1493  1.801699   3.183089   \n",
       "1          117  108.000000   20.0  13.257777        1493  1.801699   3.183089   \n",
       "2           83   83.000000   18.0  13.257777        1493  1.801699   3.183089   \n",
       "3           73   49.632838   14.0  13.257777        1493  1.801699   3.183089   \n",
       "4           70   36.000000    9.0  13.257777        1493  1.801699   3.183089   \n",
       "...        ...         ...    ...        ...         ...       ...        ...   \n",
       "11018       51   49.632838    4.0  17.000000        1493  2.000000   1.000000   \n",
       "11019       47   30.000000   23.0  25.000000        2016  1.000000  10.000000   \n",
       "11020       56   51.000000   19.0  19.000000        2017  2.000000   1.000000   \n",
       "11021       52   49.632838   13.0  17.000000        1493  2.000000   1.000000   \n",
       "11022       45   49.632838   10.0  20.000000        1493  1.000000   1.000000   \n",
       "\n",
       "          state        area_m  raion_popul  ...  railroad_1line_no  \\\n",
       "0      1.075835  8.659075e+06       104410  ...                1.0   \n",
       "1      1.075835  7.750778e+06        76284  ...                1.0   \n",
       "2      1.075835  8.659075e+06       104410  ...                1.0   \n",
       "3      1.075835  8.659075e+06       104410  ...                1.0   \n",
       "4      1.075835  8.659075e+06       104410  ...                1.0   \n",
       "...         ...           ...          ...  ...                ...   \n",
       "11018  1.000000  1.132409e+07       113897  ...                1.0   \n",
       "11019  1.000000  9.629358e+06        89467  ...                0.0   \n",
       "11020  1.000000  4.441296e+06        60315  ...                1.0   \n",
       "11021  1.000000  7.307411e+06        75377  ...                1.0   \n",
       "11022  1.000000  2.553630e+07         4001  ...                1.0   \n",
       "\n",
       "       railroad_1line_yes  material_1.0  material_2.0  material_3.0  \\\n",
       "0                     0.0           0.0           0.0           0.0   \n",
       "1                     0.0           0.0           0.0           0.0   \n",
       "2                     0.0           0.0           0.0           0.0   \n",
       "3                     0.0           0.0           0.0           0.0   \n",
       "4                     0.0           0.0           0.0           0.0   \n",
       "...                   ...           ...           ...           ...   \n",
       "11018                 0.0           0.0           0.0           0.0   \n",
       "11019                 1.0           0.0           0.0           0.0   \n",
       "11020                 0.0           1.0           0.0           0.0   \n",
       "11021                 0.0           1.0           0.0           0.0   \n",
       "11022                 0.0           1.0           0.0           0.0   \n",
       "\n",
       "       material_4.0  material_5.0  material_6.0  material_nan     price_doc  \n",
       "0               0.0           0.0           0.0           1.0  7.998524e+06  \n",
       "1               0.0           0.0           0.0           1.0  1.366640e+07  \n",
       "2               0.0           0.0           0.0           1.0  1.102727e+07  \n",
       "3               0.0           0.0           0.0           1.0  9.787838e+06  \n",
       "4               0.0           0.0           0.0           1.0  9.372372e+06  \n",
       "...             ...           ...           ...           ...           ...  \n",
       "11018           1.0           0.0           0.0           0.0  5.599757e+06  \n",
       "11019           1.0           0.0           0.0           0.0  1.021721e+07  \n",
       "11020           0.0           0.0           0.0           0.0  9.943898e+06  \n",
       "11021           0.0           0.0           0.0           0.0  6.541297e+06  \n",
       "11022           0.0           0.0           0.0           0.0  6.754869e+06  \n",
       "\n",
       "[11023 rows x 401 columns]"
      ]
     },
     "execution_count": 15,
     "metadata": {},
     "output_type": "execute_result"
    }
   ],
   "source": [
    "processed_owner_train_df = pd.read_csv(owner_train_path)\n",
    "X = processed_owner_train_df.drop(['price_doc'], axis=1)\n",
    "y = processed_owner_train_df['price_doc']\n",
    "\n",
    "processed_owner_train_df"
   ]
  },
  {
   "cell_type": "code",
   "execution_count": 17,
   "id": "02d03fc3",
   "metadata": {},
   "outputs": [],
   "source": [
    "X_train, X_val, y_train, y_val = train_test_split(processed_owner_train_df.drop(columns=['price_doc']),\n",
    "                                                 processed_owner_train_df['price_doc'], test_size=0.15, random_state=42)"
   ]
  },
  {
   "cell_type": "code",
   "execution_count": 18,
   "id": "e416ac8e",
   "metadata": {},
   "outputs": [
    {
     "name": "stderr",
     "output_type": "stream",
     "text": [
      "[I 2023-10-30 19:33:29,915] A new study created in memory with name: no-name-fa8f84eb-5f8d-47e4-aa91-1045e25de49a\n",
      "'verbose' argument is deprecated and will be removed in a future release of LightGBM. Pass 'log_evaluation()' callback via 'callbacks' argument instead.\n"
     ]
    },
    {
     "name": "stdout",
     "output_type": "stream",
     "text": [
      "[LightGBM] [Warning] feature_fraction is set=0.5863676320264337, colsample_bytree=0.32469576813080003 will be ignored. Current value: feature_fraction=0.5863676320264337\n",
      "[LightGBM] [Warning] min_data_in_leaf is set=86, min_child_samples=20 will be ignored. Current value: min_data_in_leaf=86\n",
      "[LightGBM] [Warning] bagging_fraction is set=0.7838715639496036, subsample=0.9585337302231216 will be ignored. Current value: bagging_fraction=0.7838715639496036\n",
      "[LightGBM] [Warning] lambda_l2 is set=8.836713397634348, reg_lambda=0.0 will be ignored. Current value: lambda_l2=8.836713397634348\n",
      "[LightGBM] [Warning] bagging_freq is set=1, subsample_freq=0 will be ignored. Current value: bagging_freq=1\n"
     ]
    },
    {
     "name": "stderr",
     "output_type": "stream",
     "text": [
      "[I 2023-10-30 19:33:34,921] Trial 0 finished with value: 2134587.034605441 and parameters: {'n_estimators': 1184, 'lambda_l2': 8.836713397634348, 'bagging_fraction': 0.7838715639496036, 'num_leaves': 478, 'feature_fraction': 0.5863676320264337, 'max_depth': 37, 'learning_rate': 0.0014476791201077511, 'subsample': 0.9585337302231216, 'colsample_bytree': 0.32469576813080003, 'min_data_in_leaf': 86}. Best is trial 0 with value: 2134587.034605441.\n",
      "'verbose' argument is deprecated and will be removed in a future release of LightGBM. Pass 'log_evaluation()' callback via 'callbacks' argument instead.\n"
     ]
    },
    {
     "name": "stdout",
     "output_type": "stream",
     "text": [
      "[LightGBM] [Warning] feature_fraction is set=0.8882517178789922, colsample_bytree=0.6045622986330635 will be ignored. Current value: feature_fraction=0.8882517178789922\n",
      "[LightGBM] [Warning] min_data_in_leaf is set=88, min_child_samples=20 will be ignored. Current value: min_data_in_leaf=88\n",
      "[LightGBM] [Warning] bagging_fraction is set=0.11616196389840683, subsample=0.9643279669440986 will be ignored. Current value: bagging_fraction=0.11616196389840683\n",
      "[LightGBM] [Warning] lambda_l2 is set=1.282895085827792, reg_lambda=0.0 will be ignored. Current value: lambda_l2=1.282895085827792\n",
      "[LightGBM] [Warning] bagging_freq is set=1, subsample_freq=0 will be ignored. Current value: bagging_freq=1\n"
     ]
    },
    {
     "name": "stderr",
     "output_type": "stream",
     "text": [
      "[I 2023-10-30 19:33:36,480] Trial 1 finished with value: 2332995.4331506793 and parameters: {'n_estimators': 1105, 'lambda_l2': 1.282895085827792, 'bagging_fraction': 0.11616196389840683, 'num_leaves': 232, 'feature_fraction': 0.8882517178789922, 'max_depth': 9, 'learning_rate': 0.0055230289886807555, 'subsample': 0.9643279669440986, 'colsample_bytree': 0.6045622986330635, 'min_data_in_leaf': 88}. Best is trial 0 with value: 2134587.034605441.\n",
      "'verbose' argument is deprecated and will be removed in a future release of LightGBM. Pass 'log_evaluation()' callback via 'callbacks' argument instead.\n"
     ]
    },
    {
     "name": "stdout",
     "output_type": "stream",
     "text": [
      "[LightGBM] [Warning] feature_fraction is set=0.862687342867833, colsample_bytree=0.13379925630818534 will be ignored. Current value: feature_fraction=0.862687342867833\n",
      "[LightGBM] [Warning] min_data_in_leaf is set=85, min_child_samples=20 will be ignored. Current value: min_data_in_leaf=85\n",
      "[LightGBM] [Warning] bagging_fraction is set=0.31252947526618713, subsample=0.9867462318112404 will be ignored. Current value: bagging_fraction=0.31252947526618713\n",
      "[LightGBM] [Warning] lambda_l2 is set=7.387216397387996, reg_lambda=0.0 will be ignored. Current value: lambda_l2=7.387216397387996\n",
      "[LightGBM] [Warning] bagging_freq is set=1, subsample_freq=0 will be ignored. Current value: bagging_freq=1\n"
     ]
    },
    {
     "name": "stderr",
     "output_type": "stream",
     "text": [
      "[I 2023-10-30 19:33:39,433] Trial 2 finished with value: 2212233.9336015605 and parameters: {'n_estimators': 1069, 'lambda_l2': 7.387216397387996, 'bagging_fraction': 0.31252947526618713, 'num_leaves': 682, 'feature_fraction': 0.862687342867833, 'max_depth': 36, 'learning_rate': 0.002647155163877918, 'subsample': 0.9867462318112404, 'colsample_bytree': 0.13379925630818534, 'min_data_in_leaf': 85}. Best is trial 0 with value: 2134587.034605441.\n",
      "'verbose' argument is deprecated and will be removed in a future release of LightGBM. Pass 'log_evaluation()' callback via 'callbacks' argument instead.\n"
     ]
    },
    {
     "name": "stdout",
     "output_type": "stream",
     "text": [
      "[LightGBM] [Warning] feature_fraction is set=0.6449374768106997, colsample_bytree=0.22286939359873148 will be ignored. Current value: feature_fraction=0.6449374768106997\n",
      "[LightGBM] [Warning] min_data_in_leaf is set=92, min_child_samples=20 will be ignored. Current value: min_data_in_leaf=92\n",
      "[LightGBM] [Warning] bagging_fraction is set=0.045164132168214244, subsample=0.8780212784827358 will be ignored. Current value: bagging_fraction=0.045164132168214244\n",
      "[LightGBM] [Warning] lambda_l2 is set=8.146237543112012, reg_lambda=0.0 will be ignored. Current value: lambda_l2=8.146237543112012\n",
      "[LightGBM] [Warning] bagging_freq is set=1, subsample_freq=0 will be ignored. Current value: bagging_freq=1\n"
     ]
    },
    {
     "name": "stderr",
     "output_type": "stream",
     "text": [
      "[I 2023-10-30 19:33:40,334] Trial 3 finished with value: 2326622.926987351 and parameters: {'n_estimators': 852, 'lambda_l2': 8.146237543112012, 'bagging_fraction': 0.045164132168214244, 'num_leaves': 293, 'feature_fraction': 0.6449374768106997, 'max_depth': 25, 'learning_rate': 0.038903434577014985, 'subsample': 0.8780212784827358, 'colsample_bytree': 0.22286939359873148, 'min_data_in_leaf': 92}. Best is trial 0 with value: 2134587.034605441.\n",
      "'verbose' argument is deprecated and will be removed in a future release of LightGBM. Pass 'log_evaluation()' callback via 'callbacks' argument instead.\n"
     ]
    },
    {
     "name": "stdout",
     "output_type": "stream",
     "text": [
      "[LightGBM] [Warning] feature_fraction is set=0.8218115103147282, colsample_bytree=0.6710650059668467 will be ignored. Current value: feature_fraction=0.8218115103147282\n",
      "[LightGBM] [Warning] min_data_in_leaf is set=98, min_child_samples=20 will be ignored. Current value: min_data_in_leaf=98\n",
      "[LightGBM] [Warning] bagging_fraction is set=0.6538947748182148, subsample=0.167172971723699 will be ignored. Current value: bagging_fraction=0.6538947748182148\n",
      "[LightGBM] [Warning] lambda_l2 is set=0.1475812027426171, reg_lambda=0.0 will be ignored. Current value: lambda_l2=0.1475812027426171\n",
      "[LightGBM] [Warning] bagging_freq is set=1, subsample_freq=0 will be ignored. Current value: bagging_freq=1\n"
     ]
    },
    {
     "name": "stderr",
     "output_type": "stream",
     "text": [
      "[I 2023-10-30 19:33:45,242] Trial 4 finished with value: 2228865.1212122645 and parameters: {'n_estimators': 932, 'lambda_l2': 0.1475812027426171, 'bagging_fraction': 0.6538947748182148, 'num_leaves': 156, 'feature_fraction': 0.8218115103147282, 'max_depth': 11, 'learning_rate': 0.0017123045695482144, 'subsample': 0.167172971723699, 'colsample_bytree': 0.6710650059668467, 'min_data_in_leaf': 98}. Best is trial 0 with value: 2134587.034605441.\n",
      "'verbose' argument is deprecated and will be removed in a future release of LightGBM. Pass 'log_evaluation()' callback via 'callbacks' argument instead.\n"
     ]
    },
    {
     "name": "stdout",
     "output_type": "stream",
     "text": [
      "[LightGBM] [Warning] feature_fraction is set=0.9068181754954571, colsample_bytree=0.8295226217055619 will be ignored. Current value: feature_fraction=0.9068181754954571\n",
      "[LightGBM] [Warning] min_data_in_leaf is set=77, min_child_samples=20 will be ignored. Current value: min_data_in_leaf=77\n",
      "[LightGBM] [Warning] bagging_fraction is set=0.7131783916155855, subsample=0.722963184086956 will be ignored. Current value: bagging_fraction=0.7131783916155855\n",
      "[LightGBM] [Warning] lambda_l2 is set=7.275122381062994, reg_lambda=0.0 will be ignored. Current value: lambda_l2=7.275122381062994\n",
      "[LightGBM] [Warning] bagging_freq is set=1, subsample_freq=0 will be ignored. Current value: bagging_freq=1\n"
     ]
    },
    {
     "name": "stderr",
     "output_type": "stream",
     "text": [
      "[I 2023-10-30 19:33:51,313] Trial 5 finished with value: 1353978.0360319132 and parameters: {'n_estimators': 894, 'lambda_l2': 7.275122381062994, 'bagging_fraction': 0.7131783916155855, 'num_leaves': 811, 'feature_fraction': 0.9068181754954571, 'max_depth': 24, 'learning_rate': 0.03367023788187452, 'subsample': 0.722963184086956, 'colsample_bytree': 0.8295226217055619, 'min_data_in_leaf': 77}. Best is trial 5 with value: 1353978.0360319132.\n",
      "'verbose' argument is deprecated and will be removed in a future release of LightGBM. Pass 'log_evaluation()' callback via 'callbacks' argument instead.\n"
     ]
    },
    {
     "name": "stdout",
     "output_type": "stream",
     "text": [
      "[LightGBM] [Warning] feature_fraction is set=0.6912346423953016, colsample_bytree=0.3854027459129893 will be ignored. Current value: feature_fraction=0.6912346423953016\n",
      "[LightGBM] [Warning] min_data_in_leaf is set=100, min_child_samples=20 will be ignored. Current value: min_data_in_leaf=100\n",
      "[LightGBM] [Warning] bagging_fraction is set=0.016580307489748147, subsample=0.11243140100431415 will be ignored. Current value: bagging_fraction=0.016580307489748147\n",
      "[LightGBM] [Warning] lambda_l2 is set=7.072943419540275, reg_lambda=0.0 will be ignored. Current value: lambda_l2=7.072943419540275\n",
      "[LightGBM] [Warning] bagging_freq is set=1, subsample_freq=0 will be ignored. Current value: bagging_freq=1\n"
     ]
    },
    {
     "name": "stderr",
     "output_type": "stream",
     "text": [
      "[I 2023-10-30 19:33:51,690] Trial 6 finished with value: 4430844.491842314 and parameters: {'n_estimators': 923, 'lambda_l2': 7.072943419540275, 'bagging_fraction': 0.016580307489748147, 'num_leaves': 674, 'feature_fraction': 0.6912346423953016, 'max_depth': 47, 'learning_rate': 0.012131502449671514, 'subsample': 0.11243140100431415, 'colsample_bytree': 0.3854027459129893, 'min_data_in_leaf': 100}. Best is trial 5 with value: 1353978.0360319132.\n",
      "'verbose' argument is deprecated and will be removed in a future release of LightGBM. Pass 'log_evaluation()' callback via 'callbacks' argument instead.\n"
     ]
    },
    {
     "name": "stdout",
     "output_type": "stream",
     "text": [
      "[LightGBM] [Warning] feature_fraction is set=0.7027374089904443, colsample_bytree=0.20629165315204023 will be ignored. Current value: feature_fraction=0.7027374089904443\n",
      "[LightGBM] [Warning] min_data_in_leaf is set=38, min_child_samples=20 will be ignored. Current value: min_data_in_leaf=38\n",
      "[LightGBM] [Warning] bagging_fraction is set=0.2597689989129712, subsample=0.7117643880041832 will be ignored. Current value: bagging_fraction=0.2597689989129712\n",
      "[LightGBM] [Warning] lambda_l2 is set=9.50137578655594, reg_lambda=0.0 will be ignored. Current value: lambda_l2=9.50137578655594\n",
      "[LightGBM] [Warning] bagging_freq is set=1, subsample_freq=0 will be ignored. Current value: bagging_freq=1\n"
     ]
    },
    {
     "name": "stderr",
     "output_type": "stream",
     "text": [
      "[I 2023-10-30 19:33:52,606] Trial 7 finished with value: 1841055.4212518737 and parameters: {'n_estimators': 1136, 'lambda_l2': 9.50137578655594, 'bagging_fraction': 0.2597689989129712, 'num_leaves': 541, 'feature_fraction': 0.7027374089904443, 'max_depth': 2, 'learning_rate': 0.005152986826818078, 'subsample': 0.7117643880041832, 'colsample_bytree': 0.20629165315204023, 'min_data_in_leaf': 38}. Best is trial 5 with value: 1353978.0360319132.\n",
      "'verbose' argument is deprecated and will be removed in a future release of LightGBM. Pass 'log_evaluation()' callback via 'callbacks' argument instead.\n"
     ]
    },
    {
     "name": "stdout",
     "output_type": "stream",
     "text": [
      "[LightGBM] [Warning] feature_fraction is set=0.8357629270108837, colsample_bytree=0.2983600554580775 will be ignored. Current value: feature_fraction=0.8357629270108837\n",
      "[LightGBM] [Warning] min_data_in_leaf is set=91, min_child_samples=20 will be ignored. Current value: min_data_in_leaf=91\n",
      "[LightGBM] [Warning] bagging_fraction is set=0.22949410256192437, subsample=0.33523258446749943 will be ignored. Current value: bagging_fraction=0.22949410256192437\n",
      "[LightGBM] [Warning] lambda_l2 is set=5.881768586629085, reg_lambda=0.0 will be ignored. Current value: lambda_l2=5.881768586629085\n",
      "[LightGBM] [Warning] bagging_freq is set=1, subsample_freq=0 will be ignored. Current value: bagging_freq=1\n"
     ]
    },
    {
     "name": "stderr",
     "output_type": "stream",
     "text": [
      "[I 2023-10-30 19:33:54,701] Trial 8 finished with value: 1565926.6697369032 and parameters: {'n_estimators': 958, 'lambda_l2': 5.881768586629085, 'bagging_fraction': 0.22949410256192437, 'num_leaves': 263, 'feature_fraction': 0.8357629270108837, 'max_depth': 18, 'learning_rate': 0.04117418882107179, 'subsample': 0.33523258446749943, 'colsample_bytree': 0.2983600554580775, 'min_data_in_leaf': 91}. Best is trial 5 with value: 1353978.0360319132.\n",
      "'verbose' argument is deprecated and will be removed in a future release of LightGBM. Pass 'log_evaluation()' callback via 'callbacks' argument instead.\n"
     ]
    },
    {
     "name": "stdout",
     "output_type": "stream",
     "text": [
      "[LightGBM] [Warning] feature_fraction is set=0.7006197563052178, colsample_bytree=0.06936384529354965 will be ignored. Current value: feature_fraction=0.7006197563052178\n",
      "[LightGBM] [Warning] min_data_in_leaf is set=18, min_child_samples=20 will be ignored. Current value: min_data_in_leaf=18\n",
      "[LightGBM] [Warning] bagging_fraction is set=0.879123561280668, subsample=0.22154824029041092 will be ignored. Current value: bagging_fraction=0.879123561280668\n",
      "[LightGBM] [Warning] lambda_l2 is set=7.116009005878226, reg_lambda=0.0 will be ignored. Current value: lambda_l2=7.116009005878226\n",
      "[LightGBM] [Warning] bagging_freq is set=1, subsample_freq=0 will be ignored. Current value: bagging_freq=1\n"
     ]
    },
    {
     "name": "stderr",
     "output_type": "stream",
     "text": [
      "[I 2023-10-30 19:33:58,509] Trial 9 finished with value: 2257621.023373345 and parameters: {'n_estimators': 1085, 'lambda_l2': 7.116009005878226, 'bagging_fraction': 0.879123561280668, 'num_leaves': 19, 'feature_fraction': 0.7006197563052178, 'max_depth': 22, 'learning_rate': 0.0010991384178731158, 'subsample': 0.22154824029041092, 'colsample_bytree': 0.06936384529354965, 'min_data_in_leaf': 18}. Best is trial 5 with value: 1353978.0360319132.\n",
      "'verbose' argument is deprecated and will be removed in a future release of LightGBM. Pass 'log_evaluation()' callback via 'callbacks' argument instead.\n"
     ]
    },
    {
     "name": "stdout",
     "output_type": "stream",
     "text": [
      "[LightGBM] [Warning] feature_fraction is set=0.9914726008641553, colsample_bytree=0.9308601651005055 will be ignored. Current value: feature_fraction=0.9914726008641553\n",
      "[LightGBM] [Warning] min_data_in_leaf is set=63, min_child_samples=20 will be ignored. Current value: min_data_in_leaf=63\n",
      "[LightGBM] [Warning] bagging_fraction is set=0.9777524293721571, subsample=0.5448646925038172 will be ignored. Current value: bagging_fraction=0.9777524293721571\n",
      "[LightGBM] [Warning] lambda_l2 is set=4.2431370248365115, reg_lambda=0.0 will be ignored. Current value: lambda_l2=4.2431370248365115\n",
      "[LightGBM] [Warning] bagging_freq is set=1, subsample_freq=0 will be ignored. Current value: bagging_freq=1\n"
     ]
    },
    {
     "name": "stderr",
     "output_type": "stream",
     "text": [
      "[I 2023-10-30 19:34:06,200] Trial 10 finished with value: 1296663.3579612367 and parameters: {'n_estimators': 803, 'lambda_l2': 4.2431370248365115, 'bagging_fraction': 0.9777524293721571, 'num_leaves': 959, 'feature_fraction': 0.9914726008641553, 'max_depth': 33, 'learning_rate': 0.06554802763682482, 'subsample': 0.5448646925038172, 'colsample_bytree': 0.9308601651005055, 'min_data_in_leaf': 63}. Best is trial 10 with value: 1296663.3579612367.\n",
      "'verbose' argument is deprecated and will be removed in a future release of LightGBM. Pass 'log_evaluation()' callback via 'callbacks' argument instead.\n"
     ]
    },
    {
     "name": "stdout",
     "output_type": "stream",
     "text": [
      "[LightGBM] [Warning] feature_fraction is set=0.9946093269011161, colsample_bytree=0.9280684480318568 will be ignored. Current value: feature_fraction=0.9946093269011161\n",
      "[LightGBM] [Warning] min_data_in_leaf is set=59, min_child_samples=20 will be ignored. Current value: min_data_in_leaf=59\n",
      "[LightGBM] [Warning] bagging_fraction is set=0.9993516601446563, subsample=0.538763097628704 will be ignored. Current value: bagging_fraction=0.9993516601446563\n",
      "[LightGBM] [Warning] lambda_l2 is set=4.0844055957078895, reg_lambda=0.0 will be ignored. Current value: lambda_l2=4.0844055957078895\n",
      "[LightGBM] [Warning] bagging_freq is set=1, subsample_freq=0 will be ignored. Current value: bagging_freq=1\n"
     ]
    },
    {
     "name": "stderr",
     "output_type": "stream",
     "text": [
      "[I 2023-10-30 19:34:15,190] Trial 11 finished with value: 1349465.4667854016 and parameters: {'n_estimators': 809, 'lambda_l2': 4.0844055957078895, 'bagging_fraction': 0.9993516601446563, 'num_leaves': 1012, 'feature_fraction': 0.9946093269011161, 'max_depth': 39, 'learning_rate': 0.08764425575257724, 'subsample': 0.538763097628704, 'colsample_bytree': 0.9280684480318568, 'min_data_in_leaf': 59}. Best is trial 10 with value: 1296663.3579612367.\n",
      "'verbose' argument is deprecated and will be removed in a future release of LightGBM. Pass 'log_evaluation()' callback via 'callbacks' argument instead.\n"
     ]
    },
    {
     "name": "stdout",
     "output_type": "stream",
     "text": [
      "[LightGBM] [Warning] feature_fraction is set=0.9892458661933351, colsample_bytree=0.9955340233635543 will be ignored. Current value: feature_fraction=0.9892458661933351\n",
      "[LightGBM] [Warning] min_data_in_leaf is set=61, min_child_samples=20 will be ignored. Current value: min_data_in_leaf=61\n",
      "[LightGBM] [Warning] bagging_fraction is set=0.977131112748567, subsample=0.48147345607188496 will be ignored. Current value: bagging_fraction=0.977131112748567\n",
      "[LightGBM] [Warning] lambda_l2 is set=3.696957482013768, reg_lambda=0.0 will be ignored. Current value: lambda_l2=3.696957482013768\n",
      "[LightGBM] [Warning] bagging_freq is set=1, subsample_freq=0 will be ignored. Current value: bagging_freq=1\n"
     ]
    },
    {
     "name": "stderr",
     "output_type": "stream",
     "text": [
      "[I 2023-10-30 19:34:24,415] Trial 12 finished with value: 1308092.155170579 and parameters: {'n_estimators': 804, 'lambda_l2': 3.696957482013768, 'bagging_fraction': 0.977131112748567, 'num_leaves': 1010, 'feature_fraction': 0.9892458661933351, 'max_depth': 37, 'learning_rate': 0.08775199783484185, 'subsample': 0.48147345607188496, 'colsample_bytree': 0.9955340233635543, 'min_data_in_leaf': 61}. Best is trial 10 with value: 1296663.3579612367.\n",
      "'verbose' argument is deprecated and will be removed in a future release of LightGBM. Pass 'log_evaluation()' callback via 'callbacks' argument instead.\n"
     ]
    },
    {
     "name": "stdout",
     "output_type": "stream",
     "text": [
      "[LightGBM] [Warning] feature_fraction is set=0.9769366201186792, colsample_bytree=0.9583388877220587 will be ignored. Current value: feature_fraction=0.9769366201186792\n",
      "[LightGBM] [Warning] min_data_in_leaf is set=62, min_child_samples=20 will be ignored. Current value: min_data_in_leaf=62\n",
      "[LightGBM] [Warning] bagging_fraction is set=0.9614486840704103, subsample=0.4361003803292539 will be ignored. Current value: bagging_fraction=0.9614486840704103\n",
      "[LightGBM] [Warning] lambda_l2 is set=3.903418139290014, reg_lambda=0.0 will be ignored. Current value: lambda_l2=3.903418139290014\n",
      "[LightGBM] [Warning] bagging_freq is set=1, subsample_freq=0 will be ignored. Current value: bagging_freq=1\n"
     ]
    },
    {
     "name": "stderr",
     "output_type": "stream",
     "text": [
      "[I 2023-10-30 19:34:33,446] Trial 13 finished with value: 1306492.2189881734 and parameters: {'n_estimators': 805, 'lambda_l2': 3.903418139290014, 'bagging_fraction': 0.9614486840704103, 'num_leaves': 983, 'feature_fraction': 0.9769366201186792, 'max_depth': 32, 'learning_rate': 0.09702138977184345, 'subsample': 0.4361003803292539, 'colsample_bytree': 0.9583388877220587, 'min_data_in_leaf': 62}. Best is trial 10 with value: 1296663.3579612367.\n",
      "'verbose' argument is deprecated and will be removed in a future release of LightGBM. Pass 'log_evaluation()' callback via 'callbacks' argument instead.\n"
     ]
    },
    {
     "name": "stdout",
     "output_type": "stream",
     "text": [
      "[LightGBM] [Warning] feature_fraction is set=0.9455776697824786, colsample_bytree=0.8095001859004088 will be ignored. Current value: feature_fraction=0.9455776697824786\n",
      "[LightGBM] [Warning] min_data_in_leaf is set=42, min_child_samples=20 will be ignored. Current value: min_data_in_leaf=42\n",
      "[LightGBM] [Warning] bagging_fraction is set=0.5751477742239698, subsample=0.3985788780966078 will be ignored. Current value: bagging_fraction=0.5751477742239698\n",
      "[LightGBM] [Warning] lambda_l2 is set=3.0366595842931243, reg_lambda=0.0 will be ignored. Current value: lambda_l2=3.0366595842931243\n",
      "[LightGBM] [Warning] bagging_freq is set=1, subsample_freq=0 will be ignored. Current value: bagging_freq=1\n"
     ]
    },
    {
     "name": "stderr",
     "output_type": "stream",
     "text": [
      "[I 2023-10-30 19:34:43,185] Trial 14 finished with value: 1300114.596504714 and parameters: {'n_estimators': 999, 'lambda_l2': 3.0366595842931243, 'bagging_fraction': 0.5751477742239698, 'num_leaves': 875, 'feature_fraction': 0.9455776697824786, 'max_depth': 31, 'learning_rate': 0.09101712014571825, 'subsample': 0.3985788780966078, 'colsample_bytree': 0.8095001859004088, 'min_data_in_leaf': 42}. Best is trial 10 with value: 1296663.3579612367.\n",
      "'verbose' argument is deprecated and will be removed in a future release of LightGBM. Pass 'log_evaluation()' callback via 'callbacks' argument instead.\n"
     ]
    },
    {
     "name": "stdout",
     "output_type": "stream",
     "text": [
      "[LightGBM] [Warning] feature_fraction is set=0.7749158461927925, colsample_bytree=0.7661620443549932 will be ignored. Current value: feature_fraction=0.7749158461927925\n",
      "[LightGBM] [Warning] min_data_in_leaf is set=41, min_child_samples=20 will be ignored. Current value: min_data_in_leaf=41\n",
      "[LightGBM] [Warning] bagging_fraction is set=0.5295638085655459, subsample=0.3334396912249792 will be ignored. Current value: bagging_fraction=0.5295638085655459\n",
      "[LightGBM] [Warning] lambda_l2 is set=2.5378383479709425, reg_lambda=0.0 will be ignored. Current value: lambda_l2=2.5378383479709425\n",
      "[LightGBM] [Warning] bagging_freq is set=1, subsample_freq=0 will be ignored. Current value: bagging_freq=1\n"
     ]
    },
    {
     "name": "stderr",
     "output_type": "stream",
     "text": [
      "[I 2023-10-30 19:34:51,674] Trial 15 finished with value: 1318147.5508017081 and parameters: {'n_estimators': 1016, 'lambda_l2': 2.5378383479709425, 'bagging_fraction': 0.5295638085655459, 'num_leaves': 852, 'feature_fraction': 0.7749158461927925, 'max_depth': 48, 'learning_rate': 0.01954659364692792, 'subsample': 0.3334396912249792, 'colsample_bytree': 0.7661620443549932, 'min_data_in_leaf': 41}. Best is trial 10 with value: 1296663.3579612367.\n",
      "'verbose' argument is deprecated and will be removed in a future release of LightGBM. Pass 'log_evaluation()' callback via 'callbacks' argument instead.\n"
     ]
    },
    {
     "name": "stdout",
     "output_type": "stream",
     "text": [
      "[LightGBM] [Warning] feature_fraction is set=0.9364619373060404, colsample_bytree=0.8203944305928536 will be ignored. Current value: feature_fraction=0.9364619373060404\n",
      "[LightGBM] [Warning] min_data_in_leaf is set=43, min_child_samples=20 will be ignored. Current value: min_data_in_leaf=43\n",
      "[LightGBM] [Warning] bagging_fraction is set=0.537020307088423, subsample=0.577502065839245 will be ignored. Current value: bagging_fraction=0.537020307088423\n",
      "[LightGBM] [Warning] lambda_l2 is set=5.319164643075587, reg_lambda=0.0 will be ignored. Current value: lambda_l2=5.319164643075587\n",
      "[LightGBM] [Warning] bagging_freq is set=1, subsample_freq=0 will be ignored. Current value: bagging_freq=1\n"
     ]
    },
    {
     "name": "stderr",
     "output_type": "stream",
     "text": [
      "[I 2023-10-30 19:35:00,529] Trial 16 finished with value: 1271016.4530015935 and parameters: {'n_estimators': 1017, 'lambda_l2': 5.319164643075587, 'bagging_fraction': 0.537020307088423, 'num_leaves': 867, 'feature_fraction': 0.9364619373060404, 'max_depth': 31, 'learning_rate': 0.06034900418960772, 'subsample': 0.577502065839245, 'colsample_bytree': 0.8203944305928536, 'min_data_in_leaf': 43}. Best is trial 16 with value: 1271016.4530015935.\n",
      "'verbose' argument is deprecated and will be removed in a future release of LightGBM. Pass 'log_evaluation()' callback via 'callbacks' argument instead.\n"
     ]
    },
    {
     "name": "stdout",
     "output_type": "stream",
     "text": [
      "[LightGBM] [Warning] feature_fraction is set=0.9290839179855743, colsample_bytree=0.5193330722926848 will be ignored. Current value: feature_fraction=0.9290839179855743\n",
      "[LightGBM] [Warning] min_data_in_leaf is set=24, min_child_samples=20 will be ignored. Current value: min_data_in_leaf=24\n",
      "[LightGBM] [Warning] bagging_fraction is set=0.4648716704947847, subsample=0.6112699435935822 will be ignored. Current value: bagging_fraction=0.4648716704947847\n",
      "[LightGBM] [Warning] lambda_l2 is set=5.054280325972843, reg_lambda=0.0 will be ignored. Current value: lambda_l2=5.054280325972843\n",
      "[LightGBM] [Warning] bagging_freq is set=1, subsample_freq=0 will be ignored. Current value: bagging_freq=1\n"
     ]
    },
    {
     "name": "stderr",
     "output_type": "stream",
     "text": [
      "[I 2023-10-30 19:35:17,090] Trial 17 finished with value: 1266043.6513597695 and parameters: {'n_estimators': 1033, 'lambda_l2': 5.054280325972843, 'bagging_fraction': 0.4648716704947847, 'num_leaves': 682, 'feature_fraction': 0.9290839179855743, 'max_depth': 43, 'learning_rate': 0.021681956875292407, 'subsample': 0.6112699435935822, 'colsample_bytree': 0.5193330722926848, 'min_data_in_leaf': 24}. Best is trial 17 with value: 1266043.6513597695.\n",
      "'verbose' argument is deprecated and will be removed in a future release of LightGBM. Pass 'log_evaluation()' callback via 'callbacks' argument instead.\n"
     ]
    },
    {
     "name": "stdout",
     "output_type": "stream",
     "text": [
      "[LightGBM] [Warning] feature_fraction is set=0.9164263711598635, colsample_bytree=0.47496258937354213 will be ignored. Current value: feature_fraction=0.9164263711598635\n",
      "[LightGBM] [Warning] min_data_in_leaf is set=10, min_child_samples=20 will be ignored. Current value: min_data_in_leaf=10\n",
      "[LightGBM] [Warning] bagging_fraction is set=0.45873580532485464, subsample=0.6447972069285863 will be ignored. Current value: bagging_fraction=0.45873580532485464\n",
      "[LightGBM] [Warning] lambda_l2 is set=5.594433900217233, reg_lambda=0.0 will be ignored. Current value: lambda_l2=5.594433900217233\n",
      "[LightGBM] [Warning] bagging_freq is set=1, subsample_freq=0 will be ignored. Current value: bagging_freq=1\n"
     ]
    },
    {
     "name": "stderr",
     "output_type": "stream",
     "text": [
      "[I 2023-10-30 19:35:38,081] Trial 18 finished with value: 1232346.5097666134 and parameters: {'n_estimators': 1009, 'lambda_l2': 5.594433900217233, 'bagging_fraction': 0.45873580532485464, 'num_leaves': 693, 'feature_fraction': 0.9164263711598635, 'max_depth': 43, 'learning_rate': 0.019581778101281404, 'subsample': 0.6447972069285863, 'colsample_bytree': 0.47496258937354213, 'min_data_in_leaf': 10}. Best is trial 18 with value: 1232346.5097666134.\n",
      "'verbose' argument is deprecated and will be removed in a future release of LightGBM. Pass 'log_evaluation()' callback via 'callbacks' argument instead.\n"
     ]
    },
    {
     "name": "stdout",
     "output_type": "stream",
     "text": [
      "[LightGBM] [Warning] feature_fraction is set=0.7960661494508848, colsample_bytree=0.47226459190244063 will be ignored. Current value: feature_fraction=0.7960661494508848\n",
      "[LightGBM] [Warning] min_data_in_leaf is set=10, min_child_samples=20 will be ignored. Current value: min_data_in_leaf=10\n",
      "[LightGBM] [Warning] bagging_fraction is set=0.45961016983379094, subsample=0.6449055844101388 will be ignored. Current value: bagging_fraction=0.45961016983379094\n",
      "[LightGBM] [Warning] lambda_l2 is set=5.789400916831573, reg_lambda=0.0 will be ignored. Current value: lambda_l2=5.789400916831573\n",
      "[LightGBM] [Warning] bagging_freq is set=1, subsample_freq=0 will be ignored. Current value: bagging_freq=1\n"
     ]
    },
    {
     "name": "stderr",
     "output_type": "stream",
     "text": [
      "[I 2023-10-30 19:35:58,070] Trial 19 finished with value: 1241753.8216063175 and parameters: {'n_estimators': 1045, 'lambda_l2': 5.789400916831573, 'bagging_fraction': 0.45961016983379094, 'num_leaves': 480, 'feature_fraction': 0.7960661494508848, 'max_depth': 45, 'learning_rate': 0.019437209674241052, 'subsample': 0.6449055844101388, 'colsample_bytree': 0.47226459190244063, 'min_data_in_leaf': 10}. Best is trial 18 with value: 1232346.5097666134.\n",
      "'verbose' argument is deprecated and will be removed in a future release of LightGBM. Pass 'log_evaluation()' callback via 'callbacks' argument instead.\n"
     ]
    },
    {
     "name": "stdout",
     "output_type": "stream",
     "text": [
      "[LightGBM] [Warning] feature_fraction is set=0.7665983928113148, colsample_bytree=0.45784986742003325 will be ignored. Current value: feature_fraction=0.7665983928113148\n",
      "[LightGBM] [Warning] min_data_in_leaf is set=10, min_child_samples=20 will be ignored. Current value: min_data_in_leaf=10\n",
      "[LightGBM] [Warning] bagging_fraction is set=0.4199547528978453, subsample=0.6996645175133929 will be ignored. Current value: bagging_fraction=0.4199547528978453\n",
      "[LightGBM] [Warning] lambda_l2 is set=6.24119525891266, reg_lambda=0.0 will be ignored. Current value: lambda_l2=6.24119525891266\n",
      "[LightGBM] [Warning] bagging_freq is set=1, subsample_freq=0 will be ignored. Current value: bagging_freq=1\n"
     ]
    },
    {
     "name": "stderr",
     "output_type": "stream",
     "text": [
      "[I 2023-10-30 19:36:13,890] Trial 20 finished with value: 1234993.588354906 and parameters: {'n_estimators': 977, 'lambda_l2': 6.24119525891266, 'bagging_fraction': 0.4199547528978453, 'num_leaves': 471, 'feature_fraction': 0.7665983928113148, 'max_depth': 50, 'learning_rate': 0.010092153791929655, 'subsample': 0.6996645175133929, 'colsample_bytree': 0.45784986742003325, 'min_data_in_leaf': 10}. Best is trial 18 with value: 1232346.5097666134.\n",
      "'verbose' argument is deprecated and will be removed in a future release of LightGBM. Pass 'log_evaluation()' callback via 'callbacks' argument instead.\n"
     ]
    },
    {
     "name": "stdout",
     "output_type": "stream",
     "text": [
      "[LightGBM] [Warning] feature_fraction is set=0.7853669186458165, colsample_bytree=0.45015809978217963 will be ignored. Current value: feature_fraction=0.7853669186458165\n",
      "[LightGBM] [Warning] min_data_in_leaf is set=12, min_child_samples=20 will be ignored. Current value: min_data_in_leaf=12\n",
      "[LightGBM] [Warning] bagging_fraction is set=0.39398143498563587, subsample=0.6793617219649036 will be ignored. Current value: bagging_fraction=0.39398143498563587\n",
      "[LightGBM] [Warning] lambda_l2 is set=6.345924653836272, reg_lambda=0.0 will be ignored. Current value: lambda_l2=6.345924653836272\n",
      "[LightGBM] [Warning] bagging_freq is set=1, subsample_freq=0 will be ignored. Current value: bagging_freq=1\n"
     ]
    },
    {
     "name": "stderr",
     "output_type": "stream",
     "text": [
      "[I 2023-10-30 19:36:26,952] Trial 21 finished with value: 1245842.140605438 and parameters: {'n_estimators': 975, 'lambda_l2': 6.345924653836272, 'bagging_fraction': 0.39398143498563587, 'num_leaves': 439, 'feature_fraction': 0.7853669186458165, 'max_depth': 44, 'learning_rate': 0.012561565422711076, 'subsample': 0.6793617219649036, 'colsample_bytree': 0.45015809978217963, 'min_data_in_leaf': 12}. Best is trial 18 with value: 1232346.5097666134.\n",
      "'verbose' argument is deprecated and will be removed in a future release of LightGBM. Pass 'log_evaluation()' callback via 'callbacks' argument instead.\n"
     ]
    },
    {
     "name": "stdout",
     "output_type": "stream",
     "text": [
      "[LightGBM] [Warning] feature_fraction is set=0.8035466621092476, colsample_bytree=0.4941229827102386 will be ignored. Current value: feature_fraction=0.8035466621092476\n",
      "[LightGBM] [Warning] min_data_in_leaf is set=27, min_child_samples=20 will be ignored. Current value: min_data_in_leaf=27\n",
      "[LightGBM] [Warning] bagging_fraction is set=0.39518654247337065, subsample=0.7467780690611078 will be ignored. Current value: bagging_fraction=0.39518654247337065\n",
      "[LightGBM] [Warning] lambda_l2 is set=6.141930668060509, reg_lambda=0.0 will be ignored. Current value: lambda_l2=6.141930668060509\n",
      "[LightGBM] [Warning] bagging_freq is set=1, subsample_freq=0 will be ignored. Current value: bagging_freq=1\n"
     ]
    },
    {
     "name": "stderr",
     "output_type": "stream",
     "text": [
      "[I 2023-10-30 19:36:35,263] Trial 22 finished with value: 1284570.5187903903 and parameters: {'n_estimators': 1050, 'lambda_l2': 6.141930668060509, 'bagging_fraction': 0.39518654247337065, 'num_leaves': 354, 'feature_fraction': 0.8035466621092476, 'max_depth': 49, 'learning_rate': 0.018898508891638337, 'subsample': 0.7467780690611078, 'colsample_bytree': 0.4941229827102386, 'min_data_in_leaf': 27}. Best is trial 18 with value: 1232346.5097666134.\n",
      "'verbose' argument is deprecated and will be removed in a future release of LightGBM. Pass 'log_evaluation()' callback via 'callbacks' argument instead.\n"
     ]
    },
    {
     "name": "stdout",
     "output_type": "stream",
     "text": [
      "[LightGBM] [Warning] feature_fraction is set=0.8603102944058495, colsample_bytree=0.4340250081580487 will be ignored. Current value: feature_fraction=0.8603102944058495\n",
      "[LightGBM] [Warning] min_data_in_leaf is set=11, min_child_samples=20 will be ignored. Current value: min_data_in_leaf=11\n",
      "[LightGBM] [Warning] bagging_fraction is set=0.43017802522639886, subsample=0.6300526409075363 will be ignored. Current value: bagging_fraction=0.43017802522639886\n",
      "[LightGBM] [Warning] lambda_l2 is set=5.296719141008067, reg_lambda=0.0 will be ignored. Current value: lambda_l2=5.296719141008067\n",
      "[LightGBM] [Warning] bagging_freq is set=1, subsample_freq=0 will be ignored. Current value: bagging_freq=1\n"
     ]
    },
    {
     "name": "stderr",
     "output_type": "stream",
     "text": [
      "[I 2023-10-30 19:36:51,792] Trial 23 finished with value: 1245609.898073349 and parameters: {'n_estimators': 973, 'lambda_l2': 5.296719141008067, 'bagging_fraction': 0.43017802522639886, 'num_leaves': 568, 'feature_fraction': 0.8603102944058495, 'max_depth': 43, 'learning_rate': 0.008193546226633512, 'subsample': 0.6300526409075363, 'colsample_bytree': 0.4340250081580487, 'min_data_in_leaf': 11}. Best is trial 18 with value: 1232346.5097666134.\n",
      "'verbose' argument is deprecated and will be removed in a future release of LightGBM. Pass 'log_evaluation()' callback via 'callbacks' argument instead.\n"
     ]
    },
    {
     "name": "stdout",
     "output_type": "stream",
     "text": [
      "[LightGBM] [Warning] feature_fraction is set=0.7522104485334772, colsample_bytree=0.5674876381741566 will be ignored. Current value: feature_fraction=0.7522104485334772\n",
      "[LightGBM] [Warning] min_data_in_leaf is set=29, min_child_samples=20 will be ignored. Current value: min_data_in_leaf=29\n",
      "[LightGBM] [Warning] bagging_fraction is set=0.5915792027049381, subsample=0.7876195092598048 will be ignored. Current value: bagging_fraction=0.5915792027049381\n",
      "[LightGBM] [Warning] lambda_l2 is set=6.175119399937854, reg_lambda=0.0 will be ignored. Current value: lambda_l2=6.175119399937854\n",
      "[LightGBM] [Warning] bagging_freq is set=1, subsample_freq=0 will be ignored. Current value: bagging_freq=1\n"
     ]
    },
    {
     "name": "stderr",
     "output_type": "stream",
     "text": [
      "[I 2023-10-30 19:37:04,739] Trial 24 finished with value: 1291441.602293296 and parameters: {'n_estimators': 1123, 'lambda_l2': 6.175119399937854, 'bagging_fraction': 0.5915792027049381, 'num_leaves': 379, 'feature_fraction': 0.7522104485334772, 'max_depth': 41, 'learning_rate': 0.009312868935482426, 'subsample': 0.7876195092598048, 'colsample_bytree': 0.5674876381741566, 'min_data_in_leaf': 29}. Best is trial 18 with value: 1232346.5097666134.\n",
      "'verbose' argument is deprecated and will be removed in a future release of LightGBM. Pass 'log_evaluation()' callback via 'callbacks' argument instead.\n"
     ]
    },
    {
     "name": "stdout",
     "output_type": "stream",
     "text": [
      "[LightGBM] [Warning] feature_fraction is set=0.8384482576440848, colsample_bytree=0.6034483724981506 will be ignored. Current value: feature_fraction=0.8384482576440848\n",
      "[LightGBM] [Warning] min_data_in_leaf is set=17, min_child_samples=20 will be ignored. Current value: min_data_in_leaf=17\n",
      "[LightGBM] [Warning] bagging_fraction is set=0.4794982579782114, subsample=0.8030700979820077 will be ignored. Current value: bagging_fraction=0.4794982579782114\n",
      "[LightGBM] [Warning] lambda_l2 is set=4.864366757844876, reg_lambda=0.0 will be ignored. Current value: lambda_l2=4.864366757844876\n",
      "[LightGBM] [Warning] bagging_freq is set=1, subsample_freq=0 will be ignored. Current value: bagging_freq=1\n"
     ]
    },
    {
     "name": "stderr",
     "output_type": "stream",
     "text": [
      "[I 2023-10-30 19:37:20,793] Trial 25 finished with value: 1276132.5129543897 and parameters: {'n_estimators': 1055, 'lambda_l2': 4.864366757844876, 'bagging_fraction': 0.4794982579782114, 'num_leaves': 608, 'feature_fraction': 0.8384482576440848, 'max_depth': 46, 'learning_rate': 0.026019688824626627, 'subsample': 0.8030700979820077, 'colsample_bytree': 0.6034483724981506, 'min_data_in_leaf': 17}. Best is trial 18 with value: 1232346.5097666134.\n",
      "'verbose' argument is deprecated and will be removed in a future release of LightGBM. Pass 'log_evaluation()' callback via 'callbacks' argument instead.\n"
     ]
    },
    {
     "name": "stdout",
     "output_type": "stream",
     "text": [
      "[LightGBM] [Warning] feature_fraction is set=0.758131443505457, colsample_bytree=0.3885644406892214 will be ignored. Current value: feature_fraction=0.758131443505457\n",
      "[LightGBM] [Warning] min_data_in_leaf is set=20, min_child_samples=20 will be ignored. Current value: min_data_in_leaf=20\n",
      "[LightGBM] [Warning] bagging_fraction is set=0.3439640712892503, subsample=0.6483403366398771 will be ignored. Current value: bagging_fraction=0.3439640712892503\n",
      "[LightGBM] [Warning] lambda_l2 is set=8.051576276178903, reg_lambda=0.0 will be ignored. Current value: lambda_l2=8.051576276178903\n",
      "[LightGBM] [Warning] bagging_freq is set=1, subsample_freq=0 will be ignored. Current value: bagging_freq=1\n"
     ]
    },
    {
     "name": "stderr",
     "output_type": "stream",
     "text": [
      "[I 2023-10-30 19:37:30,013] Trial 26 finished with value: 1315833.0390162726 and parameters: {'n_estimators': 996, 'lambda_l2': 8.051576276178903, 'bagging_fraction': 0.3439640712892503, 'num_leaves': 725, 'feature_fraction': 0.758131443505457, 'max_depth': 50, 'learning_rate': 0.018688621818483242, 'subsample': 0.6483403366398771, 'colsample_bytree': 0.3885644406892214, 'min_data_in_leaf': 20}. Best is trial 18 with value: 1232346.5097666134.\n",
      "'verbose' argument is deprecated and will be removed in a future release of LightGBM. Pass 'log_evaluation()' callback via 'callbacks' argument instead.\n"
     ]
    },
    {
     "name": "stdout",
     "output_type": "stream",
     "text": [
      "[LightGBM] [Warning] feature_fraction is set=0.7954758459521751, colsample_bytree=0.4922667443987893 will be ignored. Current value: feature_fraction=0.7954758459521751\n",
      "[LightGBM] [Warning] min_data_in_leaf is set=34, min_child_samples=20 will be ignored. Current value: min_data_in_leaf=34\n",
      "[LightGBM] [Warning] bagging_fraction is set=0.47419856777902136, subsample=0.6005387733721892 will be ignored. Current value: bagging_fraction=0.47419856777902136\n",
      "[LightGBM] [Warning] lambda_l2 is set=6.442339244503217, reg_lambda=0.0 will be ignored. Current value: lambda_l2=6.442339244503217\n",
      "[LightGBM] [Warning] bagging_freq is set=1, subsample_freq=0 will be ignored. Current value: bagging_freq=1\n"
     ]
    },
    {
     "name": "stderr",
     "output_type": "stream",
     "text": [
      "[I 2023-10-30 19:37:37,319] Trial 27 finished with value: 1357514.4725695944 and parameters: {'n_estimators': 894, 'lambda_l2': 6.442339244503217, 'bagging_fraction': 0.47419856777902136, 'num_leaves': 448, 'feature_fraction': 0.7954758459521751, 'max_depth': 50, 'learning_rate': 0.014785887118252872, 'subsample': 0.6005387733721892, 'colsample_bytree': 0.4922667443987893, 'min_data_in_leaf': 34}. Best is trial 18 with value: 1232346.5097666134.\n",
      "'verbose' argument is deprecated and will be removed in a future release of LightGBM. Pass 'log_evaluation()' callback via 'callbacks' argument instead.\n"
     ]
    },
    {
     "name": "stdout",
     "output_type": "stream",
     "text": [
      "[LightGBM] [Warning] feature_fraction is set=0.8923827519154264, colsample_bytree=0.5583039608904754 will be ignored. Current value: feature_fraction=0.8923827519154264\n",
      "[LightGBM] [Warning] min_data_in_leaf is set=10, min_child_samples=20 will be ignored. Current value: min_data_in_leaf=10\n",
      "[LightGBM] [Warning] bagging_fraction is set=0.6366409027392206, subsample=0.6566712644079749 will be ignored. Current value: bagging_fraction=0.6366409027392206\n",
      "[LightGBM] [Warning] lambda_l2 is set=5.537416300515647, reg_lambda=0.0 will be ignored. Current value: lambda_l2=5.537416300515647\n",
      "[LightGBM] [Warning] bagging_freq is set=1, subsample_freq=0 will be ignored. Current value: bagging_freq=1\n"
     ]
    },
    {
     "name": "stderr",
     "output_type": "stream",
     "text": [
      "[I 2023-10-30 19:38:09,263] Trial 28 finished with value: 1230231.3239657255 and parameters: {'n_estimators': 1150, 'lambda_l2': 5.537416300515647, 'bagging_fraction': 0.6366409027392206, 'num_leaves': 606, 'feature_fraction': 0.8923827519154264, 'max_depth': 40, 'learning_rate': 0.02789920728494094, 'subsample': 0.6566712644079749, 'colsample_bytree': 0.5583039608904754, 'min_data_in_leaf': 10}. Best is trial 28 with value: 1230231.3239657255.\n",
      "'verbose' argument is deprecated and will be removed in a future release of LightGBM. Pass 'log_evaluation()' callback via 'callbacks' argument instead.\n"
     ]
    },
    {
     "name": "stdout",
     "output_type": "stream",
     "text": [
      "[LightGBM] [Warning] feature_fraction is set=0.8895469084425491, colsample_bytree=0.3644196324309886 will be ignored. Current value: feature_fraction=0.8895469084425491\n",
      "[LightGBM] [Warning] min_data_in_leaf is set=48, min_child_samples=20 will be ignored. Current value: min_data_in_leaf=48\n",
      "[LightGBM] [Warning] bagging_fraction is set=0.7213320629121421, subsample=0.8740566350139807 will be ignored. Current value: bagging_fraction=0.7213320629121421\n",
      "[LightGBM] [Warning] lambda_l2 is set=4.728922772321954, reg_lambda=0.0 will be ignored. Current value: lambda_l2=4.728922772321954\n",
      "[LightGBM] [Warning] bagging_freq is set=1, subsample_freq=0 will be ignored. Current value: bagging_freq=1\n"
     ]
    },
    {
     "name": "stderr",
     "output_type": "stream",
     "text": [
      "[I 2023-10-30 19:38:22,370] Trial 29 finished with value: 1291629.0921844034 and parameters: {'n_estimators': 1192, 'lambda_l2': 4.728922772321954, 'bagging_fraction': 0.7213320629121421, 'num_leaves': 753, 'feature_fraction': 0.8895469084425491, 'max_depth': 40, 'learning_rate': 0.02640070649674388, 'subsample': 0.8740566350139807, 'colsample_bytree': 0.3644196324309886, 'min_data_in_leaf': 48}. Best is trial 28 with value: 1230231.3239657255.\n",
      "'verbose' argument is deprecated and will be removed in a future release of LightGBM. Pass 'log_evaluation()' callback via 'callbacks' argument instead.\n"
     ]
    },
    {
     "name": "stdout",
     "output_type": "stream",
     "text": [
      "[LightGBM] [Warning] feature_fraction is set=0.5601475916475483, colsample_bytree=0.6643076044153942 will be ignored. Current value: feature_fraction=0.5601475916475483\n",
      "[LightGBM] [Warning] min_data_in_leaf is set=33, min_child_samples=20 will be ignored. Current value: min_data_in_leaf=33\n",
      "[LightGBM] [Warning] bagging_fraction is set=0.6130807586992153, subsample=0.5334700439766518 will be ignored. Current value: bagging_fraction=0.6130807586992153\n",
      "[LightGBM] [Warning] lambda_l2 is set=8.932414666886704, reg_lambda=0.0 will be ignored. Current value: lambda_l2=8.932414666886704\n",
      "[LightGBM] [Warning] bagging_freq is set=1, subsample_freq=0 will be ignored. Current value: bagging_freq=1\n"
     ]
    },
    {
     "name": "stderr",
     "output_type": "stream",
     "text": [
      "[I 2023-10-30 19:38:31,430] Trial 30 finished with value: 1370860.6844681604 and parameters: {'n_estimators': 1131, 'lambda_l2': 8.932414666886704, 'bagging_fraction': 0.6130807586992153, 'num_leaves': 622, 'feature_fraction': 0.5601475916475483, 'max_depth': 35, 'learning_rate': 0.007590510288164297, 'subsample': 0.5334700439766518, 'colsample_bytree': 0.6643076044153942, 'min_data_in_leaf': 33}. Best is trial 28 with value: 1230231.3239657255.\n",
      "'verbose' argument is deprecated and will be removed in a future release of LightGBM. Pass 'log_evaluation()' callback via 'callbacks' argument instead.\n"
     ]
    },
    {
     "name": "stdout",
     "output_type": "stream",
     "text": [
      "[LightGBM] [Warning] feature_fraction is set=0.8513281526025094, colsample_bytree=0.4509899255153016 will be ignored. Current value: feature_fraction=0.8513281526025094\n",
      "[LightGBM] [Warning] min_data_in_leaf is set=10, min_child_samples=20 will be ignored. Current value: min_data_in_leaf=10\n",
      "[LightGBM] [Warning] bagging_fraction is set=0.49247225264379724, subsample=0.6758101493215637 will be ignored. Current value: bagging_fraction=0.49247225264379724\n",
      "[LightGBM] [Warning] lambda_l2 is set=5.549370556597469, reg_lambda=0.0 will be ignored. Current value: lambda_l2=5.549370556597469\n",
      "[LightGBM] [Warning] bagging_freq is set=1, subsample_freq=0 will be ignored. Current value: bagging_freq=1\n"
     ]
    },
    {
     "name": "stderr",
     "output_type": "stream",
     "text": [
      "[I 2023-10-30 19:38:55,380] Trial 31 finished with value: 1197787.7956579023 and parameters: {'n_estimators': 1164, 'lambda_l2': 5.549370556597469, 'bagging_fraction': 0.49247225264379724, 'num_leaves': 495, 'feature_fraction': 0.8513281526025094, 'max_depth': 45, 'learning_rate': 0.013130469975995469, 'subsample': 0.6758101493215637, 'colsample_bytree': 0.4509899255153016, 'min_data_in_leaf': 10}. Best is trial 31 with value: 1197787.7956579023.\n",
      "'verbose' argument is deprecated and will be removed in a future release of LightGBM. Pass 'log_evaluation()' callback via 'callbacks' argument instead.\n"
     ]
    },
    {
     "name": "stdout",
     "output_type": "stream",
     "text": [
      "[LightGBM] [Warning] feature_fraction is set=0.8866975391516342, colsample_bytree=0.5471240378419029 will be ignored. Current value: feature_fraction=0.8866975391516342\n",
      "[LightGBM] [Warning] min_data_in_leaf is set=21, min_child_samples=20 will be ignored. Current value: min_data_in_leaf=21\n",
      "[LightGBM] [Warning] bagging_fraction is set=0.5597263144646443, subsample=0.6823276201272539 will be ignored. Current value: bagging_fraction=0.5597263144646443\n",
      "[LightGBM] [Warning] lambda_l2 is set=5.546717211415215, reg_lambda=0.0 will be ignored. Current value: lambda_l2=5.546717211415215\n",
      "[LightGBM] [Warning] bagging_freq is set=1, subsample_freq=0 will be ignored. Current value: bagging_freq=1\n"
     ]
    },
    {
     "name": "stderr",
     "output_type": "stream",
     "text": [
      "[I 2023-10-30 19:39:11,125] Trial 32 finished with value: 1254713.1375909946 and parameters: {'n_estimators': 1161, 'lambda_l2': 5.546717211415215, 'bagging_fraction': 0.5597263144646443, 'num_leaves': 561, 'feature_fraction': 0.8866975391516342, 'max_depth': 41, 'learning_rate': 0.01099965697668578, 'subsample': 0.6823276201272539, 'colsample_bytree': 0.5471240378419029, 'min_data_in_leaf': 21}. Best is trial 31 with value: 1197787.7956579023.\n",
      "'verbose' argument is deprecated and will be removed in a future release of LightGBM. Pass 'log_evaluation()' callback via 'callbacks' argument instead.\n"
     ]
    },
    {
     "name": "stdout",
     "output_type": "stream",
     "text": [
      "[LightGBM] [Warning] feature_fraction is set=0.8606378209808863, colsample_bytree=0.3250505827635922 will be ignored. Current value: feature_fraction=0.8606378209808863\n",
      "[LightGBM] [Warning] min_data_in_leaf is set=15, min_child_samples=20 will be ignored. Current value: min_data_in_leaf=15\n",
      "[LightGBM] [Warning] bagging_fraction is set=0.49809326718437186, subsample=0.7581710035972085 will be ignored. Current value: bagging_fraction=0.49809326718437186\n",
      "[LightGBM] [Warning] lambda_l2 is set=6.693986362187353, reg_lambda=0.0 will be ignored. Current value: lambda_l2=6.693986362187353\n",
      "[LightGBM] [Warning] bagging_freq is set=1, subsample_freq=0 will be ignored. Current value: bagging_freq=1\n"
     ]
    },
    {
     "name": "stderr",
     "output_type": "stream",
     "text": [
      "[I 2023-10-30 19:39:29,221] Trial 33 finished with value: 1230830.8068522227 and parameters: {'n_estimators': 1168, 'lambda_l2': 6.693986362187353, 'bagging_fraction': 0.49809326718437186, 'num_leaves': 503, 'feature_fraction': 0.8606378209808863, 'max_depth': 46, 'learning_rate': 0.014941368254465766, 'subsample': 0.7581710035972085, 'colsample_bytree': 0.3250505827635922, 'min_data_in_leaf': 15}. Best is trial 31 with value: 1197787.7956579023.\n",
      "'verbose' argument is deprecated and will be removed in a future release of LightGBM. Pass 'log_evaluation()' callback via 'callbacks' argument instead.\n"
     ]
    },
    {
     "name": "stdout",
     "output_type": "stream",
     "text": [
      "[LightGBM] [Warning] feature_fraction is set=0.8699546492548003, colsample_bytree=0.3205056362708585 will be ignored. Current value: feature_fraction=0.8699546492548003\n",
      "[LightGBM] [Warning] min_data_in_leaf is set=16, min_child_samples=20 will be ignored. Current value: min_data_in_leaf=16\n",
      "[LightGBM] [Warning] bagging_fraction is set=0.512276194054736, subsample=0.775077988119725 will be ignored. Current value: bagging_fraction=0.512276194054736\n",
      "[LightGBM] [Warning] lambda_l2 is set=6.6630549598421895, reg_lambda=0.0 will be ignored. Current value: lambda_l2=6.6630549598421895\n",
      "[LightGBM] [Warning] bagging_freq is set=1, subsample_freq=0 will be ignored. Current value: bagging_freq=1\n"
     ]
    },
    {
     "name": "stderr",
     "output_type": "stream",
     "text": [
      "[I 2023-10-30 19:39:46,081] Trial 34 finished with value: 1244097.4649765422 and parameters: {'n_estimators': 1166, 'lambda_l2': 6.6630549598421895, 'bagging_fraction': 0.512276194054736, 'num_leaves': 395, 'feature_fraction': 0.8699546492548003, 'max_depth': 38, 'learning_rate': 0.014346181546206, 'subsample': 0.775077988119725, 'colsample_bytree': 0.3205056362708585, 'min_data_in_leaf': 16}. Best is trial 31 with value: 1197787.7956579023.\n",
      "'verbose' argument is deprecated and will be removed in a future release of LightGBM. Pass 'log_evaluation()' callback via 'callbacks' argument instead.\n"
     ]
    },
    {
     "name": "stdout",
     "output_type": "stream",
     "text": [
      "[LightGBM] [Warning] feature_fraction is set=0.8497555922607517, colsample_bytree=0.42304642926317476 will be ignored. Current value: feature_fraction=0.8497555922607517\n",
      "[LightGBM] [Warning] min_data_in_leaf is set=25, min_child_samples=20 will be ignored. Current value: min_data_in_leaf=25\n",
      "[LightGBM] [Warning] bagging_fraction is set=0.6420103830246018, subsample=0.8412866487792643 will be ignored. Current value: bagging_fraction=0.6420103830246018\n",
      "[LightGBM] [Warning] lambda_l2 is set=7.742436557930466, reg_lambda=0.0 will be ignored. Current value: lambda_l2=7.742436557930466\n",
      "[LightGBM] [Warning] bagging_freq is set=1, subsample_freq=0 will be ignored. Current value: bagging_freq=1\n"
     ]
    },
    {
     "name": "stderr",
     "output_type": "stream",
     "text": [
      "[I 2023-10-30 19:39:59,328] Trial 35 finished with value: 1260157.3656966665 and parameters: {'n_estimators': 1096, 'lambda_l2': 7.742436557930466, 'bagging_fraction': 0.6420103830246018, 'num_leaves': 628, 'feature_fraction': 0.8497555922607517, 'max_depth': 29, 'learning_rate': 0.031878340514744315, 'subsample': 0.8412866487792643, 'colsample_bytree': 0.42304642926317476, 'min_data_in_leaf': 25}. Best is trial 31 with value: 1197787.7956579023.\n",
      "'verbose' argument is deprecated and will be removed in a future release of LightGBM. Pass 'log_evaluation()' callback via 'callbacks' argument instead.\n"
     ]
    },
    {
     "name": "stdout",
     "output_type": "stream",
     "text": [
      "[LightGBM] [Warning] feature_fraction is set=0.910119393463262, colsample_bytree=0.28064739450579623 will be ignored. Current value: feature_fraction=0.910119393463262\n",
      "[LightGBM] [Warning] min_data_in_leaf is set=15, min_child_samples=20 will be ignored. Current value: min_data_in_leaf=15\n",
      "[LightGBM] [Warning] bagging_fraction is set=0.6601204544233537, subsample=0.7331474051397459 will be ignored. Current value: bagging_fraction=0.6601204544233537\n",
      "[LightGBM] [Warning] lambda_l2 is set=6.725533567227125, reg_lambda=0.0 will be ignored. Current value: lambda_l2=6.725533567227125\n",
      "[LightGBM] [Warning] bagging_freq is set=1, subsample_freq=0 will be ignored. Current value: bagging_freq=1\n"
     ]
    },
    {
     "name": "stderr",
     "output_type": "stream",
     "text": [
      "[I 2023-10-30 19:40:29,576] Trial 36 finished with value: 1235714.7000348743 and parameters: {'n_estimators': 1199, 'lambda_l2': 6.725533567227125, 'bagging_fraction': 0.6601204544233537, 'num_leaves': 762, 'feature_fraction': 0.910119393463262, 'max_depth': 36, 'learning_rate': 0.01601907809309695, 'subsample': 0.7331474051397459, 'colsample_bytree': 0.28064739450579623, 'min_data_in_leaf': 15}. Best is trial 31 with value: 1197787.7956579023.\n",
      "'verbose' argument is deprecated and will be removed in a future release of LightGBM. Pass 'log_evaluation()' callback via 'callbacks' argument instead.\n"
     ]
    },
    {
     "name": "stdout",
     "output_type": "stream",
     "text": [
      "[LightGBM] [Warning] feature_fraction is set=0.81935580613705, colsample_bytree=0.34603243662074434 will be ignored. Current value: feature_fraction=0.81935580613705\n",
      "[LightGBM] [Warning] min_data_in_leaf is set=31, min_child_samples=20 will be ignored. Current value: min_data_in_leaf=31\n",
      "[LightGBM] [Warning] bagging_fraction is set=0.5489633431640651, subsample=0.9941621530095989 will be ignored. Current value: bagging_fraction=0.5489633431640651\n",
      "[LightGBM] [Warning] lambda_l2 is set=5.689056668791972, reg_lambda=0.0 will be ignored. Current value: lambda_l2=5.689056668791972\n",
      "[LightGBM] [Warning] bagging_freq is set=1, subsample_freq=0 will be ignored. Current value: bagging_freq=1\n"
     ]
    },
    {
     "name": "stderr",
     "output_type": "stream",
     "text": [
      "[I 2023-10-30 19:40:41,331] Trial 37 finished with value: 1378371.943375811 and parameters: {'n_estimators': 1164, 'lambda_l2': 5.689056668791972, 'bagging_fraction': 0.5489633431640651, 'num_leaves': 507, 'feature_fraction': 0.81935580613705, 'max_depth': 46, 'learning_rate': 0.006297643804898512, 'subsample': 0.9941621530095989, 'colsample_bytree': 0.34603243662074434, 'min_data_in_leaf': 31}. Best is trial 31 with value: 1197787.7956579023.\n",
      "'verbose' argument is deprecated and will be removed in a future release of LightGBM. Pass 'log_evaluation()' callback via 'callbacks' argument instead.\n"
     ]
    },
    {
     "name": "stdout",
     "output_type": "stream",
     "text": [
      "[LightGBM] [Warning] feature_fraction is set=0.8740694834235174, colsample_bytree=0.405945449327676 will be ignored. Current value: feature_fraction=0.8740694834235174\n",
      "[LightGBM] [Warning] min_data_in_leaf is set=22, min_child_samples=20 will be ignored. Current value: min_data_in_leaf=22\n",
      "[LightGBM] [Warning] bagging_fraction is set=0.765313472775204, subsample=0.8336843987102331 will be ignored. Current value: bagging_fraction=0.765313472775204\n",
      "[LightGBM] [Warning] lambda_l2 is set=7.24630127625395, reg_lambda=0.0 will be ignored. Current value: lambda_l2=7.24630127625395\n",
      "[LightGBM] [Warning] bagging_freq is set=1, subsample_freq=0 will be ignored. Current value: bagging_freq=1\n"
     ]
    },
    {
     "name": "stderr",
     "output_type": "stream",
     "text": [
      "[I 2023-10-30 19:40:54,160] Trial 38 finished with value: 1298916.4631846433 and parameters: {'n_estimators': 1114, 'lambda_l2': 7.24630127625395, 'bagging_fraction': 0.765313472775204, 'num_leaves': 183, 'feature_fraction': 0.8740694834235174, 'max_depth': 28, 'learning_rate': 0.025139621943264433, 'subsample': 0.8336843987102331, 'colsample_bytree': 0.405945449327676, 'min_data_in_leaf': 22}. Best is trial 31 with value: 1197787.7956579023.\n",
      "'verbose' argument is deprecated and will be removed in a future release of LightGBM. Pass 'log_evaluation()' callback via 'callbacks' argument instead.\n"
     ]
    },
    {
     "name": "stdout",
     "output_type": "stream",
     "text": [
      "[LightGBM] [Warning] feature_fraction is set=0.8972006626753926, colsample_bytree=0.5847877853500009 will be ignored. Current value: feature_fraction=0.8972006626753926\n",
      "[LightGBM] [Warning] min_data_in_leaf is set=69, min_child_samples=20 will be ignored. Current value: min_data_in_leaf=69\n",
      "[LightGBM] [Warning] bagging_fraction is set=0.32779340916278565, subsample=0.7429472895716926 will be ignored. Current value: bagging_fraction=0.32779340916278565\n",
      "[LightGBM] [Warning] lambda_l2 is set=4.499833083380531, reg_lambda=0.0 will be ignored. Current value: lambda_l2=4.499833083380531\n",
      "[LightGBM] [Warning] bagging_freq is set=1, subsample_freq=0 will be ignored. Current value: bagging_freq=1\n"
     ]
    },
    {
     "name": "stderr",
     "output_type": "stream",
     "text": [
      "[I 2023-10-30 19:40:58,276] Trial 39 finished with value: 1773838.500296262 and parameters: {'n_estimators': 1146, 'lambda_l2': 4.499833083380531, 'bagging_fraction': 0.32779340916278565, 'num_leaves': 349, 'feature_fraction': 0.8972006626753926, 'max_depth': 16, 'learning_rate': 0.004523442432836191, 'subsample': 0.7429472895716926, 'colsample_bytree': 0.5847877853500009, 'min_data_in_leaf': 69}. Best is trial 31 with value: 1197787.7956579023.\n",
      "'verbose' argument is deprecated and will be removed in a future release of LightGBM. Pass 'log_evaluation()' callback via 'callbacks' argument instead.\n"
     ]
    },
    {
     "name": "stdout",
     "output_type": "stream",
     "text": [
      "[LightGBM] [Warning] feature_fraction is set=0.9591048457873891, colsample_bytree=0.24530237587947 will be ignored. Current value: feature_fraction=0.9591048457873891\n",
      "[LightGBM] [Warning] min_data_in_leaf is set=49, min_child_samples=20 will be ignored. Current value: min_data_in_leaf=49\n",
      "[LightGBM] [Warning] bagging_fraction is set=0.6138038550768522, subsample=0.9148385547092719 will be ignored. Current value: bagging_fraction=0.6138038550768522\n",
      "[LightGBM] [Warning] lambda_l2 is set=5.106473574937655, reg_lambda=0.0 will be ignored. Current value: lambda_l2=5.106473574937655\n",
      "[LightGBM] [Warning] bagging_freq is set=1, subsample_freq=0 will be ignored. Current value: bagging_freq=1\n"
     ]
    },
    {
     "name": "stderr",
     "output_type": "stream",
     "text": [
      "[I 2023-10-30 19:41:07,739] Trial 40 finished with value: 1349440.2788146557 and parameters: {'n_estimators': 1077, 'lambda_l2': 5.106473574937655, 'bagging_fraction': 0.6138038550768522, 'num_leaves': 698, 'feature_fraction': 0.9591048457873891, 'max_depth': 42, 'learning_rate': 0.013250883972470108, 'subsample': 0.9148385547092719, 'colsample_bytree': 0.24530237587947, 'min_data_in_leaf': 49}. Best is trial 31 with value: 1197787.7956579023.\n",
      "'verbose' argument is deprecated and will be removed in a future release of LightGBM. Pass 'log_evaluation()' callback via 'callbacks' argument instead.\n"
     ]
    },
    {
     "name": "stdout",
     "output_type": "stream",
     "text": [
      "[LightGBM] [Warning] feature_fraction is set=0.8237520557130654, colsample_bytree=0.5243709383283285 will be ignored. Current value: feature_fraction=0.8237520557130654\n",
      "[LightGBM] [Warning] min_data_in_leaf is set=14, min_child_samples=20 will be ignored. Current value: min_data_in_leaf=14\n",
      "[LightGBM] [Warning] bagging_fraction is set=0.39979282076008443, subsample=0.6955751610622641 will be ignored. Current value: bagging_fraction=0.39979282076008443\n",
      "[LightGBM] [Warning] lambda_l2 is set=6.812558986618351, reg_lambda=0.0 will be ignored. Current value: lambda_l2=6.812558986618351\n",
      "[LightGBM] [Warning] bagging_freq is set=1, subsample_freq=0 will be ignored. Current value: bagging_freq=1\n"
     ]
    },
    {
     "name": "stderr",
     "output_type": "stream",
     "text": [
      "[I 2023-10-30 19:41:19,322] Trial 41 finished with value: 1265234.7557668271 and parameters: {'n_estimators': 921, 'lambda_l2': 6.812558986618351, 'bagging_fraction': 0.39979282076008443, 'num_leaves': 522, 'feature_fraction': 0.8237520557130654, 'max_depth': 46, 'learning_rate': 0.010416382360514653, 'subsample': 0.6955751610622641, 'colsample_bytree': 0.5243709383283285, 'min_data_in_leaf': 14}. Best is trial 31 with value: 1197787.7956579023.\n",
      "'verbose' argument is deprecated and will be removed in a future release of LightGBM. Pass 'log_evaluation()' callback via 'callbacks' argument instead.\n"
     ]
    },
    {
     "name": "stdout",
     "output_type": "stream",
     "text": [
      "[LightGBM] [Warning] feature_fraction is set=0.9150605090303344, colsample_bytree=0.479048665396057 will be ignored. Current value: feature_fraction=0.9150605090303344\n",
      "[LightGBM] [Warning] min_data_in_leaf is set=10, min_child_samples=20 will be ignored. Current value: min_data_in_leaf=10\n",
      "[LightGBM] [Warning] bagging_fraction is set=0.43385316500171434, subsample=0.6587762384298805 will be ignored. Current value: bagging_fraction=0.43385316500171434\n",
      "[LightGBM] [Warning] lambda_l2 is set=5.908431744942041, reg_lambda=0.0 will be ignored. Current value: lambda_l2=5.908431744942041\n",
      "[LightGBM] [Warning] bagging_freq is set=1, subsample_freq=0 will be ignored. Current value: bagging_freq=1\n"
     ]
    },
    {
     "name": "stderr",
     "output_type": "stream",
     "text": [
      "[I 2023-10-30 19:41:41,680] Trial 42 finished with value: 1211587.0427406267 and parameters: {'n_estimators': 1181, 'lambda_l2': 5.908431744942041, 'bagging_fraction': 0.43385316500171434, 'num_leaves': 434, 'feature_fraction': 0.9150605090303344, 'max_depth': 47, 'learning_rate': 0.010377540525618636, 'subsample': 0.6587762384298805, 'colsample_bytree': 0.479048665396057, 'min_data_in_leaf': 10}. Best is trial 31 with value: 1197787.7956579023.\n",
      "'verbose' argument is deprecated and will be removed in a future release of LightGBM. Pass 'log_evaluation()' callback via 'callbacks' argument instead.\n"
     ]
    },
    {
     "name": "stdout",
     "output_type": "stream",
     "text": [
      "[LightGBM] [Warning] feature_fraction is set=0.9086915082638086, colsample_bytree=0.35497487836319147 will be ignored. Current value: feature_fraction=0.9086915082638086\n",
      "[LightGBM] [Warning] min_data_in_leaf is set=16, min_child_samples=20 will be ignored. Current value: min_data_in_leaf=16\n",
      "[LightGBM] [Warning] bagging_fraction is set=0.5052443685917369, subsample=0.6507628968057296 will be ignored. Current value: bagging_fraction=0.5052443685917369\n",
      "[LightGBM] [Warning] lambda_l2 is set=5.650133024388197, reg_lambda=0.0 will be ignored. Current value: lambda_l2=5.650133024388197\n",
      "[LightGBM] [Warning] bagging_freq is set=1, subsample_freq=0 will be ignored. Current value: bagging_freq=1\n"
     ]
    },
    {
     "name": "stderr",
     "output_type": "stream",
     "text": [
      "[I 2023-10-30 19:42:03,411] Trial 43 finished with value: 1245540.1344973121 and parameters: {'n_estimators': 1178, 'lambda_l2': 5.650133024388197, 'bagging_fraction': 0.5052443685917369, 'num_leaves': 318, 'feature_fraction': 0.9086915082638086, 'max_depth': 44, 'learning_rate': 0.01505941526022636, 'subsample': 0.6507628968057296, 'colsample_bytree': 0.35497487836319147, 'min_data_in_leaf': 16}. Best is trial 31 with value: 1197787.7956579023.\n",
      "'verbose' argument is deprecated and will be removed in a future release of LightGBM. Pass 'log_evaluation()' callback via 'callbacks' argument instead.\n"
     ]
    },
    {
     "name": "stdout",
     "output_type": "stream",
     "text": [
      "[LightGBM] [Warning] feature_fraction is set=0.9232377246578598, colsample_bytree=0.4159468334632648 will be ignored. Current value: feature_fraction=0.9232377246578598\n",
      "[LightGBM] [Warning] min_data_in_leaf is set=20, min_child_samples=20 will be ignored. Current value: min_data_in_leaf=20\n",
      "[LightGBM] [Warning] bagging_fraction is set=0.28564084913129906, subsample=0.5913190521605585 will be ignored. Current value: bagging_fraction=0.28564084913129906\n",
      "[LightGBM] [Warning] lambda_l2 is set=7.658029121472971, reg_lambda=0.0 will be ignored. Current value: lambda_l2=7.658029121472971\n",
      "[LightGBM] [Warning] bagging_freq is set=1, subsample_freq=0 will be ignored. Current value: bagging_freq=1\n"
     ]
    },
    {
     "name": "stderr",
     "output_type": "stream",
     "text": [
      "[I 2023-10-30 19:42:13,411] Trial 44 finished with value: 1303694.41147783 and parameters: {'n_estimators': 1145, 'lambda_l2': 7.658029121472971, 'bagging_fraction': 0.28564084913129906, 'num_leaves': 413, 'feature_fraction': 0.9232377246578598, 'max_depth': 47, 'learning_rate': 0.03519716375645303, 'subsample': 0.5913190521605585, 'colsample_bytree': 0.4159468334632648, 'min_data_in_leaf': 20}. Best is trial 31 with value: 1197787.7956579023.\n",
      "'verbose' argument is deprecated and will be removed in a future release of LightGBM. Pass 'log_evaluation()' callback via 'callbacks' argument instead.\n"
     ]
    },
    {
     "name": "stdout",
     "output_type": "stream",
     "text": [
      "[LightGBM] [Warning] feature_fraction is set=0.9593103637991638, colsample_bytree=0.6427562683585429 will be ignored. Current value: feature_fraction=0.9593103637991638\n",
      "[LightGBM] [Warning] min_data_in_leaf is set=13, min_child_samples=20 will be ignored. Current value: min_data_in_leaf=13\n",
      "[LightGBM] [Warning] bagging_fraction is set=0.3694368689560693, subsample=0.761917120347725 will be ignored. Current value: bagging_fraction=0.3694368689560693\n",
      "[LightGBM] [Warning] lambda_l2 is set=5.810386396565711, reg_lambda=0.0 will be ignored. Current value: lambda_l2=5.810386396565711\n",
      "[LightGBM] [Warning] bagging_freq is set=1, subsample_freq=0 will be ignored. Current value: bagging_freq=1\n"
     ]
    },
    {
     "name": "stderr",
     "output_type": "stream",
     "text": [
      "[I 2023-10-30 19:42:35,236] Trial 45 finished with value: 1249605.493612381 and parameters: {'n_estimators': 1179, 'lambda_l2': 5.810386396565711, 'bagging_fraction': 0.3694368689560693, 'num_leaves': 611, 'feature_fraction': 0.9593103637991638, 'max_depth': 39, 'learning_rate': 0.012182085651645753, 'subsample': 0.761917120347725, 'colsample_bytree': 0.6427562683585429, 'min_data_in_leaf': 13}. Best is trial 31 with value: 1197787.7956579023.\n",
      "'verbose' argument is deprecated and will be removed in a future release of LightGBM. Pass 'log_evaluation()' callback via 'callbacks' argument instead.\n"
     ]
    },
    {
     "name": "stdout",
     "output_type": "stream",
     "text": [
      "[LightGBM] [Warning] feature_fraction is set=0.8563597326096832, colsample_bytree=0.5398535393042767 will be ignored. Current value: feature_fraction=0.8563597326096832\n",
      "[LightGBM] [Warning] min_data_in_leaf is set=10, min_child_samples=20 will be ignored. Current value: min_data_in_leaf=10\n",
      "[LightGBM] [Warning] bagging_fraction is set=0.23512958396925887, subsample=0.721830569314012 will be ignored. Current value: bagging_fraction=0.23512958396925887\n",
      "[LightGBM] [Warning] lambda_l2 is set=6.905653639247696, reg_lambda=0.0 will be ignored. Current value: lambda_l2=6.905653639247696\n",
      "[LightGBM] [Warning] bagging_freq is set=1, subsample_freq=0 will be ignored. Current value: bagging_freq=1\n"
     ]
    },
    {
     "name": "stderr",
     "output_type": "stream",
     "text": [
      "[I 2023-10-30 19:42:46,972] Trial 46 finished with value: 1318977.8188224684 and parameters: {'n_estimators': 1103, 'lambda_l2': 6.905653639247696, 'bagging_fraction': 0.23512958396925887, 'num_leaves': 650, 'feature_fraction': 0.8563597326096832, 'max_depth': 35, 'learning_rate': 0.04141798249054546, 'subsample': 0.721830569314012, 'colsample_bytree': 0.5398535393042767, 'min_data_in_leaf': 10}. Best is trial 31 with value: 1197787.7956579023.\n",
      "'verbose' argument is deprecated and will be removed in a future release of LightGBM. Pass 'log_evaluation()' callback via 'callbacks' argument instead.\n"
     ]
    },
    {
     "name": "stdout",
     "output_type": "stream",
     "text": [
      "[LightGBM] [Warning] feature_fraction is set=0.8813454308103872, colsample_bytree=0.49279095153484465 will be ignored. Current value: feature_fraction=0.8813454308103872\n",
      "[LightGBM] [Warning] min_data_in_leaf is set=25, min_child_samples=20 will be ignored. Current value: min_data_in_leaf=25\n",
      "[LightGBM] [Warning] bagging_fraction is set=0.4364762916518884, subsample=0.6688506796634324 will be ignored. Current value: bagging_fraction=0.4364762916518884\n",
      "[LightGBM] [Warning] lambda_l2 is set=4.34524461968002, reg_lambda=0.0 will be ignored. Current value: lambda_l2=4.34524461968002\n",
      "[LightGBM] [Warning] bagging_freq is set=1, subsample_freq=0 will be ignored. Current value: bagging_freq=1\n"
     ]
    },
    {
     "name": "stderr",
     "output_type": "stream",
     "text": [
      "[I 2023-10-30 19:42:49,046] Trial 47 finished with value: 1328194.6880066844 and parameters: {'n_estimators': 1152, 'lambda_l2': 4.34524461968002, 'bagging_fraction': 0.4364762916518884, 'num_leaves': 579, 'feature_fraction': 0.8813454308103872, 'max_depth': 6, 'learning_rate': 0.01656157100947154, 'subsample': 0.6688506796634324, 'colsample_bytree': 0.49279095153484465, 'min_data_in_leaf': 25}. Best is trial 31 with value: 1197787.7956579023.\n",
      "'verbose' argument is deprecated and will be removed in a future release of LightGBM. Pass 'log_evaluation()' callback via 'callbacks' argument instead.\n"
     ]
    },
    {
     "name": "stdout",
     "output_type": "stream",
     "text": [
      "[LightGBM] [Warning] feature_fraction is set=0.9217311631552456, colsample_bytree=0.3856556934062084 will be ignored. Current value: feature_fraction=0.9217311631552456\n",
      "[LightGBM] [Warning] min_data_in_leaf is set=18, min_child_samples=20 will be ignored. Current value: min_data_in_leaf=18\n",
      "[LightGBM] [Warning] bagging_fraction is set=0.4827124013717743, subsample=0.5774846532140507 will be ignored. Current value: bagging_fraction=0.4827124013717743\n",
      "[LightGBM] [Warning] lambda_l2 is set=4.845474882962658, reg_lambda=0.0 will be ignored. Current value: lambda_l2=4.845474882962658\n",
      "[LightGBM] [Warning] bagging_freq is set=1, subsample_freq=0 will be ignored. Current value: bagging_freq=1\n"
     ]
    },
    {
     "name": "stderr",
     "output_type": "stream",
     "text": [
      "[I 2023-10-30 19:43:06,537] Trial 48 finished with value: 1241565.830604156 and parameters: {'n_estimators': 1181, 'lambda_l2': 4.845474882962658, 'bagging_fraction': 0.4827124013717743, 'num_leaves': 236, 'feature_fraction': 0.9217311631552456, 'max_depth': 48, 'learning_rate': 0.021260860642279257, 'subsample': 0.5774846532140507, 'colsample_bytree': 0.3856556934062084, 'min_data_in_leaf': 18}. Best is trial 31 with value: 1197787.7956579023.\n",
      "'verbose' argument is deprecated and will be removed in a future release of LightGBM. Pass 'log_evaluation()' callback via 'callbacks' argument instead.\n"
     ]
    },
    {
     "name": "stdout",
     "output_type": "stream",
     "text": [
      "[LightGBM] [Warning] feature_fraction is set=0.9027184066086741, colsample_bytree=0.631806171373282 will be ignored. Current value: feature_fraction=0.9027184066086741\n",
      "[LightGBM] [Warning] min_data_in_leaf is set=79, min_child_samples=20 will be ignored. Current value: min_data_in_leaf=79\n",
      "[LightGBM] [Warning] bagging_fraction is set=0.5137812721797204, subsample=0.6187658462087475 will be ignored. Current value: bagging_fraction=0.5137812721797204\n",
      "[LightGBM] [Warning] lambda_l2 is set=7.379078628327385, reg_lambda=0.0 will be ignored. Current value: lambda_l2=7.379078628327385\n",
      "[LightGBM] [Warning] bagging_freq is set=1, subsample_freq=0 will be ignored. Current value: bagging_freq=1\n"
     ]
    },
    {
     "name": "stderr",
     "output_type": "stream",
     "text": [
      "[I 2023-10-30 19:43:11,340] Trial 49 finished with value: 1551658.7602581284 and parameters: {'n_estimators': 1129, 'lambda_l2': 7.379078628327385, 'bagging_fraction': 0.5137812721797204, 'num_leaves': 501, 'feature_fraction': 0.9027184066086741, 'max_depth': 21, 'learning_rate': 0.008509250164538615, 'subsample': 0.6187658462087475, 'colsample_bytree': 0.631806171373282, 'min_data_in_leaf': 79}. Best is trial 31 with value: 1197787.7956579023.\n"
     ]
    }
   ],
   "source": [
    "study = optuna.create_study(direction='minimize')\n",
    "study.optimize(objective, n_trials=50)"
   ]
  },
  {
   "cell_type": "code",
   "execution_count": 19,
   "id": "37c6518b",
   "metadata": {},
   "outputs": [
    {
     "name": "stdout",
     "output_type": "stream",
     "text": [
      "[LightGBM] [Warning] feature_fraction is set=0.8513281526025094, colsample_bytree=0.4509899255153016 will be ignored. Current value: feature_fraction=0.8513281526025094\n",
      "[LightGBM] [Warning] min_data_in_leaf is set=10, min_child_samples=20 will be ignored. Current value: min_data_in_leaf=10\n",
      "[LightGBM] [Warning] bagging_fraction is set=0.49247225264379724, subsample=0.6758101493215637 will be ignored. Current value: bagging_fraction=0.49247225264379724\n",
      "[LightGBM] [Warning] lambda_l2 is set=5.549370556597469, reg_lambda=0.0 will be ignored. Current value: lambda_l2=5.549370556597469\n"
     ]
    },
    {
     "data": {
      "text/html": [
       "<style>#sk-container-id-2 {color: black;}#sk-container-id-2 pre{padding: 0;}#sk-container-id-2 div.sk-toggleable {background-color: white;}#sk-container-id-2 label.sk-toggleable__label {cursor: pointer;display: block;width: 100%;margin-bottom: 0;padding: 0.3em;box-sizing: border-box;text-align: center;}#sk-container-id-2 label.sk-toggleable__label-arrow:before {content: \"▸\";float: left;margin-right: 0.25em;color: #696969;}#sk-container-id-2 label.sk-toggleable__label-arrow:hover:before {color: black;}#sk-container-id-2 div.sk-estimator:hover label.sk-toggleable__label-arrow:before {color: black;}#sk-container-id-2 div.sk-toggleable__content {max-height: 0;max-width: 0;overflow: hidden;text-align: left;background-color: #f0f8ff;}#sk-container-id-2 div.sk-toggleable__content pre {margin: 0.2em;color: black;border-radius: 0.25em;background-color: #f0f8ff;}#sk-container-id-2 input.sk-toggleable__control:checked~div.sk-toggleable__content {max-height: 200px;max-width: 100%;overflow: auto;}#sk-container-id-2 input.sk-toggleable__control:checked~label.sk-toggleable__label-arrow:before {content: \"▾\";}#sk-container-id-2 div.sk-estimator input.sk-toggleable__control:checked~label.sk-toggleable__label {background-color: #d4ebff;}#sk-container-id-2 div.sk-label input.sk-toggleable__control:checked~label.sk-toggleable__label {background-color: #d4ebff;}#sk-container-id-2 input.sk-hidden--visually {border: 0;clip: rect(1px 1px 1px 1px);clip: rect(1px, 1px, 1px, 1px);height: 1px;margin: -1px;overflow: hidden;padding: 0;position: absolute;width: 1px;}#sk-container-id-2 div.sk-estimator {font-family: monospace;background-color: #f0f8ff;border: 1px dotted black;border-radius: 0.25em;box-sizing: border-box;margin-bottom: 0.5em;}#sk-container-id-2 div.sk-estimator:hover {background-color: #d4ebff;}#sk-container-id-2 div.sk-parallel-item::after {content: \"\";width: 100%;border-bottom: 1px solid gray;flex-grow: 1;}#sk-container-id-2 div.sk-label:hover label.sk-toggleable__label {background-color: #d4ebff;}#sk-container-id-2 div.sk-serial::before {content: \"\";position: absolute;border-left: 1px solid gray;box-sizing: border-box;top: 0;bottom: 0;left: 50%;z-index: 0;}#sk-container-id-2 div.sk-serial {display: flex;flex-direction: column;align-items: center;background-color: white;padding-right: 0.2em;padding-left: 0.2em;position: relative;}#sk-container-id-2 div.sk-item {position: relative;z-index: 1;}#sk-container-id-2 div.sk-parallel {display: flex;align-items: stretch;justify-content: center;background-color: white;position: relative;}#sk-container-id-2 div.sk-item::before, #sk-container-id-2 div.sk-parallel-item::before {content: \"\";position: absolute;border-left: 1px solid gray;box-sizing: border-box;top: 0;bottom: 0;left: 50%;z-index: -1;}#sk-container-id-2 div.sk-parallel-item {display: flex;flex-direction: column;z-index: 1;position: relative;background-color: white;}#sk-container-id-2 div.sk-parallel-item:first-child::after {align-self: flex-end;width: 50%;}#sk-container-id-2 div.sk-parallel-item:last-child::after {align-self: flex-start;width: 50%;}#sk-container-id-2 div.sk-parallel-item:only-child::after {width: 0;}#sk-container-id-2 div.sk-dashed-wrapped {border: 1px dashed gray;margin: 0 0.4em 0.5em 0.4em;box-sizing: border-box;padding-bottom: 0.4em;background-color: white;}#sk-container-id-2 div.sk-label label {font-family: monospace;font-weight: bold;display: inline-block;line-height: 1.2em;}#sk-container-id-2 div.sk-label-container {text-align: center;}#sk-container-id-2 div.sk-container {/* jupyter's `normalize.less` sets `[hidden] { display: none; }` but bootstrap.min.css set `[hidden] { display: none !important; }` so we also need the `!important` here to be able to override the default hidden behavior on the sphinx rendered scikit-learn.org. See: https://github.com/scikit-learn/scikit-learn/issues/21755 */display: inline-block !important;position: relative;}#sk-container-id-2 div.sk-text-repr-fallback {display: none;}</style><div id=\"sk-container-id-2\" class=\"sk-top-container\"><div class=\"sk-text-repr-fallback\"><pre>LGBMRegressor(bagging_fraction=0.49247225264379724,\n",
       "              colsample_bytree=0.4509899255153016,\n",
       "              feature_fraction=0.8513281526025094, lambda_l2=5.549370556597469,\n",
       "              learning_rate=0.013130469975995469, max_depth=45, metric=&#x27;rmse&#x27;,\n",
       "              min_data_in_leaf=10, n_estimators=1164, num_leaves=495,\n",
       "              objective=&#x27;regression&#x27;, subsample=0.6758101493215637,\n",
       "              verbosity=-1)</pre><b>In a Jupyter environment, please rerun this cell to show the HTML representation or trust the notebook. <br />On GitHub, the HTML representation is unable to render, please try loading this page with nbviewer.org.</b></div><div class=\"sk-container\" hidden><div class=\"sk-item\"><div class=\"sk-estimator sk-toggleable\"><input class=\"sk-toggleable__control sk-hidden--visually\" id=\"sk-estimator-id-2\" type=\"checkbox\" checked><label for=\"sk-estimator-id-2\" class=\"sk-toggleable__label sk-toggleable__label-arrow\">LGBMRegressor</label><div class=\"sk-toggleable__content\"><pre>LGBMRegressor(bagging_fraction=0.49247225264379724,\n",
       "              colsample_bytree=0.4509899255153016,\n",
       "              feature_fraction=0.8513281526025094, lambda_l2=5.549370556597469,\n",
       "              learning_rate=0.013130469975995469, max_depth=45, metric=&#x27;rmse&#x27;,\n",
       "              min_data_in_leaf=10, n_estimators=1164, num_leaves=495,\n",
       "              objective=&#x27;regression&#x27;, subsample=0.6758101493215637,\n",
       "              verbosity=-1)</pre></div></div></div></div></div>"
      ],
      "text/plain": [
       "LGBMRegressor(bagging_fraction=0.49247225264379724,\n",
       "              colsample_bytree=0.4509899255153016,\n",
       "              feature_fraction=0.8513281526025094, lambda_l2=5.549370556597469,\n",
       "              learning_rate=0.013130469975995469, max_depth=45, metric='rmse',\n",
       "              min_data_in_leaf=10, n_estimators=1164, num_leaves=495,\n",
       "              objective='regression', subsample=0.6758101493215637,\n",
       "              verbosity=-1)"
      ]
     },
     "execution_count": 19,
     "metadata": {},
     "output_type": "execute_result"
    }
   ],
   "source": [
    "owner_params = study.best_params\n",
    "owner_params[\"objective\"] = \"regression\"\n",
    "owner_params[\"metric\"] = \"rmse\"\n",
    "owner_params[\"verbosity\"] = -1\n",
    "\n",
    "model = lgb.LGBMRegressor(**owner_params)\n",
    "\n",
    "model.fit(X, y)"
   ]
  },
  {
   "cell_type": "code",
   "execution_count": 20,
   "id": "96e2a30f",
   "metadata": {},
   "outputs": [
    {
     "data": {
      "text/html": [
       "<div>\n",
       "<style scoped>\n",
       "    .dataframe tbody tr th:only-of-type {\n",
       "        vertical-align: middle;\n",
       "    }\n",
       "\n",
       "    .dataframe tbody tr th {\n",
       "        vertical-align: top;\n",
       "    }\n",
       "\n",
       "    .dataframe thead th {\n",
       "        text-align: right;\n",
       "    }\n",
       "</style>\n",
       "<table border=\"1\" class=\"dataframe\">\n",
       "  <thead>\n",
       "    <tr style=\"text-align: right;\">\n",
       "      <th></th>\n",
       "      <th>full_sq</th>\n",
       "      <th>life_sq</th>\n",
       "      <th>floor</th>\n",
       "      <th>max_floor</th>\n",
       "      <th>build_year</th>\n",
       "      <th>num_room</th>\n",
       "      <th>kitch_sq</th>\n",
       "      <th>state</th>\n",
       "      <th>area_m</th>\n",
       "      <th>raion_popul</th>\n",
       "      <th>...</th>\n",
       "      <th>big_road1_1line_yes</th>\n",
       "      <th>railroad_1line_no</th>\n",
       "      <th>railroad_1line_yes</th>\n",
       "      <th>material_1.0</th>\n",
       "      <th>material_2.0</th>\n",
       "      <th>material_3.0</th>\n",
       "      <th>material_4.0</th>\n",
       "      <th>material_5.0</th>\n",
       "      <th>material_6.0</th>\n",
       "      <th>material_nan</th>\n",
       "    </tr>\n",
       "  </thead>\n",
       "  <tbody>\n",
       "    <tr>\n",
       "      <th>0</th>\n",
       "      <td>79.20</td>\n",
       "      <td>49.632838</td>\n",
       "      <td>8</td>\n",
       "      <td>17</td>\n",
       "      <td>0.000000</td>\n",
       "      <td>3</td>\n",
       "      <td>1.0</td>\n",
       "      <td>1.000000</td>\n",
       "      <td>2.553630e+07</td>\n",
       "      <td>4001</td>\n",
       "      <td>...</td>\n",
       "      <td>0.0</td>\n",
       "      <td>1.0</td>\n",
       "      <td>0.0</td>\n",
       "      <td>1.0</td>\n",
       "      <td>0.0</td>\n",
       "      <td>0.0</td>\n",
       "      <td>0.0</td>\n",
       "      <td>0.0</td>\n",
       "      <td>0.0</td>\n",
       "      <td>0.0</td>\n",
       "    </tr>\n",
       "    <tr>\n",
       "      <th>1</th>\n",
       "      <td>62.80</td>\n",
       "      <td>36.000000</td>\n",
       "      <td>17</td>\n",
       "      <td>17</td>\n",
       "      <td>2016.000000</td>\n",
       "      <td>2</td>\n",
       "      <td>62.8</td>\n",
       "      <td>3.000000</td>\n",
       "      <td>2.149409e+07</td>\n",
       "      <td>7122</td>\n",
       "      <td>...</td>\n",
       "      <td>0.0</td>\n",
       "      <td>1.0</td>\n",
       "      <td>0.0</td>\n",
       "      <td>1.0</td>\n",
       "      <td>0.0</td>\n",
       "      <td>0.0</td>\n",
       "      <td>0.0</td>\n",
       "      <td>0.0</td>\n",
       "      <td>0.0</td>\n",
       "      <td>0.0</td>\n",
       "    </tr>\n",
       "    <tr>\n",
       "      <th>2</th>\n",
       "      <td>40.00</td>\n",
       "      <td>40.000000</td>\n",
       "      <td>17</td>\n",
       "      <td>17</td>\n",
       "      <td>0.000000</td>\n",
       "      <td>1</td>\n",
       "      <td>1.0</td>\n",
       "      <td>1.000000</td>\n",
       "      <td>2.553630e+07</td>\n",
       "      <td>4001</td>\n",
       "      <td>...</td>\n",
       "      <td>0.0</td>\n",
       "      <td>1.0</td>\n",
       "      <td>0.0</td>\n",
       "      <td>1.0</td>\n",
       "      <td>0.0</td>\n",
       "      <td>0.0</td>\n",
       "      <td>0.0</td>\n",
       "      <td>0.0</td>\n",
       "      <td>0.0</td>\n",
       "      <td>0.0</td>\n",
       "    </tr>\n",
       "    <tr>\n",
       "      <th>3</th>\n",
       "      <td>48.43</td>\n",
       "      <td>49.632838</td>\n",
       "      <td>21</td>\n",
       "      <td>1</td>\n",
       "      <td>2015.000000</td>\n",
       "      <td>1</td>\n",
       "      <td>1.0</td>\n",
       "      <td>1.000000</td>\n",
       "      <td>9.629358e+06</td>\n",
       "      <td>89467</td>\n",
       "      <td>...</td>\n",
       "      <td>0.0</td>\n",
       "      <td>0.0</td>\n",
       "      <td>1.0</td>\n",
       "      <td>1.0</td>\n",
       "      <td>0.0</td>\n",
       "      <td>0.0</td>\n",
       "      <td>0.0</td>\n",
       "      <td>0.0</td>\n",
       "      <td>0.0</td>\n",
       "      <td>0.0</td>\n",
       "    </tr>\n",
       "    <tr>\n",
       "      <th>4</th>\n",
       "      <td>38.80</td>\n",
       "      <td>49.632838</td>\n",
       "      <td>15</td>\n",
       "      <td>17</td>\n",
       "      <td>1493.225347</td>\n",
       "      <td>1</td>\n",
       "      <td>1.0</td>\n",
       "      <td>1.000000</td>\n",
       "      <td>1.132409e+07</td>\n",
       "      <td>113897</td>\n",
       "      <td>...</td>\n",
       "      <td>0.0</td>\n",
       "      <td>1.0</td>\n",
       "      <td>0.0</td>\n",
       "      <td>1.0</td>\n",
       "      <td>0.0</td>\n",
       "      <td>0.0</td>\n",
       "      <td>0.0</td>\n",
       "      <td>0.0</td>\n",
       "      <td>0.0</td>\n",
       "      <td>0.0</td>\n",
       "    </tr>\n",
       "    <tr>\n",
       "      <th>...</th>\n",
       "      <td>...</td>\n",
       "      <td>...</td>\n",
       "      <td>...</td>\n",
       "      <td>...</td>\n",
       "      <td>...</td>\n",
       "      <td>...</td>\n",
       "      <td>...</td>\n",
       "      <td>...</td>\n",
       "      <td>...</td>\n",
       "      <td>...</td>\n",
       "      <td>...</td>\n",
       "      <td>...</td>\n",
       "      <td>...</td>\n",
       "      <td>...</td>\n",
       "      <td>...</td>\n",
       "      <td>...</td>\n",
       "      <td>...</td>\n",
       "      <td>...</td>\n",
       "      <td>...</td>\n",
       "      <td>...</td>\n",
       "      <td>...</td>\n",
       "    </tr>\n",
       "    <tr>\n",
       "      <th>2626</th>\n",
       "      <td>23.56</td>\n",
       "      <td>1.000000</td>\n",
       "      <td>1</td>\n",
       "      <td>1</td>\n",
       "      <td>1.000000</td>\n",
       "      <td>1</td>\n",
       "      <td>1.0</td>\n",
       "      <td>1.000000</td>\n",
       "      <td>5.032753e+07</td>\n",
       "      <td>5740</td>\n",
       "      <td>...</td>\n",
       "      <td>0.0</td>\n",
       "      <td>1.0</td>\n",
       "      <td>0.0</td>\n",
       "      <td>1.0</td>\n",
       "      <td>0.0</td>\n",
       "      <td>0.0</td>\n",
       "      <td>0.0</td>\n",
       "      <td>0.0</td>\n",
       "      <td>0.0</td>\n",
       "      <td>0.0</td>\n",
       "    </tr>\n",
       "    <tr>\n",
       "      <th>2627</th>\n",
       "      <td>41.68</td>\n",
       "      <td>1.000000</td>\n",
       "      <td>13</td>\n",
       "      <td>17</td>\n",
       "      <td>1493.225347</td>\n",
       "      <td>1</td>\n",
       "      <td>1.0</td>\n",
       "      <td>1.000000</td>\n",
       "      <td>7.878765e+06</td>\n",
       "      <td>32241</td>\n",
       "      <td>...</td>\n",
       "      <td>0.0</td>\n",
       "      <td>1.0</td>\n",
       "      <td>0.0</td>\n",
       "      <td>1.0</td>\n",
       "      <td>0.0</td>\n",
       "      <td>0.0</td>\n",
       "      <td>0.0</td>\n",
       "      <td>0.0</td>\n",
       "      <td>0.0</td>\n",
       "      <td>0.0</td>\n",
       "    </tr>\n",
       "    <tr>\n",
       "      <th>2628</th>\n",
       "      <td>50.28</td>\n",
       "      <td>1.000000</td>\n",
       "      <td>3</td>\n",
       "      <td>17</td>\n",
       "      <td>1493.225347</td>\n",
       "      <td>1</td>\n",
       "      <td>1.0</td>\n",
       "      <td>1.000000</td>\n",
       "      <td>4.036700e+07</td>\n",
       "      <td>21819</td>\n",
       "      <td>...</td>\n",
       "      <td>0.0</td>\n",
       "      <td>1.0</td>\n",
       "      <td>0.0</td>\n",
       "      <td>1.0</td>\n",
       "      <td>0.0</td>\n",
       "      <td>0.0</td>\n",
       "      <td>0.0</td>\n",
       "      <td>0.0</td>\n",
       "      <td>0.0</td>\n",
       "      <td>0.0</td>\n",
       "    </tr>\n",
       "    <tr>\n",
       "      <th>2629</th>\n",
       "      <td>54.09</td>\n",
       "      <td>49.632838</td>\n",
       "      <td>14</td>\n",
       "      <td>0</td>\n",
       "      <td>1493.225347</td>\n",
       "      <td>2</td>\n",
       "      <td>0.0</td>\n",
       "      <td>1.075835</td>\n",
       "      <td>5.299528e+07</td>\n",
       "      <td>13890</td>\n",
       "      <td>...</td>\n",
       "      <td>0.0</td>\n",
       "      <td>1.0</td>\n",
       "      <td>0.0</td>\n",
       "      <td>1.0</td>\n",
       "      <td>0.0</td>\n",
       "      <td>0.0</td>\n",
       "      <td>0.0</td>\n",
       "      <td>0.0</td>\n",
       "      <td>0.0</td>\n",
       "      <td>0.0</td>\n",
       "    </tr>\n",
       "    <tr>\n",
       "      <th>2630</th>\n",
       "      <td>41.08</td>\n",
       "      <td>1.000000</td>\n",
       "      <td>12</td>\n",
       "      <td>1</td>\n",
       "      <td>1.000000</td>\n",
       "      <td>1</td>\n",
       "      <td>1.0</td>\n",
       "      <td>1.000000</td>\n",
       "      <td>7.307411e+06</td>\n",
       "      <td>75377</td>\n",
       "      <td>...</td>\n",
       "      <td>0.0</td>\n",
       "      <td>1.0</td>\n",
       "      <td>0.0</td>\n",
       "      <td>1.0</td>\n",
       "      <td>0.0</td>\n",
       "      <td>0.0</td>\n",
       "      <td>0.0</td>\n",
       "      <td>0.0</td>\n",
       "      <td>0.0</td>\n",
       "      <td>0.0</td>\n",
       "    </tr>\n",
       "  </tbody>\n",
       "</table>\n",
       "<p>2631 rows × 400 columns</p>\n",
       "</div>"
      ],
      "text/plain": [
       "      full_sq    life_sq  floor  max_floor   build_year  num_room  kitch_sq  \\\n",
       "0       79.20  49.632838      8         17     0.000000         3       1.0   \n",
       "1       62.80  36.000000     17         17  2016.000000         2      62.8   \n",
       "2       40.00  40.000000     17         17     0.000000         1       1.0   \n",
       "3       48.43  49.632838     21          1  2015.000000         1       1.0   \n",
       "4       38.80  49.632838     15         17  1493.225347         1       1.0   \n",
       "...       ...        ...    ...        ...          ...       ...       ...   \n",
       "2626    23.56   1.000000      1          1     1.000000         1       1.0   \n",
       "2627    41.68   1.000000     13         17  1493.225347         1       1.0   \n",
       "2628    50.28   1.000000      3         17  1493.225347         1       1.0   \n",
       "2629    54.09  49.632838     14          0  1493.225347         2       0.0   \n",
       "2630    41.08   1.000000     12          1     1.000000         1       1.0   \n",
       "\n",
       "         state        area_m  raion_popul  ...  big_road1_1line_yes  \\\n",
       "0     1.000000  2.553630e+07         4001  ...                  0.0   \n",
       "1     3.000000  2.149409e+07         7122  ...                  0.0   \n",
       "2     1.000000  2.553630e+07         4001  ...                  0.0   \n",
       "3     1.000000  9.629358e+06        89467  ...                  0.0   \n",
       "4     1.000000  1.132409e+07       113897  ...                  0.0   \n",
       "...        ...           ...          ...  ...                  ...   \n",
       "2626  1.000000  5.032753e+07         5740  ...                  0.0   \n",
       "2627  1.000000  7.878765e+06        32241  ...                  0.0   \n",
       "2628  1.000000  4.036700e+07        21819  ...                  0.0   \n",
       "2629  1.075835  5.299528e+07        13890  ...                  0.0   \n",
       "2630  1.000000  7.307411e+06        75377  ...                  0.0   \n",
       "\n",
       "      railroad_1line_no  railroad_1line_yes  material_1.0  material_2.0  \\\n",
       "0                   1.0                 0.0           1.0           0.0   \n",
       "1                   1.0                 0.0           1.0           0.0   \n",
       "2                   1.0                 0.0           1.0           0.0   \n",
       "3                   0.0                 1.0           1.0           0.0   \n",
       "4                   1.0                 0.0           1.0           0.0   \n",
       "...                 ...                 ...           ...           ...   \n",
       "2626                1.0                 0.0           1.0           0.0   \n",
       "2627                1.0                 0.0           1.0           0.0   \n",
       "2628                1.0                 0.0           1.0           0.0   \n",
       "2629                1.0                 0.0           1.0           0.0   \n",
       "2630                1.0                 0.0           1.0           0.0   \n",
       "\n",
       "      material_3.0  material_4.0  material_5.0  material_6.0  material_nan  \n",
       "0              0.0           0.0           0.0           0.0           0.0  \n",
       "1              0.0           0.0           0.0           0.0           0.0  \n",
       "2              0.0           0.0           0.0           0.0           0.0  \n",
       "3              0.0           0.0           0.0           0.0           0.0  \n",
       "4              0.0           0.0           0.0           0.0           0.0  \n",
       "...            ...           ...           ...           ...           ...  \n",
       "2626           0.0           0.0           0.0           0.0           0.0  \n",
       "2627           0.0           0.0           0.0           0.0           0.0  \n",
       "2628           0.0           0.0           0.0           0.0           0.0  \n",
       "2629           0.0           0.0           0.0           0.0           0.0  \n",
       "2630           0.0           0.0           0.0           0.0           0.0  \n",
       "\n",
       "[2631 rows x 400 columns]"
      ]
     },
     "execution_count": 20,
     "metadata": {},
     "output_type": "execute_result"
    }
   ],
   "source": [
    "processed_owner_test_df = pd.read_csv(owner_test_path)\n",
    "processed_owner_test_df_copy = processed_owner_test_df.copy()\n",
    "processed_owner_test_df = processed_owner_test_df.drop(['id'], axis=1)\n",
    "processed_owner_test_df"
   ]
  },
  {
   "cell_type": "code",
   "execution_count": 22,
   "id": "5daa443c",
   "metadata": {},
   "outputs": [],
   "source": [
    "owner_pred = model.predict(processed_owner_test_df)\n",
    "owner_prediction_df = pd.DataFrame({\n",
    "    'id': processed_owner_test_df_copy['id'],\n",
    "    'price_doc': owner_pred\n",
    "})"
   ]
  },
  {
   "cell_type": "code",
   "execution_count": 25,
   "id": "0809b1c5",
   "metadata": {},
   "outputs": [
    {
     "data": {
      "text/html": [
       "<div>\n",
       "<style scoped>\n",
       "    .dataframe tbody tr th:only-of-type {\n",
       "        vertical-align: middle;\n",
       "    }\n",
       "\n",
       "    .dataframe tbody tr th {\n",
       "        vertical-align: top;\n",
       "    }\n",
       "\n",
       "    .dataframe thead th {\n",
       "        text-align: right;\n",
       "    }\n",
       "</style>\n",
       "<table border=\"1\" class=\"dataframe\">\n",
       "  <thead>\n",
       "    <tr style=\"text-align: right;\">\n",
       "      <th></th>\n",
       "      <th>id</th>\n",
       "      <th>price_doc</th>\n",
       "    </tr>\n",
       "  </thead>\n",
       "  <tbody>\n",
       "    <tr>\n",
       "      <th>0</th>\n",
       "      <td>30474</td>\n",
       "      <td>5.644533e+06</td>\n",
       "    </tr>\n",
       "    <tr>\n",
       "      <th>0</th>\n",
       "      <td>30475</td>\n",
       "      <td>8.368661e+06</td>\n",
       "    </tr>\n",
       "    <tr>\n",
       "      <th>1</th>\n",
       "      <td>30476</td>\n",
       "      <td>5.547279e+06</td>\n",
       "    </tr>\n",
       "    <tr>\n",
       "      <th>1</th>\n",
       "      <td>30477</td>\n",
       "      <td>6.317920e+06</td>\n",
       "    </tr>\n",
       "    <tr>\n",
       "      <th>2</th>\n",
       "      <td>30478</td>\n",
       "      <td>4.642308e+06</td>\n",
       "    </tr>\n",
       "    <tr>\n",
       "      <th>...</th>\n",
       "      <td>...</td>\n",
       "      <td>...</td>\n",
       "    </tr>\n",
       "    <tr>\n",
       "      <th>4995</th>\n",
       "      <td>38131</td>\n",
       "      <td>7.997103e+06</td>\n",
       "    </tr>\n",
       "    <tr>\n",
       "      <th>2629</th>\n",
       "      <td>38132</td>\n",
       "      <td>4.888978e+06</td>\n",
       "    </tr>\n",
       "    <tr>\n",
       "      <th>2630</th>\n",
       "      <td>38133</td>\n",
       "      <td>4.045295e+06</td>\n",
       "    </tr>\n",
       "    <tr>\n",
       "      <th>4996</th>\n",
       "      <td>38134</td>\n",
       "      <td>5.402882e+06</td>\n",
       "    </tr>\n",
       "    <tr>\n",
       "      <th>4997</th>\n",
       "      <td>38135</td>\n",
       "      <td>8.397230e+06</td>\n",
       "    </tr>\n",
       "  </tbody>\n",
       "</table>\n",
       "<p>7629 rows × 2 columns</p>\n",
       "</div>"
      ],
      "text/plain": [
       "         id     price_doc\n",
       "0     30474  5.644533e+06\n",
       "0     30475  8.368661e+06\n",
       "1     30476  5.547279e+06\n",
       "1     30477  6.317920e+06\n",
       "2     30478  4.642308e+06\n",
       "...     ...           ...\n",
       "4995  38131  7.997103e+06\n",
       "2629  38132  4.888978e+06\n",
       "2630  38133  4.045295e+06\n",
       "4996  38134  5.402882e+06\n",
       "4997  38135  8.397230e+06\n",
       "\n",
       "[7629 rows x 2 columns]"
      ]
     },
     "execution_count": 25,
     "metadata": {},
     "output_type": "execute_result"
    }
   ],
   "source": [
    "overall_preds = pd.concat([inv_prediction_df, owner_prediction_df])\n",
    "\n",
    "overall_preds.sort_values(by=['id'], inplace=True)\n",
    "\n",
    "overall_preds"
   ]
  },
  {
   "cell_type": "code",
   "execution_count": 24,
   "id": "bab8a63d",
   "metadata": {},
   "outputs": [],
   "source": [
    "overall_preds.to_csv(output_path, index=False)"
   ]
  },
  {
   "cell_type": "code",
   "execution_count": null,
   "id": "9368eaaa",
   "metadata": {},
   "outputs": [],
   "source": []
  }
 ],
 "metadata": {
  "kernelspec": {
   "display_name": "ml_env",
   "language": "python",
   "name": "ml_env"
  },
  "language_info": {
   "codemirror_mode": {
    "name": "ipython",
    "version": 3
   },
   "file_extension": ".py",
   "mimetype": "text/x-python",
   "name": "python",
   "nbconvert_exporter": "python",
   "pygments_lexer": "ipython3",
   "version": "3.10.0"
  }
 },
 "nbformat": 4,
 "nbformat_minor": 5
}
