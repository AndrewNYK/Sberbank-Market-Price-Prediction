{
 "cells": [
  {
   "cell_type": "code",
   "execution_count": 1,
   "id": "889c8aa8",
   "metadata": {},
   "outputs": [
    {
     "name": "stderr",
     "output_type": "stream",
     "text": [
      "C:\\Users\\Andrew\\anaconda3\\envs\\ml_env\\lib\\site-packages\\shap\\utils\\_clustering.py:35: NumbaDeprecationWarning: \u001b[1mThe 'nopython' keyword argument was not supplied to the 'numba.jit' decorator. The implicit default value for this argument is currently False, but it will be changed to True in Numba 0.59.0. See https://numba.readthedocs.io/en/stable/reference/deprecation.html#deprecation-of-object-mode-fall-back-behaviour-when-using-jit for details.\u001b[0m\n",
      "  def _pt_shuffle_rec(i, indexes, index_mask, partition_tree, M, pos):\n",
      "C:\\Users\\Andrew\\anaconda3\\envs\\ml_env\\lib\\site-packages\\shap\\utils\\_clustering.py:54: NumbaDeprecationWarning: \u001b[1mThe 'nopython' keyword argument was not supplied to the 'numba.jit' decorator. The implicit default value for this argument is currently False, but it will be changed to True in Numba 0.59.0. See https://numba.readthedocs.io/en/stable/reference/deprecation.html#deprecation-of-object-mode-fall-back-behaviour-when-using-jit for details.\u001b[0m\n",
      "  def delta_minimization_order(all_masks, max_swap_size=100, num_passes=2):\n",
      "C:\\Users\\Andrew\\anaconda3\\envs\\ml_env\\lib\\site-packages\\shap\\utils\\_clustering.py:63: NumbaDeprecationWarning: \u001b[1mThe 'nopython' keyword argument was not supplied to the 'numba.jit' decorator. The implicit default value for this argument is currently False, but it will be changed to True in Numba 0.59.0. See https://numba.readthedocs.io/en/stable/reference/deprecation.html#deprecation-of-object-mode-fall-back-behaviour-when-using-jit for details.\u001b[0m\n",
      "  def _reverse_window(order, start, length):\n",
      "C:\\Users\\Andrew\\anaconda3\\envs\\ml_env\\lib\\site-packages\\shap\\utils\\_clustering.py:69: NumbaDeprecationWarning: \u001b[1mThe 'nopython' keyword argument was not supplied to the 'numba.jit' decorator. The implicit default value for this argument is currently False, but it will be changed to True in Numba 0.59.0. See https://numba.readthedocs.io/en/stable/reference/deprecation.html#deprecation-of-object-mode-fall-back-behaviour-when-using-jit for details.\u001b[0m\n",
      "  def _reverse_window_score_gain(masks, order, start, length):\n",
      "C:\\Users\\Andrew\\anaconda3\\envs\\ml_env\\lib\\site-packages\\shap\\utils\\_clustering.py:77: NumbaDeprecationWarning: \u001b[1mThe 'nopython' keyword argument was not supplied to the 'numba.jit' decorator. The implicit default value for this argument is currently False, but it will be changed to True in Numba 0.59.0. See https://numba.readthedocs.io/en/stable/reference/deprecation.html#deprecation-of-object-mode-fall-back-behaviour-when-using-jit for details.\u001b[0m\n",
      "  def _mask_delta_score(m1, m2):\n",
      "C:\\Users\\Andrew\\anaconda3\\envs\\ml_env\\lib\\site-packages\\shap\\links.py:5: NumbaDeprecationWarning: \u001b[1mThe 'nopython' keyword argument was not supplied to the 'numba.jit' decorator. The implicit default value for this argument is currently False, but it will be changed to True in Numba 0.59.0. See https://numba.readthedocs.io/en/stable/reference/deprecation.html#deprecation-of-object-mode-fall-back-behaviour-when-using-jit for details.\u001b[0m\n",
      "  def identity(x):\n",
      "C:\\Users\\Andrew\\anaconda3\\envs\\ml_env\\lib\\site-packages\\shap\\links.py:10: NumbaDeprecationWarning: \u001b[1mThe 'nopython' keyword argument was not supplied to the 'numba.jit' decorator. The implicit default value for this argument is currently False, but it will be changed to True in Numba 0.59.0. See https://numba.readthedocs.io/en/stable/reference/deprecation.html#deprecation-of-object-mode-fall-back-behaviour-when-using-jit for details.\u001b[0m\n",
      "  def _identity_inverse(x):\n",
      "C:\\Users\\Andrew\\anaconda3\\envs\\ml_env\\lib\\site-packages\\shap\\links.py:15: NumbaDeprecationWarning: \u001b[1mThe 'nopython' keyword argument was not supplied to the 'numba.jit' decorator. The implicit default value for this argument is currently False, but it will be changed to True in Numba 0.59.0. See https://numba.readthedocs.io/en/stable/reference/deprecation.html#deprecation-of-object-mode-fall-back-behaviour-when-using-jit for details.\u001b[0m\n",
      "  def logit(x):\n",
      "C:\\Users\\Andrew\\anaconda3\\envs\\ml_env\\lib\\site-packages\\shap\\links.py:20: NumbaDeprecationWarning: \u001b[1mThe 'nopython' keyword argument was not supplied to the 'numba.jit' decorator. The implicit default value for this argument is currently False, but it will be changed to True in Numba 0.59.0. See https://numba.readthedocs.io/en/stable/reference/deprecation.html#deprecation-of-object-mode-fall-back-behaviour-when-using-jit for details.\u001b[0m\n",
      "  def _logit_inverse(x):\n",
      "C:\\Users\\Andrew\\anaconda3\\envs\\ml_env\\lib\\site-packages\\shap\\utils\\_masked_model.py:363: NumbaDeprecationWarning: \u001b[1mThe 'nopython' keyword argument was not supplied to the 'numba.jit' decorator. The implicit default value for this argument is currently False, but it will be changed to True in Numba 0.59.0. See https://numba.readthedocs.io/en/stable/reference/deprecation.html#deprecation-of-object-mode-fall-back-behaviour-when-using-jit for details.\u001b[0m\n",
      "  def _build_fixed_single_output(averaged_outs, last_outs, outputs, batch_positions, varying_rows, num_varying_rows, link, linearizing_weights):\n",
      "C:\\Users\\Andrew\\anaconda3\\envs\\ml_env\\lib\\site-packages\\shap\\utils\\_masked_model.py:385: NumbaDeprecationWarning: \u001b[1mThe 'nopython' keyword argument was not supplied to the 'numba.jit' decorator. The implicit default value for this argument is currently False, but it will be changed to True in Numba 0.59.0. See https://numba.readthedocs.io/en/stable/reference/deprecation.html#deprecation-of-object-mode-fall-back-behaviour-when-using-jit for details.\u001b[0m\n",
      "  def _build_fixed_multi_output(averaged_outs, last_outs, outputs, batch_positions, varying_rows, num_varying_rows, link, linearizing_weights):\n",
      "C:\\Users\\Andrew\\anaconda3\\envs\\ml_env\\lib\\site-packages\\shap\\utils\\_masked_model.py:428: NumbaDeprecationWarning: \u001b[1mThe 'nopython' keyword argument was not supplied to the 'numba.jit' decorator. The implicit default value for this argument is currently False, but it will be changed to True in Numba 0.59.0. See https://numba.readthedocs.io/en/stable/reference/deprecation.html#deprecation-of-object-mode-fall-back-behaviour-when-using-jit for details.\u001b[0m\n",
      "  def _init_masks(cluster_matrix, M, indices_row_pos, indptr):\n",
      "C:\\Users\\Andrew\\anaconda3\\envs\\ml_env\\lib\\site-packages\\shap\\utils\\_masked_model.py:439: NumbaDeprecationWarning: \u001b[1mThe 'nopython' keyword argument was not supplied to the 'numba.jit' decorator. The implicit default value for this argument is currently False, but it will be changed to True in Numba 0.59.0. See https://numba.readthedocs.io/en/stable/reference/deprecation.html#deprecation-of-object-mode-fall-back-behaviour-when-using-jit for details.\u001b[0m\n",
      "  def _rec_fill_masks(cluster_matrix, indices_row_pos, indptr, indices, M, ind):\n",
      "C:\\Users\\Andrew\\anaconda3\\envs\\ml_env\\lib\\site-packages\\shap\\maskers\\_tabular.py:186: NumbaDeprecationWarning: \u001b[1mThe 'nopython' keyword argument was not supplied to the 'numba.jit' decorator. The implicit default value for this argument is currently False, but it will be changed to True in Numba 0.59.0. See https://numba.readthedocs.io/en/stable/reference/deprecation.html#deprecation-of-object-mode-fall-back-behaviour-when-using-jit for details.\u001b[0m\n",
      "  def _single_delta_mask(dind, masked_inputs, last_mask, data, x, noop_code):\n",
      "C:\\Users\\Andrew\\anaconda3\\envs\\ml_env\\lib\\site-packages\\shap\\maskers\\_tabular.py:197: NumbaDeprecationWarning: \u001b[1mThe 'nopython' keyword argument was not supplied to the 'numba.jit' decorator. The implicit default value for this argument is currently False, but it will be changed to True in Numba 0.59.0. See https://numba.readthedocs.io/en/stable/reference/deprecation.html#deprecation-of-object-mode-fall-back-behaviour-when-using-jit for details.\u001b[0m\n",
      "  def _delta_masking(masks, x, curr_delta_inds, varying_rows_out,\n",
      "C:\\Users\\Andrew\\anaconda3\\envs\\ml_env\\lib\\site-packages\\shap\\maskers\\_image.py:175: NumbaDeprecationWarning: \u001b[1mThe 'nopython' keyword argument was not supplied to the 'numba.jit' decorator. The implicit default value for this argument is currently False, but it will be changed to True in Numba 0.59.0. See https://numba.readthedocs.io/en/stable/reference/deprecation.html#deprecation-of-object-mode-fall-back-behaviour-when-using-jit for details.\u001b[0m\n",
      "  def _jit_build_partition_tree(xmin, xmax, ymin, ymax, zmin, zmax, total_ywidth, total_zwidth, M, clustering, q):\n",
      "C:\\Users\\Andrew\\anaconda3\\envs\\ml_env\\lib\\site-packages\\shap\\explainers\\_partition.py:676: NumbaDeprecationWarning: \u001b[1mThe 'nopython' keyword argument was not supplied to the 'numba.jit' decorator. The implicit default value for this argument is currently False, but it will be changed to True in Numba 0.59.0. See https://numba.readthedocs.io/en/stable/reference/deprecation.html#deprecation-of-object-mode-fall-back-behaviour-when-using-jit for details.\u001b[0m\n",
      "  def lower_credit(i, value, M, values, clustering):\n",
      "\u001b[1mThe 'nopython' keyword argument was not supplied to the 'numba.jit' decorator. The implicit default value for this argument is currently False, but it will be changed to True in Numba 0.59.0. See https://numba.readthedocs.io/en/stable/reference/deprecation.html#deprecation-of-object-mode-fall-back-behaviour-when-using-jit for details.\u001b[0m\n",
      "\u001b[1mThe 'nopython' keyword argument was not supplied to the 'numba.jit' decorator. The implicit default value for this argument is currently False, but it will be changed to True in Numba 0.59.0. See https://numba.readthedocs.io/en/stable/reference/deprecation.html#deprecation-of-object-mode-fall-back-behaviour-when-using-jit for details.\u001b[0m\n"
     ]
    }
   ],
   "source": [
    "import numpy as np\n",
    "import pandas as pd\n",
    "import matplotlib.pyplot as plt\n",
    "\n",
    "from scipy import stats\n",
    "from sklearn.model_selection import train_test_split\n",
    "from sklearn.metrics import mean_squared_log_error, r2_score, mean_squared_error\n",
    "\n",
    "from sklearn.preprocessing import LabelEncoder, OrdinalEncoder\n",
    "from category_encoders import MEstimateEncoder, TargetEncoder\n",
    "from sklearn.inspection import permutation_importance\n",
    "\n",
    "import seaborn as sns\n",
    "import shap\n",
    "\n",
    "import lightgbm as lgb\n",
    "\n",
    "import sys\n",
    "sys.path.append('../lightgbm')"
   ]
  },
  {
   "cell_type": "code",
   "execution_count": 17,
   "id": "2a552efa",
   "metadata": {},
   "outputs": [],
   "source": [
    "# File Paths\n",
    "test_df_path = '../../Dataset/test.csv/test.csv'\n",
    "process_train_path = './processed/processed_train_2.csv'\n",
    "process_train_path = './processed/dropped_train.csv'\n",
    "processed_test_path = './processed/processed_test_2.csv'\n",
    "feats_path = './best_feats/Onehot_only_mean_NANs_modified_prices.csv'\n",
    "output_path = './output/lgbm_pred_topFeat.csv'\n",
    "\n",
    "new_df_path = './yh/processed_train.csv'\n",
    "new_test_path = './yh/processed_test.csv'\n",
    "\n",
    "top_n = 75"
   ]
  },
  {
   "cell_type": "code",
   "execution_count": 18,
   "id": "0c229ffd",
   "metadata": {},
   "outputs": [],
   "source": [
    "feats_df = pd.read_csv(feats_path)\n",
    "feats = feats_df['col_name'].values.tolist()[:top_n]\n",
    "processed_df = pd.read_csv(process_train_path)\n",
    "processed_df = processed_df[feats+['price_doc']]\n",
    "X = processed_df.drop(['price_doc'], axis=1)\n",
    "y = processed_df['price_doc']\n",
    "X = X[feats]\n",
    "\n",
    "new_df = pd.read_csv(new_df_path)\n",
    "\n",
    "for item in ['max_floor', 'floor', 'build_year', 'num_room', 'kitch_sq', 'state']:\n",
    "    X[item] = new_df[item]"
   ]
  },
  {
   "cell_type": "code",
   "execution_count": 19,
   "id": "859e62a7",
   "metadata": {},
   "outputs": [
    {
     "data": {
      "text/html": [
       "<div>\n",
       "<style scoped>\n",
       "    .dataframe tbody tr th:only-of-type {\n",
       "        vertical-align: middle;\n",
       "    }\n",
       "\n",
       "    .dataframe tbody tr th {\n",
       "        vertical-align: top;\n",
       "    }\n",
       "\n",
       "    .dataframe thead th {\n",
       "        text-align: right;\n",
       "    }\n",
       "</style>\n",
       "<table border=\"1\" class=\"dataframe\">\n",
       "  <thead>\n",
       "    <tr style=\"text-align: right;\">\n",
       "      <th></th>\n",
       "      <th>id</th>\n",
       "      <th>full_sq</th>\n",
       "      <th>life_sq</th>\n",
       "      <th>floor</th>\n",
       "      <th>max_floor</th>\n",
       "      <th>build_year</th>\n",
       "      <th>num_room</th>\n",
       "      <th>kitch_sq</th>\n",
       "      <th>state</th>\n",
       "      <th>area_m</th>\n",
       "      <th>...</th>\n",
       "      <th>big_road1_1line_yes</th>\n",
       "      <th>railroad_1line_no</th>\n",
       "      <th>railroad_1line_yes</th>\n",
       "      <th>material_1.0</th>\n",
       "      <th>material_2.0</th>\n",
       "      <th>material_3.0</th>\n",
       "      <th>material_4.0</th>\n",
       "      <th>material_5.0</th>\n",
       "      <th>material_6.0</th>\n",
       "      <th>material_nan</th>\n",
       "    </tr>\n",
       "  </thead>\n",
       "  <tbody>\n",
       "    <tr>\n",
       "      <th>0</th>\n",
       "      <td>30474</td>\n",
       "      <td>39.00</td>\n",
       "      <td>20.700000</td>\n",
       "      <td>2</td>\n",
       "      <td>9</td>\n",
       "      <td>1998.0</td>\n",
       "      <td>1</td>\n",
       "      <td>8.9</td>\n",
       "      <td>3.0</td>\n",
       "      <td>2.615514e+07</td>\n",
       "      <td>...</td>\n",
       "      <td>0.0</td>\n",
       "      <td>1.0</td>\n",
       "      <td>0.0</td>\n",
       "      <td>1.0</td>\n",
       "      <td>0.0</td>\n",
       "      <td>0.0</td>\n",
       "      <td>0.0</td>\n",
       "      <td>0.0</td>\n",
       "      <td>0.0</td>\n",
       "      <td>0.0</td>\n",
       "    </tr>\n",
       "    <tr>\n",
       "      <th>1</th>\n",
       "      <td>30475</td>\n",
       "      <td>79.20</td>\n",
       "      <td>34.404467</td>\n",
       "      <td>8</td>\n",
       "      <td>17</td>\n",
       "      <td>0.0</td>\n",
       "      <td>3</td>\n",
       "      <td>1.0</td>\n",
       "      <td>1.0</td>\n",
       "      <td>2.553630e+07</td>\n",
       "      <td>...</td>\n",
       "      <td>0.0</td>\n",
       "      <td>1.0</td>\n",
       "      <td>0.0</td>\n",
       "      <td>1.0</td>\n",
       "      <td>0.0</td>\n",
       "      <td>0.0</td>\n",
       "      <td>0.0</td>\n",
       "      <td>0.0</td>\n",
       "      <td>0.0</td>\n",
       "      <td>0.0</td>\n",
       "    </tr>\n",
       "    <tr>\n",
       "      <th>2</th>\n",
       "      <td>30476</td>\n",
       "      <td>40.50</td>\n",
       "      <td>25.100000</td>\n",
       "      <td>3</td>\n",
       "      <td>5</td>\n",
       "      <td>1960.0</td>\n",
       "      <td>2</td>\n",
       "      <td>4.8</td>\n",
       "      <td>2.0</td>\n",
       "      <td>9.946335e+06</td>\n",
       "      <td>...</td>\n",
       "      <td>0.0</td>\n",
       "      <td>1.0</td>\n",
       "      <td>0.0</td>\n",
       "      <td>0.0</td>\n",
       "      <td>1.0</td>\n",
       "      <td>0.0</td>\n",
       "      <td>0.0</td>\n",
       "      <td>0.0</td>\n",
       "      <td>0.0</td>\n",
       "      <td>0.0</td>\n",
       "    </tr>\n",
       "    <tr>\n",
       "      <th>3</th>\n",
       "      <td>30477</td>\n",
       "      <td>62.80</td>\n",
       "      <td>36.000000</td>\n",
       "      <td>17</td>\n",
       "      <td>17</td>\n",
       "      <td>2016.0</td>\n",
       "      <td>2</td>\n",
       "      <td>62.8</td>\n",
       "      <td>3.0</td>\n",
       "      <td>2.149409e+07</td>\n",
       "      <td>...</td>\n",
       "      <td>0.0</td>\n",
       "      <td>1.0</td>\n",
       "      <td>0.0</td>\n",
       "      <td>1.0</td>\n",
       "      <td>0.0</td>\n",
       "      <td>0.0</td>\n",
       "      <td>0.0</td>\n",
       "      <td>0.0</td>\n",
       "      <td>0.0</td>\n",
       "      <td>0.0</td>\n",
       "    </tr>\n",
       "    <tr>\n",
       "      <th>4</th>\n",
       "      <td>30478</td>\n",
       "      <td>40.00</td>\n",
       "      <td>40.000000</td>\n",
       "      <td>17</td>\n",
       "      <td>17</td>\n",
       "      <td>0.0</td>\n",
       "      <td>1</td>\n",
       "      <td>1.0</td>\n",
       "      <td>1.0</td>\n",
       "      <td>2.553630e+07</td>\n",
       "      <td>...</td>\n",
       "      <td>0.0</td>\n",
       "      <td>1.0</td>\n",
       "      <td>0.0</td>\n",
       "      <td>1.0</td>\n",
       "      <td>0.0</td>\n",
       "      <td>0.0</td>\n",
       "      <td>0.0</td>\n",
       "      <td>0.0</td>\n",
       "      <td>0.0</td>\n",
       "      <td>0.0</td>\n",
       "    </tr>\n",
       "    <tr>\n",
       "      <th>...</th>\n",
       "      <td>...</td>\n",
       "      <td>...</td>\n",
       "      <td>...</td>\n",
       "      <td>...</td>\n",
       "      <td>...</td>\n",
       "      <td>...</td>\n",
       "      <td>...</td>\n",
       "      <td>...</td>\n",
       "      <td>...</td>\n",
       "      <td>...</td>\n",
       "      <td>...</td>\n",
       "      <td>...</td>\n",
       "      <td>...</td>\n",
       "      <td>...</td>\n",
       "      <td>...</td>\n",
       "      <td>...</td>\n",
       "      <td>...</td>\n",
       "      <td>...</td>\n",
       "      <td>...</td>\n",
       "      <td>...</td>\n",
       "      <td>...</td>\n",
       "    </tr>\n",
       "    <tr>\n",
       "      <th>7657</th>\n",
       "      <td>38131</td>\n",
       "      <td>52.20</td>\n",
       "      <td>31.800000</td>\n",
       "      <td>10</td>\n",
       "      <td>12</td>\n",
       "      <td>1973.0</td>\n",
       "      <td>2</td>\n",
       "      <td>9.1</td>\n",
       "      <td>2.0</td>\n",
       "      <td>7.811375e+06</td>\n",
       "      <td>...</td>\n",
       "      <td>0.0</td>\n",
       "      <td>1.0</td>\n",
       "      <td>0.0</td>\n",
       "      <td>0.0</td>\n",
       "      <td>0.0</td>\n",
       "      <td>0.0</td>\n",
       "      <td>0.0</td>\n",
       "      <td>1.0</td>\n",
       "      <td>0.0</td>\n",
       "      <td>0.0</td>\n",
       "    </tr>\n",
       "    <tr>\n",
       "      <th>7658</th>\n",
       "      <td>38132</td>\n",
       "      <td>54.09</td>\n",
       "      <td>34.404467</td>\n",
       "      <td>14</td>\n",
       "      <td>14</td>\n",
       "      <td>2016.0</td>\n",
       "      <td>2</td>\n",
       "      <td>0.0</td>\n",
       "      <td>1.0</td>\n",
       "      <td>5.299528e+07</td>\n",
       "      <td>...</td>\n",
       "      <td>0.0</td>\n",
       "      <td>1.0</td>\n",
       "      <td>0.0</td>\n",
       "      <td>1.0</td>\n",
       "      <td>0.0</td>\n",
       "      <td>0.0</td>\n",
       "      <td>0.0</td>\n",
       "      <td>0.0</td>\n",
       "      <td>0.0</td>\n",
       "      <td>0.0</td>\n",
       "    </tr>\n",
       "    <tr>\n",
       "      <th>7659</th>\n",
       "      <td>38133</td>\n",
       "      <td>41.08</td>\n",
       "      <td>1.000000</td>\n",
       "      <td>12</td>\n",
       "      <td>12</td>\n",
       "      <td>1.0</td>\n",
       "      <td>1</td>\n",
       "      <td>1.0</td>\n",
       "      <td>1.0</td>\n",
       "      <td>7.307411e+06</td>\n",
       "      <td>...</td>\n",
       "      <td>0.0</td>\n",
       "      <td>1.0</td>\n",
       "      <td>0.0</td>\n",
       "      <td>1.0</td>\n",
       "      <td>0.0</td>\n",
       "      <td>0.0</td>\n",
       "      <td>0.0</td>\n",
       "      <td>0.0</td>\n",
       "      <td>0.0</td>\n",
       "      <td>0.0</td>\n",
       "    </tr>\n",
       "    <tr>\n",
       "      <th>7660</th>\n",
       "      <td>38134</td>\n",
       "      <td>34.80</td>\n",
       "      <td>19.800000</td>\n",
       "      <td>8</td>\n",
       "      <td>9</td>\n",
       "      <td>1977.0</td>\n",
       "      <td>1</td>\n",
       "      <td>6.4</td>\n",
       "      <td>2.0</td>\n",
       "      <td>7.128794e+06</td>\n",
       "      <td>...</td>\n",
       "      <td>0.0</td>\n",
       "      <td>1.0</td>\n",
       "      <td>0.0</td>\n",
       "      <td>0.0</td>\n",
       "      <td>0.0</td>\n",
       "      <td>0.0</td>\n",
       "      <td>0.0</td>\n",
       "      <td>1.0</td>\n",
       "      <td>0.0</td>\n",
       "      <td>0.0</td>\n",
       "    </tr>\n",
       "    <tr>\n",
       "      <th>7661</th>\n",
       "      <td>38135</td>\n",
       "      <td>63.00</td>\n",
       "      <td>43.800000</td>\n",
       "      <td>5</td>\n",
       "      <td>5</td>\n",
       "      <td>1973.0</td>\n",
       "      <td>3</td>\n",
       "      <td>7.1</td>\n",
       "      <td>3.0</td>\n",
       "      <td>6.206099e+06</td>\n",
       "      <td>...</td>\n",
       "      <td>0.0</td>\n",
       "      <td>1.0</td>\n",
       "      <td>0.0</td>\n",
       "      <td>1.0</td>\n",
       "      <td>0.0</td>\n",
       "      <td>0.0</td>\n",
       "      <td>0.0</td>\n",
       "      <td>0.0</td>\n",
       "      <td>0.0</td>\n",
       "      <td>0.0</td>\n",
       "    </tr>\n",
       "  </tbody>\n",
       "</table>\n",
       "<p>7662 rows × 451 columns</p>\n",
       "</div>"
      ],
      "text/plain": [
       "         id  full_sq    life_sq  floor  max_floor  build_year  num_room  \\\n",
       "0     30474    39.00  20.700000      2          9      1998.0         1   \n",
       "1     30475    79.20  34.404467      8         17         0.0         3   \n",
       "2     30476    40.50  25.100000      3          5      1960.0         2   \n",
       "3     30477    62.80  36.000000     17         17      2016.0         2   \n",
       "4     30478    40.00  40.000000     17         17         0.0         1   \n",
       "...     ...      ...        ...    ...        ...         ...       ...   \n",
       "7657  38131    52.20  31.800000     10         12      1973.0         2   \n",
       "7658  38132    54.09  34.404467     14         14      2016.0         2   \n",
       "7659  38133    41.08   1.000000     12         12         1.0         1   \n",
       "7660  38134    34.80  19.800000      8          9      1977.0         1   \n",
       "7661  38135    63.00  43.800000      5          5      1973.0         3   \n",
       "\n",
       "      kitch_sq  state        area_m  ...  big_road1_1line_yes  \\\n",
       "0          8.9    3.0  2.615514e+07  ...                  0.0   \n",
       "1          1.0    1.0  2.553630e+07  ...                  0.0   \n",
       "2          4.8    2.0  9.946335e+06  ...                  0.0   \n",
       "3         62.8    3.0  2.149409e+07  ...                  0.0   \n",
       "4          1.0    1.0  2.553630e+07  ...                  0.0   \n",
       "...        ...    ...           ...  ...                  ...   \n",
       "7657       9.1    2.0  7.811375e+06  ...                  0.0   \n",
       "7658       0.0    1.0  5.299528e+07  ...                  0.0   \n",
       "7659       1.0    1.0  7.307411e+06  ...                  0.0   \n",
       "7660       6.4    2.0  7.128794e+06  ...                  0.0   \n",
       "7661       7.1    3.0  6.206099e+06  ...                  0.0   \n",
       "\n",
       "      railroad_1line_no  railroad_1line_yes  material_1.0  material_2.0  \\\n",
       "0                   1.0                 0.0           1.0           0.0   \n",
       "1                   1.0                 0.0           1.0           0.0   \n",
       "2                   1.0                 0.0           0.0           1.0   \n",
       "3                   1.0                 0.0           1.0           0.0   \n",
       "4                   1.0                 0.0           1.0           0.0   \n",
       "...                 ...                 ...           ...           ...   \n",
       "7657                1.0                 0.0           0.0           0.0   \n",
       "7658                1.0                 0.0           1.0           0.0   \n",
       "7659                1.0                 0.0           1.0           0.0   \n",
       "7660                1.0                 0.0           0.0           0.0   \n",
       "7661                1.0                 0.0           1.0           0.0   \n",
       "\n",
       "      material_3.0  material_4.0  material_5.0  material_6.0  material_nan  \n",
       "0              0.0           0.0           0.0           0.0           0.0  \n",
       "1              0.0           0.0           0.0           0.0           0.0  \n",
       "2              0.0           0.0           0.0           0.0           0.0  \n",
       "3              0.0           0.0           0.0           0.0           0.0  \n",
       "4              0.0           0.0           0.0           0.0           0.0  \n",
       "...            ...           ...           ...           ...           ...  \n",
       "7657           0.0           0.0           1.0           0.0           0.0  \n",
       "7658           0.0           0.0           0.0           0.0           0.0  \n",
       "7659           0.0           0.0           0.0           0.0           0.0  \n",
       "7660           0.0           0.0           1.0           0.0           0.0  \n",
       "7661           0.0           0.0           0.0           0.0           0.0  \n",
       "\n",
       "[7662 rows x 451 columns]"
      ]
     },
     "execution_count": 19,
     "metadata": {},
     "output_type": "execute_result"
    }
   ],
   "source": [
    "test_df = pd.read_csv(test_df_path)\n",
    "processed_test_df = pd.read_csv(processed_test_path)\n",
    "\n",
    "new_test = pd.read_csv(new_test_path)\n",
    "for item in ['max_floor', 'floor', 'build_year', 'num_room', 'kitch_sq', 'state']:\n",
    "    processed_test_df[item] = new_test[item]\n",
    "\n",
    "\n",
    "processed_test_df"
   ]
  },
  {
   "cell_type": "code",
   "execution_count": 20,
   "id": "765bee8f",
   "metadata": {},
   "outputs": [],
   "source": [
    "X_train, X_val, y_train, y_val = train_test_split(X, y, test_size=0.2, random_state=42)"
   ]
  },
  {
   "cell_type": "code",
   "execution_count": 21,
   "id": "bfec8c8b",
   "metadata": {},
   "outputs": [],
   "source": [
    "from sklearn.metrics import mean_squared_error\n",
    "import optuna\n",
    "\n",
    "def objective(trial):\n",
    "    params = {\n",
    "        \"objective\": \"regression\",\n",
    "        \"metric\": \"rmse\",\n",
    "        \"verbosity\": -1,\n",
    "        \"n_estimators\": trial.suggest_int(\"n_estimators\", 800, 1200),\n",
    "#         \"boosting\": trial.suggest_categorical(\"boosting\", [\"gbdt\", \"rf\", \"dart\"]),\n",
    "        \"lambda_l2\": trial.suggest_float(\"lambda_l2\", 0, 10),\n",
    "        \"bagging_fraction\": trial.suggest_float(\"bagging_fraction\", 0, 1),\n",
    "        \"bagging_freq\": 1,\n",
    "        \"num_leaves\": trial.suggest_int(\"num_leaves\", 2, 2**10),\n",
    "        \"feature_fraction\": trial.suggest_float(\"feature_fraction\", 0.5, 1),\n",
    "        \"max_depth\": trial.suggest_int(\"max_depth\", 1, 50),\n",
    "        \"learning_rate\": trial.suggest_float(\"learning_rate\", 1e-3, 0.1, log=True),\n",
    "        \"subsample\": trial.suggest_float(\"subsample\", 0.05, 1.0),\n",
    "        \"colsample_bytree\": trial.suggest_float(\"colsample_bytree\", 0.05, 1.0),\n",
    "        \"min_data_in_leaf\": trial.suggest_int(\"min_data_in_leaf\", 10, 100),\n",
    "    }\n",
    "\n",
    "    model = lgb.LGBMRegressor(**params)\n",
    "    model.fit(X_train, y_train, verbose=False)\n",
    "    predictions = model.predict(X_val)\n",
    "    rmse = mean_squared_error(y_val, predictions, squared=False)\n",
    "    return rmse"
   ]
  },
  {
   "cell_type": "code",
   "execution_count": 22,
   "id": "6990d2c1",
   "metadata": {},
   "outputs": [
    {
     "name": "stderr",
     "output_type": "stream",
     "text": [
      "[I 2023-10-31 17:14:06,210] A new study created in memory with name: no-name-efd83a18-7ffe-4ce0-b5ea-8c3d1081bb10\n",
      "'verbose' argument is deprecated and will be removed in a future release of LightGBM. Pass 'log_evaluation()' callback via 'callbacks' argument instead.\n"
     ]
    },
    {
     "name": "stdout",
     "output_type": "stream",
     "text": [
      "[LightGBM] [Warning] feature_fraction is set=0.8905949787278113, colsample_bytree=0.6344956525184016 will be ignored. Current value: feature_fraction=0.8905949787278113\n",
      "[LightGBM] [Warning] min_data_in_leaf is set=24, min_child_samples=20 will be ignored. Current value: min_data_in_leaf=24\n",
      "[LightGBM] [Warning] bagging_fraction is set=0.16825019363096372, subsample=0.5144684959155901 will be ignored. Current value: bagging_fraction=0.16825019363096372\n",
      "[LightGBM] [Warning] lambda_l2 is set=7.524539953525803, reg_lambda=0.0 will be ignored. Current value: lambda_l2=7.524539953525803\n",
      "[LightGBM] [Warning] bagging_freq is set=1, subsample_freq=0 will be ignored. Current value: bagging_freq=1\n"
     ]
    },
    {
     "name": "stderr",
     "output_type": "stream",
     "text": [
      "[I 2023-10-31 17:14:08,944] Trial 0 finished with value: 2076176.6831971689 and parameters: {'n_estimators': 1023, 'lambda_l2': 7.524539953525803, 'bagging_fraction': 0.16825019363096372, 'num_leaves': 722, 'feature_fraction': 0.8905949787278113, 'max_depth': 14, 'learning_rate': 0.08763532231321279, 'subsample': 0.5144684959155901, 'colsample_bytree': 0.6344956525184016, 'min_data_in_leaf': 24}. Best is trial 0 with value: 2076176.6831971689.\n",
      "'verbose' argument is deprecated and will be removed in a future release of LightGBM. Pass 'log_evaluation()' callback via 'callbacks' argument instead.\n"
     ]
    },
    {
     "name": "stdout",
     "output_type": "stream",
     "text": [
      "[LightGBM] [Warning] feature_fraction is set=0.6309170404311941, colsample_bytree=0.45794120091688734 will be ignored. Current value: feature_fraction=0.6309170404311941\n",
      "[LightGBM] [Warning] min_data_in_leaf is set=46, min_child_samples=20 will be ignored. Current value: min_data_in_leaf=46\n",
      "[LightGBM] [Warning] bagging_fraction is set=0.7515737450446494, subsample=0.9617648657636173 will be ignored. Current value: bagging_fraction=0.7515737450446494\n",
      "[LightGBM] [Warning] lambda_l2 is set=7.791222774316102, reg_lambda=0.0 will be ignored. Current value: lambda_l2=7.791222774316102\n",
      "[LightGBM] [Warning] bagging_freq is set=1, subsample_freq=0 will be ignored. Current value: bagging_freq=1\n"
     ]
    },
    {
     "name": "stderr",
     "output_type": "stream",
     "text": [
      "[I 2023-10-31 17:14:14,279] Trial 1 finished with value: 2675734.876848277 and parameters: {'n_estimators': 916, 'lambda_l2': 7.791222774316102, 'bagging_fraction': 0.7515737450446494, 'num_leaves': 387, 'feature_fraction': 0.6309170404311941, 'max_depth': 24, 'learning_rate': 0.0013163118604080995, 'subsample': 0.9617648657636173, 'colsample_bytree': 0.45794120091688734, 'min_data_in_leaf': 46}. Best is trial 0 with value: 2076176.6831971689.\n",
      "'verbose' argument is deprecated and will be removed in a future release of LightGBM. Pass 'log_evaluation()' callback via 'callbacks' argument instead.\n"
     ]
    },
    {
     "name": "stdout",
     "output_type": "stream",
     "text": [
      "[LightGBM] [Warning] feature_fraction is set=0.8836213146160532, colsample_bytree=0.5066363392671842 will be ignored. Current value: feature_fraction=0.8836213146160532\n",
      "[LightGBM] [Warning] min_data_in_leaf is set=93, min_child_samples=20 will be ignored. Current value: min_data_in_leaf=93\n",
      "[LightGBM] [Warning] bagging_fraction is set=0.7743665379839592, subsample=0.6474084578586472 will be ignored. Current value: bagging_fraction=0.7743665379839592\n",
      "[LightGBM] [Warning] lambda_l2 is set=7.292118237898656, reg_lambda=0.0 will be ignored. Current value: lambda_l2=7.292118237898656\n",
      "[LightGBM] [Warning] bagging_freq is set=1, subsample_freq=0 will be ignored. Current value: bagging_freq=1\n"
     ]
    },
    {
     "name": "stderr",
     "output_type": "stream",
     "text": [
      "[I 2023-10-31 17:14:18,356] Trial 2 finished with value: 2797523.7474719915 and parameters: {'n_estimators': 897, 'lambda_l2': 7.292118237898656, 'bagging_fraction': 0.7743665379839592, 'num_leaves': 225, 'feature_fraction': 0.8836213146160532, 'max_depth': 27, 'learning_rate': 0.001100041511779771, 'subsample': 0.6474084578586472, 'colsample_bytree': 0.5066363392671842, 'min_data_in_leaf': 93}. Best is trial 0 with value: 2076176.6831971689.\n",
      "'verbose' argument is deprecated and will be removed in a future release of LightGBM. Pass 'log_evaluation()' callback via 'callbacks' argument instead.\n"
     ]
    },
    {
     "name": "stdout",
     "output_type": "stream",
     "text": [
      "[LightGBM] [Warning] feature_fraction is set=0.7271426657703222, colsample_bytree=0.7550885333887924 will be ignored. Current value: feature_fraction=0.7271426657703222\n",
      "[LightGBM] [Warning] min_data_in_leaf is set=75, min_child_samples=20 will be ignored. Current value: min_data_in_leaf=75\n",
      "[LightGBM] [Warning] bagging_fraction is set=0.47568719007934834, subsample=0.06007153567963696 will be ignored. Current value: bagging_fraction=0.47568719007934834\n",
      "[LightGBM] [Warning] lambda_l2 is set=4.0537884380387, reg_lambda=0.0 will be ignored. Current value: lambda_l2=4.0537884380387\n",
      "[LightGBM] [Warning] bagging_freq is set=1, subsample_freq=0 will be ignored. Current value: bagging_freq=1\n"
     ]
    },
    {
     "name": "stderr",
     "output_type": "stream",
     "text": [
      "[I 2023-10-31 17:14:19,651] Trial 3 finished with value: 2081317.6484638734 and parameters: {'n_estimators': 908, 'lambda_l2': 4.0537884380387, 'bagging_fraction': 0.47568719007934834, 'num_leaves': 172, 'feature_fraction': 0.7271426657703222, 'max_depth': 7, 'learning_rate': 0.02230511455974985, 'subsample': 0.06007153567963696, 'colsample_bytree': 0.7550885333887924, 'min_data_in_leaf': 75}. Best is trial 0 with value: 2076176.6831971689.\n",
      "'verbose' argument is deprecated and will be removed in a future release of LightGBM. Pass 'log_evaluation()' callback via 'callbacks' argument instead.\n"
     ]
    },
    {
     "name": "stdout",
     "output_type": "stream",
     "text": [
      "[LightGBM] [Warning] feature_fraction is set=0.9770927520361292, colsample_bytree=0.9153788268146881 will be ignored. Current value: feature_fraction=0.9770927520361292\n",
      "[LightGBM] [Warning] min_data_in_leaf is set=45, min_child_samples=20 will be ignored. Current value: min_data_in_leaf=45\n",
      "[LightGBM] [Warning] bagging_fraction is set=0.6637496011448261, subsample=0.8014209064080856 will be ignored. Current value: bagging_fraction=0.6637496011448261\n",
      "[LightGBM] [Warning] lambda_l2 is set=6.383166826782686, reg_lambda=0.0 will be ignored. Current value: lambda_l2=6.383166826782686\n",
      "[LightGBM] [Warning] bagging_freq is set=1, subsample_freq=0 will be ignored. Current value: bagging_freq=1\n"
     ]
    },
    {
     "name": "stderr",
     "output_type": "stream",
     "text": [
      "[I 2023-10-31 17:14:23,115] Trial 4 finished with value: 2011888.1402070993 and parameters: {'n_estimators': 897, 'lambda_l2': 6.383166826782686, 'bagging_fraction': 0.6637496011448261, 'num_leaves': 75, 'feature_fraction': 0.9770927520361292, 'max_depth': 23, 'learning_rate': 0.028004349320460056, 'subsample': 0.8014209064080856, 'colsample_bytree': 0.9153788268146881, 'min_data_in_leaf': 45}. Best is trial 4 with value: 2011888.1402070993.\n",
      "'verbose' argument is deprecated and will be removed in a future release of LightGBM. Pass 'log_evaluation()' callback via 'callbacks' argument instead.\n"
     ]
    },
    {
     "name": "stdout",
     "output_type": "stream",
     "text": [
      "[LightGBM] [Warning] feature_fraction is set=0.7171681061584643, colsample_bytree=0.9360310786912276 will be ignored. Current value: feature_fraction=0.7171681061584643\n",
      "[LightGBM] [Warning] min_data_in_leaf is set=72, min_child_samples=20 will be ignored. Current value: min_data_in_leaf=72\n",
      "[LightGBM] [Warning] bagging_fraction is set=0.6231634869004726, subsample=0.7629730800571596 will be ignored. Current value: bagging_fraction=0.6231634869004726\n",
      "[LightGBM] [Warning] lambda_l2 is set=6.902703568850006, reg_lambda=0.0 will be ignored. Current value: lambda_l2=6.902703568850006\n",
      "[LightGBM] [Warning] bagging_freq is set=1, subsample_freq=0 will be ignored. Current value: bagging_freq=1\n"
     ]
    },
    {
     "name": "stderr",
     "output_type": "stream",
     "text": [
      "[I 2023-10-31 17:14:26,615] Trial 5 finished with value: 2059319.9670506997 and parameters: {'n_estimators': 1125, 'lambda_l2': 6.902703568850006, 'bagging_fraction': 0.6231634869004726, 'num_leaves': 513, 'feature_fraction': 0.7171681061584643, 'max_depth': 14, 'learning_rate': 0.011288099584675049, 'subsample': 0.7629730800571596, 'colsample_bytree': 0.9360310786912276, 'min_data_in_leaf': 72}. Best is trial 4 with value: 2011888.1402070993.\n",
      "'verbose' argument is deprecated and will be removed in a future release of LightGBM. Pass 'log_evaluation()' callback via 'callbacks' argument instead.\n"
     ]
    },
    {
     "name": "stdout",
     "output_type": "stream",
     "text": [
      "[LightGBM] [Warning] feature_fraction is set=0.6418715449246202, colsample_bytree=0.2932832441995875 will be ignored. Current value: feature_fraction=0.6418715449246202\n",
      "[LightGBM] [Warning] min_data_in_leaf is set=90, min_child_samples=20 will be ignored. Current value: min_data_in_leaf=90\n",
      "[LightGBM] [Warning] bagging_fraction is set=0.6915289358682659, subsample=0.29404718109532685 will be ignored. Current value: bagging_fraction=0.6915289358682659\n",
      "[LightGBM] [Warning] lambda_l2 is set=4.795457788980598, reg_lambda=0.0 will be ignored. Current value: lambda_l2=4.795457788980598\n",
      "[LightGBM] [Warning] bagging_freq is set=1, subsample_freq=0 will be ignored. Current value: bagging_freq=1\n"
     ]
    },
    {
     "name": "stderr",
     "output_type": "stream",
     "text": [
      "[I 2023-10-31 17:14:29,979] Trial 6 finished with value: 2381133.264583004 and parameters: {'n_estimators': 812, 'lambda_l2': 4.795457788980598, 'bagging_fraction': 0.6915289358682659, 'num_leaves': 143, 'feature_fraction': 0.6418715449246202, 'max_depth': 17, 'learning_rate': 0.0023761361634796023, 'subsample': 0.29404718109532685, 'colsample_bytree': 0.2932832441995875, 'min_data_in_leaf': 90}. Best is trial 4 with value: 2011888.1402070993.\n",
      "'verbose' argument is deprecated and will be removed in a future release of LightGBM. Pass 'log_evaluation()' callback via 'callbacks' argument instead.\n"
     ]
    },
    {
     "name": "stdout",
     "output_type": "stream",
     "text": [
      "[LightGBM] [Warning] feature_fraction is set=0.5933684703831925, colsample_bytree=0.8749356288801864 will be ignored. Current value: feature_fraction=0.5933684703831925\n",
      "[LightGBM] [Warning] min_data_in_leaf is set=13, min_child_samples=20 will be ignored. Current value: min_data_in_leaf=13\n",
      "[LightGBM] [Warning] bagging_fraction is set=0.9281354555247195, subsample=0.12446344315543972 will be ignored. Current value: bagging_fraction=0.9281354555247195\n",
      "[LightGBM] [Warning] lambda_l2 is set=7.84020610999237, reg_lambda=0.0 will be ignored. Current value: lambda_l2=7.84020610999237\n",
      "[LightGBM] [Warning] bagging_freq is set=1, subsample_freq=0 will be ignored. Current value: bagging_freq=1\n"
     ]
    },
    {
     "name": "stderr",
     "output_type": "stream",
     "text": [
      "[I 2023-10-31 17:14:49,057] Trial 7 finished with value: 2003840.540311801 and parameters: {'n_estimators': 1144, 'lambda_l2': 7.84020610999237, 'bagging_fraction': 0.9281354555247195, 'num_leaves': 507, 'feature_fraction': 0.5933684703831925, 'max_depth': 38, 'learning_rate': 0.004248977059021041, 'subsample': 0.12446344315543972, 'colsample_bytree': 0.8749356288801864, 'min_data_in_leaf': 13}. Best is trial 7 with value: 2003840.540311801.\n",
      "'verbose' argument is deprecated and will be removed in a future release of LightGBM. Pass 'log_evaluation()' callback via 'callbacks' argument instead.\n"
     ]
    },
    {
     "name": "stdout",
     "output_type": "stream",
     "text": [
      "[LightGBM] [Warning] feature_fraction is set=0.799727544411617, colsample_bytree=0.59521533861613 will be ignored. Current value: feature_fraction=0.799727544411617\n",
      "[LightGBM] [Warning] min_data_in_leaf is set=63, min_child_samples=20 will be ignored. Current value: min_data_in_leaf=63\n",
      "[LightGBM] [Warning] bagging_fraction is set=0.5542888143157335, subsample=0.41822964927945466 will be ignored. Current value: bagging_fraction=0.5542888143157335\n",
      "[LightGBM] [Warning] lambda_l2 is set=6.27188584352553, reg_lambda=0.0 will be ignored. Current value: lambda_l2=6.27188584352553\n",
      "[LightGBM] [Warning] bagging_freq is set=1, subsample_freq=0 will be ignored. Current value: bagging_freq=1\n"
     ]
    },
    {
     "name": "stderr",
     "output_type": "stream",
     "text": [
      "[I 2023-10-31 17:14:53,887] Trial 8 finished with value: 2819038.879268982 and parameters: {'n_estimators': 879, 'lambda_l2': 6.27188584352553, 'bagging_fraction': 0.5542888143157335, 'num_leaves': 986, 'feature_fraction': 0.799727544411617, 'max_depth': 24, 'learning_rate': 0.0011214757086216497, 'subsample': 0.41822964927945466, 'colsample_bytree': 0.59521533861613, 'min_data_in_leaf': 63}. Best is trial 7 with value: 2003840.540311801.\n",
      "'verbose' argument is deprecated and will be removed in a future release of LightGBM. Pass 'log_evaluation()' callback via 'callbacks' argument instead.\n"
     ]
    },
    {
     "name": "stdout",
     "output_type": "stream",
     "text": [
      "[LightGBM] [Warning] feature_fraction is set=0.5481336087111786, colsample_bytree=0.43856360709982267 will be ignored. Current value: feature_fraction=0.5481336087111786\n",
      "[LightGBM] [Warning] min_data_in_leaf is set=97, min_child_samples=20 will be ignored. Current value: min_data_in_leaf=97\n",
      "[LightGBM] [Warning] bagging_fraction is set=0.5552841741152352, subsample=0.7176025926702427 will be ignored. Current value: bagging_fraction=0.5552841741152352\n",
      "[LightGBM] [Warning] lambda_l2 is set=2.9118343367739827, reg_lambda=0.0 will be ignored. Current value: lambda_l2=2.9118343367739827\n",
      "[LightGBM] [Warning] bagging_freq is set=1, subsample_freq=0 will be ignored. Current value: bagging_freq=1\n"
     ]
    },
    {
     "name": "stderr",
     "output_type": "stream",
     "text": [
      "[I 2023-10-31 17:14:54,967] Trial 9 finished with value: 2945795.2712638876 and parameters: {'n_estimators': 929, 'lambda_l2': 2.9118343367739827, 'bagging_fraction': 0.5552841741152352, 'num_leaves': 673, 'feature_fraction': 0.5481336087111786, 'max_depth': 4, 'learning_rate': 0.0012142147137812322, 'subsample': 0.7176025926702427, 'colsample_bytree': 0.43856360709982267, 'min_data_in_leaf': 97}. Best is trial 7 with value: 2003840.540311801.\n",
      "'verbose' argument is deprecated and will be removed in a future release of LightGBM. Pass 'log_evaluation()' callback via 'callbacks' argument instead.\n"
     ]
    },
    {
     "name": "stdout",
     "output_type": "stream",
     "text": [
      "[LightGBM] [Warning] feature_fraction is set=0.5382442933626352, colsample_bytree=0.08480354589758227 will be ignored. Current value: feature_fraction=0.5382442933626352\n",
      "[LightGBM] [Warning] min_data_in_leaf is set=10, min_child_samples=20 will be ignored. Current value: min_data_in_leaf=10\n",
      "[LightGBM] [Warning] bagging_fraction is set=0.9356707326041145, subsample=0.05546448477012411 will be ignored. Current value: bagging_fraction=0.9356707326041145\n",
      "[LightGBM] [Warning] lambda_l2 is set=9.196516955721183, reg_lambda=0.0 will be ignored. Current value: lambda_l2=9.196516955721183\n",
      "[LightGBM] [Warning] bagging_freq is set=1, subsample_freq=0 will be ignored. Current value: bagging_freq=1\n"
     ]
    },
    {
     "name": "stderr",
     "output_type": "stream",
     "text": [
      "[I 2023-10-31 17:15:28,063] Trial 10 finished with value: 2018717.9198631593 and parameters: {'n_estimators': 1186, 'lambda_l2': 9.196516955721183, 'bagging_fraction': 0.9356707326041145, 'num_leaves': 987, 'feature_fraction': 0.5382442933626352, 'max_depth': 44, 'learning_rate': 0.003666139126063798, 'subsample': 0.05546448477012411, 'colsample_bytree': 0.08480354589758227, 'min_data_in_leaf': 10}. Best is trial 7 with value: 2003840.540311801.\n",
      "'verbose' argument is deprecated and will be removed in a future release of LightGBM. Pass 'log_evaluation()' callback via 'callbacks' argument instead.\n"
     ]
    },
    {
     "name": "stdout",
     "output_type": "stream",
     "text": [
      "[LightGBM] [Warning] feature_fraction is set=0.9972292070531039, colsample_bytree=0.9975820493676949 will be ignored. Current value: feature_fraction=0.9972292070531039\n",
      "[LightGBM] [Warning] min_data_in_leaf is set=41, min_child_samples=20 will be ignored. Current value: min_data_in_leaf=41\n",
      "[LightGBM] [Warning] bagging_fraction is set=0.9971682077104957, subsample=0.25062293690022897 will be ignored. Current value: bagging_fraction=0.9971682077104957\n",
      "[LightGBM] [Warning] lambda_l2 is set=0.05769714516473101, reg_lambda=0.0 will be ignored. Current value: lambda_l2=0.05769714516473101\n",
      "[LightGBM] [Warning] bagging_freq is set=1, subsample_freq=0 will be ignored. Current value: bagging_freq=1\n"
     ]
    },
    {
     "name": "stderr",
     "output_type": "stream",
     "text": [
      "[I 2023-10-31 17:15:42,276] Trial 11 finished with value: 2041282.0036667648 and parameters: {'n_estimators': 1037, 'lambda_l2': 0.05769714516473101, 'bagging_fraction': 0.9971682077104957, 'num_leaves': 355, 'feature_fraction': 0.9972292070531039, 'max_depth': 39, 'learning_rate': 0.007448730983868009, 'subsample': 0.25062293690022897, 'colsample_bytree': 0.9975820493676949, 'min_data_in_leaf': 41}. Best is trial 7 with value: 2003840.540311801.\n",
      "'verbose' argument is deprecated and will be removed in a future release of LightGBM. Pass 'log_evaluation()' callback via 'callbacks' argument instead.\n"
     ]
    },
    {
     "name": "stdout",
     "output_type": "stream",
     "text": [
      "[LightGBM] [Warning] feature_fraction is set=0.9801079445023664, colsample_bytree=0.8295827623939437 will be ignored. Current value: feature_fraction=0.9801079445023664\n",
      "[LightGBM] [Warning] min_data_in_leaf is set=28, min_child_samples=20 will be ignored. Current value: min_data_in_leaf=28\n",
      "[LightGBM] [Warning] bagging_fraction is set=0.8555576662535308, subsample=0.910951658700307 will be ignored. Current value: bagging_fraction=0.8555576662535308\n",
      "[LightGBM] [Warning] lambda_l2 is set=8.972130096813306, reg_lambda=0.0 will be ignored. Current value: lambda_l2=8.972130096813306\n",
      "[LightGBM] [Warning] bagging_freq is set=1, subsample_freq=0 will be ignored. Current value: bagging_freq=1\n"
     ]
    },
    {
     "name": "stderr",
     "output_type": "stream",
     "text": [
      "[I 2023-10-31 17:15:57,411] Trial 12 finished with value: 2027863.5720266087 and parameters: {'n_estimators': 1096, 'lambda_l2': 8.972130096813306, 'bagging_fraction': 0.8555576662535308, 'num_leaves': 711, 'feature_fraction': 0.9801079445023664, 'max_depth': 34, 'learning_rate': 0.03192537366391624, 'subsample': 0.910951658700307, 'colsample_bytree': 0.8295827623939437, 'min_data_in_leaf': 28}. Best is trial 7 with value: 2003840.540311801.\n",
      "'verbose' argument is deprecated and will be removed in a future release of LightGBM. Pass 'log_evaluation()' callback via 'callbacks' argument instead.\n"
     ]
    },
    {
     "name": "stdout",
     "output_type": "stream",
     "text": [
      "[LightGBM] [Warning] feature_fraction is set=0.7873981298896096, colsample_bytree=0.8207396151149697 will be ignored. Current value: feature_fraction=0.7873981298896096\n",
      "[LightGBM] [Warning] min_data_in_leaf is set=10, min_child_samples=20 will be ignored. Current value: min_data_in_leaf=10\n",
      "[LightGBM] [Warning] bagging_fraction is set=0.8630469764086706, subsample=0.5384470007300142 will be ignored. Current value: bagging_fraction=0.8630469764086706\n",
      "[LightGBM] [Warning] lambda_l2 is set=9.670156342479814, reg_lambda=0.0 will be ignored. Current value: lambda_l2=9.670156342479814\n",
      "[LightGBM] [Warning] bagging_freq is set=1, subsample_freq=0 will be ignored. Current value: bagging_freq=1\n"
     ]
    },
    {
     "name": "stderr",
     "output_type": "stream",
     "text": [
      "[I 2023-10-31 17:16:00,080] Trial 13 finished with value: 2024386.6906718672 and parameters: {'n_estimators': 1196, 'lambda_l2': 9.670156342479814, 'bagging_fraction': 0.8630469764086706, 'num_leaves': 24, 'feature_fraction': 0.7873981298896096, 'max_depth': 50, 'learning_rate': 0.005680727455003211, 'subsample': 0.5384470007300142, 'colsample_bytree': 0.8207396151149697, 'min_data_in_leaf': 10}. Best is trial 7 with value: 2003840.540311801.\n",
      "'verbose' argument is deprecated and will be removed in a future release of LightGBM. Pass 'log_evaluation()' callback via 'callbacks' argument instead.\n"
     ]
    },
    {
     "name": "stdout",
     "output_type": "stream",
     "text": [
      "[LightGBM] [Warning] feature_fraction is set=0.6259773710140968, colsample_bytree=0.912890284699458 will be ignored. Current value: feature_fraction=0.6259773710140968\n",
      "[LightGBM] [Warning] min_data_in_leaf is set=30, min_child_samples=20 will be ignored. Current value: min_data_in_leaf=30\n",
      "[LightGBM] [Warning] bagging_fraction is set=0.9850416717446709, subsample=0.8652333612636328 will be ignored. Current value: bagging_fraction=0.9850416717446709\n",
      "[LightGBM] [Warning] lambda_l2 is set=5.905218404088416, reg_lambda=0.0 will be ignored. Current value: lambda_l2=5.905218404088416\n",
      "[LightGBM] [Warning] bagging_freq is set=1, subsample_freq=0 will be ignored. Current value: bagging_freq=1\n"
     ]
    },
    {
     "name": "stderr",
     "output_type": "stream",
     "text": [
      "[I 2023-10-31 17:16:12,552] Trial 14 finished with value: 1988706.0948509106 and parameters: {'n_estimators': 973, 'lambda_l2': 5.905218404088416, 'bagging_fraction': 0.9850416717446709, 'num_leaves': 542, 'feature_fraction': 0.6259773710140968, 'max_depth': 32, 'learning_rate': 0.012321103875820983, 'subsample': 0.8652333612636328, 'colsample_bytree': 0.912890284699458, 'min_data_in_leaf': 30}. Best is trial 14 with value: 1988706.0948509106.\n",
      "'verbose' argument is deprecated and will be removed in a future release of LightGBM. Pass 'log_evaluation()' callback via 'callbacks' argument instead.\n"
     ]
    },
    {
     "name": "stdout",
     "output_type": "stream",
     "text": [
      "[LightGBM] [Warning] feature_fraction is set=0.5041150731121242, colsample_bytree=0.7139432222871117 will be ignored. Current value: feature_fraction=0.5041150731121242\n",
      "[LightGBM] [Warning] min_data_in_leaf is set=26, min_child_samples=20 will be ignored. Current value: min_data_in_leaf=26\n",
      "[LightGBM] [Warning] bagging_fraction is set=0.9755445074880039, subsample=0.8477914771578159 will be ignored. Current value: bagging_fraction=0.9755445074880039\n",
      "[LightGBM] [Warning] lambda_l2 is set=5.417118745137212, reg_lambda=0.0 will be ignored. Current value: lambda_l2=5.417118745137212\n",
      "[LightGBM] [Warning] bagging_freq is set=1, subsample_freq=0 will be ignored. Current value: bagging_freq=1\n"
     ]
    },
    {
     "name": "stderr",
     "output_type": "stream",
     "text": [
      "[I 2023-10-31 17:16:27,820] Trial 15 finished with value: 1975414.629319444 and parameters: {'n_estimators': 972, 'lambda_l2': 5.417118745137212, 'bagging_fraction': 0.9755445074880039, 'num_leaves': 580, 'feature_fraction': 0.5041150731121242, 'max_depth': 34, 'learning_rate': 0.011085667832110095, 'subsample': 0.8477914771578159, 'colsample_bytree': 0.7139432222871117, 'min_data_in_leaf': 26}. Best is trial 15 with value: 1975414.629319444.\n",
      "'verbose' argument is deprecated and will be removed in a future release of LightGBM. Pass 'log_evaluation()' callback via 'callbacks' argument instead.\n"
     ]
    },
    {
     "name": "stdout",
     "output_type": "stream",
     "text": [
      "[LightGBM] [Warning] feature_fraction is set=0.5064789678406847, colsample_bytree=0.7175685803093521 will be ignored. Current value: feature_fraction=0.5064789678406847\n",
      "[LightGBM] [Warning] min_data_in_leaf is set=33, min_child_samples=20 will be ignored. Current value: min_data_in_leaf=33\n",
      "[LightGBM] [Warning] bagging_fraction is set=0.9645895091195215, subsample=0.8712008940910775 will be ignored. Current value: bagging_fraction=0.9645895091195215\n",
      "[LightGBM] [Warning] lambda_l2 is set=5.517842431529175, reg_lambda=0.0 will be ignored. Current value: lambda_l2=5.517842431529175\n",
      "[LightGBM] [Warning] bagging_freq is set=1, subsample_freq=0 will be ignored. Current value: bagging_freq=1\n"
     ]
    },
    {
     "name": "stderr",
     "output_type": "stream",
     "text": [
      "[I 2023-10-31 17:16:40,295] Trial 16 finished with value: 1986714.8528415454 and parameters: {'n_estimators': 967, 'lambda_l2': 5.517842431529175, 'bagging_fraction': 0.9645895091195215, 'num_leaves': 601, 'feature_fraction': 0.5064789678406847, 'max_depth': 32, 'learning_rate': 0.012592274446214153, 'subsample': 0.8712008940910775, 'colsample_bytree': 0.7175685803093521, 'min_data_in_leaf': 33}. Best is trial 15 with value: 1975414.629319444.\n",
      "'verbose' argument is deprecated and will be removed in a future release of LightGBM. Pass 'log_evaluation()' callback via 'callbacks' argument instead.\n"
     ]
    },
    {
     "name": "stdout",
     "output_type": "stream",
     "text": [
      "[LightGBM] [Warning] feature_fraction is set=0.5016715765673591, colsample_bytree=0.6918055588366234 will be ignored. Current value: feature_fraction=0.5016715765673591\n",
      "[LightGBM] [Warning] min_data_in_leaf is set=37, min_child_samples=20 will be ignored. Current value: min_data_in_leaf=37\n",
      "[LightGBM] [Warning] bagging_fraction is set=0.8243861585353229, subsample=0.9725156945528127 will be ignored. Current value: bagging_fraction=0.8243861585353229\n",
      "[LightGBM] [Warning] lambda_l2 is set=4.809332928884782, reg_lambda=0.0 will be ignored. Current value: lambda_l2=4.809332928884782\n",
      "[LightGBM] [Warning] bagging_freq is set=1, subsample_freq=0 will be ignored. Current value: bagging_freq=1\n"
     ]
    },
    {
     "name": "stderr",
     "output_type": "stream",
     "text": [
      "[I 2023-10-31 17:16:51,389] Trial 17 finished with value: 2014132.12908807 and parameters: {'n_estimators': 978, 'lambda_l2': 4.809332928884782, 'bagging_fraction': 0.8243861585353229, 'num_leaves': 838, 'feature_fraction': 0.5016715765673591, 'max_depth': 31, 'learning_rate': 0.01056467673591976, 'subsample': 0.9725156945528127, 'colsample_bytree': 0.6918055588366234, 'min_data_in_leaf': 37}. Best is trial 15 with value: 1975414.629319444.\n",
      "'verbose' argument is deprecated and will be removed in a future release of LightGBM. Pass 'log_evaluation()' callback via 'callbacks' argument instead.\n"
     ]
    },
    {
     "name": "stdout",
     "output_type": "stream",
     "text": [
      "[LightGBM] [Warning] feature_fraction is set=0.5066845583619939, colsample_bytree=0.7487046868438366 will be ignored. Current value: feature_fraction=0.5066845583619939\n",
      "[LightGBM] [Warning] min_data_in_leaf is set=55, min_child_samples=20 will be ignored. Current value: min_data_in_leaf=55\n",
      "[LightGBM] [Warning] bagging_fraction is set=0.9970759995052616, subsample=0.8525866404031603 will be ignored. Current value: bagging_fraction=0.9970759995052616\n",
      "[LightGBM] [Warning] lambda_l2 is set=3.5430734493140816, reg_lambda=0.0 will be ignored. Current value: lambda_l2=3.5430734493140816\n",
      "[LightGBM] [Warning] bagging_freq is set=1, subsample_freq=0 will be ignored. Current value: bagging_freq=1\n"
     ]
    },
    {
     "name": "stderr",
     "output_type": "stream",
     "text": [
      "[I 2023-10-31 17:17:01,572] Trial 18 finished with value: 2026648.4834266522 and parameters: {'n_estimators': 1062, 'lambda_l2': 3.5430734493140816, 'bagging_fraction': 0.9970759995052616, 'num_leaves': 602, 'feature_fraction': 0.5066845583619939, 'max_depth': 44, 'learning_rate': 0.017465449517087787, 'subsample': 0.8525866404031603, 'colsample_bytree': 0.7487046868438366, 'min_data_in_leaf': 55}. Best is trial 15 with value: 1975414.629319444.\n",
      "'verbose' argument is deprecated and will be removed in a future release of LightGBM. Pass 'log_evaluation()' callback via 'callbacks' argument instead.\n"
     ]
    },
    {
     "name": "stdout",
     "output_type": "stream",
     "text": [
      "[LightGBM] [Warning] feature_fraction is set=0.5712927455230583, colsample_bytree=0.6669328163177016 will be ignored. Current value: feature_fraction=0.5712927455230583\n",
      "[LightGBM] [Warning] min_data_in_leaf is set=22, min_child_samples=20 will be ignored. Current value: min_data_in_leaf=22\n",
      "[LightGBM] [Warning] bagging_fraction is set=0.8492117366446024, subsample=0.6951292693885813 will be ignored. Current value: bagging_fraction=0.8492117366446024\n",
      "[LightGBM] [Warning] lambda_l2 is set=5.497711867120878, reg_lambda=0.0 will be ignored. Current value: lambda_l2=5.497711867120878\n",
      "[LightGBM] [Warning] bagging_freq is set=1, subsample_freq=0 will be ignored. Current value: bagging_freq=1\n"
     ]
    },
    {
     "name": "stderr",
     "output_type": "stream",
     "text": [
      "[I 2023-10-31 17:17:17,021] Trial 19 finished with value: 1997284.353207934 and parameters: {'n_estimators': 839, 'lambda_l2': 5.497711867120878, 'bagging_fraction': 0.8492117366446024, 'num_leaves': 847, 'feature_fraction': 0.5712927455230583, 'max_depth': 42, 'learning_rate': 0.007438809208467042, 'subsample': 0.6951292693885813, 'colsample_bytree': 0.6669328163177016, 'min_data_in_leaf': 22}. Best is trial 15 with value: 1975414.629319444.\n",
      "'verbose' argument is deprecated and will be removed in a future release of LightGBM. Pass 'log_evaluation()' callback via 'callbacks' argument instead.\n"
     ]
    },
    {
     "name": "stdout",
     "output_type": "stream",
     "text": [
      "[LightGBM] [Warning] feature_fraction is set=0.5011051533282266, colsample_bytree=0.5791398186447555 will be ignored. Current value: feature_fraction=0.5011051533282266\n",
      "[LightGBM] [Warning] min_data_in_leaf is set=55, min_child_samples=20 will be ignored. Current value: min_data_in_leaf=55\n",
      "[LightGBM] [Warning] bagging_fraction is set=0.7509261329047974, subsample=0.9704627550872399 will be ignored. Current value: bagging_fraction=0.7509261329047974\n",
      "[LightGBM] [Warning] lambda_l2 is set=2.520763778287992, reg_lambda=0.0 will be ignored. Current value: lambda_l2=2.520763778287992\n",
      "[LightGBM] [Warning] bagging_freq is set=1, subsample_freq=0 will be ignored. Current value: bagging_freq=1\n"
     ]
    },
    {
     "name": "stderr",
     "output_type": "stream",
     "text": [
      "[I 2023-10-31 17:17:21,815] Trial 20 finished with value: 2015195.334671918 and parameters: {'n_estimators': 958, 'lambda_l2': 2.520763778287992, 'bagging_fraction': 0.7509261329047974, 'num_leaves': 386, 'feature_fraction': 0.5011051533282266, 'max_depth': 19, 'learning_rate': 0.01634703376124217, 'subsample': 0.9704627550872399, 'colsample_bytree': 0.5791398186447555, 'min_data_in_leaf': 55}. Best is trial 15 with value: 1975414.629319444.\n",
      "'verbose' argument is deprecated and will be removed in a future release of LightGBM. Pass 'log_evaluation()' callback via 'callbacks' argument instead.\n"
     ]
    },
    {
     "name": "stdout",
     "output_type": "stream",
     "text": [
      "[LightGBM] [Warning] feature_fraction is set=0.6083478158110024, colsample_bytree=0.7589900083030281 will be ignored. Current value: feature_fraction=0.6083478158110024\n",
      "[LightGBM] [Warning] min_data_in_leaf is set=33, min_child_samples=20 will be ignored. Current value: min_data_in_leaf=33\n",
      "[LightGBM] [Warning] bagging_fraction is set=0.9875663284451031, subsample=0.8555162715977926 will be ignored. Current value: bagging_fraction=0.9875663284451031\n",
      "[LightGBM] [Warning] lambda_l2 is set=5.755804322364023, reg_lambda=0.0 will be ignored. Current value: lambda_l2=5.755804322364023\n",
      "[LightGBM] [Warning] bagging_freq is set=1, subsample_freq=0 will be ignored. Current value: bagging_freq=1\n"
     ]
    },
    {
     "name": "stderr",
     "output_type": "stream",
     "text": [
      "[I 2023-10-31 17:17:34,193] Trial 21 finished with value: 1990447.2144761584 and parameters: {'n_estimators': 995, 'lambda_l2': 5.755804322364023, 'bagging_fraction': 0.9875663284451031, 'num_leaves': 534, 'feature_fraction': 0.6083478158110024, 'max_depth': 32, 'learning_rate': 0.011920318505036276, 'subsample': 0.8555162715977926, 'colsample_bytree': 0.7589900083030281, 'min_data_in_leaf': 33}. Best is trial 15 with value: 1975414.629319444.\n",
      "'verbose' argument is deprecated and will be removed in a future release of LightGBM. Pass 'log_evaluation()' callback via 'callbacks' argument instead.\n"
     ]
    },
    {
     "name": "stdout",
     "output_type": "stream",
     "text": [
      "[LightGBM] [Warning] feature_fraction is set=0.5631297705876614, colsample_bytree=0.832755929483159 will be ignored. Current value: feature_fraction=0.5631297705876614\n",
      "[LightGBM] [Warning] min_data_in_leaf is set=19, min_child_samples=20 will be ignored. Current value: min_data_in_leaf=19\n",
      "[LightGBM] [Warning] bagging_fraction is set=0.9117572850096571, subsample=0.8463769742839045 will be ignored. Current value: bagging_fraction=0.9117572850096571\n",
      "[LightGBM] [Warning] lambda_l2 is set=5.570035796239342, reg_lambda=0.0 will be ignored. Current value: lambda_l2=5.570035796239342\n",
      "[LightGBM] [Warning] bagging_freq is set=1, subsample_freq=0 will be ignored. Current value: bagging_freq=1\n"
     ]
    },
    {
     "name": "stderr",
     "output_type": "stream",
     "text": [
      "[I 2023-10-31 17:17:48,981] Trial 22 finished with value: 1997874.6814961552 and parameters: {'n_estimators': 958, 'lambda_l2': 5.570035796239342, 'bagging_fraction': 0.9117572850096571, 'num_leaves': 611, 'feature_fraction': 0.5631297705876614, 'max_depth': 29, 'learning_rate': 0.01677573444071191, 'subsample': 0.8463769742839045, 'colsample_bytree': 0.832755929483159, 'min_data_in_leaf': 19}. Best is trial 15 with value: 1975414.629319444.\n",
      "'verbose' argument is deprecated and will be removed in a future release of LightGBM. Pass 'log_evaluation()' callback via 'callbacks' argument instead.\n"
     ]
    },
    {
     "name": "stdout",
     "output_type": "stream",
     "text": [
      "[LightGBM] [Warning] feature_fraction is set=0.6722915502035698, colsample_bytree=0.9780072107262422 will be ignored. Current value: feature_fraction=0.6722915502035698\n",
      "[LightGBM] [Warning] min_data_in_leaf is set=31, min_child_samples=20 will be ignored. Current value: min_data_in_leaf=31\n",
      "[LightGBM] [Warning] bagging_fraction is set=0.8989807068322785, subsample=0.8865566540397655 will be ignored. Current value: bagging_fraction=0.8989807068322785\n",
      "[LightGBM] [Warning] lambda_l2 is set=4.588532764728801, reg_lambda=0.0 will be ignored. Current value: lambda_l2=4.588532764728801\n",
      "[LightGBM] [Warning] bagging_freq is set=1, subsample_freq=0 will be ignored. Current value: bagging_freq=1\n"
     ]
    },
    {
     "name": "stderr",
     "output_type": "stream",
     "text": [
      "[I 2023-10-31 17:18:05,580] Trial 23 finished with value: 2010617.5223202808 and parameters: {'n_estimators': 1022, 'lambda_l2': 4.588532764728801, 'bagging_fraction': 0.8989807068322785, 'num_leaves': 807, 'feature_fraction': 0.6722915502035698, 'max_depth': 36, 'learning_rate': 0.007647394121656215, 'subsample': 0.8865566540397655, 'colsample_bytree': 0.9780072107262422, 'min_data_in_leaf': 31}. Best is trial 15 with value: 1975414.629319444.\n",
      "'verbose' argument is deprecated and will be removed in a future release of LightGBM. Pass 'log_evaluation()' callback via 'callbacks' argument instead.\n"
     ]
    },
    {
     "name": "stdout",
     "output_type": "stream",
     "text": [
      "[LightGBM] [Warning] feature_fraction is set=0.5837311724192769, colsample_bytree=0.8834674715976959 will be ignored. Current value: feature_fraction=0.5837311724192769\n",
      "[LightGBM] [Warning] min_data_in_leaf is set=36, min_child_samples=20 will be ignored. Current value: min_data_in_leaf=36\n",
      "[LightGBM] [Warning] bagging_fraction is set=0.9951457852768442, subsample=0.7672440287362666 will be ignored. Current value: bagging_fraction=0.9951457852768442\n",
      "[LightGBM] [Warning] lambda_l2 is set=6.567275494028168, reg_lambda=0.0 will be ignored. Current value: lambda_l2=6.567275494028168\n",
      "[LightGBM] [Warning] bagging_freq is set=1, subsample_freq=0 will be ignored. Current value: bagging_freq=1\n"
     ]
    },
    {
     "name": "stderr",
     "output_type": "stream",
     "text": [
      "[I 2023-10-31 17:18:15,087] Trial 24 finished with value: 2028648.0984174001 and parameters: {'n_estimators': 950, 'lambda_l2': 6.567275494028168, 'bagging_fraction': 0.9951457852768442, 'num_leaves': 450, 'feature_fraction': 0.5837311724192769, 'max_depth': 33, 'learning_rate': 0.0387785533932182, 'subsample': 0.7672440287362666, 'colsample_bytree': 0.8834674715976959, 'min_data_in_leaf': 36}. Best is trial 15 with value: 1975414.629319444.\n",
      "'verbose' argument is deprecated and will be removed in a future release of LightGBM. Pass 'log_evaluation()' callback via 'callbacks' argument instead.\n"
     ]
    },
    {
     "name": "stdout",
     "output_type": "stream",
     "text": [
      "[LightGBM] [Warning] feature_fraction is set=0.5433046224425219, colsample_bytree=0.6957919595620421 will be ignored. Current value: feature_fraction=0.5433046224425219\n",
      "[LightGBM] [Warning] min_data_in_leaf is set=19, min_child_samples=20 will be ignored. Current value: min_data_in_leaf=19\n",
      "[LightGBM] [Warning] bagging_fraction is set=0.7940690831537751, subsample=0.9154905573555894 will be ignored. Current value: bagging_fraction=0.7940690831537751\n",
      "[LightGBM] [Warning] lambda_l2 is set=5.648149944789003, reg_lambda=0.0 will be ignored. Current value: lambda_l2=5.648149944789003\n",
      "[LightGBM] [Warning] bagging_freq is set=1, subsample_freq=0 will be ignored. Current value: bagging_freq=1\n"
     ]
    },
    {
     "name": "stderr",
     "output_type": "stream",
     "text": [
      "[I 2023-10-31 17:18:30,493] Trial 25 finished with value: 1994392.0672076244 and parameters: {'n_estimators': 1060, 'lambda_l2': 5.648149944789003, 'bagging_fraction': 0.7940690831537751, 'num_leaves': 629, 'feature_fraction': 0.5433046224425219, 'max_depth': 28, 'learning_rate': 0.014595379554683523, 'subsample': 0.9154905573555894, 'colsample_bytree': 0.6957919595620421, 'min_data_in_leaf': 19}. Best is trial 15 with value: 1975414.629319444.\n",
      "'verbose' argument is deprecated and will be removed in a future release of LightGBM. Pass 'log_evaluation()' callback via 'callbacks' argument instead.\n"
     ]
    },
    {
     "name": "stdout",
     "output_type": "stream",
     "text": [
      "[LightGBM] [Warning] feature_fraction is set=0.6193108689611972, colsample_bytree=0.7972410934858947 will be ignored. Current value: feature_fraction=0.6193108689611972\n",
      "[LightGBM] [Warning] min_data_in_leaf is set=48, min_child_samples=20 will be ignored. Current value: min_data_in_leaf=48\n",
      "[LightGBM] [Warning] bagging_fraction is set=0.9299688756336593, subsample=0.9945333394035991 will be ignored. Current value: bagging_fraction=0.9299688756336593\n",
      "[LightGBM] [Warning] lambda_l2 is set=4.242089781403614, reg_lambda=0.0 will be ignored. Current value: lambda_l2=4.242089781403614\n",
      "[LightGBM] [Warning] bagging_freq is set=1, subsample_freq=0 will be ignored. Current value: bagging_freq=1\n"
     ]
    },
    {
     "name": "stderr",
     "output_type": "stream",
     "text": [
      "[I 2023-10-31 17:18:42,858] Trial 26 finished with value: 2039293.6643303137 and parameters: {'n_estimators': 994, 'lambda_l2': 4.242089781403614, 'bagging_fraction': 0.9299688756336593, 'num_leaves': 776, 'feature_fraction': 0.6193108689611972, 'max_depth': 48, 'learning_rate': 0.00872580287316963, 'subsample': 0.9945333394035991, 'colsample_bytree': 0.7972410934858947, 'min_data_in_leaf': 48}. Best is trial 15 with value: 1975414.629319444.\n",
      "'verbose' argument is deprecated and will be removed in a future release of LightGBM. Pass 'log_evaluation()' callback via 'callbacks' argument instead.\n"
     ]
    },
    {
     "name": "stdout",
     "output_type": "stream",
     "text": [
      "[LightGBM] [Warning] feature_fraction is set=0.6705569050985153, colsample_bytree=0.8913967840168674 will be ignored. Current value: feature_fraction=0.6705569050985153\n",
      "[LightGBM] [Warning] min_data_in_leaf is set=27, min_child_samples=20 will be ignored. Current value: min_data_in_leaf=27\n",
      "[LightGBM] [Warning] bagging_fraction is set=0.8560951336341387, subsample=0.802390051689499 will be ignored. Current value: bagging_fraction=0.8560951336341387\n",
      "[LightGBM] [Warning] lambda_l2 is set=5.267341028293828, reg_lambda=0.0 will be ignored. Current value: lambda_l2=5.267341028293828\n",
      "[LightGBM] [Warning] bagging_freq is set=1, subsample_freq=0 will be ignored. Current value: bagging_freq=1\n"
     ]
    },
    {
     "name": "stderr",
     "output_type": "stream",
     "text": [
      "[I 2023-10-31 17:18:53,371] Trial 27 finished with value: 2021710.5994378605 and parameters: {'n_estimators': 860, 'lambda_l2': 5.267341028293828, 'bagging_fraction': 0.8560951336341387, 'num_leaves': 291, 'feature_fraction': 0.6705569050985153, 'max_depth': 39, 'learning_rate': 0.0055200052168991745, 'subsample': 0.802390051689499, 'colsample_bytree': 0.8913967840168674, 'min_data_in_leaf': 27}. Best is trial 15 with value: 1975414.629319444.\n",
      "'verbose' argument is deprecated and will be removed in a future release of LightGBM. Pass 'log_evaluation()' callback via 'callbacks' argument instead.\n"
     ]
    },
    {
     "name": "stdout",
     "output_type": "stream",
     "text": [
      "[LightGBM] [Warning] feature_fraction is set=0.5306298497082832, colsample_bytree=0.6870718388436938 will be ignored. Current value: feature_fraction=0.5306298497082832\n",
      "[LightGBM] [Warning] min_data_in_leaf is set=39, min_child_samples=20 will be ignored. Current value: min_data_in_leaf=39\n",
      "[LightGBM] [Warning] bagging_fraction is set=0.7235099095125942, subsample=0.6534819308200757 will be ignored. Current value: bagging_fraction=0.7235099095125942\n",
      "[LightGBM] [Warning] lambda_l2 is set=6.157196364187167, reg_lambda=0.0 will be ignored. Current value: lambda_l2=6.157196364187167\n",
      "[LightGBM] [Warning] bagging_freq is set=1, subsample_freq=0 will be ignored. Current value: bagging_freq=1\n"
     ]
    },
    {
     "name": "stderr",
     "output_type": "stream",
     "text": [
      "[I 2023-10-31 17:19:00,481] Trial 28 finished with value: 2016877.1424127475 and parameters: {'n_estimators': 937, 'lambda_l2': 6.157196364187167, 'bagging_fraction': 0.7235099095125942, 'num_leaves': 559, 'feature_fraction': 0.5306298497082832, 'max_depth': 21, 'learning_rate': 0.01197543642339975, 'subsample': 0.6534819308200757, 'colsample_bytree': 0.6870718388436938, 'min_data_in_leaf': 39}. Best is trial 15 with value: 1975414.629319444.\n",
      "'verbose' argument is deprecated and will be removed in a future release of LightGBM. Pass 'log_evaluation()' callback via 'callbacks' argument instead.\n"
     ]
    },
    {
     "name": "stdout",
     "output_type": "stream",
     "text": [
      "[LightGBM] [Warning] feature_fraction is set=0.5793778471100348, colsample_bytree=0.744671325274969 will be ignored. Current value: feature_fraction=0.5793778471100348\n",
      "[LightGBM] [Warning] min_data_in_leaf is set=24, min_child_samples=20 will be ignored. Current value: min_data_in_leaf=24\n",
      "[LightGBM] [Warning] bagging_fraction is set=0.3955568165668393, subsample=0.5884980632212338 will be ignored. Current value: bagging_fraction=0.3955568165668393\n",
      "[LightGBM] [Warning] lambda_l2 is set=7.1501290351432045, reg_lambda=0.0 will be ignored. Current value: lambda_l2=7.1501290351432045\n",
      "[LightGBM] [Warning] bagging_freq is set=1, subsample_freq=0 will be ignored. Current value: bagging_freq=1\n"
     ]
    },
    {
     "name": "stderr",
     "output_type": "stream",
     "text": [
      "[I 2023-10-31 17:19:10,413] Trial 29 finished with value: 2021040.2336915417 and parameters: {'n_estimators': 1014, 'lambda_l2': 7.1501290351432045, 'bagging_fraction': 0.3955568165668393, 'num_leaves': 451, 'feature_fraction': 0.5793778471100348, 'max_depth': 36, 'learning_rate': 0.04589215697756524, 'subsample': 0.5884980632212338, 'colsample_bytree': 0.744671325274969, 'min_data_in_leaf': 24}. Best is trial 15 with value: 1975414.629319444.\n",
      "'verbose' argument is deprecated and will be removed in a future release of LightGBM. Pass 'log_evaluation()' callback via 'callbacks' argument instead.\n"
     ]
    },
    {
     "name": "stdout",
     "output_type": "stream",
     "text": [
      "[LightGBM] [Warning] feature_fraction is set=0.5300677465776973, colsample_bytree=0.5910813433817292 will be ignored. Current value: feature_fraction=0.5300677465776973\n",
      "[LightGBM] [Warning] min_data_in_leaf is set=16, min_child_samples=20 will be ignored. Current value: min_data_in_leaf=16\n",
      "[LightGBM] [Warning] bagging_fraction is set=0.8091831351890637, subsample=0.7357773144891906 will be ignored. Current value: bagging_fraction=0.8091831351890637\n",
      "[LightGBM] [Warning] lambda_l2 is set=8.176890907218485, reg_lambda=0.0 will be ignored. Current value: lambda_l2=8.176890907218485\n",
      "[LightGBM] [Warning] bagging_freq is set=1, subsample_freq=0 will be ignored. Current value: bagging_freq=1\n"
     ]
    },
    {
     "name": "stderr",
     "output_type": "stream",
     "text": [
      "[I 2023-10-31 17:19:28,419] Trial 30 finished with value: 2001170.58962318 and parameters: {'n_estimators': 1052, 'lambda_l2': 8.176890907218485, 'bagging_fraction': 0.8091831351890637, 'num_leaves': 902, 'feature_fraction': 0.5300677465776973, 'max_depth': 30, 'learning_rate': 0.021507598196412944, 'subsample': 0.7357773144891906, 'colsample_bytree': 0.5910813433817292, 'min_data_in_leaf': 16}. Best is trial 15 with value: 1975414.629319444.\n",
      "'verbose' argument is deprecated and will be removed in a future release of LightGBM. Pass 'log_evaluation()' callback via 'callbacks' argument instead.\n"
     ]
    },
    {
     "name": "stdout",
     "output_type": "stream",
     "text": [
      "[LightGBM] [Warning] feature_fraction is set=0.6132789880151404, colsample_bytree=0.777125147184515 will be ignored. Current value: feature_fraction=0.6132789880151404\n",
      "[LightGBM] [Warning] min_data_in_leaf is set=31, min_child_samples=20 will be ignored. Current value: min_data_in_leaf=31\n",
      "[LightGBM] [Warning] bagging_fraction is set=0.9978053176033002, subsample=0.8342880756869013 will be ignored. Current value: bagging_fraction=0.9978053176033002\n",
      "[LightGBM] [Warning] lambda_l2 is set=5.87837745792436, reg_lambda=0.0 will be ignored. Current value: lambda_l2=5.87837745792436\n",
      "[LightGBM] [Warning] bagging_freq is set=1, subsample_freq=0 will be ignored. Current value: bagging_freq=1\n"
     ]
    },
    {
     "name": "stderr",
     "output_type": "stream",
     "text": [
      "[I 2023-10-31 17:19:41,104] Trial 31 finished with value: 1996983.8246284234 and parameters: {'n_estimators': 988, 'lambda_l2': 5.87837745792436, 'bagging_fraction': 0.9978053176033002, 'num_leaves': 544, 'feature_fraction': 0.6132789880151404, 'max_depth': 33, 'learning_rate': 0.012388120471688252, 'subsample': 0.8342880756869013, 'colsample_bytree': 0.777125147184515, 'min_data_in_leaf': 31}. Best is trial 15 with value: 1975414.629319444.\n",
      "'verbose' argument is deprecated and will be removed in a future release of LightGBM. Pass 'log_evaluation()' callback via 'callbacks' argument instead.\n"
     ]
    },
    {
     "name": "stdout",
     "output_type": "stream",
     "text": [
      "[LightGBM] [Warning] feature_fraction is set=0.6023713035867759, colsample_bytree=0.6486020884643894 will be ignored. Current value: feature_fraction=0.6023713035867759\n",
      "[LightGBM] [Warning] min_data_in_leaf is set=32, min_child_samples=20 will be ignored. Current value: min_data_in_leaf=32\n",
      "[LightGBM] [Warning] bagging_fraction is set=0.9317331922471788, subsample=0.9187382647651737 will be ignored. Current value: bagging_fraction=0.9317331922471788\n",
      "[LightGBM] [Warning] lambda_l2 is set=5.16284844085685, reg_lambda=0.0 will be ignored. Current value: lambda_l2=5.16284844085685\n",
      "[LightGBM] [Warning] bagging_freq is set=1, subsample_freq=0 will be ignored. Current value: bagging_freq=1\n"
     ]
    },
    {
     "name": "stderr",
     "output_type": "stream",
     "text": [
      "[I 2023-10-31 17:19:53,340] Trial 32 finished with value: 1989725.495178541 and parameters: {'n_estimators': 975, 'lambda_l2': 5.16284844085685, 'bagging_fraction': 0.9317331922471788, 'num_leaves': 450, 'feature_fraction': 0.6023713035867759, 'max_depth': 32, 'learning_rate': 0.010829310718093356, 'subsample': 0.9187382647651737, 'colsample_bytree': 0.6486020884643894, 'min_data_in_leaf': 32}. Best is trial 15 with value: 1975414.629319444.\n",
      "'verbose' argument is deprecated and will be removed in a future release of LightGBM. Pass 'log_evaluation()' callback via 'callbacks' argument instead.\n"
     ]
    },
    {
     "name": "stdout",
     "output_type": "stream",
     "text": [
      "[LightGBM] [Warning] feature_fraction is set=0.5647712752049009, colsample_bytree=0.6415663259430746 will be ignored. Current value: feature_fraction=0.5647712752049009\n",
      "[LightGBM] [Warning] min_data_in_leaf is set=48, min_child_samples=20 will be ignored. Current value: min_data_in_leaf=48\n",
      "[LightGBM] [Warning] bagging_fraction is set=0.9152714078854732, subsample=0.9092246041683253 will be ignored. Current value: bagging_fraction=0.9152714078854732\n",
      "[LightGBM] [Warning] lambda_l2 is set=4.961727524435264, reg_lambda=0.0 will be ignored. Current value: lambda_l2=4.961727524435264\n",
      "[LightGBM] [Warning] bagging_freq is set=1, subsample_freq=0 will be ignored. Current value: bagging_freq=1\n"
     ]
    },
    {
     "name": "stderr",
     "output_type": "stream",
     "text": [
      "[I 2023-10-31 17:20:03,130] Trial 33 finished with value: 2036247.0970899628 and parameters: {'n_estimators': 976, 'lambda_l2': 4.961727524435264, 'bagging_fraction': 0.9152714078854732, 'num_leaves': 450, 'feature_fraction': 0.5647712752049009, 'max_depth': 26, 'learning_rate': 0.009825915382778685, 'subsample': 0.9092246041683253, 'colsample_bytree': 0.6415663259430746, 'min_data_in_leaf': 48}. Best is trial 15 with value: 1975414.629319444.\n",
      "'verbose' argument is deprecated and will be removed in a future release of LightGBM. Pass 'log_evaluation()' callback via 'callbacks' argument instead.\n"
     ]
    },
    {
     "name": "stdout",
     "output_type": "stream",
     "text": [
      "[LightGBM] [Warning] feature_fraction is set=0.6417642970496241, colsample_bytree=0.7133875245307932 will be ignored. Current value: feature_fraction=0.6417642970496241\n",
      "[LightGBM] [Warning] min_data_in_leaf is set=25, min_child_samples=20 will be ignored. Current value: min_data_in_leaf=25\n",
      "[LightGBM] [Warning] bagging_fraction is set=0.7899490576926397, subsample=0.9331161389145773 will be ignored. Current value: bagging_fraction=0.7899490576926397\n",
      "[LightGBM] [Warning] lambda_l2 is set=6.60860652993412, reg_lambda=0.0 will be ignored. Current value: lambda_l2=6.60860652993412\n",
      "[LightGBM] [Warning] bagging_freq is set=1, subsample_freq=0 will be ignored. Current value: bagging_freq=1\n"
     ]
    },
    {
     "name": "stderr",
     "output_type": "stream",
     "text": [
      "[I 2023-10-31 17:20:15,953] Trial 34 finished with value: 2015769.1087060934 and parameters: {'n_estimators': 921, 'lambda_l2': 6.60860652993412, 'bagging_fraction': 0.7899490576926397, 'num_leaves': 325, 'feature_fraction': 0.6417642970496241, 'max_depth': 41, 'learning_rate': 0.01914200480177531, 'subsample': 0.9331161389145773, 'colsample_bytree': 0.7133875245307932, 'min_data_in_leaf': 25}. Best is trial 15 with value: 1975414.629319444.\n",
      "'verbose' argument is deprecated and will be removed in a future release of LightGBM. Pass 'log_evaluation()' callback via 'callbacks' argument instead.\n"
     ]
    },
    {
     "name": "stdout",
     "output_type": "stream",
     "text": [
      "[LightGBM] [Warning] feature_fraction is set=0.593222934034664, colsample_bytree=0.8400924840056504 will be ignored. Current value: feature_fraction=0.593222934034664\n",
      "[LightGBM] [Warning] min_data_in_leaf is set=42, min_child_samples=20 will be ignored. Current value: min_data_in_leaf=42\n",
      "[LightGBM] [Warning] bagging_fraction is set=0.7530741324204707, subsample=0.8010679551899749 will be ignored. Current value: bagging_fraction=0.7530741324204707\n",
      "[LightGBM] [Warning] lambda_l2 is set=7.415507056169099, reg_lambda=0.0 will be ignored. Current value: lambda_l2=7.415507056169099\n",
      "[LightGBM] [Warning] bagging_freq is set=1, subsample_freq=0 will be ignored. Current value: bagging_freq=1\n"
     ]
    },
    {
     "name": "stderr",
     "output_type": "stream",
     "text": [
      "[I 2023-10-31 17:20:23,466] Trial 35 finished with value: 2027356.095770621 and parameters: {'n_estimators': 966, 'lambda_l2': 7.415507056169099, 'bagging_fraction': 0.7530741324204707, 'num_leaves': 670, 'feature_fraction': 0.593222934034664, 'max_depth': 26, 'learning_rate': 0.014730748685755825, 'subsample': 0.8010679551899749, 'colsample_bytree': 0.8400924840056504, 'min_data_in_leaf': 42}. Best is trial 15 with value: 1975414.629319444.\n",
      "'verbose' argument is deprecated and will be removed in a future release of LightGBM. Pass 'log_evaluation()' callback via 'callbacks' argument instead.\n"
     ]
    },
    {
     "name": "stdout",
     "output_type": "stream",
     "text": [
      "[LightGBM] [Warning] feature_fraction is set=0.5241714858739663, colsample_bytree=0.6225131783758389 will be ignored. Current value: feature_fraction=0.5241714858739663\n",
      "[LightGBM] [Warning] min_data_in_leaf is set=32, min_child_samples=20 will be ignored. Current value: min_data_in_leaf=32\n",
      "[LightGBM] [Warning] bagging_fraction is set=0.8825198728999293, subsample=0.9910723070189683 will be ignored. Current value: bagging_fraction=0.8825198728999293\n",
      "[LightGBM] [Warning] lambda_l2 is set=5.209222136319252, reg_lambda=0.0 will be ignored. Current value: lambda_l2=5.209222136319252\n",
      "[LightGBM] [Warning] bagging_freq is set=1, subsample_freq=0 will be ignored. Current value: bagging_freq=1\n"
     ]
    },
    {
     "name": "stderr",
     "output_type": "stream",
     "text": [
      "[I 2023-10-31 17:20:36,130] Trial 36 finished with value: 1992095.0931638016 and parameters: {'n_estimators': 1016, 'lambda_l2': 5.209222136319252, 'bagging_fraction': 0.8825198728999293, 'num_leaves': 750, 'feature_fraction': 0.5241714858739663, 'max_depth': 37, 'learning_rate': 0.024080153148353777, 'subsample': 0.9910723070189683, 'colsample_bytree': 0.6225131783758389, 'min_data_in_leaf': 32}. Best is trial 15 with value: 1975414.629319444.\n",
      "'verbose' argument is deprecated and will be removed in a future release of LightGBM. Pass 'log_evaluation()' callback via 'callbacks' argument instead.\n"
     ]
    },
    {
     "name": "stdout",
     "output_type": "stream",
     "text": [
      "[LightGBM] [Warning] feature_fraction is set=0.5603770713338512, colsample_bytree=0.521694674340696 will be ignored. Current value: feature_fraction=0.5603770713338512\n",
      "[LightGBM] [Warning] min_data_in_leaf is set=60, min_child_samples=20 will be ignored. Current value: min_data_in_leaf=60\n",
      "[LightGBM] [Warning] bagging_fraction is set=0.9450350621292295, subsample=0.8810295964962445 will be ignored. Current value: bagging_fraction=0.9450350621292295\n",
      "[LightGBM] [Warning] lambda_l2 is set=6.816745048487968, reg_lambda=0.0 will be ignored. Current value: lambda_l2=6.816745048487968\n",
      "[LightGBM] [Warning] bagging_freq is set=1, subsample_freq=0 will be ignored. Current value: bagging_freq=1\n"
     ]
    },
    {
     "name": "stderr",
     "output_type": "stream",
     "text": [
      "[I 2023-10-31 17:20:39,557] Trial 37 finished with value: 2047209.9679354108 and parameters: {'n_estimators': 889, 'lambda_l2': 6.816745048487968, 'bagging_fraction': 0.9450350621292295, 'num_leaves': 288, 'feature_fraction': 0.5603770713338512, 'max_depth': 10, 'learning_rate': 0.009815914662149193, 'subsample': 0.8810295964962445, 'colsample_bytree': 0.521694674340696, 'min_data_in_leaf': 60}. Best is trial 15 with value: 1975414.629319444.\n",
      "'verbose' argument is deprecated and will be removed in a future release of LightGBM. Pass 'log_evaluation()' callback via 'callbacks' argument instead.\n"
     ]
    },
    {
     "name": "stdout",
     "output_type": "stream",
     "text": [
      "[LightGBM] [Warning] feature_fraction is set=0.5230188539549123, colsample_bytree=0.9290743240710356 will be ignored. Current value: feature_fraction=0.5230188539549123\n",
      "[LightGBM] [Warning] min_data_in_leaf is set=45, min_child_samples=20 will be ignored. Current value: min_data_in_leaf=45\n",
      "[LightGBM] [Warning] bagging_fraction is set=0.8216725230290944, subsample=0.9483174361413362 will be ignored. Current value: bagging_fraction=0.8216725230290944\n",
      "[LightGBM] [Warning] lambda_l2 is set=6.208820723644364, reg_lambda=0.0 will be ignored. Current value: lambda_l2=6.208820723644364\n",
      "[LightGBM] [Warning] bagging_freq is set=1, subsample_freq=0 will be ignored. Current value: bagging_freq=1\n"
     ]
    },
    {
     "name": "stderr",
     "output_type": "stream",
     "text": [
      "[I 2023-10-31 17:20:46,361] Trial 38 finished with value: 2013273.972882869 and parameters: {'n_estimators': 1080, 'lambda_l2': 6.208820723644364, 'bagging_fraction': 0.8216725230290944, 'num_leaves': 460, 'feature_fraction': 0.5230188539549123, 'max_depth': 23, 'learning_rate': 0.024020796739827672, 'subsample': 0.9483174361413362, 'colsample_bytree': 0.9290743240710356, 'min_data_in_leaf': 45}. Best is trial 15 with value: 1975414.629319444.\n",
      "'verbose' argument is deprecated and will be removed in a future release of LightGBM. Pass 'log_evaluation()' callback via 'callbacks' argument instead.\n"
     ]
    },
    {
     "name": "stdout",
     "output_type": "stream",
     "text": [
      "[LightGBM] [Warning] feature_fraction is set=0.6573688894412585, colsample_bytree=0.723900161570237 will be ignored. Current value: feature_fraction=0.6573688894412585\n",
      "[LightGBM] [Warning] min_data_in_leaf is set=79, min_child_samples=20 will be ignored. Current value: min_data_in_leaf=79\n",
      "[LightGBM] [Warning] bagging_fraction is set=0.7002173116786566, subsample=0.7875468158839665 will be ignored. Current value: bagging_fraction=0.7002173116786566\n",
      "[LightGBM] [Warning] lambda_l2 is set=4.2285392282033305, reg_lambda=0.0 will be ignored. Current value: lambda_l2=4.2285392282033305\n",
      "[LightGBM] [Warning] bagging_freq is set=1, subsample_freq=0 will be ignored. Current value: bagging_freq=1\n"
     ]
    },
    {
     "name": "stderr",
     "output_type": "stream",
     "text": [
      "[I 2023-10-31 17:20:51,753] Trial 39 finished with value: 2049530.733701919 and parameters: {'n_estimators': 913, 'lambda_l2': 4.2285392282033305, 'bagging_fraction': 0.7002173116786566, 'num_leaves': 218, 'feature_fraction': 0.6573688894412585, 'max_depth': 35, 'learning_rate': 0.014784735735524876, 'subsample': 0.7875468158839665, 'colsample_bytree': 0.723900161570237, 'min_data_in_leaf': 79}. Best is trial 15 with value: 1975414.629319444.\n",
      "'verbose' argument is deprecated and will be removed in a future release of LightGBM. Pass 'log_evaluation()' callback via 'callbacks' argument instead.\n"
     ]
    },
    {
     "name": "stdout",
     "output_type": "stream",
     "text": [
      "[LightGBM] [Warning] feature_fraction is set=0.5997702335806598, colsample_bytree=0.794136229106754 will be ignored. Current value: feature_fraction=0.5997702335806598\n",
      "[LightGBM] [Warning] min_data_in_leaf is set=20, min_child_samples=20 will be ignored. Current value: min_data_in_leaf=20\n",
      "[LightGBM] [Warning] bagging_fraction is set=0.944305547601116, subsample=0.6922902499074287 will be ignored. Current value: bagging_fraction=0.944305547601116\n",
      "[LightGBM] [Warning] lambda_l2 is set=6.998913985645084, reg_lambda=0.0 will be ignored. Current value: lambda_l2=6.998913985645084\n",
      "[LightGBM] [Warning] bagging_freq is set=1, subsample_freq=0 will be ignored. Current value: bagging_freq=1\n"
     ]
    },
    {
     "name": "stderr",
     "output_type": "stream",
     "text": [
      "[I 2023-10-31 17:21:09,549] Trial 40 finished with value: 1982831.729226927 and parameters: {'n_estimators': 942, 'lambda_l2': 6.998913985645084, 'bagging_fraction': 0.944305547601116, 'num_leaves': 582, 'feature_fraction': 0.5997702335806598, 'max_depth': 29, 'learning_rate': 0.00646746200568816, 'subsample': 0.6922902499074287, 'colsample_bytree': 0.794136229106754, 'min_data_in_leaf': 20}. Best is trial 15 with value: 1975414.629319444.\n",
      "'verbose' argument is deprecated and will be removed in a future release of LightGBM. Pass 'log_evaluation()' callback via 'callbacks' argument instead.\n"
     ]
    },
    {
     "name": "stdout",
     "output_type": "stream",
     "text": [
      "[LightGBM] [Warning] feature_fraction is set=0.6011948410434501, colsample_bytree=0.783138228008605 will be ignored. Current value: feature_fraction=0.6011948410434501\n",
      "[LightGBM] [Warning] min_data_in_leaf is set=19, min_child_samples=20 will be ignored. Current value: min_data_in_leaf=19\n",
      "[LightGBM] [Warning] bagging_fraction is set=0.9627706661364284, subsample=0.7359494546874793 will be ignored. Current value: bagging_fraction=0.9627706661364284\n",
      "[LightGBM] [Warning] lambda_l2 is set=6.875390632261321, reg_lambda=0.0 will be ignored. Current value: lambda_l2=6.875390632261321\n",
      "[LightGBM] [Warning] bagging_freq is set=1, subsample_freq=0 will be ignored. Current value: bagging_freq=1\n"
     ]
    },
    {
     "name": "stderr",
     "output_type": "stream",
     "text": [
      "[I 2023-10-31 17:21:27,793] Trial 41 finished with value: 1976354.861185903 and parameters: {'n_estimators': 942, 'lambda_l2': 6.875390632261321, 'bagging_fraction': 0.9627706661364284, 'num_leaves': 575, 'feature_fraction': 0.6011948410434501, 'max_depth': 28, 'learning_rate': 0.00862840806316431, 'subsample': 0.7359494546874793, 'colsample_bytree': 0.783138228008605, 'min_data_in_leaf': 19}. Best is trial 15 with value: 1975414.629319444.\n",
      "'verbose' argument is deprecated and will be removed in a future release of LightGBM. Pass 'log_evaluation()' callback via 'callbacks' argument instead.\n"
     ]
    },
    {
     "name": "stdout",
     "output_type": "stream",
     "text": [
      "[LightGBM] [Warning] feature_fraction is set=0.6276111401735773, colsample_bytree=0.8589359524939754 will be ignored. Current value: feature_fraction=0.6276111401735773\n",
      "[LightGBM] [Warning] min_data_in_leaf is set=16, min_child_samples=20 will be ignored. Current value: min_data_in_leaf=16\n",
      "[LightGBM] [Warning] bagging_fraction is set=0.9449466351144572, subsample=0.6890084206267293 will be ignored. Current value: bagging_fraction=0.9449466351144572\n",
      "[LightGBM] [Warning] lambda_l2 is set=6.9330965413575, reg_lambda=0.0 will be ignored. Current value: lambda_l2=6.9330965413575\n",
      "[LightGBM] [Warning] bagging_freq is set=1, subsample_freq=0 will be ignored. Current value: bagging_freq=1\n"
     ]
    },
    {
     "name": "stderr",
     "output_type": "stream",
     "text": [
      "[I 2023-10-31 17:21:47,020] Trial 42 finished with value: 1989293.8227006895 and parameters: {'n_estimators': 944, 'lambda_l2': 6.9330965413575, 'bagging_fraction': 0.9449466351144572, 'num_leaves': 583, 'feature_fraction': 0.6276111401735773, 'max_depth': 28, 'learning_rate': 0.005714215711987704, 'subsample': 0.6890084206267293, 'colsample_bytree': 0.8589359524939754, 'min_data_in_leaf': 16}. Best is trial 15 with value: 1975414.629319444.\n",
      "'verbose' argument is deprecated and will be removed in a future release of LightGBM. Pass 'log_evaluation()' callback via 'callbacks' argument instead.\n"
     ]
    },
    {
     "name": "stdout",
     "output_type": "stream",
     "text": [
      "[LightGBM] [Warning] feature_fraction is set=0.6951440370028935, colsample_bytree=0.7759322358546898 will be ignored. Current value: feature_fraction=0.6951440370028935\n",
      "[LightGBM] [Warning] min_data_in_leaf is set=20, min_child_samples=20 will be ignored. Current value: min_data_in_leaf=20\n",
      "[LightGBM] [Warning] bagging_fraction is set=0.8918186624839763, subsample=0.7443669349022703 will be ignored. Current value: bagging_fraction=0.8918186624839763\n",
      "[LightGBM] [Warning] lambda_l2 is set=7.635324319853423, reg_lambda=0.0 will be ignored. Current value: lambda_l2=7.635324319853423\n",
      "[LightGBM] [Warning] bagging_freq is set=1, subsample_freq=0 will be ignored. Current value: bagging_freq=1\n"
     ]
    },
    {
     "name": "stderr",
     "output_type": "stream",
     "text": [
      "[I 2023-10-31 17:22:03,605] Trial 43 finished with value: 1987650.783568342 and parameters: {'n_estimators': 901, 'lambda_l2': 7.635324319853423, 'bagging_fraction': 0.8918186624839763, 'num_leaves': 664, 'feature_fraction': 0.6951440370028935, 'max_depth': 24, 'learning_rate': 0.007833369424767015, 'subsample': 0.7443669349022703, 'colsample_bytree': 0.7759322358546898, 'min_data_in_leaf': 20}. Best is trial 15 with value: 1975414.629319444.\n",
      "'verbose' argument is deprecated and will be removed in a future release of LightGBM. Pass 'log_evaluation()' callback via 'callbacks' argument instead.\n"
     ]
    },
    {
     "name": "stdout",
     "output_type": "stream",
     "text": [
      "[LightGBM] [Warning] feature_fraction is set=0.708867145622649, colsample_bytree=0.7848894702062744 will be ignored. Current value: feature_fraction=0.708867145622649\n",
      "[LightGBM] [Warning] min_data_in_leaf is set=21, min_child_samples=20 will be ignored. Current value: min_data_in_leaf=21\n",
      "[LightGBM] [Warning] bagging_fraction is set=0.8852073165249115, subsample=0.7360632592099503 will be ignored. Current value: bagging_fraction=0.8852073165249115\n",
      "[LightGBM] [Warning] lambda_l2 is set=8.04438947820889, reg_lambda=0.0 will be ignored. Current value: lambda_l2=8.04438947820889\n",
      "[LightGBM] [Warning] bagging_freq is set=1, subsample_freq=0 will be ignored. Current value: bagging_freq=1\n"
     ]
    },
    {
     "name": "stderr",
     "output_type": "stream",
     "text": [
      "[I 2023-10-31 17:22:17,142] Trial 44 finished with value: 2067253.520933599 and parameters: {'n_estimators': 867, 'lambda_l2': 8.04438947820889, 'bagging_fraction': 0.8852073165249115, 'num_leaves': 667, 'feature_fraction': 0.708867145622649, 'max_depth': 16, 'learning_rate': 0.003529337877656766, 'subsample': 0.7360632592099503, 'colsample_bytree': 0.7848894702062744, 'min_data_in_leaf': 21}. Best is trial 15 with value: 1975414.629319444.\n",
      "'verbose' argument is deprecated and will be removed in a future release of LightGBM. Pass 'log_evaluation()' callback via 'callbacks' argument instead.\n"
     ]
    },
    {
     "name": "stdout",
     "output_type": "stream",
     "text": [
      "[LightGBM] [Warning] feature_fraction is set=0.5503268528791619, colsample_bytree=0.7984987447990717 will be ignored. Current value: feature_fraction=0.5503268528791619\n",
      "[LightGBM] [Warning] min_data_in_leaf is set=15, min_child_samples=20 will be ignored. Current value: min_data_in_leaf=15\n",
      "[LightGBM] [Warning] bagging_fraction is set=0.952325475364183, subsample=0.645850342544017 will be ignored. Current value: bagging_fraction=0.952325475364183\n",
      "[LightGBM] [Warning] lambda_l2 is set=7.58832796840537, reg_lambda=0.0 will be ignored. Current value: lambda_l2=7.58832796840537\n",
      "[LightGBM] [Warning] bagging_freq is set=1, subsample_freq=0 will be ignored. Current value: bagging_freq=1\n"
     ]
    },
    {
     "name": "stderr",
     "output_type": "stream",
     "text": [
      "[I 2023-10-31 17:22:36,348] Trial 45 finished with value: 1984430.82748164 and parameters: {'n_estimators': 896, 'lambda_l2': 7.58832796840537, 'bagging_fraction': 0.952325475364183, 'num_leaves': 723, 'feature_fraction': 0.5503268528791619, 'max_depth': 24, 'learning_rate': 0.008273488266298104, 'subsample': 0.645850342544017, 'colsample_bytree': 0.7984987447990717, 'min_data_in_leaf': 15}. Best is trial 15 with value: 1975414.629319444.\n",
      "'verbose' argument is deprecated and will be removed in a future release of LightGBM. Pass 'log_evaluation()' callback via 'callbacks' argument instead.\n"
     ]
    },
    {
     "name": "stdout",
     "output_type": "stream",
     "text": [
      "[LightGBM] [Warning] feature_fraction is set=0.5521261829810742, colsample_bytree=0.8054275798030802 will be ignored. Current value: feature_fraction=0.5521261829810742\n",
      "[LightGBM] [Warning] min_data_in_leaf is set=15, min_child_samples=20 will be ignored. Current value: min_data_in_leaf=15\n",
      "[LightGBM] [Warning] bagging_fraction is set=0.9559031332418425, subsample=0.6357208938550309 will be ignored. Current value: bagging_fraction=0.9559031332418425\n",
      "[LightGBM] [Warning] lambda_l2 is set=7.301941461913415, reg_lambda=0.0 will be ignored. Current value: lambda_l2=7.301941461913415\n",
      "[LightGBM] [Warning] bagging_freq is set=1, subsample_freq=0 will be ignored. Current value: bagging_freq=1\n"
     ]
    },
    {
     "name": "stderr",
     "output_type": "stream",
     "text": [
      "[I 2023-10-31 17:22:56,302] Trial 46 finished with value: 1991038.6915227058 and parameters: {'n_estimators': 934, 'lambda_l2': 7.301941461913415, 'bagging_fraction': 0.9559031332418425, 'num_leaves': 722, 'feature_fraction': 0.5521261829810742, 'max_depth': 20, 'learning_rate': 0.006313819855665221, 'subsample': 0.6357208938550309, 'colsample_bytree': 0.8054275798030802, 'min_data_in_leaf': 15}. Best is trial 15 with value: 1975414.629319444.\n",
      "'verbose' argument is deprecated and will be removed in a future release of LightGBM. Pass 'log_evaluation()' callback via 'callbacks' argument instead.\n"
     ]
    },
    {
     "name": "stdout",
     "output_type": "stream",
     "text": [
      "[LightGBM] [Warning] feature_fraction is set=0.5795923644697714, colsample_bytree=0.8705333287683942 will be ignored. Current value: feature_fraction=0.5795923644697714\n",
      "[LightGBM] [Warning] min_data_in_leaf is set=12, min_child_samples=20 will be ignored. Current value: min_data_in_leaf=12\n",
      "[LightGBM] [Warning] bagging_fraction is set=0.8389716277112718, subsample=0.6856835690955101 will be ignored. Current value: bagging_fraction=0.8389716277112718\n",
      "[LightGBM] [Warning] lambda_l2 is set=8.405039715441077, reg_lambda=0.0 will be ignored. Current value: lambda_l2=8.405039715441077\n",
      "[LightGBM] [Warning] bagging_freq is set=1, subsample_freq=0 will be ignored. Current value: bagging_freq=1\n"
     ]
    },
    {
     "name": "stderr",
     "output_type": "stream",
     "text": [
      "[I 2023-10-31 17:23:05,182] Trial 47 finished with value: 2039122.487092675 and parameters: {'n_estimators': 838, 'lambda_l2': 8.405039715441077, 'bagging_fraction': 0.8389716277112718, 'num_leaves': 495, 'feature_fraction': 0.5795923644697714, 'max_depth': 11, 'learning_rate': 0.004396269099920013, 'subsample': 0.6856835690955101, 'colsample_bytree': 0.8705333287683942, 'min_data_in_leaf': 12}. Best is trial 15 with value: 1975414.629319444.\n",
      "'verbose' argument is deprecated and will be removed in a future release of LightGBM. Pass 'log_evaluation()' callback via 'callbacks' argument instead.\n"
     ]
    },
    {
     "name": "stdout",
     "output_type": "stream",
     "text": [
      "[LightGBM] [Warning] feature_fraction is set=0.5466174715938682, colsample_bytree=0.7249358709419946 will be ignored. Current value: feature_fraction=0.5466174715938682\n",
      "[LightGBM] [Warning] min_data_in_leaf is set=26, min_child_samples=20 will be ignored. Current value: min_data_in_leaf=26\n",
      "[LightGBM] [Warning] bagging_fraction is set=0.8823426750516296, subsample=0.8147810856915875 will be ignored. Current value: bagging_fraction=0.8823426750516296\n",
      "[LightGBM] [Warning] lambda_l2 is set=7.669048442971057, reg_lambda=0.0 will be ignored. Current value: lambda_l2=7.669048442971057\n",
      "[LightGBM] [Warning] bagging_freq is set=1, subsample_freq=0 will be ignored. Current value: bagging_freq=1\n"
     ]
    },
    {
     "name": "stderr",
     "output_type": "stream",
     "text": [
      "[I 2023-10-31 17:23:05,885] Trial 48 finished with value: 2744633.535902318 and parameters: {'n_estimators': 918, 'lambda_l2': 7.669048442971057, 'bagging_fraction': 0.8823426750516296, 'num_leaves': 635, 'feature_fraction': 0.5466174715938682, 'max_depth': 1, 'learning_rate': 0.009535420133002653, 'subsample': 0.8147810856915875, 'colsample_bytree': 0.7249358709419946, 'min_data_in_leaf': 26}. Best is trial 15 with value: 1975414.629319444.\n",
      "'verbose' argument is deprecated and will be removed in a future release of LightGBM. Pass 'log_evaluation()' callback via 'callbacks' argument instead.\n"
     ]
    },
    {
     "name": "stdout",
     "output_type": "stream",
     "text": [
      "[LightGBM] [Warning] feature_fraction is set=0.5090716525747299, colsample_bytree=0.8374747927153042 will be ignored. Current value: feature_fraction=0.5090716525747299\n",
      "[LightGBM] [Warning] min_data_in_leaf is set=17, min_child_samples=20 will be ignored. Current value: min_data_in_leaf=17\n",
      "[LightGBM] [Warning] bagging_fraction is set=0.9606160500751119, subsample=0.7671816149877119 will be ignored. Current value: bagging_fraction=0.9606160500751119\n",
      "[LightGBM] [Warning] lambda_l2 is set=6.991151430087696, reg_lambda=0.0 will be ignored. Current value: lambda_l2=6.991151430087696\n",
      "[LightGBM] [Warning] bagging_freq is set=1, subsample_freq=0 will be ignored. Current value: bagging_freq=1\n"
     ]
    },
    {
     "name": "stderr",
     "output_type": "stream",
     "text": [
      "[I 2023-10-31 17:23:22,810] Trial 49 finished with value: 1979262.877532367 and parameters: {'n_estimators': 881, 'lambda_l2': 6.991151430087696, 'bagging_fraction': 0.9606160500751119, 'num_leaves': 705, 'feature_fraction': 0.5090716525747299, 'max_depth': 22, 'learning_rate': 0.008389188896592395, 'subsample': 0.7671816149877119, 'colsample_bytree': 0.8374747927153042, 'min_data_in_leaf': 17}. Best is trial 15 with value: 1975414.629319444.\n"
     ]
    }
   ],
   "source": [
    "study = optuna.create_study(direction='minimize')\n",
    "study.optimize(objective, n_trials=50)"
   ]
  },
  {
   "cell_type": "code",
   "execution_count": 32,
   "id": "cbfd3cbb",
   "metadata": {},
   "outputs": [],
   "source": [
    "params = study.best_params\n",
    "params[\"objective\"] = \"regression\"\n",
    "params[\"metric\"] = \"rmse\"\n",
    "params[\"verbosity\"] = -1\n",
    "\n",
    "#Best\n",
    "params2 = {\n",
    "    'boosting': 'gbdt', \n",
    "    'lambda_l2': 7.068023653932577, \n",
    "    'bagging_fraction': 0.6261319161311689, \n",
    "    'num_leaves': 151, \n",
    "    'feature_fraction': 0.976804739696195, \n",
    "    'max_depth': 8, 'learning_rate': 0.01552248392804131, \n",
    "    'subsample': 0.4408875142865268, \n",
    "    'colsample_bytree': 0.3829262582959811, \n",
    "    'min_data_in_leaf': 21,\n",
    "    \"objective\": \"regression\",\n",
    "    \"metric\": \"rmse\",\n",
    "    \"n_estimators\": 1000,\n",
    "    \"verbosity\": -1,\n",
    "}"
   ]
  },
  {
   "cell_type": "code",
   "execution_count": 33,
   "id": "8ccb28a4",
   "metadata": {},
   "outputs": [
    {
     "name": "stdout",
     "output_type": "stream",
     "text": [
      "[LightGBM] [Warning] boosting is set=gbdt, boosting_type=gbdt will be ignored. Current value: boosting=gbdt\n",
      "[LightGBM] [Warning] feature_fraction is set=0.976804739696195, colsample_bytree=0.3829262582959811 will be ignored. Current value: feature_fraction=0.976804739696195\n",
      "[LightGBM] [Warning] min_data_in_leaf is set=21, min_child_samples=20 will be ignored. Current value: min_data_in_leaf=21\n",
      "[LightGBM] [Warning] bagging_fraction is set=0.6261319161311689, subsample=0.4408875142865268 will be ignored. Current value: bagging_fraction=0.6261319161311689\n",
      "[LightGBM] [Warning] lambda_l2 is set=7.068023653932577, reg_lambda=0.0 will be ignored. Current value: lambda_l2=7.068023653932577\n"
     ]
    },
    {
     "ename": "LightGBMError",
     "evalue": "GPU Tree Learner was not enabled in this build.\nPlease recompile with CMake option -DUSE_GPU=1",
     "output_type": "error",
     "traceback": [
      "\u001b[1;31m---------------------------------------------------------------------------\u001b[0m",
      "\u001b[1;31mLightGBMError\u001b[0m                             Traceback (most recent call last)",
      "Cell \u001b[1;32mIn [33], line 3\u001b[0m\n\u001b[0;32m      1\u001b[0m model \u001b[38;5;241m=\u001b[39m lgb\u001b[38;5;241m.\u001b[39mLGBMRegressor(\u001b[38;5;241m*\u001b[39m\u001b[38;5;241m*\u001b[39mparams2)\n\u001b[1;32m----> 3\u001b[0m \u001b[43mmodel\u001b[49m\u001b[38;5;241;43m.\u001b[39;49m\u001b[43mfit\u001b[49m\u001b[43m(\u001b[49m\u001b[43mX\u001b[49m\u001b[43m,\u001b[49m\u001b[43m \u001b[49m\u001b[43my\u001b[49m\u001b[43m)\u001b[49m\n",
      "File \u001b[1;32m~\\anaconda3\\envs\\ml_env\\lib\\site-packages\\lightgbm\\sklearn.py:895\u001b[0m, in \u001b[0;36mLGBMRegressor.fit\u001b[1;34m(self, X, y, sample_weight, init_score, eval_set, eval_names, eval_sample_weight, eval_init_score, eval_metric, early_stopping_rounds, verbose, feature_name, categorical_feature, callbacks, init_model)\u001b[0m\n\u001b[0;32m    888\u001b[0m \u001b[38;5;28;01mdef\u001b[39;00m \u001b[38;5;21mfit\u001b[39m(\u001b[38;5;28mself\u001b[39m, X, y,\n\u001b[0;32m    889\u001b[0m         sample_weight\u001b[38;5;241m=\u001b[39m\u001b[38;5;28;01mNone\u001b[39;00m, init_score\u001b[38;5;241m=\u001b[39m\u001b[38;5;28;01mNone\u001b[39;00m,\n\u001b[0;32m    890\u001b[0m         eval_set\u001b[38;5;241m=\u001b[39m\u001b[38;5;28;01mNone\u001b[39;00m, eval_names\u001b[38;5;241m=\u001b[39m\u001b[38;5;28;01mNone\u001b[39;00m, eval_sample_weight\u001b[38;5;241m=\u001b[39m\u001b[38;5;28;01mNone\u001b[39;00m,\n\u001b[0;32m    891\u001b[0m         eval_init_score\u001b[38;5;241m=\u001b[39m\u001b[38;5;28;01mNone\u001b[39;00m, eval_metric\u001b[38;5;241m=\u001b[39m\u001b[38;5;28;01mNone\u001b[39;00m, early_stopping_rounds\u001b[38;5;241m=\u001b[39m\u001b[38;5;28;01mNone\u001b[39;00m,\n\u001b[0;32m    892\u001b[0m         verbose\u001b[38;5;241m=\u001b[39m\u001b[38;5;124m'\u001b[39m\u001b[38;5;124mwarn\u001b[39m\u001b[38;5;124m'\u001b[39m, feature_name\u001b[38;5;241m=\u001b[39m\u001b[38;5;124m'\u001b[39m\u001b[38;5;124mauto\u001b[39m\u001b[38;5;124m'\u001b[39m, categorical_feature\u001b[38;5;241m=\u001b[39m\u001b[38;5;124m'\u001b[39m\u001b[38;5;124mauto\u001b[39m\u001b[38;5;124m'\u001b[39m,\n\u001b[0;32m    893\u001b[0m         callbacks\u001b[38;5;241m=\u001b[39m\u001b[38;5;28;01mNone\u001b[39;00m, init_model\u001b[38;5;241m=\u001b[39m\u001b[38;5;28;01mNone\u001b[39;00m):\n\u001b[0;32m    894\u001b[0m     \u001b[38;5;124;03m\"\"\"Docstring is inherited from the LGBMModel.\"\"\"\u001b[39;00m\n\u001b[1;32m--> 895\u001b[0m     \u001b[38;5;28;43msuper\u001b[39;49m\u001b[43m(\u001b[49m\u001b[43m)\u001b[49m\u001b[38;5;241;43m.\u001b[39;49m\u001b[43mfit\u001b[49m\u001b[43m(\u001b[49m\u001b[43mX\u001b[49m\u001b[43m,\u001b[49m\u001b[43m \u001b[49m\u001b[43my\u001b[49m\u001b[43m,\u001b[49m\u001b[43m \u001b[49m\u001b[43msample_weight\u001b[49m\u001b[38;5;241;43m=\u001b[39;49m\u001b[43msample_weight\u001b[49m\u001b[43m,\u001b[49m\u001b[43m \u001b[49m\u001b[43minit_score\u001b[49m\u001b[38;5;241;43m=\u001b[39;49m\u001b[43minit_score\u001b[49m\u001b[43m,\u001b[49m\n\u001b[0;32m    896\u001b[0m \u001b[43m                \u001b[49m\u001b[43meval_set\u001b[49m\u001b[38;5;241;43m=\u001b[39;49m\u001b[43meval_set\u001b[49m\u001b[43m,\u001b[49m\u001b[43m \u001b[49m\u001b[43meval_names\u001b[49m\u001b[38;5;241;43m=\u001b[39;49m\u001b[43meval_names\u001b[49m\u001b[43m,\u001b[49m\u001b[43m \u001b[49m\u001b[43meval_sample_weight\u001b[49m\u001b[38;5;241;43m=\u001b[39;49m\u001b[43meval_sample_weight\u001b[49m\u001b[43m,\u001b[49m\n\u001b[0;32m    897\u001b[0m \u001b[43m                \u001b[49m\u001b[43meval_init_score\u001b[49m\u001b[38;5;241;43m=\u001b[39;49m\u001b[43meval_init_score\u001b[49m\u001b[43m,\u001b[49m\u001b[43m \u001b[49m\u001b[43meval_metric\u001b[49m\u001b[38;5;241;43m=\u001b[39;49m\u001b[43meval_metric\u001b[49m\u001b[43m,\u001b[49m\n\u001b[0;32m    898\u001b[0m \u001b[43m                \u001b[49m\u001b[43mearly_stopping_rounds\u001b[49m\u001b[38;5;241;43m=\u001b[39;49m\u001b[43mearly_stopping_rounds\u001b[49m\u001b[43m,\u001b[49m\u001b[43m \u001b[49m\u001b[43mverbose\u001b[49m\u001b[38;5;241;43m=\u001b[39;49m\u001b[43mverbose\u001b[49m\u001b[43m,\u001b[49m\u001b[43m \u001b[49m\u001b[43mfeature_name\u001b[49m\u001b[38;5;241;43m=\u001b[39;49m\u001b[43mfeature_name\u001b[49m\u001b[43m,\u001b[49m\n\u001b[0;32m    899\u001b[0m \u001b[43m                \u001b[49m\u001b[43mcategorical_feature\u001b[49m\u001b[38;5;241;43m=\u001b[39;49m\u001b[43mcategorical_feature\u001b[49m\u001b[43m,\u001b[49m\u001b[43m \u001b[49m\u001b[43mcallbacks\u001b[49m\u001b[38;5;241;43m=\u001b[39;49m\u001b[43mcallbacks\u001b[49m\u001b[43m,\u001b[49m\u001b[43m \u001b[49m\u001b[43minit_model\u001b[49m\u001b[38;5;241;43m=\u001b[39;49m\u001b[43minit_model\u001b[49m\u001b[43m)\u001b[49m\n\u001b[0;32m    900\u001b[0m     \u001b[38;5;28;01mreturn\u001b[39;00m \u001b[38;5;28mself\u001b[39m\n",
      "File \u001b[1;32m~\\anaconda3\\envs\\ml_env\\lib\\site-packages\\lightgbm\\sklearn.py:748\u001b[0m, in \u001b[0;36mLGBMModel.fit\u001b[1;34m(self, X, y, sample_weight, init_score, group, eval_set, eval_names, eval_sample_weight, eval_class_weight, eval_init_score, eval_group, eval_metric, early_stopping_rounds, verbose, feature_name, categorical_feature, callbacks, init_model)\u001b[0m\n\u001b[0;32m    745\u001b[0m evals_result \u001b[38;5;241m=\u001b[39m {}\n\u001b[0;32m    746\u001b[0m callbacks\u001b[38;5;241m.\u001b[39mappend(record_evaluation(evals_result))\n\u001b[1;32m--> 748\u001b[0m \u001b[38;5;28mself\u001b[39m\u001b[38;5;241m.\u001b[39m_Booster \u001b[38;5;241m=\u001b[39m \u001b[43mtrain\u001b[49m\u001b[43m(\u001b[49m\n\u001b[0;32m    749\u001b[0m \u001b[43m    \u001b[49m\u001b[43mparams\u001b[49m\u001b[38;5;241;43m=\u001b[39;49m\u001b[43mparams\u001b[49m\u001b[43m,\u001b[49m\n\u001b[0;32m    750\u001b[0m \u001b[43m    \u001b[49m\u001b[43mtrain_set\u001b[49m\u001b[38;5;241;43m=\u001b[39;49m\u001b[43mtrain_set\u001b[49m\u001b[43m,\u001b[49m\n\u001b[0;32m    751\u001b[0m \u001b[43m    \u001b[49m\u001b[43mnum_boost_round\u001b[49m\u001b[38;5;241;43m=\u001b[39;49m\u001b[38;5;28;43mself\u001b[39;49m\u001b[38;5;241;43m.\u001b[39;49m\u001b[43mn_estimators\u001b[49m\u001b[43m,\u001b[49m\n\u001b[0;32m    752\u001b[0m \u001b[43m    \u001b[49m\u001b[43mvalid_sets\u001b[49m\u001b[38;5;241;43m=\u001b[39;49m\u001b[43mvalid_sets\u001b[49m\u001b[43m,\u001b[49m\n\u001b[0;32m    753\u001b[0m \u001b[43m    \u001b[49m\u001b[43mvalid_names\u001b[49m\u001b[38;5;241;43m=\u001b[39;49m\u001b[43meval_names\u001b[49m\u001b[43m,\u001b[49m\n\u001b[0;32m    754\u001b[0m \u001b[43m    \u001b[49m\u001b[43mfobj\u001b[49m\u001b[38;5;241;43m=\u001b[39;49m\u001b[38;5;28;43mself\u001b[39;49m\u001b[38;5;241;43m.\u001b[39;49m\u001b[43m_fobj\u001b[49m\u001b[43m,\u001b[49m\n\u001b[0;32m    755\u001b[0m \u001b[43m    \u001b[49m\u001b[43mfeval\u001b[49m\u001b[38;5;241;43m=\u001b[39;49m\u001b[43meval_metrics_callable\u001b[49m\u001b[43m,\u001b[49m\n\u001b[0;32m    756\u001b[0m \u001b[43m    \u001b[49m\u001b[43minit_model\u001b[49m\u001b[38;5;241;43m=\u001b[39;49m\u001b[43minit_model\u001b[49m\u001b[43m,\u001b[49m\n\u001b[0;32m    757\u001b[0m \u001b[43m    \u001b[49m\u001b[43mfeature_name\u001b[49m\u001b[38;5;241;43m=\u001b[39;49m\u001b[43mfeature_name\u001b[49m\u001b[43m,\u001b[49m\n\u001b[0;32m    758\u001b[0m \u001b[43m    \u001b[49m\u001b[43mcallbacks\u001b[49m\u001b[38;5;241;43m=\u001b[39;49m\u001b[43mcallbacks\u001b[49m\n\u001b[0;32m    759\u001b[0m \u001b[43m\u001b[49m\u001b[43m)\u001b[49m\n\u001b[0;32m    761\u001b[0m \u001b[38;5;28;01mif\u001b[39;00m evals_result:\n\u001b[0;32m    762\u001b[0m     \u001b[38;5;28mself\u001b[39m\u001b[38;5;241m.\u001b[39m_evals_result \u001b[38;5;241m=\u001b[39m evals_result\n",
      "File \u001b[1;32m~\\anaconda3\\envs\\ml_env\\lib\\site-packages\\lightgbm\\engine.py:271\u001b[0m, in \u001b[0;36mtrain\u001b[1;34m(params, train_set, num_boost_round, valid_sets, valid_names, fobj, feval, init_model, feature_name, categorical_feature, early_stopping_rounds, evals_result, verbose_eval, learning_rates, keep_training_booster, callbacks)\u001b[0m\n\u001b[0;32m    269\u001b[0m \u001b[38;5;66;03m# construct booster\u001b[39;00m\n\u001b[0;32m    270\u001b[0m \u001b[38;5;28;01mtry\u001b[39;00m:\n\u001b[1;32m--> 271\u001b[0m     booster \u001b[38;5;241m=\u001b[39m Booster(params\u001b[38;5;241m=\u001b[39mparams, train_set\u001b[38;5;241m=\u001b[39mtrain_set)\n\u001b[0;32m    272\u001b[0m     \u001b[38;5;28;01mif\u001b[39;00m is_valid_contain_train:\n\u001b[0;32m    273\u001b[0m         booster\u001b[38;5;241m.\u001b[39mset_train_data_name(train_data_name)\n",
      "File \u001b[1;32m~\\anaconda3\\envs\\ml_env\\lib\\site-packages\\lightgbm\\basic.py:2610\u001b[0m, in \u001b[0;36mBooster.__init__\u001b[1;34m(self, params, train_set, model_file, model_str, silent)\u001b[0m\n\u001b[0;32m   2608\u001b[0m params_str \u001b[38;5;241m=\u001b[39m param_dict_to_str(params)\n\u001b[0;32m   2609\u001b[0m \u001b[38;5;28mself\u001b[39m\u001b[38;5;241m.\u001b[39mhandle \u001b[38;5;241m=\u001b[39m ctypes\u001b[38;5;241m.\u001b[39mc_void_p()\n\u001b[1;32m-> 2610\u001b[0m \u001b[43m_safe_call\u001b[49m\u001b[43m(\u001b[49m\u001b[43m_LIB\u001b[49m\u001b[38;5;241;43m.\u001b[39;49m\u001b[43mLGBM_BoosterCreate\u001b[49m\u001b[43m(\u001b[49m\n\u001b[0;32m   2611\u001b[0m \u001b[43m    \u001b[49m\u001b[43mtrain_set\u001b[49m\u001b[38;5;241;43m.\u001b[39;49m\u001b[43mhandle\u001b[49m\u001b[43m,\u001b[49m\n\u001b[0;32m   2612\u001b[0m \u001b[43m    \u001b[49m\u001b[43mc_str\u001b[49m\u001b[43m(\u001b[49m\u001b[43mparams_str\u001b[49m\u001b[43m)\u001b[49m\u001b[43m,\u001b[49m\n\u001b[0;32m   2613\u001b[0m \u001b[43m    \u001b[49m\u001b[43mctypes\u001b[49m\u001b[38;5;241;43m.\u001b[39;49m\u001b[43mbyref\u001b[49m\u001b[43m(\u001b[49m\u001b[38;5;28;43mself\u001b[39;49m\u001b[38;5;241;43m.\u001b[39;49m\u001b[43mhandle\u001b[49m\u001b[43m)\u001b[49m\u001b[43m)\u001b[49m\u001b[43m)\u001b[49m\n\u001b[0;32m   2614\u001b[0m \u001b[38;5;66;03m# save reference to data\u001b[39;00m\n\u001b[0;32m   2615\u001b[0m \u001b[38;5;28mself\u001b[39m\u001b[38;5;241m.\u001b[39mtrain_set \u001b[38;5;241m=\u001b[39m train_set\n",
      "File \u001b[1;32m~\\anaconda3\\envs\\ml_env\\lib\\site-packages\\lightgbm\\basic.py:125\u001b[0m, in \u001b[0;36m_safe_call\u001b[1;34m(ret)\u001b[0m\n\u001b[0;32m    117\u001b[0m \u001b[38;5;124;03m\"\"\"Check the return value from C API call.\u001b[39;00m\n\u001b[0;32m    118\u001b[0m \n\u001b[0;32m    119\u001b[0m \u001b[38;5;124;03mParameters\u001b[39;00m\n\u001b[1;32m   (...)\u001b[0m\n\u001b[0;32m    122\u001b[0m \u001b[38;5;124;03m    The return value from C API calls.\u001b[39;00m\n\u001b[0;32m    123\u001b[0m \u001b[38;5;124;03m\"\"\"\u001b[39;00m\n\u001b[0;32m    124\u001b[0m \u001b[38;5;28;01mif\u001b[39;00m ret \u001b[38;5;241m!=\u001b[39m \u001b[38;5;241m0\u001b[39m:\n\u001b[1;32m--> 125\u001b[0m     \u001b[38;5;28;01mraise\u001b[39;00m LightGBMError(_LIB\u001b[38;5;241m.\u001b[39mLGBM_GetLastError()\u001b[38;5;241m.\u001b[39mdecode(\u001b[38;5;124m'\u001b[39m\u001b[38;5;124mutf-8\u001b[39m\u001b[38;5;124m'\u001b[39m))\n",
      "\u001b[1;31mLightGBMError\u001b[0m: GPU Tree Learner was not enabled in this build.\nPlease recompile with CMake option -DUSE_GPU=1"
     ]
    }
   ],
   "source": [
    "model = lgb.LGBMRegressor(**params2)\n",
    "\n",
    "model.fit(X, y)"
   ]
  },
  {
   "cell_type": "code",
   "execution_count": 10,
   "id": "d52dc1bb",
   "metadata": {},
   "outputs": [
    {
     "data": {
      "text/html": [
       "<div>\n",
       "<style scoped>\n",
       "    .dataframe tbody tr th:only-of-type {\n",
       "        vertical-align: middle;\n",
       "    }\n",
       "\n",
       "    .dataframe tbody tr th {\n",
       "        vertical-align: top;\n",
       "    }\n",
       "\n",
       "    .dataframe thead th {\n",
       "        text-align: right;\n",
       "    }\n",
       "</style>\n",
       "<table border=\"1\" class=\"dataframe\">\n",
       "  <thead>\n",
       "    <tr style=\"text-align: right;\">\n",
       "      <th></th>\n",
       "      <th>price_doc</th>\n",
       "      <th>pred</th>\n",
       "    </tr>\n",
       "  </thead>\n",
       "  <tbody>\n",
       "    <tr>\n",
       "      <th>0</th>\n",
       "      <td>5.668660e+06</td>\n",
       "      <td>5.404512e+06</td>\n",
       "    </tr>\n",
       "    <tr>\n",
       "      <th>1</th>\n",
       "      <td>5.814010e+06</td>\n",
       "      <td>5.381714e+06</td>\n",
       "    </tr>\n",
       "    <tr>\n",
       "      <th>2</th>\n",
       "      <td>5.523310e+06</td>\n",
       "      <td>5.252309e+06</td>\n",
       "    </tr>\n",
       "    <tr>\n",
       "      <th>3</th>\n",
       "      <td>1.269391e+07</td>\n",
       "      <td>1.140029e+07</td>\n",
       "    </tr>\n",
       "    <tr>\n",
       "      <th>4</th>\n",
       "      <td>1.582519e+07</td>\n",
       "      <td>1.407052e+07</td>\n",
       "    </tr>\n",
       "    <tr>\n",
       "      <th>...</th>\n",
       "      <td>...</td>\n",
       "      <td>...</td>\n",
       "    </tr>\n",
       "    <tr>\n",
       "      <th>30464</th>\n",
       "      <td>7.170610e+06</td>\n",
       "      <td>7.020840e+06</td>\n",
       "    </tr>\n",
       "    <tr>\n",
       "      <th>30465</th>\n",
       "      <td>2.422501e+07</td>\n",
       "      <td>2.262009e+07</td>\n",
       "    </tr>\n",
       "    <tr>\n",
       "      <th>30466</th>\n",
       "      <td>6.754869e+06</td>\n",
       "      <td>5.344807e+06</td>\n",
       "    </tr>\n",
       "    <tr>\n",
       "      <th>30467</th>\n",
       "      <td>1.308151e+07</td>\n",
       "      <td>1.184169e+07</td>\n",
       "    </tr>\n",
       "    <tr>\n",
       "      <th>30468</th>\n",
       "      <td>5.426410e+06</td>\n",
       "      <td>5.632976e+06</td>\n",
       "    </tr>\n",
       "  </tbody>\n",
       "</table>\n",
       "<p>30469 rows × 2 columns</p>\n",
       "</div>"
      ],
      "text/plain": [
       "          price_doc          pred\n",
       "0      5.668660e+06  5.404512e+06\n",
       "1      5.814010e+06  5.381714e+06\n",
       "2      5.523310e+06  5.252309e+06\n",
       "3      1.269391e+07  1.140029e+07\n",
       "4      1.582519e+07  1.407052e+07\n",
       "...             ...           ...\n",
       "30464  7.170610e+06  7.020840e+06\n",
       "30465  2.422501e+07  2.262009e+07\n",
       "30466  6.754869e+06  5.344807e+06\n",
       "30467  1.308151e+07  1.184169e+07\n",
       "30468  5.426410e+06  5.632976e+06\n",
       "\n",
       "[30469 rows x 2 columns]"
      ]
     },
     "execution_count": 10,
     "metadata": {},
     "output_type": "execute_result"
    }
   ],
   "source": [
    "X_pred = model.predict(X[feats])\n",
    "y_df = pd.DataFrame(y)\n",
    "\n",
    "y_df['pred'] = X_pred\n",
    "y_df"
   ]
  },
  {
   "cell_type": "code",
   "execution_count": 11,
   "id": "c6afb559",
   "metadata": {},
   "outputs": [
    {
     "data": {
      "text/html": [
       "<div>\n",
       "<style scoped>\n",
       "    .dataframe tbody tr th:only-of-type {\n",
       "        vertical-align: middle;\n",
       "    }\n",
       "\n",
       "    .dataframe tbody tr th {\n",
       "        vertical-align: top;\n",
       "    }\n",
       "\n",
       "    .dataframe thead th {\n",
       "        text-align: right;\n",
       "    }\n",
       "</style>\n",
       "<table border=\"1\" class=\"dataframe\">\n",
       "  <thead>\n",
       "    <tr style=\"text-align: right;\">\n",
       "      <th></th>\n",
       "      <th>price_doc</th>\n",
       "      <th>pred</th>\n",
       "      <th>ratio</th>\n",
       "    </tr>\n",
       "  </thead>\n",
       "  <tbody>\n",
       "    <tr>\n",
       "      <th>0</th>\n",
       "      <td>5.668660e+06</td>\n",
       "      <td>5.404512e+06</td>\n",
       "      <td>0.953402</td>\n",
       "    </tr>\n",
       "    <tr>\n",
       "      <th>1</th>\n",
       "      <td>5.814010e+06</td>\n",
       "      <td>5.381714e+06</td>\n",
       "      <td>0.925646</td>\n",
       "    </tr>\n",
       "    <tr>\n",
       "      <th>2</th>\n",
       "      <td>5.523310e+06</td>\n",
       "      <td>5.252309e+06</td>\n",
       "      <td>0.950935</td>\n",
       "    </tr>\n",
       "    <tr>\n",
       "      <th>3</th>\n",
       "      <td>1.269391e+07</td>\n",
       "      <td>1.140029e+07</td>\n",
       "      <td>0.898091</td>\n",
       "    </tr>\n",
       "    <tr>\n",
       "      <th>4</th>\n",
       "      <td>1.582519e+07</td>\n",
       "      <td>1.407052e+07</td>\n",
       "      <td>0.889122</td>\n",
       "    </tr>\n",
       "  </tbody>\n",
       "</table>\n",
       "</div>"
      ],
      "text/plain": [
       "      price_doc          pred     ratio\n",
       "0  5.668660e+06  5.404512e+06  0.953402\n",
       "1  5.814010e+06  5.381714e+06  0.925646\n",
       "2  5.523310e+06  5.252309e+06  0.950935\n",
       "3  1.269391e+07  1.140029e+07  0.898091\n",
       "4  1.582519e+07  1.407052e+07  0.889122"
      ]
     },
     "execution_count": 11,
     "metadata": {},
     "output_type": "execute_result"
    }
   ],
   "source": [
    "y_df['ratio'] = abs(y_df['pred']/y_df['price_doc'])\n",
    "y_df.head()"
   ]
  },
  {
   "cell_type": "code",
   "execution_count": 12,
   "id": "f87fccbd",
   "metadata": {},
   "outputs": [],
   "source": [
    "# to_remove = y_df[(y_df['ratio'] < 0.5) | (y_df['ratio'] > 2)].index.tolist()\n",
    "to_remove = y_df[(y_df['ratio'] > 2)].index.tolist()"
   ]
  },
  {
   "cell_type": "code",
   "execution_count": 13,
   "id": "0b36e55d",
   "metadata": {},
   "outputs": [],
   "source": [
    "df2 = pd.read_csv(process_train_path)\n",
    "dropped_df2 = df2.drop(to_remove)\n",
    "dropped_df2.to_csv('./processed/dropped_train.csv')"
   ]
  },
  {
   "cell_type": "code",
   "execution_count": 29,
   "id": "82dd60ca",
   "metadata": {},
   "outputs": [],
   "source": [
    "processed_test_df = pd.read_csv(processed_test_path)\n",
    "processed_test_df_copy = processed_test_df.copy()\n",
    "\n",
    "processed_test_df = processed_test_df.drop(['id'], axis=1)"
   ]
  },
  {
   "cell_type": "code",
   "execution_count": 30,
   "id": "803e9599",
   "metadata": {},
   "outputs": [
    {
     "data": {
      "text/html": [
       "<div>\n",
       "<style scoped>\n",
       "    .dataframe tbody tr th:only-of-type {\n",
       "        vertical-align: middle;\n",
       "    }\n",
       "\n",
       "    .dataframe tbody tr th {\n",
       "        vertical-align: top;\n",
       "    }\n",
       "\n",
       "    .dataframe thead th {\n",
       "        text-align: right;\n",
       "    }\n",
       "</style>\n",
       "<table border=\"1\" class=\"dataframe\">\n",
       "  <thead>\n",
       "    <tr style=\"text-align: right;\">\n",
       "      <th></th>\n",
       "      <th>id</th>\n",
       "      <th>price_doc</th>\n",
       "    </tr>\n",
       "  </thead>\n",
       "  <tbody>\n",
       "    <tr>\n",
       "      <th>0</th>\n",
       "      <td>30474</td>\n",
       "      <td>5.838440e+06</td>\n",
       "    </tr>\n",
       "    <tr>\n",
       "      <th>1</th>\n",
       "      <td>30475</td>\n",
       "      <td>7.952277e+06</td>\n",
       "    </tr>\n",
       "    <tr>\n",
       "      <th>2</th>\n",
       "      <td>30476</td>\n",
       "      <td>6.030172e+06</td>\n",
       "    </tr>\n",
       "    <tr>\n",
       "      <th>3</th>\n",
       "      <td>30477</td>\n",
       "      <td>6.002089e+06</td>\n",
       "    </tr>\n",
       "    <tr>\n",
       "      <th>4</th>\n",
       "      <td>30478</td>\n",
       "      <td>4.889638e+06</td>\n",
       "    </tr>\n",
       "    <tr>\n",
       "      <th>...</th>\n",
       "      <td>...</td>\n",
       "      <td>...</td>\n",
       "    </tr>\n",
       "    <tr>\n",
       "      <th>7657</th>\n",
       "      <td>38131</td>\n",
       "      <td>8.856842e+06</td>\n",
       "    </tr>\n",
       "    <tr>\n",
       "      <th>7658</th>\n",
       "      <td>38132</td>\n",
       "      <td>4.768920e+06</td>\n",
       "    </tr>\n",
       "    <tr>\n",
       "      <th>7659</th>\n",
       "      <td>38133</td>\n",
       "      <td>4.591632e+06</td>\n",
       "    </tr>\n",
       "    <tr>\n",
       "      <th>7660</th>\n",
       "      <td>38134</td>\n",
       "      <td>5.733782e+06</td>\n",
       "    </tr>\n",
       "    <tr>\n",
       "      <th>7661</th>\n",
       "      <td>38135</td>\n",
       "      <td>8.972568e+06</td>\n",
       "    </tr>\n",
       "  </tbody>\n",
       "</table>\n",
       "<p>7662 rows × 2 columns</p>\n",
       "</div>"
      ],
      "text/plain": [
       "         id     price_doc\n",
       "0     30474  5.838440e+06\n",
       "1     30475  7.952277e+06\n",
       "2     30476  6.030172e+06\n",
       "3     30477  6.002089e+06\n",
       "4     30478  4.889638e+06\n",
       "...     ...           ...\n",
       "7657  38131  8.856842e+06\n",
       "7658  38132  4.768920e+06\n",
       "7659  38133  4.591632e+06\n",
       "7660  38134  5.733782e+06\n",
       "7661  38135  8.972568e+06\n",
       "\n",
       "[7662 rows x 2 columns]"
      ]
     },
     "execution_count": 30,
     "metadata": {},
     "output_type": "execute_result"
    }
   ],
   "source": [
    "pred = model.predict(processed_test_df[feats])\n",
    "prediction_df = pd.DataFrame({\n",
    "    'id': processed_test_df_copy['id'],\n",
    "    'price_doc': pred\n",
    "})\n",
    "prediction_df"
   ]
  },
  {
   "cell_type": "code",
   "execution_count": 31,
   "id": "6209021e",
   "metadata": {},
   "outputs": [],
   "source": [
    "prediction_df.to_csv(output_path, index=False)"
   ]
  },
  {
   "cell_type": "code",
   "execution_count": null,
   "id": "4d075c85",
   "metadata": {},
   "outputs": [],
   "source": [
    "params"
   ]
  },
  {
   "cell_type": "code",
   "execution_count": null,
   "id": "75dbaa02",
   "metadata": {},
   "outputs": [],
   "source": []
  }
 ],
 "metadata": {
  "kernelspec": {
   "display_name": "ml_env",
   "language": "python",
   "name": "ml_env"
  },
  "language_info": {
   "codemirror_mode": {
    "name": "ipython",
    "version": 3
   },
   "file_extension": ".py",
   "mimetype": "text/x-python",
   "name": "python",
   "nbconvert_exporter": "python",
   "pygments_lexer": "ipython3",
   "version": "3.10.0"
  }
 },
 "nbformat": 4,
 "nbformat_minor": 5
}
